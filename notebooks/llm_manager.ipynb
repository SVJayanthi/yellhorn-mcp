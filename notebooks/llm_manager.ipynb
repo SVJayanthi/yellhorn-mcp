{
 "cells": [
  {
   "cell_type": "markdown",
   "metadata": {},
   "source": [
    "# Yellhorn MCP Example in Notebook with LLM Manager\n",
    "\n",
    "Instruction: Swap model to get different behavior LLM Manager config (Normal, Test full chunking, Test full with retry, Test full chunking & retry)"
   ]
  },
  {
   "cell_type": "markdown",
   "metadata": {},
   "source": [
    "## Setup Environment\n",
    "\n",
    "First, let's set up our environment and import the necessary modules:"
   ]
  },
  {
   "cell_type": "code",
   "execution_count": 1,
   "metadata": {},
   "outputs": [],
   "source": [
    "%load_ext autoreload\n",
    "%autoreload 2"
   ]
  },
  {
   "cell_type": "code",
   "execution_count": 2,
   "metadata": {},
   "outputs": [],
   "source": [
    "import os\n",
    "import asyncio\n",
    "import json\n",
    "from typing import Dict, List, Optional, Union, Any\n",
    "from pathlib import Path\n",
    "\n",
    "# Import required Yellhorn MCP components\n",
    "from yellhorn_mcp.token_counter import TokenCounter\n",
    "from yellhorn_mcp.llm_manager import LLMManager\n",
    "\n",
    "# Import API clients\n",
    "from google import genai\n",
    "from openai import AsyncOpenAI\n",
    "\n",
    "from yellhorn_mcp.server import format_metrics_section, calculate_cost"
   ]
  },
  {
   "cell_type": "markdown",
   "metadata": {},
   "source": [
    "## Configure API Keys\n",
    "\n",
    "Set up API keys for Gemini and/or OpenAI. You can either set them in environment variables or directly in this notebook:"
   ]
  },
  {
   "cell_type": "code",
   "execution_count": null,
   "metadata": {},
   "outputs": [],
   "source": [
    "# Option 1: Set API keys directly (not recommended for production)\n",
    "GEMINI_API_KEY = \"\"\n",
    "OPENAI_API_KEY = \"\"\n",
    "MODEL = \"gemini-2.0-flash-exp\"  # or any OpenAI model like \"gpt-4o\"\n",
    "REPO_PATH = os.path.dirname(os.getcwd())\n",
    "\n",
    "# Option 2: Get API keys from environment variables (recommended)\n",
    "# GEMINI_API_KEY = os.environ.get(\"GEMINI_API_KEY\")\n",
    "# OPENAI_API_KEY = os.environ.get(\"OPENAI_API_KEY\")\n",
    "\n",
    "# Set environment variables for server access\n",
    "# os.environ[\"GEMINI_API_KEY\"] = GEMINI_API_KEY\n",
    "# os.environ[\"OPENAI_API_KEY\"] = OPENAI_API_KEY\n",
    "# os.environ[\"REPO_PATH\"] = REPO_PATH\n",
    "# os.environ[\"YELLHORN_MCP_MODEL\"] = MODEL"
   ]
  },
  {
   "cell_type": "markdown",
   "metadata": {},
   "source": [
    "## 1. Working with LLMManager\n",
    "\n",
    "Now let's set up and use LLMManager, which provides unified access to different LLM APIs with automatic chunking."
   ]
  },
  {
   "cell_type": "code",
   "execution_count": 4,
   "metadata": {},
   "outputs": [],
   "source": [
    "# Initialize API clients\n",
    "gemini_client = genai.Client(api_key=GEMINI_API_KEY)\n",
    "openai_client = AsyncOpenAI(api_key=OPENAI_API_KEY)\n",
    "\n",
    "# Create LLMManager with custom configuration\n",
    "config = {\n",
    "    \"safety_margin_tokens\": 200,\n",
    "    \"overlap_ratio\": 0.1,\n",
    "    \"aggregation_strategy\": \"concatenate\",\n",
    "    \"chunk_strategy\": \"paragraph\",\n",
    "    # Experimental limits to test chunking & retry behavior\n",
    "    \"model_limits\" : {\n",
    "        \"gpt-4o\": 30000,\n",
    "        \"gemini-2.0-flash-exp\": 10000, \n",
    "        \"o4-mini\": 30000,\n",
    "        \"gemini-2.5-pro\": 1_000_000\n",
    "    }\n",
    "}\n",
    "\n",
    "llm_manager = LLMManager(\n",
    "    openai_client=openai_client,\n",
    "    gemini_client=gemini_client,\n",
    "    config=config\n",
    ")\n",
    "\n",
    "def log_callback(level, message):\n",
    "    \"\"\"Custom log callback function.\"\"\"\n",
    "    print(f\"[{level.upper()}] {message}\")"
   ]
  },
  {
   "cell_type": "code",
   "execution_count": 5,
   "metadata": {},
   "outputs": [],
   "source": [
    "# Function to make API calls and handle async operations\n",
    "async def call_model(prompt, model, system_message=None, response_format=None):\n",
    "    \"\"\"Helper function to call a model using LLMManager.\"\"\"\n",
    "    try:\n",
    "        response_dict = await llm_manager.call_llm_with_usage(\n",
    "            prompt=prompt,\n",
    "            model=model,\n",
    "            temperature=0.0,\n",
    "            system_message=system_message,\n",
    "            response_format=response_format\n",
    "        )\n",
    "        return response_dict\n",
    "    except Exception as e:\n",
    "        return f\"Error: {str(e)}\""
   ]
  },
  {
   "cell_type": "markdown",
   "metadata": {},
   "source": [
    "## 2. Test LLM Manager Simple vs Chunking"
   ]
  },
  {
   "cell_type": "markdown",
   "metadata": {},
   "source": [
    "### Simple vs Chunked"
   ]
  },
  {
   "cell_type": "code",
   "execution_count": 6,
   "metadata": {},
   "outputs": [
    {
     "data": {
      "text/html": [
       "<pre style=\"white-space:pre;overflow-x:auto;line-height:normal;font-family:Menlo,'DejaVu Sans Mono',consolas,'Courier New',monospace\"><span style=\"color: #7fbfbf; text-decoration-color: #7fbfbf\">[07/12/25 17:34:35] </span><span style=\"color: #000080; text-decoration-color: #000080\">INFO    </span> HTTP Request: <span style=\"color: #808000; text-decoration-color: #808000; font-weight: bold\">POST</span> <span style=\"color: #0000ff; text-decoration-color: #0000ff; text-decoration: underline\">https://api.openai.com/v1/responses</span> <span style=\"color: #008000; text-decoration-color: #008000\">\"HTTP/1.1 200 </span>  <a href=\"file:///opt/anaconda3/envs/sravan-yellhorn/lib/python3.11/site-packages/httpx/_client.py\" target=\"_blank\"><span style=\"color: #7f7f7f; text-decoration-color: #7f7f7f\">_client.py</span></a><span style=\"color: #7f7f7f; text-decoration-color: #7f7f7f\">:</span><a href=\"file:///opt/anaconda3/envs/sravan-yellhorn/lib/python3.11/site-packages/httpx/_client.py#1740\" target=\"_blank\"><span style=\"color: #7f7f7f; text-decoration-color: #7f7f7f\">1740</span></a>\n",
       "<span style=\"color: #7fbfbf; text-decoration-color: #7fbfbf\">                    </span>         <span style=\"color: #008000; text-decoration-color: #008000\">OK\"</span>                                                                    <span style=\"color: #7f7f7f; text-decoration-color: #7f7f7f\">               </span>\n",
       "</pre>\n"
      ],
      "text/plain": [
       "\u001b[2;36m[07/12/25 17:34:35]\u001b[0m\u001b[2;36m \u001b[0m\u001b[34mINFO    \u001b[0m HTTP Request: \u001b[1;33mPOST\u001b[0m \u001b[4;94mhttps://api.openai.com/v1/responses\u001b[0m \u001b[32m\"HTTP/1.1 200 \u001b[0m  \u001b]8;id=313958;file:///opt/anaconda3/envs/sravan-yellhorn/lib/python3.11/site-packages/httpx/_client.py\u001b\\\u001b[2m_client.py\u001b[0m\u001b]8;;\u001b\\\u001b[2m:\u001b[0m\u001b]8;id=288659;file:///opt/anaconda3/envs/sravan-yellhorn/lib/python3.11/site-packages/httpx/_client.py#1740\u001b\\\u001b[2m1740\u001b[0m\u001b]8;;\u001b\\\n",
       "\u001b[2;36m                    \u001b[0m         \u001b[32mOK\"\u001b[0m                                                                    \u001b[2m               \u001b[0m\n"
      ]
     },
     "metadata": {},
     "output_type": "display_data"
    },
    {
     "name": "stdout",
     "output_type": "stream",
     "text": [
      "OpenAI JSON Response:\n",
      "--------------------------------------------------\n",
      "<yellhorn_mcp.llm_manager.UsageMetadata object at 0x114cf6f50>\n",
      "Sure! Here’s a list of 3 programming languages with their key features:\n",
      "\n",
      "---\n",
      "\n",
      "**1. Python**\n",
      "- Easy-to-read, clean syntax\n",
      "- Extensive standard library\n",
      "- Dynamically typed and interpreted\n",
      "- Large community support\n",
      "- Widely used for web development, data science, automation, and AI\n",
      "\n",
      "---\n",
      "\n",
      "**2. JavaScript**\n",
      "- Runs natively in web browsers\n",
      "- Event-driven, asynchronous programming support\n",
      "- Prototype-based object orientation\n",
      "- Essential for front-end web development\n",
      "- Large ecosystem with frameworks like React, Angular, and Vue\n",
      "\n",
      "---\n",
      "\n",
      "**3. Java**\n",
      "- Statically typed and compiled to bytecode (runs on JVM)\n",
      "- Strong object-oriented programming support\n",
      "- Platform-independent (“write once, run anywhere”)\n",
      "- Robust standard library and tools\n",
      "- Commonly used for enterprise applications, Android development, and backend systems\n",
      "\n",
      "---\n",
      "\n",
      "\n",
      "---\n",
      "## Completion Metrics\n",
      "*   **Model Used**: N/A\n",
      "*   **Input Tokens**: N/A\n",
      "*   **Output Tokens**: N/A\n",
      "*   **Total Tokens**: N/A\n",
      "*   **Estimated Cost**: N/A\n"
     ]
    }
   ],
   "source": [
    "# Example 2: OpenAI call with JSON response\n",
    "json_prompt = \"Generate a list of 3 programming languages with their key features.\"\n",
    "\n",
    "model = \"gpt-4.1\"\n",
    "openai_json_response = await call_model(\n",
    "    prompt=json_prompt,\n",
    "    model=model,  # or any available OpenAI model\n",
    "    # response_format=\"json\"\n",
    ")\n",
    "\n",
    "print(\"OpenAI JSON Response:\")\n",
    "print(\"-\" * 50)\n",
    "print(openai_json_response[\"usage_metadata\"])\n",
    "print(openai_json_response[\"content\"])\n",
    "print(format_metrics_section(\"gpt-4.1\",openai_json_response[\"usage_metadata\"]))"
   ]
  },
  {
   "cell_type": "code",
   "execution_count": null,
   "metadata": {},
   "outputs": [],
   "source": [
    "from yellhorn_mcp.llm_manager import ChunkingStrategy\n",
    "from yellhorn_mcp.token_counter import TokenCounter\n",
    "\n",
    "chunks = ChunkingStrategy.split_by_paragraphs(\n",
    "    text=json_prompt,\n",
    "    max_tokens=5000,\n",
    "    token_counter=TokenCounter(),\n",
    "    model=\"gemini-2.0-flash-exp\"\n",
    ")\n",
    "\n",
    "for chunk in chunks:\n",
    "    print(TokenCounter().count_tokens(chunk, \"gemini-2.0-flash-exp\"))"
   ]
  },
  {
   "cell_type": "code",
   "execution_count": 6,
   "metadata": {},
   "outputs": [
    {
     "data": {
      "text/html": [
       "<pre style=\"white-space:pre;overflow-x:auto;line-height:normal;font-family:Menlo,'DejaVu Sans Mono',consolas,'Courier New',monospace\"><span style=\"color: #7fbfbf; text-decoration-color: #7fbfbf\">[07/13/25 19:48:48] </span><span style=\"color: #000080; text-decoration-color: #000080\">INFO    </span> HTTP Request: <span style=\"color: #808000; text-decoration-color: #808000; font-weight: bold\">POST</span> <span style=\"color: #0000ff; text-decoration-color: #0000ff; text-decoration: underline\">https://api.openai.com/v1/responses</span> <span style=\"color: #008000; text-decoration-color: #008000\">\"HTTP/1.1 200 </span>  <a href=\"file:///opt/anaconda3/envs/sravan-yellhorn/lib/python3.11/site-packages/httpx/_client.py\" target=\"_blank\"><span style=\"color: #7f7f7f; text-decoration-color: #7f7f7f\">_client.py</span></a><span style=\"color: #7f7f7f; text-decoration-color: #7f7f7f\">:</span><a href=\"file:///opt/anaconda3/envs/sravan-yellhorn/lib/python3.11/site-packages/httpx/_client.py#1740\" target=\"_blank\"><span style=\"color: #7f7f7f; text-decoration-color: #7f7f7f\">1740</span></a>\n",
       "<span style=\"color: #7fbfbf; text-decoration-color: #7fbfbf\">                    </span>         <span style=\"color: #008000; text-decoration-color: #008000\">OK\"</span>                                                                    <span style=\"color: #7f7f7f; text-decoration-color: #7f7f7f\">               </span>\n",
       "</pre>\n"
      ],
      "text/plain": [
       "\u001b[2;36m[07/13/25 19:48:48]\u001b[0m\u001b[2;36m \u001b[0m\u001b[34mINFO    \u001b[0m HTTP Request: \u001b[1;33mPOST\u001b[0m \u001b[4;94mhttps://api.openai.com/v1/responses\u001b[0m \u001b[32m\"HTTP/1.1 200 \u001b[0m  \u001b]8;id=576016;file:///opt/anaconda3/envs/sravan-yellhorn/lib/python3.11/site-packages/httpx/_client.py\u001b\\\u001b[2m_client.py\u001b[0m\u001b]8;;\u001b\\\u001b[2m:\u001b[0m\u001b]8;id=881369;file:///opt/anaconda3/envs/sravan-yellhorn/lib/python3.11/site-packages/httpx/_client.py#1740\u001b\\\u001b[2m1740\u001b[0m\u001b]8;;\u001b\\\n",
       "\u001b[2;36m                    \u001b[0m         \u001b[32mOK\"\u001b[0m                                                                    \u001b[2m               \u001b[0m\n"
      ]
     },
     "metadata": {},
     "output_type": "display_data"
    },
    {
     "name": "stdout",
     "output_type": "stream",
     "text": [
      "Gemini Response:\n",
      "--------------------------------------------------\n",
      "**Token Chunking: An Overview**\n",
      "\n",
      "**What is Token Chunking?**\n",
      "Token chunking is a technique used in natural language processing (NLP) to break down text into smaller, manageable pieces called \"tokens.\" These tokens can be words, phrases, or even characters, depending on the context and the specific application. The process involves segmenting a continuous stream of text into discrete units that can be analyzed or processed by algorithms.\n",
      "\n",
      "**Why is Token Chunking Important for Large Language Models?**\n",
      "\n",
      "1. **Efficiency**: Large language models (LLMs) often deal with vast amounts of text data. Token chunking allows these models to process text in smaller segments, making computations more efficient and manageable.\n",
      "\n",
      "2. **Context Preservation**: By chunking text into meaningful units, models can better understand the context and relationships between words or phrases. This is crucial for tasks like sentiment analysis, translation, and summarization.\n",
      "\n",
      "3. **Memory Management**: LLMs have limitations on the amount of text they can process at once (often referred to as the \"context window\"). Token chunking helps fit larger texts into these constraints by breaking them into smaller, coherent parts.\n",
      "\n",
      "4. **Improved Performance**: Models trained on chunked data can achieve better performance in various NLP tasks. This is because chunking helps maintain the semantic integrity of the text, allowing the model to learn more effectively.\n",
      "\n",
      "5. **Flexibility**: Different applications may require different chunking strategies (e.g., word-level, sentence-level, or paragraph-level). Token chunking provides the flexibility to adapt to these varying needs.\n",
      "\n",
      "In summary, token chunking is a fundamental technique that enhances the efficiency, context understanding, and overall performance of large language models in processing and analyzing text data.\n",
      "\n",
      "\n",
      "---\n",
      "## Completion Metrics\n",
      "*   **Model Used**: `gpt-4o-mini`\n",
      "*   **Input Tokens**: 15024\n",
      "*   **Output Tokens**: 356\n",
      "*   **Total Tokens**: 15380\n",
      "*   **Estimated Cost**: $0.0025\n"
     ]
    }
   ],
   "source": [
    "# Example 1: Simple Gemini call\n",
    "prompt = \"Explain what token chunking is and why it's important for large language models.\"*1000\n",
    "system_message = \"You are a helpful AI assistant that provides clear and concise explanations.\"\n",
    "\n",
    "model = \"gpt-4o-mini\"\n",
    "gemini_response = await call_model(\n",
    "    prompt=prompt,\n",
    "    model=model,\n",
    "    system_message=system_message\n",
    ")\n",
    "\n",
    "print(\"Gemini Response:\")\n",
    "print(\"-\" * 50)\n",
    "print(gemini_response[\"content\"])\n",
    "print(format_metrics_section(model,gemini_response[\"usage_metadata\"]))"
   ]
  },
  {
   "cell_type": "code",
   "execution_count": 11,
   "metadata": {},
   "outputs": [
    {
     "data": {
      "text/plain": [
       "<yellhorn_mcp.llm_manager.UsageMetadata at 0x10cfdd810>"
      ]
     },
     "execution_count": 11,
     "metadata": {},
     "output_type": "execute_result"
    }
   ],
   "source": [
    "gemini_response[\"usage_metadata\"]"
   ]
  },
  {
   "cell_type": "markdown",
   "metadata": {},
   "source": [
    "### Test Grounded Search\n",
    "\n",
    "Google Search Grounding is a feature available for Gemini models that allows them to search the web and include citations in their responses. This is particularly useful for getting up-to-date information and verifying facts."
   ]
  },
  {
   "cell_type": "code",
   "execution_count": 31,
   "metadata": {},
   "outputs": [],
   "source": [
    "# Import the search grounding utilities\n",
    "from yellhorn_mcp.search_grounding import _get_gemini_search_tools, add_citations_from_metadata"
   ]
  },
  {
   "cell_type": "code",
   "execution_count": 32,
   "metadata": {},
   "outputs": [
    {
     "data": {
      "text/html": [
       "<pre style=\"white-space:pre;overflow-x:auto;line-height:normal;font-family:Menlo,'DejaVu Sans Mono',consolas,'Courier New',monospace\"><span style=\"color: #7fbfbf; text-decoration-color: #7fbfbf\">[07/12/25 17:22:16] </span><span style=\"color: #000080; text-decoration-color: #000080\">INFO    </span> AFC is enabled with max remote calls: <span style=\"color: #008080; text-decoration-color: #008080; font-weight: bold\">10</span>.                               <a href=\"file:///opt/anaconda3/envs/sravan-yellhorn/lib/python3.11/site-packages/google/genai/models.py\" target=\"_blank\"><span style=\"color: #7f7f7f; text-decoration-color: #7f7f7f\">models.py</span></a><span style=\"color: #7f7f7f; text-decoration-color: #7f7f7f\">:</span><a href=\"file:///opt/anaconda3/envs/sravan-yellhorn/lib/python3.11/site-packages/google/genai/models.py#7118\" target=\"_blank\"><span style=\"color: #7f7f7f; text-decoration-color: #7f7f7f\">7118</span></a>\n",
       "</pre>\n"
      ],
      "text/plain": [
       "\u001b[2;36m[07/12/25 17:22:16]\u001b[0m\u001b[2;36m \u001b[0m\u001b[34mINFO    \u001b[0m AFC is enabled with max remote calls: \u001b[1;36m10\u001b[0m.                               \u001b]8;id=502880;file:///opt/anaconda3/envs/sravan-yellhorn/lib/python3.11/site-packages/google/genai/models.py\u001b\\\u001b[2mmodels.py\u001b[0m\u001b]8;;\u001b\\\u001b[2m:\u001b[0m\u001b]8;id=125787;file:///opt/anaconda3/envs/sravan-yellhorn/lib/python3.11/site-packages/google/genai/models.py#7118\u001b\\\u001b[2m7118\u001b[0m\u001b]8;;\u001b\\\n"
      ]
     },
     "metadata": {},
     "output_type": "display_data"
    },
    {
     "data": {
      "text/html": [
       "<pre style=\"white-space:pre;overflow-x:auto;line-height:normal;font-family:Menlo,'DejaVu Sans Mono',consolas,'Courier New',monospace\"><span style=\"color: #7fbfbf; text-decoration-color: #7fbfbf\">[07/12/25 17:22:40] </span><span style=\"color: #000080; text-decoration-color: #000080\">INFO    </span> HTTP Request: <span style=\"color: #808000; text-decoration-color: #808000; font-weight: bold\">POST</span>                                                     <a href=\"file:///opt/anaconda3/envs/sravan-yellhorn/lib/python3.11/site-packages/httpx/_client.py\" target=\"_blank\"><span style=\"color: #7f7f7f; text-decoration-color: #7f7f7f\">_client.py</span></a><span style=\"color: #7f7f7f; text-decoration-color: #7f7f7f\">:</span><a href=\"file:///opt/anaconda3/envs/sravan-yellhorn/lib/python3.11/site-packages/httpx/_client.py#1740\" target=\"_blank\"><span style=\"color: #7f7f7f; text-decoration-color: #7f7f7f\">1740</span></a>\n",
       "<span style=\"color: #7fbfbf; text-decoration-color: #7fbfbf\">                    </span>         <span style=\"color: #0000ff; text-decoration-color: #0000ff; text-decoration: underline\">https://generativelanguage.googleapis.com/v1beta/models/gemini-2.5-pro</span> <span style=\"color: #7f7f7f; text-decoration-color: #7f7f7f\">               </span>\n",
       "<span style=\"color: #7fbfbf; text-decoration-color: #7fbfbf\">                    </span>         <span style=\"color: #0000ff; text-decoration-color: #0000ff; text-decoration: underline\">:generateContent</span> <span style=\"color: #008000; text-decoration-color: #008000\">\"HTTP/1.1 200 OK\"</span>                                     <span style=\"color: #7f7f7f; text-decoration-color: #7f7f7f\">               </span>\n",
       "</pre>\n"
      ],
      "text/plain": [
       "\u001b[2;36m[07/12/25 17:22:40]\u001b[0m\u001b[2;36m \u001b[0m\u001b[34mINFO    \u001b[0m HTTP Request: \u001b[1;33mPOST\u001b[0m                                                     \u001b]8;id=471735;file:///opt/anaconda3/envs/sravan-yellhorn/lib/python3.11/site-packages/httpx/_client.py\u001b\\\u001b[2m_client.py\u001b[0m\u001b]8;;\u001b\\\u001b[2m:\u001b[0m\u001b]8;id=61373;file:///opt/anaconda3/envs/sravan-yellhorn/lib/python3.11/site-packages/httpx/_client.py#1740\u001b\\\u001b[2m1740\u001b[0m\u001b]8;;\u001b\\\n",
       "\u001b[2;36m                    \u001b[0m         \u001b[4;94mhttps://generativelanguage.googleapis.com/v1beta/models/gemini-2.5-pro\u001b[0m \u001b[2m               \u001b[0m\n",
       "\u001b[2;36m                    \u001b[0m         \u001b[4;94m:generateContent\u001b[0m \u001b[32m\"HTTP/1.1 200 OK\"\u001b[0m                                     \u001b[2m               \u001b[0m\n"
      ]
     },
     "metadata": {},
     "output_type": "display_data"
    },
    {
     "name": "stdout",
     "output_type": "stream",
     "text": [
      "Response WITHOUT Search Grounding:\n",
      "--------------------------------------------------\n",
      "Of course. Here is a summary of Tesla's (TSLA) stock price and its recent performance.\n",
      "\n",
      "As an AI, I cannot give you real-time, up-to-the-second stock data. Stock prices are highly volatile and change constantly during market hours.\n",
      "\n",
      "However, I can provide you with the most recent closing price and a summary of its recent performance.\n",
      "\n",
      "### **Tesla (TSLA) Stock Price**\n",
      "\n",
      "For the most current, live price, please check a reliable financial news source like:\n",
      "\n",
      "*   **Google Finance**\n",
      "*   **Yahoo Finance**\n",
      "*   **Bloomberg**\n",
      "*   **Reuters**\n",
      "\n",
      "As of the market close on **June 17, 2024**, the approximate stock price for Tesla (TSLA) was:\n",
      "\n",
      "*   **~$187.44**\n",
      "\n",
      "### **Recent Performance Summary**\n",
      "\n",
      "Tesla's stock has had a very eventful and volatile year in 2024. Here is a breakdown of its recent performance:\n",
      "\n",
      "*   **Last Trading Day (June 17, 2024):** The stock saw a significant gain of over **+5%**. This surge was largely attributed to reports that Tesla has received approval to test its advanced driver-assistance system (FSD) on some streets in Shanghai, a key step for its rollout in China.\n",
      "*   **Last Week:** The stock has been on an upward trend, driven by optimism following the shareholder meeting where investors approved Elon Musk's $56 billion pay package and the company's move of incorporation to Texas. This was seen as a vote of confidence in Musk's leadership.\n",
      "*   **Year-to-Date (YTD):** Despite recent gains, TSLA is still down significantly in 2024. The stock started the year around $250, and its price is still down approximately **-25%** YTD.\n",
      "*   **One-Year Performance:** Over the past 12 months, the stock has underperformed the broader market (like the S&P 500), showing a decline of roughly **-28%**.\n",
      "\n",
      "### **Key Factors Influencing Recent Performance**\n",
      "\n",
      "Several key factors are driving the volatility and performance of Tesla's stock:\n",
      "\n",
      "1.  **Increased Competition:** Competition in the EV market has intensified, particularly from Chinese automakers like BYD, which has put pressure on Tesla's global market share.\n",
      "2.  **Price Cuts and Margins:** Tesla has implemented several price cuts globally to spur demand, which has concerned investors about declining automotive gross margins.\n",
      "3.  **Delivery Numbers:** Tesla's Q1 2024 delivery numbers missed analyst expectations, marking the first year-over-year decline in deliveries in four years. All eyes are now on the upcoming Q2 delivery report.\n",
      "4.  **Future Growth Narrative:** The stock's valuation is heavily dependent on future growth. Positive news around the **Cybertruck production ramp**, the potential for a **lower-cost \"Model 2\"**, and advancements in **Full Self-Driving (FSD)** and the **Optimus robot** are critical for investor sentiment.\n",
      "5.  **CEO and Shareholder Votes:** The recent overwhelming approval of Elon Musk's compensation package has removed a major overhang of uncertainty about his future focus and leadership at the company.\n",
      "\n",
      "In summary, while Tesla has seen a strong rebound in the last week on positive news, the stock has faced significant headwinds throughout 2024 due to rising competition and concerns about slowing growth.\n",
      "\n",
      "***Disclaimer:** This information is for informational purposes only and does not constitute financial advice. You should consult with a qualified financial professional before making any investment decisions.*\n",
      "\n",
      "======================================================================\n",
      "\n"
     ]
    }
   ],
   "source": [
    "# Example 2: Compare responses with and without search grounding\n",
    "comparison_prompt = \"What is the current stock price of Tesla (TSLA) and its recent performance?\"\n",
    "\n",
    "# First, make a call without search grounding by not passing tools\n",
    "response_without_search = await llm_manager.call_llm_with_usage(\n",
    "    prompt=comparison_prompt,\n",
    "    model=\"gemini-2.5-pro\",\n",
    "    temperature=0.0\n",
    ")\n",
    "\n",
    "print(\"Response WITHOUT Search Grounding:\")\n",
    "print(\"-\" * 50)\n",
    "print(response_without_search[\"content\"])\n",
    "\n",
    "print(\"\\n\" + \"=\"*70 + \"\\n\")"
   ]
  },
  {
   "cell_type": "code",
   "execution_count": 35,
   "metadata": {},
   "outputs": [
    {
     "data": {
      "text/html": [
       "<pre style=\"white-space:pre;overflow-x:auto;line-height:normal;font-family:Menlo,'DejaVu Sans Mono',consolas,'Courier New',monospace\"><span style=\"color: #7fbfbf; text-decoration-color: #7fbfbf\">[07/12/25 17:25:01] </span><span style=\"color: #000080; text-decoration-color: #000080\">INFO    </span> AFC is enabled with max remote calls: <span style=\"color: #008080; text-decoration-color: #008080; font-weight: bold\">10</span>.                               <a href=\"file:///opt/anaconda3/envs/sravan-yellhorn/lib/python3.11/site-packages/google/genai/models.py\" target=\"_blank\"><span style=\"color: #7f7f7f; text-decoration-color: #7f7f7f\">models.py</span></a><span style=\"color: #7f7f7f; text-decoration-color: #7f7f7f\">:</span><a href=\"file:///opt/anaconda3/envs/sravan-yellhorn/lib/python3.11/site-packages/google/genai/models.py#7118\" target=\"_blank\"><span style=\"color: #7f7f7f; text-decoration-color: #7f7f7f\">7118</span></a>\n",
       "</pre>\n"
      ],
      "text/plain": [
       "\u001b[2;36m[07/12/25 17:25:01]\u001b[0m\u001b[2;36m \u001b[0m\u001b[34mINFO    \u001b[0m AFC is enabled with max remote calls: \u001b[1;36m10\u001b[0m.                               \u001b]8;id=429424;file:///opt/anaconda3/envs/sravan-yellhorn/lib/python3.11/site-packages/google/genai/models.py\u001b\\\u001b[2mmodels.py\u001b[0m\u001b]8;;\u001b\\\u001b[2m:\u001b[0m\u001b]8;id=622662;file:///opt/anaconda3/envs/sravan-yellhorn/lib/python3.11/site-packages/google/genai/models.py#7118\u001b\\\u001b[2m7118\u001b[0m\u001b]8;;\u001b\\\n"
      ]
     },
     "metadata": {},
     "output_type": "display_data"
    },
    {
     "data": {
      "text/html": [
       "<pre style=\"white-space:pre;overflow-x:auto;line-height:normal;font-family:Menlo,'DejaVu Sans Mono',consolas,'Courier New',monospace\"><span style=\"color: #7fbfbf; text-decoration-color: #7fbfbf\">[07/12/25 17:25:17] </span><span style=\"color: #000080; text-decoration-color: #000080\">INFO    </span> HTTP Request: <span style=\"color: #808000; text-decoration-color: #808000; font-weight: bold\">POST</span>                                                     <a href=\"file:///opt/anaconda3/envs/sravan-yellhorn/lib/python3.11/site-packages/httpx/_client.py\" target=\"_blank\"><span style=\"color: #7f7f7f; text-decoration-color: #7f7f7f\">_client.py</span></a><span style=\"color: #7f7f7f; text-decoration-color: #7f7f7f\">:</span><a href=\"file:///opt/anaconda3/envs/sravan-yellhorn/lib/python3.11/site-packages/httpx/_client.py#1740\" target=\"_blank\"><span style=\"color: #7f7f7f; text-decoration-color: #7f7f7f\">1740</span></a>\n",
       "<span style=\"color: #7fbfbf; text-decoration-color: #7fbfbf\">                    </span>         <span style=\"color: #0000ff; text-decoration-color: #0000ff; text-decoration: underline\">https://generativelanguage.googleapis.com/v1beta/models/gemini-2.5-pro</span> <span style=\"color: #7f7f7f; text-decoration-color: #7f7f7f\">               </span>\n",
       "<span style=\"color: #7fbfbf; text-decoration-color: #7fbfbf\">                    </span>         <span style=\"color: #0000ff; text-decoration-color: #0000ff; text-decoration: underline\">:generateContent</span> <span style=\"color: #008000; text-decoration-color: #008000\">\"HTTP/1.1 200 OK\"</span>                                     <span style=\"color: #7f7f7f; text-decoration-color: #7f7f7f\">               </span>\n",
       "</pre>\n"
      ],
      "text/plain": [
       "\u001b[2;36m[07/12/25 17:25:17]\u001b[0m\u001b[2;36m \u001b[0m\u001b[34mINFO    \u001b[0m HTTP Request: \u001b[1;33mPOST\u001b[0m                                                     \u001b]8;id=455330;file:///opt/anaconda3/envs/sravan-yellhorn/lib/python3.11/site-packages/httpx/_client.py\u001b\\\u001b[2m_client.py\u001b[0m\u001b]8;;\u001b\\\u001b[2m:\u001b[0m\u001b]8;id=543820;file:///opt/anaconda3/envs/sravan-yellhorn/lib/python3.11/site-packages/httpx/_client.py#1740\u001b\\\u001b[2m1740\u001b[0m\u001b]8;;\u001b\\\n",
       "\u001b[2;36m                    \u001b[0m         \u001b[4;94mhttps://generativelanguage.googleapis.com/v1beta/models/gemini-2.5-pro\u001b[0m \u001b[2m               \u001b[0m\n",
       "\u001b[2;36m                    \u001b[0m         \u001b[4;94m:generateContent\u001b[0m \u001b[32m\"HTTP/1.1 200 OK\"\u001b[0m                                     \u001b[2m               \u001b[0m\n"
      ]
     },
     "metadata": {},
     "output_type": "display_data"
    },
    {
     "name": "stdout",
     "output_type": "stream",
     "text": [
      "Response WITH Search Grounding:\n",
      "--------------------------------------------------\n",
      "## Tesla Stock Shows Volatility with Recent Dip But Long-Term Gains\n",
      "\n",
      "**As of Friday, July 11, 2025, Tesla (TSLA) closed at approximately $313.51, reflecting a slight increase of 1.17% in the last 24 hours of trading.** This comes amid a period of mixed performance for the electric vehicle giant.\n",
      "\n",
      "While the daily performance shows a modest gain, a broader look reveals a recent downturn. The stock has seen a decline of 1.41% over the past week and a more significant drop of 6.25% over the last month.\n",
      "\n",
      "However, looking at the longer-term picture, Tesla's stock has demonstrated substantial growth. Over the last year, it has surged by 19.07%, and in the last 12 months, the price has risen by 26.40%. This indicates underlying strength and investor confidence in the company's future prospects. The 52-week trading range for the stock has been between a low of $182.00 and a high of $488.54.\n",
      "\n",
      "Tesla's market capitalization currently stands at a robust $1.01 trillion. The company is a key player in the consumer cyclical sector, specializing in auto manufacturing. Beyond its well-known electric vehicles like the Model S, Model 3, Model X, and Model Y, Tesla is also a significant force in the energy generation and storage sector with products like Powerwall, Powerpack, and Megapack.\n",
      "\n",
      "✓ Found 4 citation sources\n"
     ]
    }
   ],
   "source": [
    "# Now make the same call with search grounding\n",
    "response_with_search = await llm_manager.call_llm_with_citations(\n",
    "    prompt=comparison_prompt,\n",
    "    model=\"gemini-2.5-pro\",\n",
    "    temperature=0.0,\n",
    "    tools=_get_gemini_search_tools(\"gemini-2.5-pro\")\n",
    ")\n",
    "\n",
    "print(\"Response WITH Search Grounding:\")\n",
    "print(\"-\" * 50)\n",
    "print(response_with_search[\"content\"])\n",
    "\n",
    "# Show if citations were found\n",
    "if \"grounding_metadata\" in response_with_search:\n",
    "    grounding_meta = response_with_search[\"grounding_metadata\"]\n",
    "    if hasattr(grounding_meta, 'grounding_chunks') and grounding_meta.grounding_chunks:\n",
    "        print(f\"\\n✓ Found {len(grounding_meta.grounding_chunks)} citation sources\")\n",
    "else:\n",
    "    print(\"\\n✗ No grounding metadata found\")"
   ]
  },
  {
   "cell_type": "markdown",
   "metadata": {},
   "source": [
    "### Test OpenAI Deep Research\n",
    "\n",
    "OpenAI Deep Research models (`o3-deep-research` and `o4-mini-deep-research`) are specialized models that can perform in-depth research and analysis. According to the CHANGELOG, these models automatically have access to `web_search_preview` and `code_interpreter` tools."
   ]
  },
  {
   "cell_type": "code",
   "execution_count": null,
   "metadata": {},
   "outputs": [
    {
     "name": "stdout",
     "output_type": "stream",
     "text": [
      "Comparing Regular vs Deep Research Models\n",
      "\n"
     ]
    },
    {
     "data": {
      "text/html": [
       "<pre style=\"white-space:pre;overflow-x:auto;line-height:normal;font-family:Menlo,'DejaVu Sans Mono',consolas,'Courier New',monospace\"><span style=\"color: #7fbfbf; text-decoration-color: #7fbfbf\">[07/12/25 17:47:38] </span><span style=\"color: #000080; text-decoration-color: #000080\">INFO    </span> HTTP Request: <span style=\"color: #808000; text-decoration-color: #808000; font-weight: bold\">POST</span> <span style=\"color: #0000ff; text-decoration-color: #0000ff; text-decoration: underline\">https://api.openai.com/v1/responses</span> <span style=\"color: #008000; text-decoration-color: #008000\">\"HTTP/1.1 200 </span>  <a href=\"file:///opt/anaconda3/envs/sravan-yellhorn/lib/python3.11/site-packages/httpx/_client.py\" target=\"_blank\"><span style=\"color: #7f7f7f; text-decoration-color: #7f7f7f\">_client.py</span></a><span style=\"color: #7f7f7f; text-decoration-color: #7f7f7f\">:</span><a href=\"file:///opt/anaconda3/envs/sravan-yellhorn/lib/python3.11/site-packages/httpx/_client.py#1740\" target=\"_blank\"><span style=\"color: #7f7f7f; text-decoration-color: #7f7f7f\">1740</span></a>\n",
       "<span style=\"color: #7fbfbf; text-decoration-color: #7fbfbf\">                    </span>         <span style=\"color: #008000; text-decoration-color: #008000\">OK\"</span>                                                                    <span style=\"color: #7f7f7f; text-decoration-color: #7f7f7f\">               </span>\n",
       "</pre>\n"
      ],
      "text/plain": [
       "\u001b[2;36m[07/12/25 17:47:38]\u001b[0m\u001b[2;36m \u001b[0m\u001b[34mINFO    \u001b[0m HTTP Request: \u001b[1;33mPOST\u001b[0m \u001b[4;94mhttps://api.openai.com/v1/responses\u001b[0m \u001b[32m\"HTTP/1.1 200 \u001b[0m  \u001b]8;id=242221;file:///opt/anaconda3/envs/sravan-yellhorn/lib/python3.11/site-packages/httpx/_client.py\u001b\\\u001b[2m_client.py\u001b[0m\u001b]8;;\u001b\\\u001b[2m:\u001b[0m\u001b]8;id=662087;file:///opt/anaconda3/envs/sravan-yellhorn/lib/python3.11/site-packages/httpx/_client.py#1740\u001b\\\u001b[2m1740\u001b[0m\u001b]8;;\u001b\\\n",
       "\u001b[2;36m                    \u001b[0m         \u001b[32mOK\"\u001b[0m                                                                    \u001b[2m               \u001b[0m\n"
      ]
     },
     "metadata": {},
     "output_type": "display_data"
    },
    {
     "name": "stdout",
     "output_type": "stream",
     "text": [
      "Regular Model response:  {'### Implementation Plan for Real-Time Collaboration in a Code Editor\\n\\n#### 1. Choose a Synchronization Model\\n- **Operational Transformation (OT)**: Suitable for text-based collaboration, widely used in Google Docs.\\n- **CRDTs (Conflict-free Replicated Data Types)**: Better for decentralized systems, handles conflicts naturally.\\n\\n**Decision**: Use OT for simplicity and existing library support.\\n\\n#### 2. Communication Protocol\\n- **WebSocket**: Efficient for real-time, bidirectional communication.\\n- **WebRTC**: More complex, used for peer-to-peer connections.\\n\\n**Decision**: Use WebSocket for server-client architecture.\\n\\n#### 3. Conflict Resolution Strategy\\n- Implement server-side logic to handle conflicts using OT.\\n- Use a central server to maintain the document state and broadcast changes.\\n\\n#### 4. Performance at Scale\\n- Use horizontal scaling with load balancers.\\n- Implement sharding for document storage.\\n- Optimize WebSocket connections with libraries like `gevent` or `asyncio`.\\n\\n#### 5. Example Code\\n\\n```python\\n# Install necessary libraries\\n# pip install autobahn twisted\\n\\nfrom autobahn.twisted.websocket import WebSocketServerProtocol, WebSocketServerFactory\\nfrom twisted.internet import reactor\\nfrom twisted.python import log\\nimport sys\\n\\nlog.startLogging(sys.stdout)\\n\\nclass CodeEditorServerProtocol(WebSocketServerProtocol):\\n    def onConnect(self, request):\\n        print(f\"Client connecting: {request.peer}\")\\n\\n    def onOpen(self):\\n        print(\"WebSocket connection open.\")\\n\\n    def onMessage(self, payload, isBinary):\\n        if not isBinary:\\n            message = payload.decode(\\'utf8\\')\\n            print(f\"Text message received: {message}\")\\n            # Here, apply OT logic to update document state\\n            self.broadcastUpdate(message)\\n\\n    def onClose(self, wasClean, code, reason):\\n        print(f\"WebSocket connection closed: {reason}\")\\n\\n    def broadcastUpdate(self, message):\\n        # Broadcast the updated document state to all connected clients\\n        for client in self.factory.clients:\\n            client.sendMessage(message.encode(\\'utf8\\'))\\n\\nclass CodeEditorServerFactory(WebSocketServerFactory):\\n    def __init__(self, url):\\n        super().__init__(url)\\n        self.clients = []\\n\\n    def buildProtocol(self, addr):\\n        protocol = CodeEditorServerProtocol()\\n        protocol.factory = self\\n        self.clients.append(protocol)\\n        return protocol\\n\\nif __name__ == \\'__main__\\':\\n    factory = CodeEditorServerFactory(\"ws://localhost:9000\")\\n    reactor.listenTCP(9000, factory)\\n    reactor.run()\\n```\\n\\n#### 6. Testing and Deployment\\n- Test with multiple clients to ensure real-time updates.\\n- Deploy using a cloud provider with auto-scaling capabilities.\\n\\n#### 7. Future Enhancements\\n- Consider CRDTs for decentralized collaboration.\\n- Explore WebRTC for peer-to-peer connections if needed.\\n\\nThis plan provides a basic framework for implementing real-time collaboration in a code editor using Python.'}\n",
      "Regular Model (gpt-4o) Response Length: 2947 chars\n",
      "Token Usage: 0\n",
      "Estimated Cost: $0.0000\n",
      "\n",
      "--------------------------------------------------\n",
      "\n"
     ]
    }
   ],
   "source": [
    "# Example 3: Compare regular model vs Deep Research model on the same task\n",
    "comparison_task = \"\"\"\n",
    "Create a very short and concise implementation plan for adding real-time collaboration features \n",
    "to a code editor, similar to Google Docs but for code. Consider the most relevant python libraries and write example code and run it:\n",
    "- Operational Transformation vs CRDTs\n",
    "- WebSocket vs WebRTC\n",
    "- Conflict resolution strategies\n",
    "- Performance at scale\n",
    "\"\"\"\n",
    "\n",
    "print(\"Comparing Regular vs Deep Research Models\\n\")\n",
    "\n",
    "# First try with regular gpt-4o\n",
    "regular_model = \"gpt-4o\"\n",
    "try:\n",
    "    regular_response = await llm_manager.call_llm_with_usage(\n",
    "        prompt=comparison_task,\n",
    "        model=regular_model,\n",
    "        temperature=0.0\n",
    "    )\n",
    "\n",
    "    print(f\"Regular Model response: \", {regular_response[\"content\"]})\n",
    "    \n",
    "    print(f\"Regular Model ({regular_model}) Response Length: {len(regular_response['content'])} chars\")\n",
    "    print(f\"Token Usage: {regular_response['usage_metadata'].total_tokens}\")\n",
    "    estimated_cost = calculate_cost(\n",
    "        regular_model,\n",
    "        regular_response['usage_metadata'].prompt_tokens,\n",
    "        regular_response['usage_metadata'].completion_tokens\n",
    "    )\n",
    "    print(f\"Estimated Cost: ${estimated_cost:.4f}\")\n",
    "    \n",
    "except Exception as e:\n",
    "    print(f\"Error with {regular_model}: {str(e)}\")\n",
    "\n",
    "print(\"\\n\" + \"-\"*50 + \"\\n\")"
   ]
  },
  {
   "cell_type": "code",
   "execution_count": 9,
   "metadata": {},
   "outputs": [
    {
     "data": {
      "text/html": [
       "<pre style=\"white-space:pre;overflow-x:auto;line-height:normal;font-family:Menlo,'DejaVu Sans Mono',consolas,'Courier New',monospace\"><span style=\"color: #7fbfbf; text-decoration-color: #7fbfbf\">[07/12/25 17:47:53] </span><span style=\"color: #000080; text-decoration-color: #000080\">INFO    </span> Enabling Deep Research tools for model o4-mini-deep-research        <a href=\"file:///Users/sravanj/project_work/yellhorn-mcp/yellhorn_mcp/llm_manager.py\" target=\"_blank\"><span style=\"color: #7f7f7f; text-decoration-color: #7f7f7f\">llm_manager.py</span></a><span style=\"color: #7f7f7f; text-decoration-color: #7f7f7f\">:</span><a href=\"file:///Users/sravanj/project_work/yellhorn-mcp/yellhorn_mcp/llm_manager.py#508\" target=\"_blank\"><span style=\"color: #7f7f7f; text-decoration-color: #7f7f7f\">508</span></a>\n",
       "</pre>\n"
      ],
      "text/plain": [
       "\u001b[2;36m[07/12/25 17:47:53]\u001b[0m\u001b[2;36m \u001b[0m\u001b[34mINFO    \u001b[0m Enabling Deep Research tools for model o4-mini-deep-research        \u001b]8;id=964967;file:///Users/sravanj/project_work/yellhorn-mcp/yellhorn_mcp/llm_manager.py\u001b\\\u001b[2mllm_manager.py\u001b[0m\u001b]8;;\u001b\\\u001b[2m:\u001b[0m\u001b]8;id=52942;file:///Users/sravanj/project_work/yellhorn-mcp/yellhorn_mcp/llm_manager.py#508\u001b\\\u001b[2m508\u001b[0m\u001b]8;;\u001b\\\n"
      ]
     },
     "metadata": {},
     "output_type": "display_data"
    },
    {
     "data": {
      "text/html": [
       "<pre style=\"white-space:pre;overflow-x:auto;line-height:normal;font-family:Menlo,'DejaVu Sans Mono',consolas,'Courier New',monospace\"><span style=\"color: #7fbfbf; text-decoration-color: #7fbfbf\">[07/12/25 17:50:43] </span><span style=\"color: #000080; text-decoration-color: #000080\">INFO    </span> HTTP Request: <span style=\"color: #808000; text-decoration-color: #808000; font-weight: bold\">POST</span> <span style=\"color: #0000ff; text-decoration-color: #0000ff; text-decoration: underline\">https://api.openai.com/v1/responses</span> <span style=\"color: #008000; text-decoration-color: #008000\">\"HTTP/1.1 200 </span>  <a href=\"file:///opt/anaconda3/envs/sravan-yellhorn/lib/python3.11/site-packages/httpx/_client.py\" target=\"_blank\"><span style=\"color: #7f7f7f; text-decoration-color: #7f7f7f\">_client.py</span></a><span style=\"color: #7f7f7f; text-decoration-color: #7f7f7f\">:</span><a href=\"file:///opt/anaconda3/envs/sravan-yellhorn/lib/python3.11/site-packages/httpx/_client.py#1740\" target=\"_blank\"><span style=\"color: #7f7f7f; text-decoration-color: #7f7f7f\">1740</span></a>\n",
       "<span style=\"color: #7fbfbf; text-decoration-color: #7fbfbf\">                    </span>         <span style=\"color: #008000; text-decoration-color: #008000\">OK\"</span>                                                                    <span style=\"color: #7f7f7f; text-decoration-color: #7f7f7f\">               </span>\n",
       "</pre>\n"
      ],
      "text/plain": [
       "\u001b[2;36m[07/12/25 17:50:43]\u001b[0m\u001b[2;36m \u001b[0m\u001b[34mINFO    \u001b[0m HTTP Request: \u001b[1;33mPOST\u001b[0m \u001b[4;94mhttps://api.openai.com/v1/responses\u001b[0m \u001b[32m\"HTTP/1.1 200 \u001b[0m  \u001b]8;id=449305;file:///opt/anaconda3/envs/sravan-yellhorn/lib/python3.11/site-packages/httpx/_client.py\u001b\\\u001b[2m_client.py\u001b[0m\u001b]8;;\u001b\\\u001b[2m:\u001b[0m\u001b]8;id=618910;file:///opt/anaconda3/envs/sravan-yellhorn/lib/python3.11/site-packages/httpx/_client.py#1740\u001b\\\u001b[2m1740\u001b[0m\u001b]8;;\u001b\\\n",
       "\u001b[2;36m                    \u001b[0m         \u001b[32mOK\"\u001b[0m                                                                    \u001b[2m               \u001b[0m\n"
      ]
     },
     "metadata": {},
     "output_type": "display_data"
    },
    {
     "name": "stdout",
     "output_type": "stream",
     "text": [
      "Deep Research Model (o4-mini-deep-research) Response Length: 3340 chars\n",
      "Token Usage: 0\n",
      "Estimated Cost: $0.0000\n",
      "\n",
      "First 500 chars of Deep Research response:\n",
      "- **OT vs CRDT:** Modern editors often favor CRDTs (like Ypy/Y-CRDT) for simpler merge semantics and offline edits.  CRDTs ensure *eventual consistency* without explicit coordination ([www.codingeasypeasy.com](https://www.codingeasypeasy.com/blog/build-a-real-time-collaborative-editor-with-fastapi-and-crdts-a-comprehensive-guide#:~:text=scenario,are%20applied%20in%20different%20orders)), whereas OT requires complex transform functions and a central server.  For example, a toy CRDT string merge (...\n"
     ]
    }
   ],
   "source": [
    "# Now try with deep research model\n",
    "deep_model = \"o4-mini-deep-research\"\n",
    "try:\n",
    "    deep_response = await llm_manager.call_llm_with_usage(\n",
    "        prompt=comparison_task,\n",
    "        model=deep_model,\n",
    "        temperature=0.0\n",
    "    )\n",
    "\n",
    "    print(f\"Deep Model response: \", {deep_response[\"content\"]})\n",
    "    \n",
    "    print(f\"Deep Research Model ({deep_model}) Response Length: {len(deep_response['content'])} chars\")\n",
    "    print(f\"Token Usage: {deep_response['usage_metadata'].total_tokens}\")\n",
    "    estimated_cost = calculate_cost(\n",
    "        deep_model,\n",
    "        deep_response['usage_metadata'].prompt_tokens,\n",
    "        deep_response['usage_metadata'].completion_tokens\n",
    "    )\n",
    "    print(f\"Estimated Cost: ${estimated_cost:.4f}\")\n",
    "    \n",
    "    # Show a snippet of the response to see the difference\n",
    "    print(\"\\nFirst 500 chars of Deep Research response:\")\n",
    "    print(deep_response['content'][:500] + \"...\")\n",
    "    \n",
    "except Exception as e:\n",
    "    print(f\"Error with {deep_model}: {str(e)}\")"
   ]
  },
  {
   "cell_type": "code",
   "execution_count": 11,
   "metadata": {},
   "outputs": [
    {
     "name": "stdout",
     "output_type": "stream",
     "text": [
      "- **OT vs CRDT:** Modern editors often favor CRDTs (like Ypy/Y-CRDT) for simpler merge semantics and offline edits.  CRDTs ensure *eventual consistency* without explicit coordination ([www.codingeasypeasy.com](https://www.codingeasypeasy.com/blog/build-a-real-time-collaborative-editor-with-fastapi-and-crdts-a-comprehensive-guide#:~:text=scenario,are%20applied%20in%20different%20orders)), whereas OT requires complex transform functions and a central server.  For example, a toy CRDT string merge (using unique IDs) might look like:\n",
      "  \n",
      "  ```python\n",
      "  doc1 = []\n",
      "  doc2 = []\n",
      "  doc1.append(('1_A', 'A'))   # user1 inserts 'A'\n",
      "  doc2.append(('1_B', 'B'))   # user2 inserts 'B'\n",
      "  merged = sorted(doc1 + doc2, key=lambda x: x[0])\n",
      "  print(''.join(char for _,char in merged))  # AB\n",
      "  ```\n",
      "\n",
      "- **WebSocket vs WebRTC:** Use WebSockets for a server-based broadcast model (e.g. with Python’s `websockets` or FastAPI), as in many CRDT stacks.  (WebRTC/P2P is possible but adds browser–signaling overhead.)  For instance, a simple WebSocket echo server/client pair with `websockets`:\n",
      "  \n",
      "  ```python\n",
      "  import asyncio, websockets\n",
      "\n",
      "  async def handler(ws, path):\n",
      "      async for msg in ws:\n",
      "          await ws.send(f\"Echo: {msg}\")\n",
      "\n",
      "  async def main():\n",
      "      server = await websockets.serve(handler, \"localhost\", 8765)\n",
      "      async with websockets.connect(\"ws://localhost:8765\") as ws:\n",
      "          await ws.send(\"Hello\")\n",
      "          print(await ws.recv())  # Echo: Hello\n",
      "      server.close()\n",
      "      await server.wait_closed()\n",
      "\n",
      "  asyncio.run(main())\n",
      "  ```\n",
      "\n",
      "- **Conflict resolution strategies:** With CRDTs, conflicts are resolved automatically by merge rules (each character or operation has a globally unique ID), avoiding manual conflict logic ([www.codingeasypeasy.com](https://www.codingeasypeasy.com/blog/build-a-real-time-collaborative-editor-with-fastapi-and-crdts-a-comprehensive-guide#:~:text=scenario,are%20applied%20in%20different%20orders)).  With OT, you must implement transform functions (like inclusion/exclusion transforms) to reorder edits.  For simple data, one might fall back to *last-writer-wins* or version vectors.  In practice, libraries like Ypy handle the merge under the hood, while OT libraries (e.g. `python-ottype`) provide transform APIs.\n",
      "\n",
      "- **Performance at scale:** Use incremental updates and broadcasts rather than full-text snaps. Batch operations or diffs (state-vectors or deltas) for network efficiency.  Scale WebSocket servers with async frameworks (Uvicorn/Gunicorn or `pycrdt-websocket` like Jupyter’s) and use horizontal sharding or pub/sub (Redis) for multi-server sync.  Persist history (e.g. YDoc checkpoints) so new clients can catch up without replaying all ops.  In short, optimize by compressing CRDT updates and distributing load across nodes.  \n",
      "\n",
      "**Sources:** CRDTs guarantee eventual consistency without coordination ([www.codingeasypeasy.com](https://www.codingeasypeasy.com/blog/build-a-real-time-collaborative-editor-with-fastapi-and-crdts-a-comprehensive-guide#:~:text=scenario,are%20applied%20in%20different%20orders)); JupyterLab’s collaborative editing uses a shared Y-CRDT (YDoc) over WebSocket endpoints ([jupyterlab-realtime-collaboration.readthedocs.io](https://jupyterlab-realtime-collaboration.readthedocs.io/en/latest/developer/architecture.html#:~:text=,file%20management%20and%20kernel%20system)).\n"
     ]
    }
   ],
   "source": [
    "print(deep_response['content'])"
   ]
  },
  {
   "cell_type": "markdown",
   "metadata": {},
   "source": [
    "### Key Differences Between Search Grounding and Deep Research\n",
    "\n",
    "1. **Search Grounding (Gemini)**:\n",
    "   - Automatically searches the web for relevant information\n",
    "   - Adds inline citations to responses\n",
    "   - Best for factual queries requiring current information\n",
    "   - No additional cost beyond regular API usage\n",
    "\n",
    "2. **Deep Research Models (OpenAI)**:\n",
    "   - Specialized models with web search and code interpreter tools\n",
    "   - Designed for complex, multi-step research tasks\n",
    "   - Can execute code and analyze results\n",
    "   - Higher cost but more comprehensive analysis\n",
    "   - May require special API access\n",
    "\n",
    "Both features enhance the LLM's ability to provide accurate, up-to-date information, but they serve different use cases and have different cost/performance tradeoffs."
   ]
  },
  {
   "cell_type": "code",
   "execution_count": 13,
   "metadata": {},
   "outputs": [],
   "source": [
    "title = \"Replace existing model with unified Model Calling Service (OpenRouter or Litellm)\"\n",
    "description = \"\"\"\n",
    "Describe how to replace and consolidate LLM model calls in yellhorn with Gemini, Open AI, etc. with OpenRouter or LiteLLM\n",
    "\"\"\"\n",
    "\n",
    "user_task = f\"Title: {title}, Description: {description}\""
   ]
  },
  {
   "cell_type": "markdown",
   "metadata": {},
   "source": [
    "## 3. Test Curate Context at scale"
   ]
  },
  {
   "cell_type": "code",
   "execution_count": 7,
   "metadata": {},
   "outputs": [],
   "source": [
    "from examples.mock_context import run_curate_context\n",
    "from yellhorn_mcp.server import curate_context"
   ]
  },
  {
   "cell_type": "code",
   "execution_count": 8,
   "metadata": {},
   "outputs": [
    {
     "name": "stdout",
     "output_type": "stream",
     "text": [
      "[INFO] Starting .yellhorncontext file generation with gemini-2.0-flash-exp using full mode\n",
      "[INFO] Using Git's tracking information - respecting .gitignore patterns\n",
      "[INFO] Found .yellhornignore file at /Users/sravanj/project_work/yellhorn-mcp/.yellhornignore, will use it for filtering\n",
      "[INFO] Applied .yellhornignore filtering: 16 of 55 files remain\n",
      "[INFO] Extracted 3 directories from 16 filtered files\n",
      "[INFO] Using full mode with file contents for codebase analysis\n",
      "[INFO] Directory context:\n",
      "<codebase_tree>\n",
      "top_directory\n",
      "\t.DS_Store\n",
      "\t\t```text\n",
      "\t\t\u0000\u0000\u0000\u0001Bud1\u0000\u0000\u0010\u0000\u0000\u0000\u0000\u0000\u0010\u0000\u0000\u0000\u0004\n",
      "\t\t\u0000\u0000\u0000\u0000\u0000\u0000\u0000\u0000\u0000\u0000\u0000\u0000\u0000\u0000\u0000\u0000\u0000\u0000\u0000\u0000\u0000\u0000\u0000\u0000\u0000\u0000\u0000\u0000\u0000\u0000\u0000\u0000\u0000\u0000\u0000\u0000\u0000\u0000\u0000\u0000\u0000\u0000\u0000\u0002\u0000\u0000\u0000\u0000\u0000\u0000\u0000\u000e\u0000\u0000\u0000\u0001\u0000\u0000\u0010\u0000\u0000t\u0000sIlocblob\u0000\u0000\u0000\u0000\u0000\u0000\u0000\u0000\u0000\u0000\u0000\u0000\u0000\u0000\u0000\u0000\u0000\u0000\u0000\u0000\u0000\u0000\u0000\u0000\u0000\u0000\u0000\u0000\u0000\u0000\u0000\u0000\u0000\u0000\u0000\u0000\u0000\u0000\u0000\u0000\u0000\u0000\u0000\u0000\u0000\u0000\u0000\u0000\u0000\u0000\u0000\u0000\u0000\u0000\u0000\u0000\u0000\u0000\u0000\u0000\u0000\u0000\u0000\u0000\u0000\u0000\u0000\u0000\u0000\u0000\u0000\u0000\u0000\u0000\u0000\u0000\u0000\u0000\u0000\u0000\u0000\u0000\u0000\u0000\u0000\u0000\u0000\u0000\u0000\u0000\u0000\u0000\u0000\u0000\u0000\u0000\u0000\u0000\u0000\u0000\u0000\u0000\u0000\u0000\u0000\u0000\u0000\u0000\u0000\u0000\u0000\u0000\u0000\u0000\u0000\u0000\u0000\u0000\u0000\u0000\u0000\u0000\u0000\u0000\u0000\u0000\u0000\u0000\u0000\u0000\u0000\u0000\u0000\u0000\u0000\u0000\u0000\u0000\u0000\u0000\u0000\u0000\u0000\u0000\u0000\u0000\u0000\u0000\u0000\u0000\u0000\u0000\u0000\u0000\u0000\u0000\u0000\u0000\u0000\u0000\u0000\u0000\u0000\u0000\u0000\u0000\u0000\u0000\u0000\u0000\u0000\u0000\u0000\u0000\u0000\u0000\u0000\u0000\u0000\u0000\u0000\u0000\u0000\u0000\u0000\u0000\u0000\u0000\u0000\u0000\u0000\u0000\u0000\u0000\u0000\u0000\u0000\u0000\u0000\u0000\u0000\u0000\u0000\u0000\u0000\u0000\u0000\u0000\u0000\u0000\u0000\u0000\u0000\u0000\u0000\u0000\u0000\u0000\u0000\u0000\u0000\u0000\u0000\u0000\u0000\u0000\u0000\u0000\u0000\u0000\u0000\u0000\u0000\u0000\u0000\u0000\u0000\u0000\u0000\u0000\u0000\u0000\u0000\u0000\u0000\u0000\u0000\u0000\u0000\u0000\u0000\u0000\u0000\u0000\u0000\u0000\u0000\u0000\u0000\u0000\u0000\u0000\u0000\u0000\u0000\u0000\u0000\u0000\u0000\u0000\u0000\u0000\u0000\u0000\u0000\u0000\u0000\u0000\u0000\u0000\u0000\u0000\u0000\u0000\u0000\u0000\u0000\u0000\u0000\u0000\u0000\u0000\u0000\u0000\u0000\u0000\u0000\u0000\u0000\u0000\u0000\u0000\u0000\u0000\u0000\u0000\u0000\u0000\u0000\u0000\u0000\u0000\u0000\u0000\u0000\u0000\u0000\u0000\u0000\u0000\u0000\u0000\u0000\u0000\u0000\u0000\u0000\u0000\u0000\u0000\u0000\u0000\u0000\u0000\u0000\u0000\u0000\u0000\u0000\u0000\u0000\u0000\u0000\u0000\u0000...\n",
      "[INFO] Analyzing directory structure with gemini-2.0-flash-exp\n"
     ]
    },
    {
     "data": {
      "text/html": [
       "<pre style=\"white-space:pre;overflow-x:auto;line-height:normal;font-family:Menlo,'DejaVu Sans Mono',consolas,'Courier New',monospace\"><span style=\"color: #7fbfbf; text-decoration-color: #7fbfbf\">[07/12/25 21:32:22] </span><span style=\"color: #000080; text-decoration-color: #000080\">INFO    </span> AFC is enabled with max remote calls: <span style=\"color: #008080; text-decoration-color: #008080; font-weight: bold\">10</span>.                               <a href=\"file:///opt/anaconda3/envs/sravan-yellhorn/lib/python3.11/site-packages/google/genai/models.py\" target=\"_blank\"><span style=\"color: #7f7f7f; text-decoration-color: #7f7f7f\">models.py</span></a><span style=\"color: #7f7f7f; text-decoration-color: #7f7f7f\">:</span><a href=\"file:///opt/anaconda3/envs/sravan-yellhorn/lib/python3.11/site-packages/google/genai/models.py#7118\" target=\"_blank\"><span style=\"color: #7f7f7f; text-decoration-color: #7f7f7f\">7118</span></a>\n",
       "</pre>\n"
      ],
      "text/plain": [
       "\u001b[2;36m[07/12/25 21:32:22]\u001b[0m\u001b[2;36m \u001b[0m\u001b[34mINFO    \u001b[0m AFC is enabled with max remote calls: \u001b[1;36m10\u001b[0m.                               \u001b]8;id=900947;file:///opt/anaconda3/envs/sravan-yellhorn/lib/python3.11/site-packages/google/genai/models.py\u001b\\\u001b[2mmodels.py\u001b[0m\u001b]8;;\u001b\\\u001b[2m:\u001b[0m\u001b]8;id=853642;file:///opt/anaconda3/envs/sravan-yellhorn/lib/python3.11/site-packages/google/genai/models.py#7118\u001b\\\u001b[2m7118\u001b[0m\u001b]8;;\u001b\\\n"
      ]
     },
     "metadata": {},
     "output_type": "display_data"
    },
    {
     "data": {
      "text/html": [
       "<pre style=\"white-space:pre;overflow-x:auto;line-height:normal;font-family:Menlo,'DejaVu Sans Mono',consolas,'Courier New',monospace\"><span style=\"color: #7fbfbf; text-decoration-color: #7fbfbf\">                    </span><span style=\"color: #000080; text-decoration-color: #000080\">INFO    </span> HTTP Request: <span style=\"color: #808000; text-decoration-color: #808000; font-weight: bold\">POST</span>                                                     <a href=\"file:///opt/anaconda3/envs/sravan-yellhorn/lib/python3.11/site-packages/httpx/_client.py\" target=\"_blank\"><span style=\"color: #7f7f7f; text-decoration-color: #7f7f7f\">_client.py</span></a><span style=\"color: #7f7f7f; text-decoration-color: #7f7f7f\">:</span><a href=\"file:///opt/anaconda3/envs/sravan-yellhorn/lib/python3.11/site-packages/httpx/_client.py#1740\" target=\"_blank\"><span style=\"color: #7f7f7f; text-decoration-color: #7f7f7f\">1740</span></a>\n",
       "<span style=\"color: #7fbfbf; text-decoration-color: #7fbfbf\">                    </span>         <span style=\"color: #0000ff; text-decoration-color: #0000ff; text-decoration: underline\">https://generativelanguage.googleapis.com/v1beta/models/gemini-2.0-fla</span> <span style=\"color: #7f7f7f; text-decoration-color: #7f7f7f\">               </span>\n",
       "<span style=\"color: #7fbfbf; text-decoration-color: #7fbfbf\">                    </span>         <span style=\"color: #0000ff; text-decoration-color: #0000ff; text-decoration: underline\">sh-exp:generateContent</span> <span style=\"color: #008000; text-decoration-color: #008000\">\"HTTP/1.1 200 OK\"</span>                               <span style=\"color: #7f7f7f; text-decoration-color: #7f7f7f\">               </span>\n",
       "</pre>\n"
      ],
      "text/plain": [
       "\u001b[2;36m                   \u001b[0m\u001b[2;36m \u001b[0m\u001b[34mINFO    \u001b[0m HTTP Request: \u001b[1;33mPOST\u001b[0m                                                     \u001b]8;id=46676;file:///opt/anaconda3/envs/sravan-yellhorn/lib/python3.11/site-packages/httpx/_client.py\u001b\\\u001b[2m_client.py\u001b[0m\u001b]8;;\u001b\\\u001b[2m:\u001b[0m\u001b]8;id=562043;file:///opt/anaconda3/envs/sravan-yellhorn/lib/python3.11/site-packages/httpx/_client.py#1740\u001b\\\u001b[2m1740\u001b[0m\u001b]8;;\u001b\\\n",
       "\u001b[2;36m                    \u001b[0m         \u001b[4;94mhttps://generativelanguage.googleapis.com/v1beta/models/gemini-2.0-fla\u001b[0m \u001b[2m               \u001b[0m\n",
       "\u001b[2;36m                    \u001b[0m         \u001b[4;94msh-exp:generateContent\u001b[0m \u001b[32m\"HTTP/1.1 200 OK\"\u001b[0m                               \u001b[2m               \u001b[0m\n"
      ]
     },
     "metadata": {},
     "output_type": "display_data"
    },
    {
     "data": {
      "text/html": [
       "<pre style=\"white-space:pre;overflow-x:auto;line-height:normal;font-family:Menlo,'DejaVu Sans Mono',consolas,'Courier New',monospace\"><span style=\"color: #7fbfbf; text-decoration-color: #7fbfbf\">                    </span><span style=\"color: #000080; text-decoration-color: #000080\">INFO    </span> AFC is enabled with max remote calls: <span style=\"color: #008080; text-decoration-color: #008080; font-weight: bold\">10</span>.                               <a href=\"file:///opt/anaconda3/envs/sravan-yellhorn/lib/python3.11/site-packages/google/genai/models.py\" target=\"_blank\"><span style=\"color: #7f7f7f; text-decoration-color: #7f7f7f\">models.py</span></a><span style=\"color: #7f7f7f; text-decoration-color: #7f7f7f\">:</span><a href=\"file:///opt/anaconda3/envs/sravan-yellhorn/lib/python3.11/site-packages/google/genai/models.py#7118\" target=\"_blank\"><span style=\"color: #7f7f7f; text-decoration-color: #7f7f7f\">7118</span></a>\n",
       "</pre>\n"
      ],
      "text/plain": [
       "\u001b[2;36m                   \u001b[0m\u001b[2;36m \u001b[0m\u001b[34mINFO    \u001b[0m AFC is enabled with max remote calls: \u001b[1;36m10\u001b[0m.                               \u001b]8;id=271256;file:///opt/anaconda3/envs/sravan-yellhorn/lib/python3.11/site-packages/google/genai/models.py\u001b\\\u001b[2mmodels.py\u001b[0m\u001b]8;;\u001b\\\u001b[2m:\u001b[0m\u001b]8;id=576293;file:///opt/anaconda3/envs/sravan-yellhorn/lib/python3.11/site-packages/google/genai/models.py#7118\u001b\\\u001b[2m7118\u001b[0m\u001b]8;;\u001b\\\n"
      ]
     },
     "metadata": {},
     "output_type": "display_data"
    },
    {
     "data": {
      "text/html": [
       "<pre style=\"white-space:pre;overflow-x:auto;line-height:normal;font-family:Menlo,'DejaVu Sans Mono',consolas,'Courier New',monospace\"><span style=\"color: #7fbfbf; text-decoration-color: #7fbfbf\">[07/12/25 21:32:23] </span><span style=\"color: #000080; text-decoration-color: #000080\">INFO    </span> HTTP Request: <span style=\"color: #808000; text-decoration-color: #808000; font-weight: bold\">POST</span>                                                     <a href=\"file:///opt/anaconda3/envs/sravan-yellhorn/lib/python3.11/site-packages/httpx/_client.py\" target=\"_blank\"><span style=\"color: #7f7f7f; text-decoration-color: #7f7f7f\">_client.py</span></a><span style=\"color: #7f7f7f; text-decoration-color: #7f7f7f\">:</span><a href=\"file:///opt/anaconda3/envs/sravan-yellhorn/lib/python3.11/site-packages/httpx/_client.py#1740\" target=\"_blank\"><span style=\"color: #7f7f7f; text-decoration-color: #7f7f7f\">1740</span></a>\n",
       "<span style=\"color: #7fbfbf; text-decoration-color: #7fbfbf\">                    </span>         <span style=\"color: #0000ff; text-decoration-color: #0000ff; text-decoration: underline\">https://generativelanguage.googleapis.com/v1beta/models/gemini-2.0-fla</span> <span style=\"color: #7f7f7f; text-decoration-color: #7f7f7f\">               </span>\n",
       "<span style=\"color: #7fbfbf; text-decoration-color: #7fbfbf\">                    </span>         <span style=\"color: #0000ff; text-decoration-color: #0000ff; text-decoration: underline\">sh-exp:generateContent</span> <span style=\"color: #008000; text-decoration-color: #008000\">\"HTTP/1.1 200 OK\"</span>                               <span style=\"color: #7f7f7f; text-decoration-color: #7f7f7f\">               </span>\n",
       "</pre>\n"
      ],
      "text/plain": [
       "\u001b[2;36m[07/12/25 21:32:23]\u001b[0m\u001b[2;36m \u001b[0m\u001b[34mINFO    \u001b[0m HTTP Request: \u001b[1;33mPOST\u001b[0m                                                     \u001b]8;id=237656;file:///opt/anaconda3/envs/sravan-yellhorn/lib/python3.11/site-packages/httpx/_client.py\u001b\\\u001b[2m_client.py\u001b[0m\u001b]8;;\u001b\\\u001b[2m:\u001b[0m\u001b]8;id=635535;file:///opt/anaconda3/envs/sravan-yellhorn/lib/python3.11/site-packages/httpx/_client.py#1740\u001b\\\u001b[2m1740\u001b[0m\u001b]8;;\u001b\\\n",
       "\u001b[2;36m                    \u001b[0m         \u001b[4;94mhttps://generativelanguage.googleapis.com/v1beta/models/gemini-2.0-fla\u001b[0m \u001b[2m               \u001b[0m\n",
       "\u001b[2;36m                    \u001b[0m         \u001b[4;94msh-exp:generateContent\u001b[0m \u001b[32m\"HTTP/1.1 200 OK\"\u001b[0m                               \u001b[2m               \u001b[0m\n"
      ]
     },
     "metadata": {},
     "output_type": "display_data"
    },
    {
     "data": {
      "text/html": [
       "<pre style=\"white-space:pre;overflow-x:auto;line-height:normal;font-family:Menlo,'DejaVu Sans Mono',consolas,'Courier New',monospace\"><span style=\"color: #7fbfbf; text-decoration-color: #7fbfbf\">                    </span><span style=\"color: #000080; text-decoration-color: #000080\">INFO    </span> AFC is enabled with max remote calls: <span style=\"color: #008080; text-decoration-color: #008080; font-weight: bold\">10</span>.                               <a href=\"file:///opt/anaconda3/envs/sravan-yellhorn/lib/python3.11/site-packages/google/genai/models.py\" target=\"_blank\"><span style=\"color: #7f7f7f; text-decoration-color: #7f7f7f\">models.py</span></a><span style=\"color: #7f7f7f; text-decoration-color: #7f7f7f\">:</span><a href=\"file:///opt/anaconda3/envs/sravan-yellhorn/lib/python3.11/site-packages/google/genai/models.py#7118\" target=\"_blank\"><span style=\"color: #7f7f7f; text-decoration-color: #7f7f7f\">7118</span></a>\n",
       "</pre>\n"
      ],
      "text/plain": [
       "\u001b[2;36m                   \u001b[0m\u001b[2;36m \u001b[0m\u001b[34mINFO    \u001b[0m AFC is enabled with max remote calls: \u001b[1;36m10\u001b[0m.                               \u001b]8;id=850837;file:///opt/anaconda3/envs/sravan-yellhorn/lib/python3.11/site-packages/google/genai/models.py\u001b\\\u001b[2mmodels.py\u001b[0m\u001b]8;;\u001b\\\u001b[2m:\u001b[0m\u001b]8;id=476682;file:///opt/anaconda3/envs/sravan-yellhorn/lib/python3.11/site-packages/google/genai/models.py#7118\u001b\\\u001b[2m7118\u001b[0m\u001b]8;;\u001b\\\n"
      ]
     },
     "metadata": {},
     "output_type": "display_data"
    },
    {
     "data": {
      "text/html": [
       "<pre style=\"white-space:pre;overflow-x:auto;line-height:normal;font-family:Menlo,'DejaVu Sans Mono',consolas,'Courier New',monospace\"><span style=\"color: #7fbfbf; text-decoration-color: #7fbfbf\">[07/12/25 21:32:24] </span><span style=\"color: #000080; text-decoration-color: #000080\">INFO    </span> HTTP Request: <span style=\"color: #808000; text-decoration-color: #808000; font-weight: bold\">POST</span>                                                     <a href=\"file:///opt/anaconda3/envs/sravan-yellhorn/lib/python3.11/site-packages/httpx/_client.py\" target=\"_blank\"><span style=\"color: #7f7f7f; text-decoration-color: #7f7f7f\">_client.py</span></a><span style=\"color: #7f7f7f; text-decoration-color: #7f7f7f\">:</span><a href=\"file:///opt/anaconda3/envs/sravan-yellhorn/lib/python3.11/site-packages/httpx/_client.py#1740\" target=\"_blank\"><span style=\"color: #7f7f7f; text-decoration-color: #7f7f7f\">1740</span></a>\n",
       "<span style=\"color: #7fbfbf; text-decoration-color: #7fbfbf\">                    </span>         <span style=\"color: #0000ff; text-decoration-color: #0000ff; text-decoration: underline\">https://generativelanguage.googleapis.com/v1beta/models/gemini-2.0-fla</span> <span style=\"color: #7f7f7f; text-decoration-color: #7f7f7f\">               </span>\n",
       "<span style=\"color: #7fbfbf; text-decoration-color: #7fbfbf\">                    </span>         <span style=\"color: #0000ff; text-decoration-color: #0000ff; text-decoration: underline\">sh-exp:generateContent</span> <span style=\"color: #008000; text-decoration-color: #008000\">\"HTTP/1.1 200 OK\"</span>                               <span style=\"color: #7f7f7f; text-decoration-color: #7f7f7f\">               </span>\n",
       "</pre>\n"
      ],
      "text/plain": [
       "\u001b[2;36m[07/12/25 21:32:24]\u001b[0m\u001b[2;36m \u001b[0m\u001b[34mINFO    \u001b[0m HTTP Request: \u001b[1;33mPOST\u001b[0m                                                     \u001b]8;id=979690;file:///opt/anaconda3/envs/sravan-yellhorn/lib/python3.11/site-packages/httpx/_client.py\u001b\\\u001b[2m_client.py\u001b[0m\u001b]8;;\u001b\\\u001b[2m:\u001b[0m\u001b]8;id=810932;file:///opt/anaconda3/envs/sravan-yellhorn/lib/python3.11/site-packages/httpx/_client.py#1740\u001b\\\u001b[2m1740\u001b[0m\u001b]8;;\u001b\\\n",
       "\u001b[2;36m                    \u001b[0m         \u001b[4;94mhttps://generativelanguage.googleapis.com/v1beta/models/gemini-2.0-fla\u001b[0m \u001b[2m               \u001b[0m\n",
       "\u001b[2;36m                    \u001b[0m         \u001b[4;94msh-exp:generateContent\u001b[0m \u001b[32m\"HTTP/1.1 200 OK\"\u001b[0m                               \u001b[2m               \u001b[0m\n"
      ]
     },
     "metadata": {},
     "output_type": "display_data"
    },
    {
     "data": {
      "text/html": [
       "<pre style=\"white-space:pre;overflow-x:auto;line-height:normal;font-family:Menlo,'DejaVu Sans Mono',consolas,'Courier New',monospace\"><span style=\"color: #7fbfbf; text-decoration-color: #7fbfbf\">                    </span><span style=\"color: #000080; text-decoration-color: #000080\">INFO    </span> AFC is enabled with max remote calls: <span style=\"color: #008080; text-decoration-color: #008080; font-weight: bold\">10</span>.                               <a href=\"file:///opt/anaconda3/envs/sravan-yellhorn/lib/python3.11/site-packages/google/genai/models.py\" target=\"_blank\"><span style=\"color: #7f7f7f; text-decoration-color: #7f7f7f\">models.py</span></a><span style=\"color: #7f7f7f; text-decoration-color: #7f7f7f\">:</span><a href=\"file:///opt/anaconda3/envs/sravan-yellhorn/lib/python3.11/site-packages/google/genai/models.py#7118\" target=\"_blank\"><span style=\"color: #7f7f7f; text-decoration-color: #7f7f7f\">7118</span></a>\n",
       "</pre>\n"
      ],
      "text/plain": [
       "\u001b[2;36m                   \u001b[0m\u001b[2;36m \u001b[0m\u001b[34mINFO    \u001b[0m AFC is enabled with max remote calls: \u001b[1;36m10\u001b[0m.                               \u001b]8;id=803380;file:///opt/anaconda3/envs/sravan-yellhorn/lib/python3.11/site-packages/google/genai/models.py\u001b\\\u001b[2mmodels.py\u001b[0m\u001b]8;;\u001b\\\u001b[2m:\u001b[0m\u001b]8;id=143163;file:///opt/anaconda3/envs/sravan-yellhorn/lib/python3.11/site-packages/google/genai/models.py#7118\u001b\\\u001b[2m7118\u001b[0m\u001b]8;;\u001b\\\n"
      ]
     },
     "metadata": {},
     "output_type": "display_data"
    },
    {
     "data": {
      "text/html": [
       "<pre style=\"white-space:pre;overflow-x:auto;line-height:normal;font-family:Menlo,'DejaVu Sans Mono',consolas,'Courier New',monospace\"><span style=\"color: #7fbfbf; text-decoration-color: #7fbfbf\">                    </span><span style=\"color: #000080; text-decoration-color: #000080\">INFO    </span> HTTP Request: <span style=\"color: #808000; text-decoration-color: #808000; font-weight: bold\">POST</span>                                                     <a href=\"file:///opt/anaconda3/envs/sravan-yellhorn/lib/python3.11/site-packages/httpx/_client.py\" target=\"_blank\"><span style=\"color: #7f7f7f; text-decoration-color: #7f7f7f\">_client.py</span></a><span style=\"color: #7f7f7f; text-decoration-color: #7f7f7f\">:</span><a href=\"file:///opt/anaconda3/envs/sravan-yellhorn/lib/python3.11/site-packages/httpx/_client.py#1740\" target=\"_blank\"><span style=\"color: #7f7f7f; text-decoration-color: #7f7f7f\">1740</span></a>\n",
       "<span style=\"color: #7fbfbf; text-decoration-color: #7fbfbf\">                    </span>         <span style=\"color: #0000ff; text-decoration-color: #0000ff; text-decoration: underline\">https://generativelanguage.googleapis.com/v1beta/models/gemini-2.0-fla</span> <span style=\"color: #7f7f7f; text-decoration-color: #7f7f7f\">               </span>\n",
       "<span style=\"color: #7fbfbf; text-decoration-color: #7fbfbf\">                    </span>         <span style=\"color: #0000ff; text-decoration-color: #0000ff; text-decoration: underline\">sh-exp:generateContent</span> <span style=\"color: #008000; text-decoration-color: #008000\">\"HTTP/1.1 200 OK\"</span>                               <span style=\"color: #7f7f7f; text-decoration-color: #7f7f7f\">               </span>\n",
       "</pre>\n"
      ],
      "text/plain": [
       "\u001b[2;36m                   \u001b[0m\u001b[2;36m \u001b[0m\u001b[34mINFO    \u001b[0m HTTP Request: \u001b[1;33mPOST\u001b[0m                                                     \u001b]8;id=209072;file:///opt/anaconda3/envs/sravan-yellhorn/lib/python3.11/site-packages/httpx/_client.py\u001b\\\u001b[2m_client.py\u001b[0m\u001b]8;;\u001b\\\u001b[2m:\u001b[0m\u001b]8;id=64613;file:///opt/anaconda3/envs/sravan-yellhorn/lib/python3.11/site-packages/httpx/_client.py#1740\u001b\\\u001b[2m1740\u001b[0m\u001b]8;;\u001b\\\n",
       "\u001b[2;36m                    \u001b[0m         \u001b[4;94mhttps://generativelanguage.googleapis.com/v1beta/models/gemini-2.0-fla\u001b[0m \u001b[2m               \u001b[0m\n",
       "\u001b[2;36m                    \u001b[0m         \u001b[4;94msh-exp:generateContent\u001b[0m \u001b[32m\"HTTP/1.1 200 OK\"\u001b[0m                               \u001b[2m               \u001b[0m\n"
      ]
     },
     "metadata": {},
     "output_type": "display_data"
    },
    {
     "data": {
      "text/html": [
       "<pre style=\"white-space:pre;overflow-x:auto;line-height:normal;font-family:Menlo,'DejaVu Sans Mono',consolas,'Courier New',monospace\"><span style=\"color: #7fbfbf; text-decoration-color: #7fbfbf\">                    </span><span style=\"color: #000080; text-decoration-color: #000080\">INFO    </span> AFC is enabled with max remote calls: <span style=\"color: #008080; text-decoration-color: #008080; font-weight: bold\">10</span>.                               <a href=\"file:///opt/anaconda3/envs/sravan-yellhorn/lib/python3.11/site-packages/google/genai/models.py\" target=\"_blank\"><span style=\"color: #7f7f7f; text-decoration-color: #7f7f7f\">models.py</span></a><span style=\"color: #7f7f7f; text-decoration-color: #7f7f7f\">:</span><a href=\"file:///opt/anaconda3/envs/sravan-yellhorn/lib/python3.11/site-packages/google/genai/models.py#7118\" target=\"_blank\"><span style=\"color: #7f7f7f; text-decoration-color: #7f7f7f\">7118</span></a>\n",
       "</pre>\n"
      ],
      "text/plain": [
       "\u001b[2;36m                   \u001b[0m\u001b[2;36m \u001b[0m\u001b[34mINFO    \u001b[0m AFC is enabled with max remote calls: \u001b[1;36m10\u001b[0m.                               \u001b]8;id=24402;file:///opt/anaconda3/envs/sravan-yellhorn/lib/python3.11/site-packages/google/genai/models.py\u001b\\\u001b[2mmodels.py\u001b[0m\u001b]8;;\u001b\\\u001b[2m:\u001b[0m\u001b]8;id=419139;file:///opt/anaconda3/envs/sravan-yellhorn/lib/python3.11/site-packages/google/genai/models.py#7118\u001b\\\u001b[2m7118\u001b[0m\u001b]8;;\u001b\\\n"
      ]
     },
     "metadata": {},
     "output_type": "display_data"
    },
    {
     "data": {
      "text/html": [
       "<pre style=\"white-space:pre;overflow-x:auto;line-height:normal;font-family:Menlo,'DejaVu Sans Mono',consolas,'Courier New',monospace\"><span style=\"color: #7fbfbf; text-decoration-color: #7fbfbf\">[07/12/25 21:32:25] </span><span style=\"color: #000080; text-decoration-color: #000080\">INFO    </span> HTTP Request: <span style=\"color: #808000; text-decoration-color: #808000; font-weight: bold\">POST</span>                                                     <a href=\"file:///opt/anaconda3/envs/sravan-yellhorn/lib/python3.11/site-packages/httpx/_client.py\" target=\"_blank\"><span style=\"color: #7f7f7f; text-decoration-color: #7f7f7f\">_client.py</span></a><span style=\"color: #7f7f7f; text-decoration-color: #7f7f7f\">:</span><a href=\"file:///opt/anaconda3/envs/sravan-yellhorn/lib/python3.11/site-packages/httpx/_client.py#1740\" target=\"_blank\"><span style=\"color: #7f7f7f; text-decoration-color: #7f7f7f\">1740</span></a>\n",
       "<span style=\"color: #7fbfbf; text-decoration-color: #7fbfbf\">                    </span>         <span style=\"color: #0000ff; text-decoration-color: #0000ff; text-decoration: underline\">https://generativelanguage.googleapis.com/v1beta/models/gemini-2.0-fla</span> <span style=\"color: #7f7f7f; text-decoration-color: #7f7f7f\">               </span>\n",
       "<span style=\"color: #7fbfbf; text-decoration-color: #7fbfbf\">                    </span>         <span style=\"color: #0000ff; text-decoration-color: #0000ff; text-decoration: underline\">sh-exp:generateContent</span> <span style=\"color: #008000; text-decoration-color: #008000\">\"HTTP/1.1 200 OK\"</span>                               <span style=\"color: #7f7f7f; text-decoration-color: #7f7f7f\">               </span>\n",
       "</pre>\n"
      ],
      "text/plain": [
       "\u001b[2;36m[07/12/25 21:32:25]\u001b[0m\u001b[2;36m \u001b[0m\u001b[34mINFO    \u001b[0m HTTP Request: \u001b[1;33mPOST\u001b[0m                                                     \u001b]8;id=109308;file:///opt/anaconda3/envs/sravan-yellhorn/lib/python3.11/site-packages/httpx/_client.py\u001b\\\u001b[2m_client.py\u001b[0m\u001b]8;;\u001b\\\u001b[2m:\u001b[0m\u001b]8;id=633626;file:///opt/anaconda3/envs/sravan-yellhorn/lib/python3.11/site-packages/httpx/_client.py#1740\u001b\\\u001b[2m1740\u001b[0m\u001b]8;;\u001b\\\n",
       "\u001b[2;36m                    \u001b[0m         \u001b[4;94mhttps://generativelanguage.googleapis.com/v1beta/models/gemini-2.0-fla\u001b[0m \u001b[2m               \u001b[0m\n",
       "\u001b[2;36m                    \u001b[0m         \u001b[4;94msh-exp:generateContent\u001b[0m \u001b[32m\"HTTP/1.1 200 OK\"\u001b[0m                               \u001b[2m               \u001b[0m\n"
      ]
     },
     "metadata": {},
     "output_type": "display_data"
    },
    {
     "data": {
      "text/html": [
       "<pre style=\"white-space:pre;overflow-x:auto;line-height:normal;font-family:Menlo,'DejaVu Sans Mono',consolas,'Courier New',monospace\"><span style=\"color: #7fbfbf; text-decoration-color: #7fbfbf\">                    </span><span style=\"color: #000080; text-decoration-color: #000080\">INFO    </span> AFC is enabled with max remote calls: <span style=\"color: #008080; text-decoration-color: #008080; font-weight: bold\">10</span>.                               <a href=\"file:///opt/anaconda3/envs/sravan-yellhorn/lib/python3.11/site-packages/google/genai/models.py\" target=\"_blank\"><span style=\"color: #7f7f7f; text-decoration-color: #7f7f7f\">models.py</span></a><span style=\"color: #7f7f7f; text-decoration-color: #7f7f7f\">:</span><a href=\"file:///opt/anaconda3/envs/sravan-yellhorn/lib/python3.11/site-packages/google/genai/models.py#7118\" target=\"_blank\"><span style=\"color: #7f7f7f; text-decoration-color: #7f7f7f\">7118</span></a>\n",
       "</pre>\n"
      ],
      "text/plain": [
       "\u001b[2;36m                   \u001b[0m\u001b[2;36m \u001b[0m\u001b[34mINFO    \u001b[0m AFC is enabled with max remote calls: \u001b[1;36m10\u001b[0m.                               \u001b]8;id=535186;file:///opt/anaconda3/envs/sravan-yellhorn/lib/python3.11/site-packages/google/genai/models.py\u001b\\\u001b[2mmodels.py\u001b[0m\u001b]8;;\u001b\\\u001b[2m:\u001b[0m\u001b]8;id=243823;file:///opt/anaconda3/envs/sravan-yellhorn/lib/python3.11/site-packages/google/genai/models.py#7118\u001b\\\u001b[2m7118\u001b[0m\u001b]8;;\u001b\\\n"
      ]
     },
     "metadata": {},
     "output_type": "display_data"
    },
    {
     "data": {
      "text/html": [
       "<pre style=\"white-space:pre;overflow-x:auto;line-height:normal;font-family:Menlo,'DejaVu Sans Mono',consolas,'Courier New',monospace\"><span style=\"color: #7fbfbf; text-decoration-color: #7fbfbf\">[07/12/25 21:32:26] </span><span style=\"color: #000080; text-decoration-color: #000080\">INFO    </span> HTTP Request: <span style=\"color: #808000; text-decoration-color: #808000; font-weight: bold\">POST</span>                                                     <a href=\"file:///opt/anaconda3/envs/sravan-yellhorn/lib/python3.11/site-packages/httpx/_client.py\" target=\"_blank\"><span style=\"color: #7f7f7f; text-decoration-color: #7f7f7f\">_client.py</span></a><span style=\"color: #7f7f7f; text-decoration-color: #7f7f7f\">:</span><a href=\"file:///opt/anaconda3/envs/sravan-yellhorn/lib/python3.11/site-packages/httpx/_client.py#1740\" target=\"_blank\"><span style=\"color: #7f7f7f; text-decoration-color: #7f7f7f\">1740</span></a>\n",
       "<span style=\"color: #7fbfbf; text-decoration-color: #7fbfbf\">                    </span>         <span style=\"color: #0000ff; text-decoration-color: #0000ff; text-decoration: underline\">https://generativelanguage.googleapis.com/v1beta/models/gemini-2.0-fla</span> <span style=\"color: #7f7f7f; text-decoration-color: #7f7f7f\">               </span>\n",
       "<span style=\"color: #7fbfbf; text-decoration-color: #7fbfbf\">                    </span>         <span style=\"color: #0000ff; text-decoration-color: #0000ff; text-decoration: underline\">sh-exp:generateContent</span> <span style=\"color: #008000; text-decoration-color: #008000\">\"HTTP/1.1 200 OK\"</span>                               <span style=\"color: #7f7f7f; text-decoration-color: #7f7f7f\">               </span>\n",
       "</pre>\n"
      ],
      "text/plain": [
       "\u001b[2;36m[07/12/25 21:32:26]\u001b[0m\u001b[2;36m \u001b[0m\u001b[34mINFO    \u001b[0m HTTP Request: \u001b[1;33mPOST\u001b[0m                                                     \u001b]8;id=29536;file:///opt/anaconda3/envs/sravan-yellhorn/lib/python3.11/site-packages/httpx/_client.py\u001b\\\u001b[2m_client.py\u001b[0m\u001b]8;;\u001b\\\u001b[2m:\u001b[0m\u001b]8;id=775244;file:///opt/anaconda3/envs/sravan-yellhorn/lib/python3.11/site-packages/httpx/_client.py#1740\u001b\\\u001b[2m1740\u001b[0m\u001b]8;;\u001b\\\n",
       "\u001b[2;36m                    \u001b[0m         \u001b[4;94mhttps://generativelanguage.googleapis.com/v1beta/models/gemini-2.0-fla\u001b[0m \u001b[2m               \u001b[0m\n",
       "\u001b[2;36m                    \u001b[0m         \u001b[4;94msh-exp:generateContent\u001b[0m \u001b[32m\"HTTP/1.1 200 OK\"\u001b[0m                               \u001b[2m               \u001b[0m\n"
      ]
     },
     "metadata": {},
     "output_type": "display_data"
    },
    {
     "data": {
      "text/html": [
       "<pre style=\"white-space:pre;overflow-x:auto;line-height:normal;font-family:Menlo,'DejaVu Sans Mono',consolas,'Courier New',monospace\"><span style=\"color: #7fbfbf; text-decoration-color: #7fbfbf\">                    </span><span style=\"color: #000080; text-decoration-color: #000080\">INFO    </span> AFC is enabled with max remote calls: <span style=\"color: #008080; text-decoration-color: #008080; font-weight: bold\">10</span>.                               <a href=\"file:///opt/anaconda3/envs/sravan-yellhorn/lib/python3.11/site-packages/google/genai/models.py\" target=\"_blank\"><span style=\"color: #7f7f7f; text-decoration-color: #7f7f7f\">models.py</span></a><span style=\"color: #7f7f7f; text-decoration-color: #7f7f7f\">:</span><a href=\"file:///opt/anaconda3/envs/sravan-yellhorn/lib/python3.11/site-packages/google/genai/models.py#7118\" target=\"_blank\"><span style=\"color: #7f7f7f; text-decoration-color: #7f7f7f\">7118</span></a>\n",
       "</pre>\n"
      ],
      "text/plain": [
       "\u001b[2;36m                   \u001b[0m\u001b[2;36m \u001b[0m\u001b[34mINFO    \u001b[0m AFC is enabled with max remote calls: \u001b[1;36m10\u001b[0m.                               \u001b]8;id=16592;file:///opt/anaconda3/envs/sravan-yellhorn/lib/python3.11/site-packages/google/genai/models.py\u001b\\\u001b[2mmodels.py\u001b[0m\u001b]8;;\u001b\\\u001b[2m:\u001b[0m\u001b]8;id=579973;file:///opt/anaconda3/envs/sravan-yellhorn/lib/python3.11/site-packages/google/genai/models.py#7118\u001b\\\u001b[2m7118\u001b[0m\u001b]8;;\u001b\\\n"
      ]
     },
     "metadata": {},
     "output_type": "display_data"
    },
    {
     "data": {
      "text/html": [
       "<pre style=\"white-space:pre;overflow-x:auto;line-height:normal;font-family:Menlo,'DejaVu Sans Mono',consolas,'Courier New',monospace\"><span style=\"color: #7fbfbf; text-decoration-color: #7fbfbf\">[07/12/25 21:32:27] </span><span style=\"color: #000080; text-decoration-color: #000080\">INFO    </span> HTTP Request: <span style=\"color: #808000; text-decoration-color: #808000; font-weight: bold\">POST</span>                                                     <a href=\"file:///opt/anaconda3/envs/sravan-yellhorn/lib/python3.11/site-packages/httpx/_client.py\" target=\"_blank\"><span style=\"color: #7f7f7f; text-decoration-color: #7f7f7f\">_client.py</span></a><span style=\"color: #7f7f7f; text-decoration-color: #7f7f7f\">:</span><a href=\"file:///opt/anaconda3/envs/sravan-yellhorn/lib/python3.11/site-packages/httpx/_client.py#1740\" target=\"_blank\"><span style=\"color: #7f7f7f; text-decoration-color: #7f7f7f\">1740</span></a>\n",
       "<span style=\"color: #7fbfbf; text-decoration-color: #7fbfbf\">                    </span>         <span style=\"color: #0000ff; text-decoration-color: #0000ff; text-decoration: underline\">https://generativelanguage.googleapis.com/v1beta/models/gemini-2.0-fla</span> <span style=\"color: #7f7f7f; text-decoration-color: #7f7f7f\">               </span>\n",
       "<span style=\"color: #7fbfbf; text-decoration-color: #7fbfbf\">                    </span>         <span style=\"color: #0000ff; text-decoration-color: #0000ff; text-decoration: underline\">sh-exp:generateContent</span> <span style=\"color: #008000; text-decoration-color: #008000\">\"HTTP/1.1 200 OK\"</span>                               <span style=\"color: #7f7f7f; text-decoration-color: #7f7f7f\">               </span>\n",
       "</pre>\n"
      ],
      "text/plain": [
       "\u001b[2;36m[07/12/25 21:32:27]\u001b[0m\u001b[2;36m \u001b[0m\u001b[34mINFO    \u001b[0m HTTP Request: \u001b[1;33mPOST\u001b[0m                                                     \u001b]8;id=128233;file:///opt/anaconda3/envs/sravan-yellhorn/lib/python3.11/site-packages/httpx/_client.py\u001b\\\u001b[2m_client.py\u001b[0m\u001b]8;;\u001b\\\u001b[2m:\u001b[0m\u001b]8;id=440991;file:///opt/anaconda3/envs/sravan-yellhorn/lib/python3.11/site-packages/httpx/_client.py#1740\u001b\\\u001b[2m1740\u001b[0m\u001b]8;;\u001b\\\n",
       "\u001b[2;36m                    \u001b[0m         \u001b[4;94mhttps://generativelanguage.googleapis.com/v1beta/models/gemini-2.0-fla\u001b[0m \u001b[2m               \u001b[0m\n",
       "\u001b[2;36m                    \u001b[0m         \u001b[4;94msh-exp:generateContent\u001b[0m \u001b[32m\"HTTP/1.1 200 OK\"\u001b[0m                               \u001b[2m               \u001b[0m\n"
      ]
     },
     "metadata": {},
     "output_type": "display_data"
    },
    {
     "data": {
      "text/html": [
       "<pre style=\"white-space:pre;overflow-x:auto;line-height:normal;font-family:Menlo,'DejaVu Sans Mono',consolas,'Courier New',monospace\"><span style=\"color: #7fbfbf; text-decoration-color: #7fbfbf\">                    </span><span style=\"color: #000080; text-decoration-color: #000080\">INFO    </span> AFC is enabled with max remote calls: <span style=\"color: #008080; text-decoration-color: #008080; font-weight: bold\">10</span>.                               <a href=\"file:///opt/anaconda3/envs/sravan-yellhorn/lib/python3.11/site-packages/google/genai/models.py\" target=\"_blank\"><span style=\"color: #7f7f7f; text-decoration-color: #7f7f7f\">models.py</span></a><span style=\"color: #7f7f7f; text-decoration-color: #7f7f7f\">:</span><a href=\"file:///opt/anaconda3/envs/sravan-yellhorn/lib/python3.11/site-packages/google/genai/models.py#7118\" target=\"_blank\"><span style=\"color: #7f7f7f; text-decoration-color: #7f7f7f\">7118</span></a>\n",
       "</pre>\n"
      ],
      "text/plain": [
       "\u001b[2;36m                   \u001b[0m\u001b[2;36m \u001b[0m\u001b[34mINFO    \u001b[0m AFC is enabled with max remote calls: \u001b[1;36m10\u001b[0m.                               \u001b]8;id=580691;file:///opt/anaconda3/envs/sravan-yellhorn/lib/python3.11/site-packages/google/genai/models.py\u001b\\\u001b[2mmodels.py\u001b[0m\u001b]8;;\u001b\\\u001b[2m:\u001b[0m\u001b]8;id=161892;file:///opt/anaconda3/envs/sravan-yellhorn/lib/python3.11/site-packages/google/genai/models.py#7118\u001b\\\u001b[2m7118\u001b[0m\u001b]8;;\u001b\\\n"
      ]
     },
     "metadata": {},
     "output_type": "display_data"
    },
    {
     "data": {
      "text/html": [
       "<pre style=\"white-space:pre;overflow-x:auto;line-height:normal;font-family:Menlo,'DejaVu Sans Mono',consolas,'Courier New',monospace\"><span style=\"color: #7fbfbf; text-decoration-color: #7fbfbf\">[07/12/25 21:32:28] </span><span style=\"color: #000080; text-decoration-color: #000080\">INFO    </span> HTTP Request: <span style=\"color: #808000; text-decoration-color: #808000; font-weight: bold\">POST</span>                                                     <a href=\"file:///opt/anaconda3/envs/sravan-yellhorn/lib/python3.11/site-packages/httpx/_client.py\" target=\"_blank\"><span style=\"color: #7f7f7f; text-decoration-color: #7f7f7f\">_client.py</span></a><span style=\"color: #7f7f7f; text-decoration-color: #7f7f7f\">:</span><a href=\"file:///opt/anaconda3/envs/sravan-yellhorn/lib/python3.11/site-packages/httpx/_client.py#1740\" target=\"_blank\"><span style=\"color: #7f7f7f; text-decoration-color: #7f7f7f\">1740</span></a>\n",
       "<span style=\"color: #7fbfbf; text-decoration-color: #7fbfbf\">                    </span>         <span style=\"color: #0000ff; text-decoration-color: #0000ff; text-decoration: underline\">https://generativelanguage.googleapis.com/v1beta/models/gemini-2.0-fla</span> <span style=\"color: #7f7f7f; text-decoration-color: #7f7f7f\">               </span>\n",
       "<span style=\"color: #7fbfbf; text-decoration-color: #7fbfbf\">                    </span>         <span style=\"color: #0000ff; text-decoration-color: #0000ff; text-decoration: underline\">sh-exp:generateContent</span> <span style=\"color: #008000; text-decoration-color: #008000\">\"HTTP/1.1 200 OK\"</span>                               <span style=\"color: #7f7f7f; text-decoration-color: #7f7f7f\">               </span>\n",
       "</pre>\n"
      ],
      "text/plain": [
       "\u001b[2;36m[07/12/25 21:32:28]\u001b[0m\u001b[2;36m \u001b[0m\u001b[34mINFO    \u001b[0m HTTP Request: \u001b[1;33mPOST\u001b[0m                                                     \u001b]8;id=473099;file:///opt/anaconda3/envs/sravan-yellhorn/lib/python3.11/site-packages/httpx/_client.py\u001b\\\u001b[2m_client.py\u001b[0m\u001b]8;;\u001b\\\u001b[2m:\u001b[0m\u001b]8;id=240993;file:///opt/anaconda3/envs/sravan-yellhorn/lib/python3.11/site-packages/httpx/_client.py#1740\u001b\\\u001b[2m1740\u001b[0m\u001b]8;;\u001b\\\n",
       "\u001b[2;36m                    \u001b[0m         \u001b[4;94mhttps://generativelanguage.googleapis.com/v1beta/models/gemini-2.0-fla\u001b[0m \u001b[2m               \u001b[0m\n",
       "\u001b[2;36m                    \u001b[0m         \u001b[4;94msh-exp:generateContent\u001b[0m \u001b[32m\"HTTP/1.1 200 OK\"\u001b[0m                               \u001b[2m               \u001b[0m\n"
      ]
     },
     "metadata": {},
     "output_type": "display_data"
    },
    {
     "data": {
      "text/html": [
       "<pre style=\"white-space:pre;overflow-x:auto;line-height:normal;font-family:Menlo,'DejaVu Sans Mono',consolas,'Courier New',monospace\"><span style=\"color: #7fbfbf; text-decoration-color: #7fbfbf\">                    </span><span style=\"color: #000080; text-decoration-color: #000080\">INFO    </span> AFC is enabled with max remote calls: <span style=\"color: #008080; text-decoration-color: #008080; font-weight: bold\">10</span>.                               <a href=\"file:///opt/anaconda3/envs/sravan-yellhorn/lib/python3.11/site-packages/google/genai/models.py\" target=\"_blank\"><span style=\"color: #7f7f7f; text-decoration-color: #7f7f7f\">models.py</span></a><span style=\"color: #7f7f7f; text-decoration-color: #7f7f7f\">:</span><a href=\"file:///opt/anaconda3/envs/sravan-yellhorn/lib/python3.11/site-packages/google/genai/models.py#7118\" target=\"_blank\"><span style=\"color: #7f7f7f; text-decoration-color: #7f7f7f\">7118</span></a>\n",
       "</pre>\n"
      ],
      "text/plain": [
       "\u001b[2;36m                   \u001b[0m\u001b[2;36m \u001b[0m\u001b[34mINFO    \u001b[0m AFC is enabled with max remote calls: \u001b[1;36m10\u001b[0m.                               \u001b]8;id=46872;file:///opt/anaconda3/envs/sravan-yellhorn/lib/python3.11/site-packages/google/genai/models.py\u001b\\\u001b[2mmodels.py\u001b[0m\u001b]8;;\u001b\\\u001b[2m:\u001b[0m\u001b]8;id=871388;file:///opt/anaconda3/envs/sravan-yellhorn/lib/python3.11/site-packages/google/genai/models.py#7118\u001b\\\u001b[2m7118\u001b[0m\u001b]8;;\u001b\\\n"
      ]
     },
     "metadata": {},
     "output_type": "display_data"
    },
    {
     "data": {
      "text/html": [
       "<pre style=\"white-space:pre;overflow-x:auto;line-height:normal;font-family:Menlo,'DejaVu Sans Mono',consolas,'Courier New',monospace\"><span style=\"color: #7fbfbf; text-decoration-color: #7fbfbf\">                    </span><span style=\"color: #000080; text-decoration-color: #000080\">INFO    </span> HTTP Request: <span style=\"color: #808000; text-decoration-color: #808000; font-weight: bold\">POST</span>                                                     <a href=\"file:///opt/anaconda3/envs/sravan-yellhorn/lib/python3.11/site-packages/httpx/_client.py\" target=\"_blank\"><span style=\"color: #7f7f7f; text-decoration-color: #7f7f7f\">_client.py</span></a><span style=\"color: #7f7f7f; text-decoration-color: #7f7f7f\">:</span><a href=\"file:///opt/anaconda3/envs/sravan-yellhorn/lib/python3.11/site-packages/httpx/_client.py#1740\" target=\"_blank\"><span style=\"color: #7f7f7f; text-decoration-color: #7f7f7f\">1740</span></a>\n",
       "<span style=\"color: #7fbfbf; text-decoration-color: #7fbfbf\">                    </span>         <span style=\"color: #0000ff; text-decoration-color: #0000ff; text-decoration: underline\">https://generativelanguage.googleapis.com/v1beta/models/gemini-2.0-fla</span> <span style=\"color: #7f7f7f; text-decoration-color: #7f7f7f\">               </span>\n",
       "<span style=\"color: #7fbfbf; text-decoration-color: #7fbfbf\">                    </span>         <span style=\"color: #0000ff; text-decoration-color: #0000ff; text-decoration: underline\">sh-exp:generateContent</span> <span style=\"color: #008000; text-decoration-color: #008000\">\"HTTP/1.1 200 OK\"</span>                               <span style=\"color: #7f7f7f; text-decoration-color: #7f7f7f\">               </span>\n",
       "</pre>\n"
      ],
      "text/plain": [
       "\u001b[2;36m                   \u001b[0m\u001b[2;36m \u001b[0m\u001b[34mINFO    \u001b[0m HTTP Request: \u001b[1;33mPOST\u001b[0m                                                     \u001b]8;id=585244;file:///opt/anaconda3/envs/sravan-yellhorn/lib/python3.11/site-packages/httpx/_client.py\u001b\\\u001b[2m_client.py\u001b[0m\u001b]8;;\u001b\\\u001b[2m:\u001b[0m\u001b]8;id=842235;file:///opt/anaconda3/envs/sravan-yellhorn/lib/python3.11/site-packages/httpx/_client.py#1740\u001b\\\u001b[2m1740\u001b[0m\u001b]8;;\u001b\\\n",
       "\u001b[2;36m                    \u001b[0m         \u001b[4;94mhttps://generativelanguage.googleapis.com/v1beta/models/gemini-2.0-fla\u001b[0m \u001b[2m               \u001b[0m\n",
       "\u001b[2;36m                    \u001b[0m         \u001b[4;94msh-exp:generateContent\u001b[0m \u001b[32m\"HTTP/1.1 200 OK\"\u001b[0m                               \u001b[2m               \u001b[0m\n"
      ]
     },
     "metadata": {},
     "output_type": "display_data"
    },
    {
     "data": {
      "text/html": [
       "<pre style=\"white-space:pre;overflow-x:auto;line-height:normal;font-family:Menlo,'DejaVu Sans Mono',consolas,'Courier New',monospace\"><span style=\"color: #7fbfbf; text-decoration-color: #7fbfbf\">                    </span><span style=\"color: #000080; text-decoration-color: #000080\">INFO    </span> AFC is enabled with max remote calls: <span style=\"color: #008080; text-decoration-color: #008080; font-weight: bold\">10</span>.                               <a href=\"file:///opt/anaconda3/envs/sravan-yellhorn/lib/python3.11/site-packages/google/genai/models.py\" target=\"_blank\"><span style=\"color: #7f7f7f; text-decoration-color: #7f7f7f\">models.py</span></a><span style=\"color: #7f7f7f; text-decoration-color: #7f7f7f\">:</span><a href=\"file:///opt/anaconda3/envs/sravan-yellhorn/lib/python3.11/site-packages/google/genai/models.py#7118\" target=\"_blank\"><span style=\"color: #7f7f7f; text-decoration-color: #7f7f7f\">7118</span></a>\n",
       "</pre>\n"
      ],
      "text/plain": [
       "\u001b[2;36m                   \u001b[0m\u001b[2;36m \u001b[0m\u001b[34mINFO    \u001b[0m AFC is enabled with max remote calls: \u001b[1;36m10\u001b[0m.                               \u001b]8;id=189153;file:///opt/anaconda3/envs/sravan-yellhorn/lib/python3.11/site-packages/google/genai/models.py\u001b\\\u001b[2mmodels.py\u001b[0m\u001b]8;;\u001b\\\u001b[2m:\u001b[0m\u001b]8;id=454683;file:///opt/anaconda3/envs/sravan-yellhorn/lib/python3.11/site-packages/google/genai/models.py#7118\u001b\\\u001b[2m7118\u001b[0m\u001b]8;;\u001b\\\n"
      ]
     },
     "metadata": {},
     "output_type": "display_data"
    },
    {
     "data": {
      "text/html": [
       "<pre style=\"white-space:pre;overflow-x:auto;line-height:normal;font-family:Menlo,'DejaVu Sans Mono',consolas,'Courier New',monospace\"><span style=\"color: #7fbfbf; text-decoration-color: #7fbfbf\">[07/12/25 21:32:29] </span><span style=\"color: #000080; text-decoration-color: #000080\">INFO    </span> HTTP Request: <span style=\"color: #808000; text-decoration-color: #808000; font-weight: bold\">POST</span>                                                     <a href=\"file:///opt/anaconda3/envs/sravan-yellhorn/lib/python3.11/site-packages/httpx/_client.py\" target=\"_blank\"><span style=\"color: #7f7f7f; text-decoration-color: #7f7f7f\">_client.py</span></a><span style=\"color: #7f7f7f; text-decoration-color: #7f7f7f\">:</span><a href=\"file:///opt/anaconda3/envs/sravan-yellhorn/lib/python3.11/site-packages/httpx/_client.py#1740\" target=\"_blank\"><span style=\"color: #7f7f7f; text-decoration-color: #7f7f7f\">1740</span></a>\n",
       "<span style=\"color: #7fbfbf; text-decoration-color: #7fbfbf\">                    </span>         <span style=\"color: #0000ff; text-decoration-color: #0000ff; text-decoration: underline\">https://generativelanguage.googleapis.com/v1beta/models/gemini-2.0-fla</span> <span style=\"color: #7f7f7f; text-decoration-color: #7f7f7f\">               </span>\n",
       "<span style=\"color: #7fbfbf; text-decoration-color: #7fbfbf\">                    </span>         <span style=\"color: #0000ff; text-decoration-color: #0000ff; text-decoration: underline\">sh-exp:generateContent</span> <span style=\"color: #008000; text-decoration-color: #008000\">\"HTTP/1.1 200 OK\"</span>                               <span style=\"color: #7f7f7f; text-decoration-color: #7f7f7f\">               </span>\n",
       "</pre>\n"
      ],
      "text/plain": [
       "\u001b[2;36m[07/12/25 21:32:29]\u001b[0m\u001b[2;36m \u001b[0m\u001b[34mINFO    \u001b[0m HTTP Request: \u001b[1;33mPOST\u001b[0m                                                     \u001b]8;id=176509;file:///opt/anaconda3/envs/sravan-yellhorn/lib/python3.11/site-packages/httpx/_client.py\u001b\\\u001b[2m_client.py\u001b[0m\u001b]8;;\u001b\\\u001b[2m:\u001b[0m\u001b]8;id=783146;file:///opt/anaconda3/envs/sravan-yellhorn/lib/python3.11/site-packages/httpx/_client.py#1740\u001b\\\u001b[2m1740\u001b[0m\u001b]8;;\u001b\\\n",
       "\u001b[2;36m                    \u001b[0m         \u001b[4;94mhttps://generativelanguage.googleapis.com/v1beta/models/gemini-2.0-fla\u001b[0m \u001b[2m               \u001b[0m\n",
       "\u001b[2;36m                    \u001b[0m         \u001b[4;94msh-exp:generateContent\u001b[0m \u001b[32m\"HTTP/1.1 200 OK\"\u001b[0m                               \u001b[2m               \u001b[0m\n"
      ]
     },
     "metadata": {},
     "output_type": "display_data"
    },
    {
     "data": {
      "text/html": [
       "<pre style=\"white-space:pre;overflow-x:auto;line-height:normal;font-family:Menlo,'DejaVu Sans Mono',consolas,'Courier New',monospace\"><span style=\"color: #7fbfbf; text-decoration-color: #7fbfbf\">                    </span><span style=\"color: #000080; text-decoration-color: #000080\">INFO    </span> AFC is enabled with max remote calls: <span style=\"color: #008080; text-decoration-color: #008080; font-weight: bold\">10</span>.                               <a href=\"file:///opt/anaconda3/envs/sravan-yellhorn/lib/python3.11/site-packages/google/genai/models.py\" target=\"_blank\"><span style=\"color: #7f7f7f; text-decoration-color: #7f7f7f\">models.py</span></a><span style=\"color: #7f7f7f; text-decoration-color: #7f7f7f\">:</span><a href=\"file:///opt/anaconda3/envs/sravan-yellhorn/lib/python3.11/site-packages/google/genai/models.py#7118\" target=\"_blank\"><span style=\"color: #7f7f7f; text-decoration-color: #7f7f7f\">7118</span></a>\n",
       "</pre>\n"
      ],
      "text/plain": [
       "\u001b[2;36m                   \u001b[0m\u001b[2;36m \u001b[0m\u001b[34mINFO    \u001b[0m AFC is enabled with max remote calls: \u001b[1;36m10\u001b[0m.                               \u001b]8;id=372634;file:///opt/anaconda3/envs/sravan-yellhorn/lib/python3.11/site-packages/google/genai/models.py\u001b\\\u001b[2mmodels.py\u001b[0m\u001b]8;;\u001b\\\u001b[2m:\u001b[0m\u001b]8;id=249955;file:///opt/anaconda3/envs/sravan-yellhorn/lib/python3.11/site-packages/google/genai/models.py#7118\u001b\\\u001b[2m7118\u001b[0m\u001b]8;;\u001b\\\n"
      ]
     },
     "metadata": {},
     "output_type": "display_data"
    },
    {
     "data": {
      "text/html": [
       "<pre style=\"white-space:pre;overflow-x:auto;line-height:normal;font-family:Menlo,'DejaVu Sans Mono',consolas,'Courier New',monospace\"><span style=\"color: #7fbfbf; text-decoration-color: #7fbfbf\">                    </span><span style=\"color: #000080; text-decoration-color: #000080\">INFO    </span> HTTP Request: <span style=\"color: #808000; text-decoration-color: #808000; font-weight: bold\">POST</span>                                                     <a href=\"file:///opt/anaconda3/envs/sravan-yellhorn/lib/python3.11/site-packages/httpx/_client.py\" target=\"_blank\"><span style=\"color: #7f7f7f; text-decoration-color: #7f7f7f\">_client.py</span></a><span style=\"color: #7f7f7f; text-decoration-color: #7f7f7f\">:</span><a href=\"file:///opt/anaconda3/envs/sravan-yellhorn/lib/python3.11/site-packages/httpx/_client.py#1740\" target=\"_blank\"><span style=\"color: #7f7f7f; text-decoration-color: #7f7f7f\">1740</span></a>\n",
       "<span style=\"color: #7fbfbf; text-decoration-color: #7fbfbf\">                    </span>         <span style=\"color: #0000ff; text-decoration-color: #0000ff; text-decoration: underline\">https://generativelanguage.googleapis.com/v1beta/models/gemini-2.0-fla</span> <span style=\"color: #7f7f7f; text-decoration-color: #7f7f7f\">               </span>\n",
       "<span style=\"color: #7fbfbf; text-decoration-color: #7fbfbf\">                    </span>         <span style=\"color: #0000ff; text-decoration-color: #0000ff; text-decoration: underline\">sh-exp:generateContent</span> <span style=\"color: #008000; text-decoration-color: #008000\">\"HTTP/1.1 429 Too Many Requests\"</span>                <span style=\"color: #7f7f7f; text-decoration-color: #7f7f7f\">               </span>\n",
       "</pre>\n"
      ],
      "text/plain": [
       "\u001b[2;36m                   \u001b[0m\u001b[2;36m \u001b[0m\u001b[34mINFO    \u001b[0m HTTP Request: \u001b[1;33mPOST\u001b[0m                                                     \u001b]8;id=443200;file:///opt/anaconda3/envs/sravan-yellhorn/lib/python3.11/site-packages/httpx/_client.py\u001b\\\u001b[2m_client.py\u001b[0m\u001b]8;;\u001b\\\u001b[2m:\u001b[0m\u001b]8;id=487209;file:///opt/anaconda3/envs/sravan-yellhorn/lib/python3.11/site-packages/httpx/_client.py#1740\u001b\\\u001b[2m1740\u001b[0m\u001b]8;;\u001b\\\n",
       "\u001b[2;36m                    \u001b[0m         \u001b[4;94mhttps://generativelanguage.googleapis.com/v1beta/models/gemini-2.0-fla\u001b[0m \u001b[2m               \u001b[0m\n",
       "\u001b[2;36m                    \u001b[0m         \u001b[4;94msh-exp:generateContent\u001b[0m \u001b[32m\"HTTP/1.1 429 Too Many Requests\"\u001b[0m                \u001b[2m               \u001b[0m\n"
      ]
     },
     "metadata": {},
     "output_type": "display_data"
    },
    {
     "data": {
      "text/html": [
       "<pre style=\"white-space:pre;overflow-x:auto;line-height:normal;font-family:Menlo,'DejaVu Sans Mono',consolas,'Courier New',monospace\"><span style=\"color: #7fbfbf; text-decoration-color: #7fbfbf\">                    </span><span style=\"color: #800000; text-decoration-color: #800000; font-weight: bold\">ERROR   </span> Gemini API call failed: <span style=\"color: #008080; text-decoration-color: #008080; font-weight: bold\">429</span> RESOURCE_EXHAUSTED. <span style=\"font-weight: bold\">{</span><span style=\"color: #008000; text-decoration-color: #008000\">'error'</span>: <span style=\"font-weight: bold\">{</span><span style=\"color: #008000; text-decoration-color: #008000\">'code'</span>:  <a href=\"file:///Users/sravanj/project_work/yellhorn-mcp/yellhorn_mcp/llm_manager.py\" target=\"_blank\"><span style=\"color: #7f7f7f; text-decoration-color: #7f7f7f\">llm_manager.py</span></a><span style=\"color: #7f7f7f; text-decoration-color: #7f7f7f\">:</span><a href=\"file:///Users/sravanj/project_work/yellhorn-mcp/yellhorn_mcp/llm_manager.py#658\" target=\"_blank\"><span style=\"color: #7f7f7f; text-decoration-color: #7f7f7f\">658</span></a>\n",
       "<span style=\"color: #7fbfbf; text-decoration-color: #7fbfbf\">                    </span>         <span style=\"color: #008080; text-decoration-color: #008080; font-weight: bold\">429</span>, <span style=\"color: #008000; text-decoration-color: #008000\">'message'</span>: <span style=\"color: #008000; text-decoration-color: #008000\">'You exceeded your current quota. Please migrate to</span> <span style=\"color: #7f7f7f; text-decoration-color: #7f7f7f\">                  </span>\n",
       "<span style=\"color: #7fbfbf; text-decoration-color: #7fbfbf\">                    </span>         <span style=\"color: #008000; text-decoration-color: #008000\">Gemini 2.0 Flash Preview (Image Generation) </span>                        <span style=\"color: #7f7f7f; text-decoration-color: #7f7f7f\">                  </span>\n",
       "<span style=\"color: #7fbfbf; text-decoration-color: #7fbfbf\">                    </span>         <span style=\"color: #008000; text-decoration-color: #008000\">(models/gemini-2.0-flash-preview-image-generation) for higher quota</span> <span style=\"color: #7f7f7f; text-decoration-color: #7f7f7f\">                  </span>\n",
       "<span style=\"color: #7fbfbf; text-decoration-color: #7fbfbf\">                    </span>         <span style=\"color: #008000; text-decoration-color: #008000\">limits. For more information on this error, head to: </span>               <span style=\"color: #7f7f7f; text-decoration-color: #7f7f7f\">                  </span>\n",
       "<span style=\"color: #7fbfbf; text-decoration-color: #7fbfbf\">                    </span>         <span style=\"color: #008000; text-decoration-color: #008000\">https://ai.google.dev/gemini-api/docs/rate-limits.'</span>, <span style=\"color: #008000; text-decoration-color: #008000\">'status'</span>:      <span style=\"color: #7f7f7f; text-decoration-color: #7f7f7f\">                  </span>\n",
       "<span style=\"color: #7fbfbf; text-decoration-color: #7fbfbf\">                    </span>         <span style=\"color: #008000; text-decoration-color: #008000\">'RESOURCE_EXHAUSTED'</span>, <span style=\"color: #008000; text-decoration-color: #008000\">'details'</span>: <span style=\"font-weight: bold\">[{</span><span style=\"color: #008000; text-decoration-color: #008000\">'@type'</span>:                         <span style=\"color: #7f7f7f; text-decoration-color: #7f7f7f\">                  </span>\n",
       "<span style=\"color: #7fbfbf; text-decoration-color: #7fbfbf\">                    </span>         <span style=\"color: #008000; text-decoration-color: #008000\">'type.googleapis.com/google.rpc.QuotaFailure'</span>, <span style=\"color: #008000; text-decoration-color: #008000\">'violations'</span>:        <span style=\"color: #7f7f7f; text-decoration-color: #7f7f7f\">                  </span>\n",
       "<span style=\"color: #7fbfbf; text-decoration-color: #7fbfbf\">                    </span>         <span style=\"font-weight: bold\">[{</span><span style=\"color: #008000; text-decoration-color: #008000\">'quotaMetric'</span>:                                                    <span style=\"color: #7f7f7f; text-decoration-color: #7f7f7f\">                  </span>\n",
       "<span style=\"color: #7fbfbf; text-decoration-color: #7fbfbf\">                    </span>         <span style=\"color: #008000; text-decoration-color: #008000\">'generativelanguage.googleapis.com/generate_requests_per_model'</span>,    <span style=\"color: #7f7f7f; text-decoration-color: #7f7f7f\">                  </span>\n",
       "<span style=\"color: #7fbfbf; text-decoration-color: #7fbfbf\">                    </span>         <span style=\"color: #008000; text-decoration-color: #008000\">'quotaId'</span>: <span style=\"color: #008000; text-decoration-color: #008000\">'GenerateRequestsPerMinutePerProjectPerModel'</span>,           <span style=\"color: #7f7f7f; text-decoration-color: #7f7f7f\">                  </span>\n",
       "<span style=\"color: #7fbfbf; text-decoration-color: #7fbfbf\">                    </span>         <span style=\"color: #008000; text-decoration-color: #008000\">'quotaDimensions'</span>: <span style=\"font-weight: bold\">{</span><span style=\"color: #008000; text-decoration-color: #008000\">'model'</span>: <span style=\"color: #008000; text-decoration-color: #008000\">'gemini-2.0-flash-exp'</span>, <span style=\"color: #008000; text-decoration-color: #008000\">'location'</span>:    <span style=\"color: #7f7f7f; text-decoration-color: #7f7f7f\">                  </span>\n",
       "<span style=\"color: #7fbfbf; text-decoration-color: #7fbfbf\">                    </span>         <span style=\"color: #008000; text-decoration-color: #008000\">'global'</span><span style=\"font-weight: bold\">}</span>, <span style=\"color: #008000; text-decoration-color: #008000\">'quotaValue'</span>: <span style=\"color: #008000; text-decoration-color: #008000\">'10'</span><span style=\"font-weight: bold\">}]}</span>, <span style=\"font-weight: bold\">{</span><span style=\"color: #008000; text-decoration-color: #008000\">'@type'</span>:                         <span style=\"color: #7f7f7f; text-decoration-color: #7f7f7f\">                  </span>\n",
       "<span style=\"color: #7fbfbf; text-decoration-color: #7fbfbf\">                    </span>         <span style=\"color: #008000; text-decoration-color: #008000\">'type.googleapis.com/google.rpc.Help'</span>, <span style=\"color: #008000; text-decoration-color: #008000\">'links'</span>: <span style=\"font-weight: bold\">[{</span><span style=\"color: #008000; text-decoration-color: #008000\">'description'</span>:    <span style=\"color: #7f7f7f; text-decoration-color: #7f7f7f\">                  </span>\n",
       "<span style=\"color: #7fbfbf; text-decoration-color: #7fbfbf\">                    </span>         <span style=\"color: #008000; text-decoration-color: #008000\">'Learn more about Gemini API quotas'</span>, <span style=\"color: #008000; text-decoration-color: #008000\">'url'</span>:                        <span style=\"color: #7f7f7f; text-decoration-color: #7f7f7f\">                  </span>\n",
       "<span style=\"color: #7fbfbf; text-decoration-color: #7fbfbf\">                    </span>         <span style=\"color: #008000; text-decoration-color: #008000\">'https://ai.google.dev/gemini-api/docs/rate-limits'</span><span style=\"font-weight: bold\">}]}</span>, <span style=\"font-weight: bold\">{</span><span style=\"color: #008000; text-decoration-color: #008000\">'@type'</span>:   <span style=\"color: #7f7f7f; text-decoration-color: #7f7f7f\">                  </span>\n",
       "<span style=\"color: #7fbfbf; text-decoration-color: #7fbfbf\">                    </span>         <span style=\"color: #008000; text-decoration-color: #008000\">'type.googleapis.com/google.rpc.RetryInfo'</span>, <span style=\"color: #008000; text-decoration-color: #008000\">'retryDelay'</span>: <span style=\"color: #008000; text-decoration-color: #008000\">'30s'</span><span style=\"font-weight: bold\">}]}}</span> <span style=\"color: #7f7f7f; text-decoration-color: #7f7f7f\">                  </span>\n",
       "</pre>\n"
      ],
      "text/plain": [
       "\u001b[2;36m                   \u001b[0m\u001b[2;36m \u001b[0m\u001b[1;31mERROR   \u001b[0m Gemini API call failed: \u001b[1;36m429\u001b[0m RESOURCE_EXHAUSTED. \u001b[1m{\u001b[0m\u001b[32m'error'\u001b[0m: \u001b[1m{\u001b[0m\u001b[32m'code'\u001b[0m:  \u001b]8;id=990363;file:///Users/sravanj/project_work/yellhorn-mcp/yellhorn_mcp/llm_manager.py\u001b\\\u001b[2mllm_manager.py\u001b[0m\u001b]8;;\u001b\\\u001b[2m:\u001b[0m\u001b]8;id=554806;file:///Users/sravanj/project_work/yellhorn-mcp/yellhorn_mcp/llm_manager.py#658\u001b\\\u001b[2m658\u001b[0m\u001b]8;;\u001b\\\n",
       "\u001b[2;36m                    \u001b[0m         \u001b[1;36m429\u001b[0m, \u001b[32m'message'\u001b[0m: \u001b[32m'You exceeded your current quota. Please migrate to\u001b[0m \u001b[2m                  \u001b[0m\n",
       "\u001b[2;36m                    \u001b[0m         \u001b[32mGemini 2.0 Flash Preview \u001b[0m\u001b[32m(\u001b[0m\u001b[32mImage Generation\u001b[0m\u001b[32m)\u001b[0m\u001b[32m \u001b[0m                        \u001b[2m                  \u001b[0m\n",
       "\u001b[2;36m                    \u001b[0m         \u001b[32m(\u001b[0m\u001b[32mmodels/gemini-2.0-flash-preview-image-generation\u001b[0m\u001b[32m)\u001b[0m\u001b[32m for higher quota\u001b[0m \u001b[2m                  \u001b[0m\n",
       "\u001b[2;36m                    \u001b[0m         \u001b[32mlimits. For more information on this error, head to: \u001b[0m               \u001b[2m                  \u001b[0m\n",
       "\u001b[2;36m                    \u001b[0m         \u001b[32mhttps://ai.google.dev/gemini-api/docs/rate-limits.'\u001b[0m, \u001b[32m'status'\u001b[0m:      \u001b[2m                  \u001b[0m\n",
       "\u001b[2;36m                    \u001b[0m         \u001b[32m'RESOURCE_EXHAUSTED'\u001b[0m, \u001b[32m'details'\u001b[0m: \u001b[1m[\u001b[0m\u001b[1m{\u001b[0m\u001b[32m'@type'\u001b[0m:                         \u001b[2m                  \u001b[0m\n",
       "\u001b[2;36m                    \u001b[0m         \u001b[32m'type.googleapis.com/google.rpc.QuotaFailure'\u001b[0m, \u001b[32m'violations'\u001b[0m:        \u001b[2m                  \u001b[0m\n",
       "\u001b[2;36m                    \u001b[0m         \u001b[1m[\u001b[0m\u001b[1m{\u001b[0m\u001b[32m'quotaMetric'\u001b[0m:                                                    \u001b[2m                  \u001b[0m\n",
       "\u001b[2;36m                    \u001b[0m         \u001b[32m'generativelanguage.googleapis.com/generate_requests_per_model'\u001b[0m,    \u001b[2m                  \u001b[0m\n",
       "\u001b[2;36m                    \u001b[0m         \u001b[32m'quotaId'\u001b[0m: \u001b[32m'GenerateRequestsPerMinutePerProjectPerModel'\u001b[0m,           \u001b[2m                  \u001b[0m\n",
       "\u001b[2;36m                    \u001b[0m         \u001b[32m'quotaDimensions'\u001b[0m: \u001b[1m{\u001b[0m\u001b[32m'model'\u001b[0m: \u001b[32m'gemini-2.0-flash-exp'\u001b[0m, \u001b[32m'location'\u001b[0m:    \u001b[2m                  \u001b[0m\n",
       "\u001b[2;36m                    \u001b[0m         \u001b[32m'global'\u001b[0m\u001b[1m}\u001b[0m, \u001b[32m'quotaValue'\u001b[0m: \u001b[32m'10'\u001b[0m\u001b[1m}\u001b[0m\u001b[1m]\u001b[0m\u001b[1m}\u001b[0m, \u001b[1m{\u001b[0m\u001b[32m'@type'\u001b[0m:                         \u001b[2m                  \u001b[0m\n",
       "\u001b[2;36m                    \u001b[0m         \u001b[32m'type.googleapis.com/google.rpc.Help'\u001b[0m, \u001b[32m'links'\u001b[0m: \u001b[1m[\u001b[0m\u001b[1m{\u001b[0m\u001b[32m'description'\u001b[0m:    \u001b[2m                  \u001b[0m\n",
       "\u001b[2;36m                    \u001b[0m         \u001b[32m'Learn more about Gemini API quotas'\u001b[0m, \u001b[32m'url'\u001b[0m:                        \u001b[2m                  \u001b[0m\n",
       "\u001b[2;36m                    \u001b[0m         \u001b[32m'https://ai.google.dev/gemini-api/docs/rate-limits'\u001b[0m\u001b[1m}\u001b[0m\u001b[1m]\u001b[0m\u001b[1m}\u001b[0m, \u001b[1m{\u001b[0m\u001b[32m'@type'\u001b[0m:   \u001b[2m                  \u001b[0m\n",
       "\u001b[2;36m                    \u001b[0m         \u001b[32m'type.googleapis.com/google.rpc.RetryInfo'\u001b[0m, \u001b[32m'retryDelay'\u001b[0m: \u001b[32m'30s'\u001b[0m\u001b[1m}\u001b[0m\u001b[1m]\u001b[0m\u001b[1m}\u001b[0m\u001b[1m}\u001b[0m \u001b[2m                  \u001b[0m\n"
      ]
     },
     "metadata": {},
     "output_type": "display_data"
    },
    {
     "data": {
      "text/html": [
       "<pre style=\"white-space:pre;overflow-x:auto;line-height:normal;font-family:Menlo,'DejaVu Sans Mono',consolas,'Courier New',monospace\"><span style=\"color: #7fbfbf; text-decoration-color: #7fbfbf\">                    </span><span style=\"color: #808000; text-decoration-color: #808000\">WARNING </span> Retrying _call_gemini after <span style=\"color: #008080; text-decoration-color: #008080; font-weight: bold\">0.1</span> seconds <span style=\"font-weight: bold\">(</span>attempt <span style=\"color: #008080; text-decoration-color: #008080; font-weight: bold\">1</span><span style=\"font-weight: bold\">)</span>: <span style=\"color: #008080; text-decoration-color: #008080; font-weight: bold\">429</span>             <a href=\"file:///Users/sravanj/project_work/yellhorn-mcp/yellhorn_mcp/llm_manager.py\" target=\"_blank\"><span style=\"color: #7f7f7f; text-decoration-color: #7f7f7f\">llm_manager.py</span></a><span style=\"color: #7f7f7f; text-decoration-color: #7f7f7f\">:</span><a href=\"file:///Users/sravanj/project_work/yellhorn-mcp/yellhorn_mcp/llm_manager.py#34\" target=\"_blank\"><span style=\"color: #7f7f7f; text-decoration-color: #7f7f7f\">34</span></a>\n",
       "<span style=\"color: #7fbfbf; text-decoration-color: #7fbfbf\">                    </span>         RESOURCE_EXHAUSTED. <span style=\"font-weight: bold\">{</span><span style=\"color: #008000; text-decoration-color: #008000\">'error'</span>: <span style=\"font-weight: bold\">{</span><span style=\"color: #008000; text-decoration-color: #008000\">'code'</span>: <span style=\"color: #008080; text-decoration-color: #008080; font-weight: bold\">429</span>, <span style=\"color: #008000; text-decoration-color: #008000\">'message'</span>: <span style=\"color: #008000; text-decoration-color: #008000\">'You exceeded</span> <span style=\"color: #7f7f7f; text-decoration-color: #7f7f7f\">                 </span>\n",
       "<span style=\"color: #7fbfbf; text-decoration-color: #7fbfbf\">                    </span>         <span style=\"color: #008000; text-decoration-color: #008000\">your current quota. Please migrate to Gemini 2.0 Flash Preview </span>      <span style=\"color: #7f7f7f; text-decoration-color: #7f7f7f\">                 </span>\n",
       "<span style=\"color: #7fbfbf; text-decoration-color: #7fbfbf\">                    </span>         <span style=\"color: #008000; text-decoration-color: #008000\">(Image Generation) </span>                                                  <span style=\"color: #7f7f7f; text-decoration-color: #7f7f7f\">                 </span>\n",
       "<span style=\"color: #7fbfbf; text-decoration-color: #7fbfbf\">                    </span>         <span style=\"color: #008000; text-decoration-color: #008000\">(models/gemini-2.0-flash-preview-image-generation) for higher quota </span> <span style=\"color: #7f7f7f; text-decoration-color: #7f7f7f\">                 </span>\n",
       "<span style=\"color: #7fbfbf; text-decoration-color: #7fbfbf\">                    </span>         <span style=\"color: #008000; text-decoration-color: #008000\">limits. For more information on this error, head to: </span>                <span style=\"color: #7f7f7f; text-decoration-color: #7f7f7f\">                 </span>\n",
       "<span style=\"color: #7fbfbf; text-decoration-color: #7fbfbf\">                    </span>         <span style=\"color: #008000; text-decoration-color: #008000\">https://ai.google.dev/gemini-api/docs/rate-limits.'</span>, <span style=\"color: #008000; text-decoration-color: #008000\">'status'</span>:       <span style=\"color: #7f7f7f; text-decoration-color: #7f7f7f\">                 </span>\n",
       "<span style=\"color: #7fbfbf; text-decoration-color: #7fbfbf\">                    </span>         <span style=\"color: #008000; text-decoration-color: #008000\">'RESOURCE_EXHAUSTED'</span>, <span style=\"color: #008000; text-decoration-color: #008000\">'details'</span>: <span style=\"font-weight: bold\">[{</span><span style=\"color: #008000; text-decoration-color: #008000\">'@type'</span>:                          <span style=\"color: #7f7f7f; text-decoration-color: #7f7f7f\">                 </span>\n",
       "<span style=\"color: #7fbfbf; text-decoration-color: #7fbfbf\">                    </span>         <span style=\"color: #008000; text-decoration-color: #008000\">'type.googleapis.com/google.rpc.QuotaFailure'</span>, <span style=\"color: #008000; text-decoration-color: #008000\">'violations'</span>:         <span style=\"color: #7f7f7f; text-decoration-color: #7f7f7f\">                 </span>\n",
       "<span style=\"color: #7fbfbf; text-decoration-color: #7fbfbf\">                    </span>         <span style=\"font-weight: bold\">[{</span><span style=\"color: #008000; text-decoration-color: #008000\">'quotaMetric'</span>:                                                     <span style=\"color: #7f7f7f; text-decoration-color: #7f7f7f\">                 </span>\n",
       "<span style=\"color: #7fbfbf; text-decoration-color: #7fbfbf\">                    </span>         <span style=\"color: #008000; text-decoration-color: #008000\">'generativelanguage.googleapis.com/generate_requests_per_model'</span>,     <span style=\"color: #7f7f7f; text-decoration-color: #7f7f7f\">                 </span>\n",
       "<span style=\"color: #7fbfbf; text-decoration-color: #7fbfbf\">                    </span>         <span style=\"color: #008000; text-decoration-color: #008000\">'quotaId'</span>: <span style=\"color: #008000; text-decoration-color: #008000\">'GenerateRequestsPerMinutePerProjectPerModel'</span>,            <span style=\"color: #7f7f7f; text-decoration-color: #7f7f7f\">                 </span>\n",
       "<span style=\"color: #7fbfbf; text-decoration-color: #7fbfbf\">                    </span>         <span style=\"color: #008000; text-decoration-color: #008000\">'quotaDimensions'</span>: <span style=\"font-weight: bold\">{</span><span style=\"color: #008000; text-decoration-color: #008000\">'model'</span>: <span style=\"color: #008000; text-decoration-color: #008000\">'gemini-2.0-flash-exp'</span>, <span style=\"color: #008000; text-decoration-color: #008000\">'location'</span>:     <span style=\"color: #7f7f7f; text-decoration-color: #7f7f7f\">                 </span>\n",
       "<span style=\"color: #7fbfbf; text-decoration-color: #7fbfbf\">                    </span>         <span style=\"color: #008000; text-decoration-color: #008000\">'global'</span><span style=\"font-weight: bold\">}</span>, <span style=\"color: #008000; text-decoration-color: #008000\">'quotaValue'</span>: <span style=\"color: #008000; text-decoration-color: #008000\">'10'</span><span style=\"font-weight: bold\">}]}</span>, <span style=\"font-weight: bold\">{</span><span style=\"color: #008000; text-decoration-color: #008000\">'@type'</span>:                          <span style=\"color: #7f7f7f; text-decoration-color: #7f7f7f\">                 </span>\n",
       "<span style=\"color: #7fbfbf; text-decoration-color: #7fbfbf\">                    </span>         <span style=\"color: #008000; text-decoration-color: #008000\">'type.googleapis.com/google.rpc.Help'</span>, <span style=\"color: #008000; text-decoration-color: #008000\">'links'</span>: <span style=\"font-weight: bold\">[{</span><span style=\"color: #008000; text-decoration-color: #008000\">'description'</span>:     <span style=\"color: #7f7f7f; text-decoration-color: #7f7f7f\">                 </span>\n",
       "<span style=\"color: #7fbfbf; text-decoration-color: #7fbfbf\">                    </span>         <span style=\"color: #008000; text-decoration-color: #008000\">'Learn more about Gemini API quotas'</span>, <span style=\"color: #008000; text-decoration-color: #008000\">'url'</span>:                         <span style=\"color: #7f7f7f; text-decoration-color: #7f7f7f\">                 </span>\n",
       "<span style=\"color: #7fbfbf; text-decoration-color: #7fbfbf\">                    </span>         <span style=\"color: #008000; text-decoration-color: #008000\">'https://ai.google.dev/gemini-api/docs/rate-limits'</span><span style=\"font-weight: bold\">}]}</span>, <span style=\"font-weight: bold\">{</span><span style=\"color: #008000; text-decoration-color: #008000\">'@type'</span>:    <span style=\"color: #7f7f7f; text-decoration-color: #7f7f7f\">                 </span>\n",
       "<span style=\"color: #7fbfbf; text-decoration-color: #7fbfbf\">                    </span>         <span style=\"color: #008000; text-decoration-color: #008000\">'type.googleapis.com/google.rpc.RetryInfo'</span>, <span style=\"color: #008000; text-decoration-color: #008000\">'retryDelay'</span>: <span style=\"color: #008000; text-decoration-color: #008000\">'30s'</span><span style=\"font-weight: bold\">}]}}</span>  <span style=\"color: #7f7f7f; text-decoration-color: #7f7f7f\">                 </span>\n",
       "</pre>\n"
      ],
      "text/plain": [
       "\u001b[2;36m                   \u001b[0m\u001b[2;36m \u001b[0m\u001b[33mWARNING \u001b[0m Retrying _call_gemini after \u001b[1;36m0.1\u001b[0m seconds \u001b[1m(\u001b[0mattempt \u001b[1;36m1\u001b[0m\u001b[1m)\u001b[0m: \u001b[1;36m429\u001b[0m             \u001b]8;id=624742;file:///Users/sravanj/project_work/yellhorn-mcp/yellhorn_mcp/llm_manager.py\u001b\\\u001b[2mllm_manager.py\u001b[0m\u001b]8;;\u001b\\\u001b[2m:\u001b[0m\u001b]8;id=316772;file:///Users/sravanj/project_work/yellhorn-mcp/yellhorn_mcp/llm_manager.py#34\u001b\\\u001b[2m34\u001b[0m\u001b]8;;\u001b\\\n",
       "\u001b[2;36m                    \u001b[0m         RESOURCE_EXHAUSTED. \u001b[1m{\u001b[0m\u001b[32m'error'\u001b[0m: \u001b[1m{\u001b[0m\u001b[32m'code'\u001b[0m: \u001b[1;36m429\u001b[0m, \u001b[32m'message'\u001b[0m: \u001b[32m'You exceeded\u001b[0m \u001b[2m                 \u001b[0m\n",
       "\u001b[2;36m                    \u001b[0m         \u001b[32myour current quota. Please migrate to Gemini 2.0 Flash Preview \u001b[0m      \u001b[2m                 \u001b[0m\n",
       "\u001b[2;36m                    \u001b[0m         \u001b[32m(\u001b[0m\u001b[32mImage Generation\u001b[0m\u001b[32m)\u001b[0m\u001b[32m \u001b[0m                                                  \u001b[2m                 \u001b[0m\n",
       "\u001b[2;36m                    \u001b[0m         \u001b[32m(\u001b[0m\u001b[32mmodels/gemini-2.0-flash-preview-image-generation\u001b[0m\u001b[32m)\u001b[0m\u001b[32m for higher quota \u001b[0m \u001b[2m                 \u001b[0m\n",
       "\u001b[2;36m                    \u001b[0m         \u001b[32mlimits. For more information on this error, head to: \u001b[0m                \u001b[2m                 \u001b[0m\n",
       "\u001b[2;36m                    \u001b[0m         \u001b[32mhttps://ai.google.dev/gemini-api/docs/rate-limits.'\u001b[0m, \u001b[32m'status'\u001b[0m:       \u001b[2m                 \u001b[0m\n",
       "\u001b[2;36m                    \u001b[0m         \u001b[32m'RESOURCE_EXHAUSTED'\u001b[0m, \u001b[32m'details'\u001b[0m: \u001b[1m[\u001b[0m\u001b[1m{\u001b[0m\u001b[32m'@type'\u001b[0m:                          \u001b[2m                 \u001b[0m\n",
       "\u001b[2;36m                    \u001b[0m         \u001b[32m'type.googleapis.com/google.rpc.QuotaFailure'\u001b[0m, \u001b[32m'violations'\u001b[0m:         \u001b[2m                 \u001b[0m\n",
       "\u001b[2;36m                    \u001b[0m         \u001b[1m[\u001b[0m\u001b[1m{\u001b[0m\u001b[32m'quotaMetric'\u001b[0m:                                                     \u001b[2m                 \u001b[0m\n",
       "\u001b[2;36m                    \u001b[0m         \u001b[32m'generativelanguage.googleapis.com/generate_requests_per_model'\u001b[0m,     \u001b[2m                 \u001b[0m\n",
       "\u001b[2;36m                    \u001b[0m         \u001b[32m'quotaId'\u001b[0m: \u001b[32m'GenerateRequestsPerMinutePerProjectPerModel'\u001b[0m,            \u001b[2m                 \u001b[0m\n",
       "\u001b[2;36m                    \u001b[0m         \u001b[32m'quotaDimensions'\u001b[0m: \u001b[1m{\u001b[0m\u001b[32m'model'\u001b[0m: \u001b[32m'gemini-2.0-flash-exp'\u001b[0m, \u001b[32m'location'\u001b[0m:     \u001b[2m                 \u001b[0m\n",
       "\u001b[2;36m                    \u001b[0m         \u001b[32m'global'\u001b[0m\u001b[1m}\u001b[0m, \u001b[32m'quotaValue'\u001b[0m: \u001b[32m'10'\u001b[0m\u001b[1m}\u001b[0m\u001b[1m]\u001b[0m\u001b[1m}\u001b[0m, \u001b[1m{\u001b[0m\u001b[32m'@type'\u001b[0m:                          \u001b[2m                 \u001b[0m\n",
       "\u001b[2;36m                    \u001b[0m         \u001b[32m'type.googleapis.com/google.rpc.Help'\u001b[0m, \u001b[32m'links'\u001b[0m: \u001b[1m[\u001b[0m\u001b[1m{\u001b[0m\u001b[32m'description'\u001b[0m:     \u001b[2m                 \u001b[0m\n",
       "\u001b[2;36m                    \u001b[0m         \u001b[32m'Learn more about Gemini API quotas'\u001b[0m, \u001b[32m'url'\u001b[0m:                         \u001b[2m                 \u001b[0m\n",
       "\u001b[2;36m                    \u001b[0m         \u001b[32m'https://ai.google.dev/gemini-api/docs/rate-limits'\u001b[0m\u001b[1m}\u001b[0m\u001b[1m]\u001b[0m\u001b[1m}\u001b[0m, \u001b[1m{\u001b[0m\u001b[32m'@type'\u001b[0m:    \u001b[2m                 \u001b[0m\n",
       "\u001b[2;36m                    \u001b[0m         \u001b[32m'type.googleapis.com/google.rpc.RetryInfo'\u001b[0m, \u001b[32m'retryDelay'\u001b[0m: \u001b[32m'30s'\u001b[0m\u001b[1m}\u001b[0m\u001b[1m]\u001b[0m\u001b[1m}\u001b[0m\u001b[1m}\u001b[0m  \u001b[2m                 \u001b[0m\n"
      ]
     },
     "metadata": {},
     "output_type": "display_data"
    },
    {
     "data": {
      "text/html": [
       "<pre style=\"white-space:pre;overflow-x:auto;line-height:normal;font-family:Menlo,'DejaVu Sans Mono',consolas,'Courier New',monospace\"><span style=\"color: #7fbfbf; text-decoration-color: #7fbfbf\">[07/12/25 21:32:33] </span><span style=\"color: #000080; text-decoration-color: #000080\">INFO    </span> AFC is enabled with max remote calls: <span style=\"color: #008080; text-decoration-color: #008080; font-weight: bold\">10</span>.                               <a href=\"file:///opt/anaconda3/envs/sravan-yellhorn/lib/python3.11/site-packages/google/genai/models.py\" target=\"_blank\"><span style=\"color: #7f7f7f; text-decoration-color: #7f7f7f\">models.py</span></a><span style=\"color: #7f7f7f; text-decoration-color: #7f7f7f\">:</span><a href=\"file:///opt/anaconda3/envs/sravan-yellhorn/lib/python3.11/site-packages/google/genai/models.py#7118\" target=\"_blank\"><span style=\"color: #7f7f7f; text-decoration-color: #7f7f7f\">7118</span></a>\n",
       "</pre>\n"
      ],
      "text/plain": [
       "\u001b[2;36m[07/12/25 21:32:33]\u001b[0m\u001b[2;36m \u001b[0m\u001b[34mINFO    \u001b[0m AFC is enabled with max remote calls: \u001b[1;36m10\u001b[0m.                               \u001b]8;id=286005;file:///opt/anaconda3/envs/sravan-yellhorn/lib/python3.11/site-packages/google/genai/models.py\u001b\\\u001b[2mmodels.py\u001b[0m\u001b]8;;\u001b\\\u001b[2m:\u001b[0m\u001b]8;id=55230;file:///opt/anaconda3/envs/sravan-yellhorn/lib/python3.11/site-packages/google/genai/models.py#7118\u001b\\\u001b[2m7118\u001b[0m\u001b]8;;\u001b\\\n"
      ]
     },
     "metadata": {},
     "output_type": "display_data"
    },
    {
     "data": {
      "text/html": [
       "<pre style=\"white-space:pre;overflow-x:auto;line-height:normal;font-family:Menlo,'DejaVu Sans Mono',consolas,'Courier New',monospace\"><span style=\"color: #7fbfbf; text-decoration-color: #7fbfbf\">                    </span><span style=\"color: #000080; text-decoration-color: #000080\">INFO    </span> HTTP Request: <span style=\"color: #808000; text-decoration-color: #808000; font-weight: bold\">POST</span>                                                     <a href=\"file:///opt/anaconda3/envs/sravan-yellhorn/lib/python3.11/site-packages/httpx/_client.py\" target=\"_blank\"><span style=\"color: #7f7f7f; text-decoration-color: #7f7f7f\">_client.py</span></a><span style=\"color: #7f7f7f; text-decoration-color: #7f7f7f\">:</span><a href=\"file:///opt/anaconda3/envs/sravan-yellhorn/lib/python3.11/site-packages/httpx/_client.py#1740\" target=\"_blank\"><span style=\"color: #7f7f7f; text-decoration-color: #7f7f7f\">1740</span></a>\n",
       "<span style=\"color: #7fbfbf; text-decoration-color: #7fbfbf\">                    </span>         <span style=\"color: #0000ff; text-decoration-color: #0000ff; text-decoration: underline\">https://generativelanguage.googleapis.com/v1beta/models/gemini-2.0-fla</span> <span style=\"color: #7f7f7f; text-decoration-color: #7f7f7f\">               </span>\n",
       "<span style=\"color: #7fbfbf; text-decoration-color: #7fbfbf\">                    </span>         <span style=\"color: #0000ff; text-decoration-color: #0000ff; text-decoration: underline\">sh-exp:generateContent</span> <span style=\"color: #008000; text-decoration-color: #008000\">\"HTTP/1.1 429 Too Many Requests\"</span>                <span style=\"color: #7f7f7f; text-decoration-color: #7f7f7f\">               </span>\n",
       "</pre>\n"
      ],
      "text/plain": [
       "\u001b[2;36m                   \u001b[0m\u001b[2;36m \u001b[0m\u001b[34mINFO    \u001b[0m HTTP Request: \u001b[1;33mPOST\u001b[0m                                                     \u001b]8;id=280468;file:///opt/anaconda3/envs/sravan-yellhorn/lib/python3.11/site-packages/httpx/_client.py\u001b\\\u001b[2m_client.py\u001b[0m\u001b]8;;\u001b\\\u001b[2m:\u001b[0m\u001b]8;id=75629;file:///opt/anaconda3/envs/sravan-yellhorn/lib/python3.11/site-packages/httpx/_client.py#1740\u001b\\\u001b[2m1740\u001b[0m\u001b]8;;\u001b\\\n",
       "\u001b[2;36m                    \u001b[0m         \u001b[4;94mhttps://generativelanguage.googleapis.com/v1beta/models/gemini-2.0-fla\u001b[0m \u001b[2m               \u001b[0m\n",
       "\u001b[2;36m                    \u001b[0m         \u001b[4;94msh-exp:generateContent\u001b[0m \u001b[32m\"HTTP/1.1 429 Too Many Requests\"\u001b[0m                \u001b[2m               \u001b[0m\n"
      ]
     },
     "metadata": {},
     "output_type": "display_data"
    },
    {
     "data": {
      "text/html": [
       "<pre style=\"white-space:pre;overflow-x:auto;line-height:normal;font-family:Menlo,'DejaVu Sans Mono',consolas,'Courier New',monospace\"><span style=\"color: #7fbfbf; text-decoration-color: #7fbfbf\">                    </span><span style=\"color: #800000; text-decoration-color: #800000; font-weight: bold\">ERROR   </span> Gemini API call failed: <span style=\"color: #008080; text-decoration-color: #008080; font-weight: bold\">429</span> RESOURCE_EXHAUSTED. <span style=\"font-weight: bold\">{</span><span style=\"color: #008000; text-decoration-color: #008000\">'error'</span>: <span style=\"font-weight: bold\">{</span><span style=\"color: #008000; text-decoration-color: #008000\">'code'</span>:  <a href=\"file:///Users/sravanj/project_work/yellhorn-mcp/yellhorn_mcp/llm_manager.py\" target=\"_blank\"><span style=\"color: #7f7f7f; text-decoration-color: #7f7f7f\">llm_manager.py</span></a><span style=\"color: #7f7f7f; text-decoration-color: #7f7f7f\">:</span><a href=\"file:///Users/sravanj/project_work/yellhorn-mcp/yellhorn_mcp/llm_manager.py#658\" target=\"_blank\"><span style=\"color: #7f7f7f; text-decoration-color: #7f7f7f\">658</span></a>\n",
       "<span style=\"color: #7fbfbf; text-decoration-color: #7fbfbf\">                    </span>         <span style=\"color: #008080; text-decoration-color: #008080; font-weight: bold\">429</span>, <span style=\"color: #008000; text-decoration-color: #008000\">'message'</span>: <span style=\"color: #008000; text-decoration-color: #008000\">'You exceeded your current quota. Please migrate to</span> <span style=\"color: #7f7f7f; text-decoration-color: #7f7f7f\">                  </span>\n",
       "<span style=\"color: #7fbfbf; text-decoration-color: #7fbfbf\">                    </span>         <span style=\"color: #008000; text-decoration-color: #008000\">Gemini 2.0 Flash Preview (Image Generation) </span>                        <span style=\"color: #7f7f7f; text-decoration-color: #7f7f7f\">                  </span>\n",
       "<span style=\"color: #7fbfbf; text-decoration-color: #7fbfbf\">                    </span>         <span style=\"color: #008000; text-decoration-color: #008000\">(models/gemini-2.0-flash-preview-image-generation) for higher quota</span> <span style=\"color: #7f7f7f; text-decoration-color: #7f7f7f\">                  </span>\n",
       "<span style=\"color: #7fbfbf; text-decoration-color: #7fbfbf\">                    </span>         <span style=\"color: #008000; text-decoration-color: #008000\">limits. For more information on this error, head to: </span>               <span style=\"color: #7f7f7f; text-decoration-color: #7f7f7f\">                  </span>\n",
       "<span style=\"color: #7fbfbf; text-decoration-color: #7fbfbf\">                    </span>         <span style=\"color: #008000; text-decoration-color: #008000\">https://ai.google.dev/gemini-api/docs/rate-limits.'</span>, <span style=\"color: #008000; text-decoration-color: #008000\">'status'</span>:      <span style=\"color: #7f7f7f; text-decoration-color: #7f7f7f\">                  </span>\n",
       "<span style=\"color: #7fbfbf; text-decoration-color: #7fbfbf\">                    </span>         <span style=\"color: #008000; text-decoration-color: #008000\">'RESOURCE_EXHAUSTED'</span>, <span style=\"color: #008000; text-decoration-color: #008000\">'details'</span>: <span style=\"font-weight: bold\">[{</span><span style=\"color: #008000; text-decoration-color: #008000\">'@type'</span>:                         <span style=\"color: #7f7f7f; text-decoration-color: #7f7f7f\">                  </span>\n",
       "<span style=\"color: #7fbfbf; text-decoration-color: #7fbfbf\">                    </span>         <span style=\"color: #008000; text-decoration-color: #008000\">'type.googleapis.com/google.rpc.QuotaFailure'</span>, <span style=\"color: #008000; text-decoration-color: #008000\">'violations'</span>:        <span style=\"color: #7f7f7f; text-decoration-color: #7f7f7f\">                  </span>\n",
       "<span style=\"color: #7fbfbf; text-decoration-color: #7fbfbf\">                    </span>         <span style=\"font-weight: bold\">[{</span><span style=\"color: #008000; text-decoration-color: #008000\">'quotaMetric'</span>:                                                    <span style=\"color: #7f7f7f; text-decoration-color: #7f7f7f\">                  </span>\n",
       "<span style=\"color: #7fbfbf; text-decoration-color: #7fbfbf\">                    </span>         <span style=\"color: #008000; text-decoration-color: #008000\">'generativelanguage.googleapis.com/generate_requests_per_model'</span>,    <span style=\"color: #7f7f7f; text-decoration-color: #7f7f7f\">                  </span>\n",
       "<span style=\"color: #7fbfbf; text-decoration-color: #7fbfbf\">                    </span>         <span style=\"color: #008000; text-decoration-color: #008000\">'quotaId'</span>: <span style=\"color: #008000; text-decoration-color: #008000\">'GenerateRequestsPerMinutePerProjectPerModel'</span>,           <span style=\"color: #7f7f7f; text-decoration-color: #7f7f7f\">                  </span>\n",
       "<span style=\"color: #7fbfbf; text-decoration-color: #7fbfbf\">                    </span>         <span style=\"color: #008000; text-decoration-color: #008000\">'quotaDimensions'</span>: <span style=\"font-weight: bold\">{</span><span style=\"color: #008000; text-decoration-color: #008000\">'model'</span>: <span style=\"color: #008000; text-decoration-color: #008000\">'gemini-2.0-flash-exp'</span>, <span style=\"color: #008000; text-decoration-color: #008000\">'location'</span>:    <span style=\"color: #7f7f7f; text-decoration-color: #7f7f7f\">                  </span>\n",
       "<span style=\"color: #7fbfbf; text-decoration-color: #7fbfbf\">                    </span>         <span style=\"color: #008000; text-decoration-color: #008000\">'global'</span><span style=\"font-weight: bold\">}</span>, <span style=\"color: #008000; text-decoration-color: #008000\">'quotaValue'</span>: <span style=\"color: #008000; text-decoration-color: #008000\">'10'</span><span style=\"font-weight: bold\">}]}</span>, <span style=\"font-weight: bold\">{</span><span style=\"color: #008000; text-decoration-color: #008000\">'@type'</span>:                         <span style=\"color: #7f7f7f; text-decoration-color: #7f7f7f\">                  </span>\n",
       "<span style=\"color: #7fbfbf; text-decoration-color: #7fbfbf\">                    </span>         <span style=\"color: #008000; text-decoration-color: #008000\">'type.googleapis.com/google.rpc.Help'</span>, <span style=\"color: #008000; text-decoration-color: #008000\">'links'</span>: <span style=\"font-weight: bold\">[{</span><span style=\"color: #008000; text-decoration-color: #008000\">'description'</span>:    <span style=\"color: #7f7f7f; text-decoration-color: #7f7f7f\">                  </span>\n",
       "<span style=\"color: #7fbfbf; text-decoration-color: #7fbfbf\">                    </span>         <span style=\"color: #008000; text-decoration-color: #008000\">'Learn more about Gemini API quotas'</span>, <span style=\"color: #008000; text-decoration-color: #008000\">'url'</span>:                        <span style=\"color: #7f7f7f; text-decoration-color: #7f7f7f\">                  </span>\n",
       "<span style=\"color: #7fbfbf; text-decoration-color: #7fbfbf\">                    </span>         <span style=\"color: #008000; text-decoration-color: #008000\">'https://ai.google.dev/gemini-api/docs/rate-limits'</span><span style=\"font-weight: bold\">}]}</span>, <span style=\"font-weight: bold\">{</span><span style=\"color: #008000; text-decoration-color: #008000\">'@type'</span>:   <span style=\"color: #7f7f7f; text-decoration-color: #7f7f7f\">                  </span>\n",
       "<span style=\"color: #7fbfbf; text-decoration-color: #7fbfbf\">                    </span>         <span style=\"color: #008000; text-decoration-color: #008000\">'type.googleapis.com/google.rpc.RetryInfo'</span>, <span style=\"color: #008000; text-decoration-color: #008000\">'retryDelay'</span>: <span style=\"color: #008000; text-decoration-color: #008000\">'26s'</span><span style=\"font-weight: bold\">}]}}</span> <span style=\"color: #7f7f7f; text-decoration-color: #7f7f7f\">                  </span>\n",
       "</pre>\n"
      ],
      "text/plain": [
       "\u001b[2;36m                   \u001b[0m\u001b[2;36m \u001b[0m\u001b[1;31mERROR   \u001b[0m Gemini API call failed: \u001b[1;36m429\u001b[0m RESOURCE_EXHAUSTED. \u001b[1m{\u001b[0m\u001b[32m'error'\u001b[0m: \u001b[1m{\u001b[0m\u001b[32m'code'\u001b[0m:  \u001b]8;id=510454;file:///Users/sravanj/project_work/yellhorn-mcp/yellhorn_mcp/llm_manager.py\u001b\\\u001b[2mllm_manager.py\u001b[0m\u001b]8;;\u001b\\\u001b[2m:\u001b[0m\u001b]8;id=280749;file:///Users/sravanj/project_work/yellhorn-mcp/yellhorn_mcp/llm_manager.py#658\u001b\\\u001b[2m658\u001b[0m\u001b]8;;\u001b\\\n",
       "\u001b[2;36m                    \u001b[0m         \u001b[1;36m429\u001b[0m, \u001b[32m'message'\u001b[0m: \u001b[32m'You exceeded your current quota. Please migrate to\u001b[0m \u001b[2m                  \u001b[0m\n",
       "\u001b[2;36m                    \u001b[0m         \u001b[32mGemini 2.0 Flash Preview \u001b[0m\u001b[32m(\u001b[0m\u001b[32mImage Generation\u001b[0m\u001b[32m)\u001b[0m\u001b[32m \u001b[0m                        \u001b[2m                  \u001b[0m\n",
       "\u001b[2;36m                    \u001b[0m         \u001b[32m(\u001b[0m\u001b[32mmodels/gemini-2.0-flash-preview-image-generation\u001b[0m\u001b[32m)\u001b[0m\u001b[32m for higher quota\u001b[0m \u001b[2m                  \u001b[0m\n",
       "\u001b[2;36m                    \u001b[0m         \u001b[32mlimits. For more information on this error, head to: \u001b[0m               \u001b[2m                  \u001b[0m\n",
       "\u001b[2;36m                    \u001b[0m         \u001b[32mhttps://ai.google.dev/gemini-api/docs/rate-limits.'\u001b[0m, \u001b[32m'status'\u001b[0m:      \u001b[2m                  \u001b[0m\n",
       "\u001b[2;36m                    \u001b[0m         \u001b[32m'RESOURCE_EXHAUSTED'\u001b[0m, \u001b[32m'details'\u001b[0m: \u001b[1m[\u001b[0m\u001b[1m{\u001b[0m\u001b[32m'@type'\u001b[0m:                         \u001b[2m                  \u001b[0m\n",
       "\u001b[2;36m                    \u001b[0m         \u001b[32m'type.googleapis.com/google.rpc.QuotaFailure'\u001b[0m, \u001b[32m'violations'\u001b[0m:        \u001b[2m                  \u001b[0m\n",
       "\u001b[2;36m                    \u001b[0m         \u001b[1m[\u001b[0m\u001b[1m{\u001b[0m\u001b[32m'quotaMetric'\u001b[0m:                                                    \u001b[2m                  \u001b[0m\n",
       "\u001b[2;36m                    \u001b[0m         \u001b[32m'generativelanguage.googleapis.com/generate_requests_per_model'\u001b[0m,    \u001b[2m                  \u001b[0m\n",
       "\u001b[2;36m                    \u001b[0m         \u001b[32m'quotaId'\u001b[0m: \u001b[32m'GenerateRequestsPerMinutePerProjectPerModel'\u001b[0m,           \u001b[2m                  \u001b[0m\n",
       "\u001b[2;36m                    \u001b[0m         \u001b[32m'quotaDimensions'\u001b[0m: \u001b[1m{\u001b[0m\u001b[32m'model'\u001b[0m: \u001b[32m'gemini-2.0-flash-exp'\u001b[0m, \u001b[32m'location'\u001b[0m:    \u001b[2m                  \u001b[0m\n",
       "\u001b[2;36m                    \u001b[0m         \u001b[32m'global'\u001b[0m\u001b[1m}\u001b[0m, \u001b[32m'quotaValue'\u001b[0m: \u001b[32m'10'\u001b[0m\u001b[1m}\u001b[0m\u001b[1m]\u001b[0m\u001b[1m}\u001b[0m, \u001b[1m{\u001b[0m\u001b[32m'@type'\u001b[0m:                         \u001b[2m                  \u001b[0m\n",
       "\u001b[2;36m                    \u001b[0m         \u001b[32m'type.googleapis.com/google.rpc.Help'\u001b[0m, \u001b[32m'links'\u001b[0m: \u001b[1m[\u001b[0m\u001b[1m{\u001b[0m\u001b[32m'description'\u001b[0m:    \u001b[2m                  \u001b[0m\n",
       "\u001b[2;36m                    \u001b[0m         \u001b[32m'Learn more about Gemini API quotas'\u001b[0m, \u001b[32m'url'\u001b[0m:                        \u001b[2m                  \u001b[0m\n",
       "\u001b[2;36m                    \u001b[0m         \u001b[32m'https://ai.google.dev/gemini-api/docs/rate-limits'\u001b[0m\u001b[1m}\u001b[0m\u001b[1m]\u001b[0m\u001b[1m}\u001b[0m, \u001b[1m{\u001b[0m\u001b[32m'@type'\u001b[0m:   \u001b[2m                  \u001b[0m\n",
       "\u001b[2;36m                    \u001b[0m         \u001b[32m'type.googleapis.com/google.rpc.RetryInfo'\u001b[0m, \u001b[32m'retryDelay'\u001b[0m: \u001b[32m'26s'\u001b[0m\u001b[1m}\u001b[0m\u001b[1m]\u001b[0m\u001b[1m}\u001b[0m\u001b[1m}\u001b[0m \u001b[2m                  \u001b[0m\n"
      ]
     },
     "metadata": {},
     "output_type": "display_data"
    },
    {
     "data": {
      "text/html": [
       "<pre style=\"white-space:pre;overflow-x:auto;line-height:normal;font-family:Menlo,'DejaVu Sans Mono',consolas,'Courier New',monospace\"><span style=\"color: #7fbfbf; text-decoration-color: #7fbfbf\">                    </span><span style=\"color: #808000; text-decoration-color: #808000\">WARNING </span> Retrying _call_gemini after <span style=\"color: #008080; text-decoration-color: #008080; font-weight: bold\">4.2</span> seconds <span style=\"font-weight: bold\">(</span>attempt <span style=\"color: #008080; text-decoration-color: #008080; font-weight: bold\">2</span><span style=\"font-weight: bold\">)</span>: <span style=\"color: #008080; text-decoration-color: #008080; font-weight: bold\">429</span>             <a href=\"file:///Users/sravanj/project_work/yellhorn-mcp/yellhorn_mcp/llm_manager.py\" target=\"_blank\"><span style=\"color: #7f7f7f; text-decoration-color: #7f7f7f\">llm_manager.py</span></a><span style=\"color: #7f7f7f; text-decoration-color: #7f7f7f\">:</span><a href=\"file:///Users/sravanj/project_work/yellhorn-mcp/yellhorn_mcp/llm_manager.py#34\" target=\"_blank\"><span style=\"color: #7f7f7f; text-decoration-color: #7f7f7f\">34</span></a>\n",
       "<span style=\"color: #7fbfbf; text-decoration-color: #7fbfbf\">                    </span>         RESOURCE_EXHAUSTED. <span style=\"font-weight: bold\">{</span><span style=\"color: #008000; text-decoration-color: #008000\">'error'</span>: <span style=\"font-weight: bold\">{</span><span style=\"color: #008000; text-decoration-color: #008000\">'code'</span>: <span style=\"color: #008080; text-decoration-color: #008080; font-weight: bold\">429</span>, <span style=\"color: #008000; text-decoration-color: #008000\">'message'</span>: <span style=\"color: #008000; text-decoration-color: #008000\">'You exceeded</span> <span style=\"color: #7f7f7f; text-decoration-color: #7f7f7f\">                 </span>\n",
       "<span style=\"color: #7fbfbf; text-decoration-color: #7fbfbf\">                    </span>         <span style=\"color: #008000; text-decoration-color: #008000\">your current quota. Please migrate to Gemini 2.0 Flash Preview </span>      <span style=\"color: #7f7f7f; text-decoration-color: #7f7f7f\">                 </span>\n",
       "<span style=\"color: #7fbfbf; text-decoration-color: #7fbfbf\">                    </span>         <span style=\"color: #008000; text-decoration-color: #008000\">(Image Generation) </span>                                                  <span style=\"color: #7f7f7f; text-decoration-color: #7f7f7f\">                 </span>\n",
       "<span style=\"color: #7fbfbf; text-decoration-color: #7fbfbf\">                    </span>         <span style=\"color: #008000; text-decoration-color: #008000\">(models/gemini-2.0-flash-preview-image-generation) for higher quota </span> <span style=\"color: #7f7f7f; text-decoration-color: #7f7f7f\">                 </span>\n",
       "<span style=\"color: #7fbfbf; text-decoration-color: #7fbfbf\">                    </span>         <span style=\"color: #008000; text-decoration-color: #008000\">limits. For more information on this error, head to: </span>                <span style=\"color: #7f7f7f; text-decoration-color: #7f7f7f\">                 </span>\n",
       "<span style=\"color: #7fbfbf; text-decoration-color: #7fbfbf\">                    </span>         <span style=\"color: #008000; text-decoration-color: #008000\">https://ai.google.dev/gemini-api/docs/rate-limits.'</span>, <span style=\"color: #008000; text-decoration-color: #008000\">'status'</span>:       <span style=\"color: #7f7f7f; text-decoration-color: #7f7f7f\">                 </span>\n",
       "<span style=\"color: #7fbfbf; text-decoration-color: #7fbfbf\">                    </span>         <span style=\"color: #008000; text-decoration-color: #008000\">'RESOURCE_EXHAUSTED'</span>, <span style=\"color: #008000; text-decoration-color: #008000\">'details'</span>: <span style=\"font-weight: bold\">[{</span><span style=\"color: #008000; text-decoration-color: #008000\">'@type'</span>:                          <span style=\"color: #7f7f7f; text-decoration-color: #7f7f7f\">                 </span>\n",
       "<span style=\"color: #7fbfbf; text-decoration-color: #7fbfbf\">                    </span>         <span style=\"color: #008000; text-decoration-color: #008000\">'type.googleapis.com/google.rpc.QuotaFailure'</span>, <span style=\"color: #008000; text-decoration-color: #008000\">'violations'</span>:         <span style=\"color: #7f7f7f; text-decoration-color: #7f7f7f\">                 </span>\n",
       "<span style=\"color: #7fbfbf; text-decoration-color: #7fbfbf\">                    </span>         <span style=\"font-weight: bold\">[{</span><span style=\"color: #008000; text-decoration-color: #008000\">'quotaMetric'</span>:                                                     <span style=\"color: #7f7f7f; text-decoration-color: #7f7f7f\">                 </span>\n",
       "<span style=\"color: #7fbfbf; text-decoration-color: #7fbfbf\">                    </span>         <span style=\"color: #008000; text-decoration-color: #008000\">'generativelanguage.googleapis.com/generate_requests_per_model'</span>,     <span style=\"color: #7f7f7f; text-decoration-color: #7f7f7f\">                 </span>\n",
       "<span style=\"color: #7fbfbf; text-decoration-color: #7fbfbf\">                    </span>         <span style=\"color: #008000; text-decoration-color: #008000\">'quotaId'</span>: <span style=\"color: #008000; text-decoration-color: #008000\">'GenerateRequestsPerMinutePerProjectPerModel'</span>,            <span style=\"color: #7f7f7f; text-decoration-color: #7f7f7f\">                 </span>\n",
       "<span style=\"color: #7fbfbf; text-decoration-color: #7fbfbf\">                    </span>         <span style=\"color: #008000; text-decoration-color: #008000\">'quotaDimensions'</span>: <span style=\"font-weight: bold\">{</span><span style=\"color: #008000; text-decoration-color: #008000\">'model'</span>: <span style=\"color: #008000; text-decoration-color: #008000\">'gemini-2.0-flash-exp'</span>, <span style=\"color: #008000; text-decoration-color: #008000\">'location'</span>:     <span style=\"color: #7f7f7f; text-decoration-color: #7f7f7f\">                 </span>\n",
       "<span style=\"color: #7fbfbf; text-decoration-color: #7fbfbf\">                    </span>         <span style=\"color: #008000; text-decoration-color: #008000\">'global'</span><span style=\"font-weight: bold\">}</span>, <span style=\"color: #008000; text-decoration-color: #008000\">'quotaValue'</span>: <span style=\"color: #008000; text-decoration-color: #008000\">'10'</span><span style=\"font-weight: bold\">}]}</span>, <span style=\"font-weight: bold\">{</span><span style=\"color: #008000; text-decoration-color: #008000\">'@type'</span>:                          <span style=\"color: #7f7f7f; text-decoration-color: #7f7f7f\">                 </span>\n",
       "<span style=\"color: #7fbfbf; text-decoration-color: #7fbfbf\">                    </span>         <span style=\"color: #008000; text-decoration-color: #008000\">'type.googleapis.com/google.rpc.Help'</span>, <span style=\"color: #008000; text-decoration-color: #008000\">'links'</span>: <span style=\"font-weight: bold\">[{</span><span style=\"color: #008000; text-decoration-color: #008000\">'description'</span>:     <span style=\"color: #7f7f7f; text-decoration-color: #7f7f7f\">                 </span>\n",
       "<span style=\"color: #7fbfbf; text-decoration-color: #7fbfbf\">                    </span>         <span style=\"color: #008000; text-decoration-color: #008000\">'Learn more about Gemini API quotas'</span>, <span style=\"color: #008000; text-decoration-color: #008000\">'url'</span>:                         <span style=\"color: #7f7f7f; text-decoration-color: #7f7f7f\">                 </span>\n",
       "<span style=\"color: #7fbfbf; text-decoration-color: #7fbfbf\">                    </span>         <span style=\"color: #008000; text-decoration-color: #008000\">'https://ai.google.dev/gemini-api/docs/rate-limits'</span><span style=\"font-weight: bold\">}]}</span>, <span style=\"font-weight: bold\">{</span><span style=\"color: #008000; text-decoration-color: #008000\">'@type'</span>:    <span style=\"color: #7f7f7f; text-decoration-color: #7f7f7f\">                 </span>\n",
       "<span style=\"color: #7fbfbf; text-decoration-color: #7fbfbf\">                    </span>         <span style=\"color: #008000; text-decoration-color: #008000\">'type.googleapis.com/google.rpc.RetryInfo'</span>, <span style=\"color: #008000; text-decoration-color: #008000\">'retryDelay'</span>: <span style=\"color: #008000; text-decoration-color: #008000\">'26s'</span><span style=\"font-weight: bold\">}]}}</span>  <span style=\"color: #7f7f7f; text-decoration-color: #7f7f7f\">                 </span>\n",
       "</pre>\n"
      ],
      "text/plain": [
       "\u001b[2;36m                   \u001b[0m\u001b[2;36m \u001b[0m\u001b[33mWARNING \u001b[0m Retrying _call_gemini after \u001b[1;36m4.2\u001b[0m seconds \u001b[1m(\u001b[0mattempt \u001b[1;36m2\u001b[0m\u001b[1m)\u001b[0m: \u001b[1;36m429\u001b[0m             \u001b]8;id=29891;file:///Users/sravanj/project_work/yellhorn-mcp/yellhorn_mcp/llm_manager.py\u001b\\\u001b[2mllm_manager.py\u001b[0m\u001b]8;;\u001b\\\u001b[2m:\u001b[0m\u001b]8;id=512475;file:///Users/sravanj/project_work/yellhorn-mcp/yellhorn_mcp/llm_manager.py#34\u001b\\\u001b[2m34\u001b[0m\u001b]8;;\u001b\\\n",
       "\u001b[2;36m                    \u001b[0m         RESOURCE_EXHAUSTED. \u001b[1m{\u001b[0m\u001b[32m'error'\u001b[0m: \u001b[1m{\u001b[0m\u001b[32m'code'\u001b[0m: \u001b[1;36m429\u001b[0m, \u001b[32m'message'\u001b[0m: \u001b[32m'You exceeded\u001b[0m \u001b[2m                 \u001b[0m\n",
       "\u001b[2;36m                    \u001b[0m         \u001b[32myour current quota. Please migrate to Gemini 2.0 Flash Preview \u001b[0m      \u001b[2m                 \u001b[0m\n",
       "\u001b[2;36m                    \u001b[0m         \u001b[32m(\u001b[0m\u001b[32mImage Generation\u001b[0m\u001b[32m)\u001b[0m\u001b[32m \u001b[0m                                                  \u001b[2m                 \u001b[0m\n",
       "\u001b[2;36m                    \u001b[0m         \u001b[32m(\u001b[0m\u001b[32mmodels/gemini-2.0-flash-preview-image-generation\u001b[0m\u001b[32m)\u001b[0m\u001b[32m for higher quota \u001b[0m \u001b[2m                 \u001b[0m\n",
       "\u001b[2;36m                    \u001b[0m         \u001b[32mlimits. For more information on this error, head to: \u001b[0m                \u001b[2m                 \u001b[0m\n",
       "\u001b[2;36m                    \u001b[0m         \u001b[32mhttps://ai.google.dev/gemini-api/docs/rate-limits.'\u001b[0m, \u001b[32m'status'\u001b[0m:       \u001b[2m                 \u001b[0m\n",
       "\u001b[2;36m                    \u001b[0m         \u001b[32m'RESOURCE_EXHAUSTED'\u001b[0m, \u001b[32m'details'\u001b[0m: \u001b[1m[\u001b[0m\u001b[1m{\u001b[0m\u001b[32m'@type'\u001b[0m:                          \u001b[2m                 \u001b[0m\n",
       "\u001b[2;36m                    \u001b[0m         \u001b[32m'type.googleapis.com/google.rpc.QuotaFailure'\u001b[0m, \u001b[32m'violations'\u001b[0m:         \u001b[2m                 \u001b[0m\n",
       "\u001b[2;36m                    \u001b[0m         \u001b[1m[\u001b[0m\u001b[1m{\u001b[0m\u001b[32m'quotaMetric'\u001b[0m:                                                     \u001b[2m                 \u001b[0m\n",
       "\u001b[2;36m                    \u001b[0m         \u001b[32m'generativelanguage.googleapis.com/generate_requests_per_model'\u001b[0m,     \u001b[2m                 \u001b[0m\n",
       "\u001b[2;36m                    \u001b[0m         \u001b[32m'quotaId'\u001b[0m: \u001b[32m'GenerateRequestsPerMinutePerProjectPerModel'\u001b[0m,            \u001b[2m                 \u001b[0m\n",
       "\u001b[2;36m                    \u001b[0m         \u001b[32m'quotaDimensions'\u001b[0m: \u001b[1m{\u001b[0m\u001b[32m'model'\u001b[0m: \u001b[32m'gemini-2.0-flash-exp'\u001b[0m, \u001b[32m'location'\u001b[0m:     \u001b[2m                 \u001b[0m\n",
       "\u001b[2;36m                    \u001b[0m         \u001b[32m'global'\u001b[0m\u001b[1m}\u001b[0m, \u001b[32m'quotaValue'\u001b[0m: \u001b[32m'10'\u001b[0m\u001b[1m}\u001b[0m\u001b[1m]\u001b[0m\u001b[1m}\u001b[0m, \u001b[1m{\u001b[0m\u001b[32m'@type'\u001b[0m:                          \u001b[2m                 \u001b[0m\n",
       "\u001b[2;36m                    \u001b[0m         \u001b[32m'type.googleapis.com/google.rpc.Help'\u001b[0m, \u001b[32m'links'\u001b[0m: \u001b[1m[\u001b[0m\u001b[1m{\u001b[0m\u001b[32m'description'\u001b[0m:     \u001b[2m                 \u001b[0m\n",
       "\u001b[2;36m                    \u001b[0m         \u001b[32m'Learn more about Gemini API quotas'\u001b[0m, \u001b[32m'url'\u001b[0m:                         \u001b[2m                 \u001b[0m\n",
       "\u001b[2;36m                    \u001b[0m         \u001b[32m'https://ai.google.dev/gemini-api/docs/rate-limits'\u001b[0m\u001b[1m}\u001b[0m\u001b[1m]\u001b[0m\u001b[1m}\u001b[0m, \u001b[1m{\u001b[0m\u001b[32m'@type'\u001b[0m:    \u001b[2m                 \u001b[0m\n",
       "\u001b[2;36m                    \u001b[0m         \u001b[32m'type.googleapis.com/google.rpc.RetryInfo'\u001b[0m, \u001b[32m'retryDelay'\u001b[0m: \u001b[32m'26s'\u001b[0m\u001b[1m}\u001b[0m\u001b[1m]\u001b[0m\u001b[1m}\u001b[0m\u001b[1m}\u001b[0m  \u001b[2m                 \u001b[0m\n"
      ]
     },
     "metadata": {},
     "output_type": "display_data"
    },
    {
     "data": {
      "text/html": [
       "<pre style=\"white-space:pre;overflow-x:auto;line-height:normal;font-family:Menlo,'DejaVu Sans Mono',consolas,'Courier New',monospace\"><span style=\"color: #7fbfbf; text-decoration-color: #7fbfbf\">[07/12/25 21:32:37] </span><span style=\"color: #000080; text-decoration-color: #000080\">INFO    </span> AFC is enabled with max remote calls: <span style=\"color: #008080; text-decoration-color: #008080; font-weight: bold\">10</span>.                               <a href=\"file:///opt/anaconda3/envs/sravan-yellhorn/lib/python3.11/site-packages/google/genai/models.py\" target=\"_blank\"><span style=\"color: #7f7f7f; text-decoration-color: #7f7f7f\">models.py</span></a><span style=\"color: #7f7f7f; text-decoration-color: #7f7f7f\">:</span><a href=\"file:///opt/anaconda3/envs/sravan-yellhorn/lib/python3.11/site-packages/google/genai/models.py#7118\" target=\"_blank\"><span style=\"color: #7f7f7f; text-decoration-color: #7f7f7f\">7118</span></a>\n",
       "</pre>\n"
      ],
      "text/plain": [
       "\u001b[2;36m[07/12/25 21:32:37]\u001b[0m\u001b[2;36m \u001b[0m\u001b[34mINFO    \u001b[0m AFC is enabled with max remote calls: \u001b[1;36m10\u001b[0m.                               \u001b]8;id=429245;file:///opt/anaconda3/envs/sravan-yellhorn/lib/python3.11/site-packages/google/genai/models.py\u001b\\\u001b[2mmodels.py\u001b[0m\u001b]8;;\u001b\\\u001b[2m:\u001b[0m\u001b]8;id=973608;file:///opt/anaconda3/envs/sravan-yellhorn/lib/python3.11/site-packages/google/genai/models.py#7118\u001b\\\u001b[2m7118\u001b[0m\u001b]8;;\u001b\\\n"
      ]
     },
     "metadata": {},
     "output_type": "display_data"
    },
    {
     "data": {
      "text/html": [
       "<pre style=\"white-space:pre;overflow-x:auto;line-height:normal;font-family:Menlo,'DejaVu Sans Mono',consolas,'Courier New',monospace\"><span style=\"color: #7fbfbf; text-decoration-color: #7fbfbf\">                    </span><span style=\"color: #000080; text-decoration-color: #000080\">INFO    </span> HTTP Request: <span style=\"color: #808000; text-decoration-color: #808000; font-weight: bold\">POST</span>                                                     <a href=\"file:///opt/anaconda3/envs/sravan-yellhorn/lib/python3.11/site-packages/httpx/_client.py\" target=\"_blank\"><span style=\"color: #7f7f7f; text-decoration-color: #7f7f7f\">_client.py</span></a><span style=\"color: #7f7f7f; text-decoration-color: #7f7f7f\">:</span><a href=\"file:///opt/anaconda3/envs/sravan-yellhorn/lib/python3.11/site-packages/httpx/_client.py#1740\" target=\"_blank\"><span style=\"color: #7f7f7f; text-decoration-color: #7f7f7f\">1740</span></a>\n",
       "<span style=\"color: #7fbfbf; text-decoration-color: #7fbfbf\">                    </span>         <span style=\"color: #0000ff; text-decoration-color: #0000ff; text-decoration: underline\">https://generativelanguage.googleapis.com/v1beta/models/gemini-2.0-fla</span> <span style=\"color: #7f7f7f; text-decoration-color: #7f7f7f\">               </span>\n",
       "<span style=\"color: #7fbfbf; text-decoration-color: #7fbfbf\">                    </span>         <span style=\"color: #0000ff; text-decoration-color: #0000ff; text-decoration: underline\">sh-exp:generateContent</span> <span style=\"color: #008000; text-decoration-color: #008000\">\"HTTP/1.1 429 Too Many Requests\"</span>                <span style=\"color: #7f7f7f; text-decoration-color: #7f7f7f\">               </span>\n",
       "</pre>\n"
      ],
      "text/plain": [
       "\u001b[2;36m                   \u001b[0m\u001b[2;36m \u001b[0m\u001b[34mINFO    \u001b[0m HTTP Request: \u001b[1;33mPOST\u001b[0m                                                     \u001b]8;id=492108;file:///opt/anaconda3/envs/sravan-yellhorn/lib/python3.11/site-packages/httpx/_client.py\u001b\\\u001b[2m_client.py\u001b[0m\u001b]8;;\u001b\\\u001b[2m:\u001b[0m\u001b]8;id=524886;file:///opt/anaconda3/envs/sravan-yellhorn/lib/python3.11/site-packages/httpx/_client.py#1740\u001b\\\u001b[2m1740\u001b[0m\u001b]8;;\u001b\\\n",
       "\u001b[2;36m                    \u001b[0m         \u001b[4;94mhttps://generativelanguage.googleapis.com/v1beta/models/gemini-2.0-fla\u001b[0m \u001b[2m               \u001b[0m\n",
       "\u001b[2;36m                    \u001b[0m         \u001b[4;94msh-exp:generateContent\u001b[0m \u001b[32m\"HTTP/1.1 429 Too Many Requests\"\u001b[0m                \u001b[2m               \u001b[0m\n"
      ]
     },
     "metadata": {},
     "output_type": "display_data"
    },
    {
     "data": {
      "text/html": [
       "<pre style=\"white-space:pre;overflow-x:auto;line-height:normal;font-family:Menlo,'DejaVu Sans Mono',consolas,'Courier New',monospace\"><span style=\"color: #7fbfbf; text-decoration-color: #7fbfbf\">                    </span><span style=\"color: #800000; text-decoration-color: #800000; font-weight: bold\">ERROR   </span> Gemini API call failed: <span style=\"color: #008080; text-decoration-color: #008080; font-weight: bold\">429</span> RESOURCE_EXHAUSTED. <span style=\"font-weight: bold\">{</span><span style=\"color: #008000; text-decoration-color: #008000\">'error'</span>: <span style=\"font-weight: bold\">{</span><span style=\"color: #008000; text-decoration-color: #008000\">'code'</span>:  <a href=\"file:///Users/sravanj/project_work/yellhorn-mcp/yellhorn_mcp/llm_manager.py\" target=\"_blank\"><span style=\"color: #7f7f7f; text-decoration-color: #7f7f7f\">llm_manager.py</span></a><span style=\"color: #7f7f7f; text-decoration-color: #7f7f7f\">:</span><a href=\"file:///Users/sravanj/project_work/yellhorn-mcp/yellhorn_mcp/llm_manager.py#658\" target=\"_blank\"><span style=\"color: #7f7f7f; text-decoration-color: #7f7f7f\">658</span></a>\n",
       "<span style=\"color: #7fbfbf; text-decoration-color: #7fbfbf\">                    </span>         <span style=\"color: #008080; text-decoration-color: #008080; font-weight: bold\">429</span>, <span style=\"color: #008000; text-decoration-color: #008000\">'message'</span>: <span style=\"color: #008000; text-decoration-color: #008000\">'You exceeded your current quota. Please migrate to</span> <span style=\"color: #7f7f7f; text-decoration-color: #7f7f7f\">                  </span>\n",
       "<span style=\"color: #7fbfbf; text-decoration-color: #7fbfbf\">                    </span>         <span style=\"color: #008000; text-decoration-color: #008000\">Gemini 2.0 Flash Preview (Image Generation) </span>                        <span style=\"color: #7f7f7f; text-decoration-color: #7f7f7f\">                  </span>\n",
       "<span style=\"color: #7fbfbf; text-decoration-color: #7fbfbf\">                    </span>         <span style=\"color: #008000; text-decoration-color: #008000\">(models/gemini-2.0-flash-preview-image-generation) for higher quota</span> <span style=\"color: #7f7f7f; text-decoration-color: #7f7f7f\">                  </span>\n",
       "<span style=\"color: #7fbfbf; text-decoration-color: #7fbfbf\">                    </span>         <span style=\"color: #008000; text-decoration-color: #008000\">limits. For more information on this error, head to: </span>               <span style=\"color: #7f7f7f; text-decoration-color: #7f7f7f\">                  </span>\n",
       "<span style=\"color: #7fbfbf; text-decoration-color: #7fbfbf\">                    </span>         <span style=\"color: #008000; text-decoration-color: #008000\">https://ai.google.dev/gemini-api/docs/rate-limits.'</span>, <span style=\"color: #008000; text-decoration-color: #008000\">'status'</span>:      <span style=\"color: #7f7f7f; text-decoration-color: #7f7f7f\">                  </span>\n",
       "<span style=\"color: #7fbfbf; text-decoration-color: #7fbfbf\">                    </span>         <span style=\"color: #008000; text-decoration-color: #008000\">'RESOURCE_EXHAUSTED'</span>, <span style=\"color: #008000; text-decoration-color: #008000\">'details'</span>: <span style=\"font-weight: bold\">[{</span><span style=\"color: #008000; text-decoration-color: #008000\">'@type'</span>:                         <span style=\"color: #7f7f7f; text-decoration-color: #7f7f7f\">                  </span>\n",
       "<span style=\"color: #7fbfbf; text-decoration-color: #7fbfbf\">                    </span>         <span style=\"color: #008000; text-decoration-color: #008000\">'type.googleapis.com/google.rpc.QuotaFailure'</span>, <span style=\"color: #008000; text-decoration-color: #008000\">'violations'</span>:        <span style=\"color: #7f7f7f; text-decoration-color: #7f7f7f\">                  </span>\n",
       "<span style=\"color: #7fbfbf; text-decoration-color: #7fbfbf\">                    </span>         <span style=\"font-weight: bold\">[{</span><span style=\"color: #008000; text-decoration-color: #008000\">'quotaMetric'</span>:                                                    <span style=\"color: #7f7f7f; text-decoration-color: #7f7f7f\">                  </span>\n",
       "<span style=\"color: #7fbfbf; text-decoration-color: #7fbfbf\">                    </span>         <span style=\"color: #008000; text-decoration-color: #008000\">'generativelanguage.googleapis.com/generate_requests_per_model'</span>,    <span style=\"color: #7f7f7f; text-decoration-color: #7f7f7f\">                  </span>\n",
       "<span style=\"color: #7fbfbf; text-decoration-color: #7fbfbf\">                    </span>         <span style=\"color: #008000; text-decoration-color: #008000\">'quotaId'</span>: <span style=\"color: #008000; text-decoration-color: #008000\">'GenerateRequestsPerMinutePerProjectPerModel'</span>,           <span style=\"color: #7f7f7f; text-decoration-color: #7f7f7f\">                  </span>\n",
       "<span style=\"color: #7fbfbf; text-decoration-color: #7fbfbf\">                    </span>         <span style=\"color: #008000; text-decoration-color: #008000\">'quotaDimensions'</span>: <span style=\"font-weight: bold\">{</span><span style=\"color: #008000; text-decoration-color: #008000\">'location'</span>: <span style=\"color: #008000; text-decoration-color: #008000\">'global'</span>, <span style=\"color: #008000; text-decoration-color: #008000\">'model'</span>:                  <span style=\"color: #7f7f7f; text-decoration-color: #7f7f7f\">                  </span>\n",
       "<span style=\"color: #7fbfbf; text-decoration-color: #7fbfbf\">                    </span>         <span style=\"color: #008000; text-decoration-color: #008000\">'gemini-2.0-flash-exp'</span><span style=\"font-weight: bold\">}</span>, <span style=\"color: #008000; text-decoration-color: #008000\">'quotaValue'</span>: <span style=\"color: #008000; text-decoration-color: #008000\">'10'</span><span style=\"font-weight: bold\">}]}</span>, <span style=\"font-weight: bold\">{</span><span style=\"color: #008000; text-decoration-color: #008000\">'@type'</span>:           <span style=\"color: #7f7f7f; text-decoration-color: #7f7f7f\">                  </span>\n",
       "<span style=\"color: #7fbfbf; text-decoration-color: #7fbfbf\">                    </span>         <span style=\"color: #008000; text-decoration-color: #008000\">'type.googleapis.com/google.rpc.Help'</span>, <span style=\"color: #008000; text-decoration-color: #008000\">'links'</span>: <span style=\"font-weight: bold\">[{</span><span style=\"color: #008000; text-decoration-color: #008000\">'description'</span>:    <span style=\"color: #7f7f7f; text-decoration-color: #7f7f7f\">                  </span>\n",
       "<span style=\"color: #7fbfbf; text-decoration-color: #7fbfbf\">                    </span>         <span style=\"color: #008000; text-decoration-color: #008000\">'Learn more about Gemini API quotas'</span>, <span style=\"color: #008000; text-decoration-color: #008000\">'url'</span>:                        <span style=\"color: #7f7f7f; text-decoration-color: #7f7f7f\">                  </span>\n",
       "<span style=\"color: #7fbfbf; text-decoration-color: #7fbfbf\">                    </span>         <span style=\"color: #008000; text-decoration-color: #008000\">'https://ai.google.dev/gemini-api/docs/rate-limits'</span><span style=\"font-weight: bold\">}]}</span>, <span style=\"font-weight: bold\">{</span><span style=\"color: #008000; text-decoration-color: #008000\">'@type'</span>:   <span style=\"color: #7f7f7f; text-decoration-color: #7f7f7f\">                  </span>\n",
       "<span style=\"color: #7fbfbf; text-decoration-color: #7fbfbf\">                    </span>         <span style=\"color: #008000; text-decoration-color: #008000\">'type.googleapis.com/google.rpc.RetryInfo'</span>, <span style=\"color: #008000; text-decoration-color: #008000\">'retryDelay'</span>: <span style=\"color: #008000; text-decoration-color: #008000\">'22s'</span><span style=\"font-weight: bold\">}]}}</span> <span style=\"color: #7f7f7f; text-decoration-color: #7f7f7f\">                  </span>\n",
       "</pre>\n"
      ],
      "text/plain": [
       "\u001b[2;36m                   \u001b[0m\u001b[2;36m \u001b[0m\u001b[1;31mERROR   \u001b[0m Gemini API call failed: \u001b[1;36m429\u001b[0m RESOURCE_EXHAUSTED. \u001b[1m{\u001b[0m\u001b[32m'error'\u001b[0m: \u001b[1m{\u001b[0m\u001b[32m'code'\u001b[0m:  \u001b]8;id=568001;file:///Users/sravanj/project_work/yellhorn-mcp/yellhorn_mcp/llm_manager.py\u001b\\\u001b[2mllm_manager.py\u001b[0m\u001b]8;;\u001b\\\u001b[2m:\u001b[0m\u001b]8;id=39327;file:///Users/sravanj/project_work/yellhorn-mcp/yellhorn_mcp/llm_manager.py#658\u001b\\\u001b[2m658\u001b[0m\u001b]8;;\u001b\\\n",
       "\u001b[2;36m                    \u001b[0m         \u001b[1;36m429\u001b[0m, \u001b[32m'message'\u001b[0m: \u001b[32m'You exceeded your current quota. Please migrate to\u001b[0m \u001b[2m                  \u001b[0m\n",
       "\u001b[2;36m                    \u001b[0m         \u001b[32mGemini 2.0 Flash Preview \u001b[0m\u001b[32m(\u001b[0m\u001b[32mImage Generation\u001b[0m\u001b[32m)\u001b[0m\u001b[32m \u001b[0m                        \u001b[2m                  \u001b[0m\n",
       "\u001b[2;36m                    \u001b[0m         \u001b[32m(\u001b[0m\u001b[32mmodels/gemini-2.0-flash-preview-image-generation\u001b[0m\u001b[32m)\u001b[0m\u001b[32m for higher quota\u001b[0m \u001b[2m                  \u001b[0m\n",
       "\u001b[2;36m                    \u001b[0m         \u001b[32mlimits. For more information on this error, head to: \u001b[0m               \u001b[2m                  \u001b[0m\n",
       "\u001b[2;36m                    \u001b[0m         \u001b[32mhttps://ai.google.dev/gemini-api/docs/rate-limits.'\u001b[0m, \u001b[32m'status'\u001b[0m:      \u001b[2m                  \u001b[0m\n",
       "\u001b[2;36m                    \u001b[0m         \u001b[32m'RESOURCE_EXHAUSTED'\u001b[0m, \u001b[32m'details'\u001b[0m: \u001b[1m[\u001b[0m\u001b[1m{\u001b[0m\u001b[32m'@type'\u001b[0m:                         \u001b[2m                  \u001b[0m\n",
       "\u001b[2;36m                    \u001b[0m         \u001b[32m'type.googleapis.com/google.rpc.QuotaFailure'\u001b[0m, \u001b[32m'violations'\u001b[0m:        \u001b[2m                  \u001b[0m\n",
       "\u001b[2;36m                    \u001b[0m         \u001b[1m[\u001b[0m\u001b[1m{\u001b[0m\u001b[32m'quotaMetric'\u001b[0m:                                                    \u001b[2m                  \u001b[0m\n",
       "\u001b[2;36m                    \u001b[0m         \u001b[32m'generativelanguage.googleapis.com/generate_requests_per_model'\u001b[0m,    \u001b[2m                  \u001b[0m\n",
       "\u001b[2;36m                    \u001b[0m         \u001b[32m'quotaId'\u001b[0m: \u001b[32m'GenerateRequestsPerMinutePerProjectPerModel'\u001b[0m,           \u001b[2m                  \u001b[0m\n",
       "\u001b[2;36m                    \u001b[0m         \u001b[32m'quotaDimensions'\u001b[0m: \u001b[1m{\u001b[0m\u001b[32m'location'\u001b[0m: \u001b[32m'global'\u001b[0m, \u001b[32m'model'\u001b[0m:                  \u001b[2m                  \u001b[0m\n",
       "\u001b[2;36m                    \u001b[0m         \u001b[32m'gemini-2.0-flash-exp'\u001b[0m\u001b[1m}\u001b[0m, \u001b[32m'quotaValue'\u001b[0m: \u001b[32m'10'\u001b[0m\u001b[1m}\u001b[0m\u001b[1m]\u001b[0m\u001b[1m}\u001b[0m, \u001b[1m{\u001b[0m\u001b[32m'@type'\u001b[0m:           \u001b[2m                  \u001b[0m\n",
       "\u001b[2;36m                    \u001b[0m         \u001b[32m'type.googleapis.com/google.rpc.Help'\u001b[0m, \u001b[32m'links'\u001b[0m: \u001b[1m[\u001b[0m\u001b[1m{\u001b[0m\u001b[32m'description'\u001b[0m:    \u001b[2m                  \u001b[0m\n",
       "\u001b[2;36m                    \u001b[0m         \u001b[32m'Learn more about Gemini API quotas'\u001b[0m, \u001b[32m'url'\u001b[0m:                        \u001b[2m                  \u001b[0m\n",
       "\u001b[2;36m                    \u001b[0m         \u001b[32m'https://ai.google.dev/gemini-api/docs/rate-limits'\u001b[0m\u001b[1m}\u001b[0m\u001b[1m]\u001b[0m\u001b[1m}\u001b[0m, \u001b[1m{\u001b[0m\u001b[32m'@type'\u001b[0m:   \u001b[2m                  \u001b[0m\n",
       "\u001b[2;36m                    \u001b[0m         \u001b[32m'type.googleapis.com/google.rpc.RetryInfo'\u001b[0m, \u001b[32m'retryDelay'\u001b[0m: \u001b[32m'22s'\u001b[0m\u001b[1m}\u001b[0m\u001b[1m]\u001b[0m\u001b[1m}\u001b[0m\u001b[1m}\u001b[0m \u001b[2m                  \u001b[0m\n"
      ]
     },
     "metadata": {},
     "output_type": "display_data"
    },
    {
     "data": {
      "text/html": [
       "<pre style=\"white-space:pre;overflow-x:auto;line-height:normal;font-family:Menlo,'DejaVu Sans Mono',consolas,'Courier New',monospace\"><span style=\"color: #7fbfbf; text-decoration-color: #7fbfbf\">                    </span><span style=\"color: #808000; text-decoration-color: #808000\">WARNING </span> Retrying _call_gemini after <span style=\"color: #008080; text-decoration-color: #008080; font-weight: bold\">8.4</span> seconds <span style=\"font-weight: bold\">(</span>attempt <span style=\"color: #008080; text-decoration-color: #008080; font-weight: bold\">3</span><span style=\"font-weight: bold\">)</span>: <span style=\"color: #008080; text-decoration-color: #008080; font-weight: bold\">429</span>             <a href=\"file:///Users/sravanj/project_work/yellhorn-mcp/yellhorn_mcp/llm_manager.py\" target=\"_blank\"><span style=\"color: #7f7f7f; text-decoration-color: #7f7f7f\">llm_manager.py</span></a><span style=\"color: #7f7f7f; text-decoration-color: #7f7f7f\">:</span><a href=\"file:///Users/sravanj/project_work/yellhorn-mcp/yellhorn_mcp/llm_manager.py#34\" target=\"_blank\"><span style=\"color: #7f7f7f; text-decoration-color: #7f7f7f\">34</span></a>\n",
       "<span style=\"color: #7fbfbf; text-decoration-color: #7fbfbf\">                    </span>         RESOURCE_EXHAUSTED. <span style=\"font-weight: bold\">{</span><span style=\"color: #008000; text-decoration-color: #008000\">'error'</span>: <span style=\"font-weight: bold\">{</span><span style=\"color: #008000; text-decoration-color: #008000\">'code'</span>: <span style=\"color: #008080; text-decoration-color: #008080; font-weight: bold\">429</span>, <span style=\"color: #008000; text-decoration-color: #008000\">'message'</span>: <span style=\"color: #008000; text-decoration-color: #008000\">'You exceeded</span> <span style=\"color: #7f7f7f; text-decoration-color: #7f7f7f\">                 </span>\n",
       "<span style=\"color: #7fbfbf; text-decoration-color: #7fbfbf\">                    </span>         <span style=\"color: #008000; text-decoration-color: #008000\">your current quota. Please migrate to Gemini 2.0 Flash Preview </span>      <span style=\"color: #7f7f7f; text-decoration-color: #7f7f7f\">                 </span>\n",
       "<span style=\"color: #7fbfbf; text-decoration-color: #7fbfbf\">                    </span>         <span style=\"color: #008000; text-decoration-color: #008000\">(Image Generation) </span>                                                  <span style=\"color: #7f7f7f; text-decoration-color: #7f7f7f\">                 </span>\n",
       "<span style=\"color: #7fbfbf; text-decoration-color: #7fbfbf\">                    </span>         <span style=\"color: #008000; text-decoration-color: #008000\">(models/gemini-2.0-flash-preview-image-generation) for higher quota </span> <span style=\"color: #7f7f7f; text-decoration-color: #7f7f7f\">                 </span>\n",
       "<span style=\"color: #7fbfbf; text-decoration-color: #7fbfbf\">                    </span>         <span style=\"color: #008000; text-decoration-color: #008000\">limits. For more information on this error, head to: </span>                <span style=\"color: #7f7f7f; text-decoration-color: #7f7f7f\">                 </span>\n",
       "<span style=\"color: #7fbfbf; text-decoration-color: #7fbfbf\">                    </span>         <span style=\"color: #008000; text-decoration-color: #008000\">https://ai.google.dev/gemini-api/docs/rate-limits.'</span>, <span style=\"color: #008000; text-decoration-color: #008000\">'status'</span>:       <span style=\"color: #7f7f7f; text-decoration-color: #7f7f7f\">                 </span>\n",
       "<span style=\"color: #7fbfbf; text-decoration-color: #7fbfbf\">                    </span>         <span style=\"color: #008000; text-decoration-color: #008000\">'RESOURCE_EXHAUSTED'</span>, <span style=\"color: #008000; text-decoration-color: #008000\">'details'</span>: <span style=\"font-weight: bold\">[{</span><span style=\"color: #008000; text-decoration-color: #008000\">'@type'</span>:                          <span style=\"color: #7f7f7f; text-decoration-color: #7f7f7f\">                 </span>\n",
       "<span style=\"color: #7fbfbf; text-decoration-color: #7fbfbf\">                    </span>         <span style=\"color: #008000; text-decoration-color: #008000\">'type.googleapis.com/google.rpc.QuotaFailure'</span>, <span style=\"color: #008000; text-decoration-color: #008000\">'violations'</span>:         <span style=\"color: #7f7f7f; text-decoration-color: #7f7f7f\">                 </span>\n",
       "<span style=\"color: #7fbfbf; text-decoration-color: #7fbfbf\">                    </span>         <span style=\"font-weight: bold\">[{</span><span style=\"color: #008000; text-decoration-color: #008000\">'quotaMetric'</span>:                                                     <span style=\"color: #7f7f7f; text-decoration-color: #7f7f7f\">                 </span>\n",
       "<span style=\"color: #7fbfbf; text-decoration-color: #7fbfbf\">                    </span>         <span style=\"color: #008000; text-decoration-color: #008000\">'generativelanguage.googleapis.com/generate_requests_per_model'</span>,     <span style=\"color: #7f7f7f; text-decoration-color: #7f7f7f\">                 </span>\n",
       "<span style=\"color: #7fbfbf; text-decoration-color: #7fbfbf\">                    </span>         <span style=\"color: #008000; text-decoration-color: #008000\">'quotaId'</span>: <span style=\"color: #008000; text-decoration-color: #008000\">'GenerateRequestsPerMinutePerProjectPerModel'</span>,            <span style=\"color: #7f7f7f; text-decoration-color: #7f7f7f\">                 </span>\n",
       "<span style=\"color: #7fbfbf; text-decoration-color: #7fbfbf\">                    </span>         <span style=\"color: #008000; text-decoration-color: #008000\">'quotaDimensions'</span>: <span style=\"font-weight: bold\">{</span><span style=\"color: #008000; text-decoration-color: #008000\">'location'</span>: <span style=\"color: #008000; text-decoration-color: #008000\">'global'</span>, <span style=\"color: #008000; text-decoration-color: #008000\">'model'</span>:                   <span style=\"color: #7f7f7f; text-decoration-color: #7f7f7f\">                 </span>\n",
       "<span style=\"color: #7fbfbf; text-decoration-color: #7fbfbf\">                    </span>         <span style=\"color: #008000; text-decoration-color: #008000\">'gemini-2.0-flash-exp'</span><span style=\"font-weight: bold\">}</span>, <span style=\"color: #008000; text-decoration-color: #008000\">'quotaValue'</span>: <span style=\"color: #008000; text-decoration-color: #008000\">'10'</span><span style=\"font-weight: bold\">}]}</span>, <span style=\"font-weight: bold\">{</span><span style=\"color: #008000; text-decoration-color: #008000\">'@type'</span>:            <span style=\"color: #7f7f7f; text-decoration-color: #7f7f7f\">                 </span>\n",
       "<span style=\"color: #7fbfbf; text-decoration-color: #7fbfbf\">                    </span>         <span style=\"color: #008000; text-decoration-color: #008000\">'type.googleapis.com/google.rpc.Help'</span>, <span style=\"color: #008000; text-decoration-color: #008000\">'links'</span>: <span style=\"font-weight: bold\">[{</span><span style=\"color: #008000; text-decoration-color: #008000\">'description'</span>:     <span style=\"color: #7f7f7f; text-decoration-color: #7f7f7f\">                 </span>\n",
       "<span style=\"color: #7fbfbf; text-decoration-color: #7fbfbf\">                    </span>         <span style=\"color: #008000; text-decoration-color: #008000\">'Learn more about Gemini API quotas'</span>, <span style=\"color: #008000; text-decoration-color: #008000\">'url'</span>:                         <span style=\"color: #7f7f7f; text-decoration-color: #7f7f7f\">                 </span>\n",
       "<span style=\"color: #7fbfbf; text-decoration-color: #7fbfbf\">                    </span>         <span style=\"color: #008000; text-decoration-color: #008000\">'https://ai.google.dev/gemini-api/docs/rate-limits'</span><span style=\"font-weight: bold\">}]}</span>, <span style=\"font-weight: bold\">{</span><span style=\"color: #008000; text-decoration-color: #008000\">'@type'</span>:    <span style=\"color: #7f7f7f; text-decoration-color: #7f7f7f\">                 </span>\n",
       "<span style=\"color: #7fbfbf; text-decoration-color: #7fbfbf\">                    </span>         <span style=\"color: #008000; text-decoration-color: #008000\">'type.googleapis.com/google.rpc.RetryInfo'</span>, <span style=\"color: #008000; text-decoration-color: #008000\">'retryDelay'</span>: <span style=\"color: #008000; text-decoration-color: #008000\">'22s'</span><span style=\"font-weight: bold\">}]}}</span>  <span style=\"color: #7f7f7f; text-decoration-color: #7f7f7f\">                 </span>\n",
       "</pre>\n"
      ],
      "text/plain": [
       "\u001b[2;36m                   \u001b[0m\u001b[2;36m \u001b[0m\u001b[33mWARNING \u001b[0m Retrying _call_gemini after \u001b[1;36m8.4\u001b[0m seconds \u001b[1m(\u001b[0mattempt \u001b[1;36m3\u001b[0m\u001b[1m)\u001b[0m: \u001b[1;36m429\u001b[0m             \u001b]8;id=364004;file:///Users/sravanj/project_work/yellhorn-mcp/yellhorn_mcp/llm_manager.py\u001b\\\u001b[2mllm_manager.py\u001b[0m\u001b]8;;\u001b\\\u001b[2m:\u001b[0m\u001b]8;id=383338;file:///Users/sravanj/project_work/yellhorn-mcp/yellhorn_mcp/llm_manager.py#34\u001b\\\u001b[2m34\u001b[0m\u001b]8;;\u001b\\\n",
       "\u001b[2;36m                    \u001b[0m         RESOURCE_EXHAUSTED. \u001b[1m{\u001b[0m\u001b[32m'error'\u001b[0m: \u001b[1m{\u001b[0m\u001b[32m'code'\u001b[0m: \u001b[1;36m429\u001b[0m, \u001b[32m'message'\u001b[0m: \u001b[32m'You exceeded\u001b[0m \u001b[2m                 \u001b[0m\n",
       "\u001b[2;36m                    \u001b[0m         \u001b[32myour current quota. Please migrate to Gemini 2.0 Flash Preview \u001b[0m      \u001b[2m                 \u001b[0m\n",
       "\u001b[2;36m                    \u001b[0m         \u001b[32m(\u001b[0m\u001b[32mImage Generation\u001b[0m\u001b[32m)\u001b[0m\u001b[32m \u001b[0m                                                  \u001b[2m                 \u001b[0m\n",
       "\u001b[2;36m                    \u001b[0m         \u001b[32m(\u001b[0m\u001b[32mmodels/gemini-2.0-flash-preview-image-generation\u001b[0m\u001b[32m)\u001b[0m\u001b[32m for higher quota \u001b[0m \u001b[2m                 \u001b[0m\n",
       "\u001b[2;36m                    \u001b[0m         \u001b[32mlimits. For more information on this error, head to: \u001b[0m                \u001b[2m                 \u001b[0m\n",
       "\u001b[2;36m                    \u001b[0m         \u001b[32mhttps://ai.google.dev/gemini-api/docs/rate-limits.'\u001b[0m, \u001b[32m'status'\u001b[0m:       \u001b[2m                 \u001b[0m\n",
       "\u001b[2;36m                    \u001b[0m         \u001b[32m'RESOURCE_EXHAUSTED'\u001b[0m, \u001b[32m'details'\u001b[0m: \u001b[1m[\u001b[0m\u001b[1m{\u001b[0m\u001b[32m'@type'\u001b[0m:                          \u001b[2m                 \u001b[0m\n",
       "\u001b[2;36m                    \u001b[0m         \u001b[32m'type.googleapis.com/google.rpc.QuotaFailure'\u001b[0m, \u001b[32m'violations'\u001b[0m:         \u001b[2m                 \u001b[0m\n",
       "\u001b[2;36m                    \u001b[0m         \u001b[1m[\u001b[0m\u001b[1m{\u001b[0m\u001b[32m'quotaMetric'\u001b[0m:                                                     \u001b[2m                 \u001b[0m\n",
       "\u001b[2;36m                    \u001b[0m         \u001b[32m'generativelanguage.googleapis.com/generate_requests_per_model'\u001b[0m,     \u001b[2m                 \u001b[0m\n",
       "\u001b[2;36m                    \u001b[0m         \u001b[32m'quotaId'\u001b[0m: \u001b[32m'GenerateRequestsPerMinutePerProjectPerModel'\u001b[0m,            \u001b[2m                 \u001b[0m\n",
       "\u001b[2;36m                    \u001b[0m         \u001b[32m'quotaDimensions'\u001b[0m: \u001b[1m{\u001b[0m\u001b[32m'location'\u001b[0m: \u001b[32m'global'\u001b[0m, \u001b[32m'model'\u001b[0m:                   \u001b[2m                 \u001b[0m\n",
       "\u001b[2;36m                    \u001b[0m         \u001b[32m'gemini-2.0-flash-exp'\u001b[0m\u001b[1m}\u001b[0m, \u001b[32m'quotaValue'\u001b[0m: \u001b[32m'10'\u001b[0m\u001b[1m}\u001b[0m\u001b[1m]\u001b[0m\u001b[1m}\u001b[0m, \u001b[1m{\u001b[0m\u001b[32m'@type'\u001b[0m:            \u001b[2m                 \u001b[0m\n",
       "\u001b[2;36m                    \u001b[0m         \u001b[32m'type.googleapis.com/google.rpc.Help'\u001b[0m, \u001b[32m'links'\u001b[0m: \u001b[1m[\u001b[0m\u001b[1m{\u001b[0m\u001b[32m'description'\u001b[0m:     \u001b[2m                 \u001b[0m\n",
       "\u001b[2;36m                    \u001b[0m         \u001b[32m'Learn more about Gemini API quotas'\u001b[0m, \u001b[32m'url'\u001b[0m:                         \u001b[2m                 \u001b[0m\n",
       "\u001b[2;36m                    \u001b[0m         \u001b[32m'https://ai.google.dev/gemini-api/docs/rate-limits'\u001b[0m\u001b[1m}\u001b[0m\u001b[1m]\u001b[0m\u001b[1m}\u001b[0m, \u001b[1m{\u001b[0m\u001b[32m'@type'\u001b[0m:    \u001b[2m                 \u001b[0m\n",
       "\u001b[2;36m                    \u001b[0m         \u001b[32m'type.googleapis.com/google.rpc.RetryInfo'\u001b[0m, \u001b[32m'retryDelay'\u001b[0m: \u001b[32m'22s'\u001b[0m\u001b[1m}\u001b[0m\u001b[1m]\u001b[0m\u001b[1m}\u001b[0m\u001b[1m}\u001b[0m  \u001b[2m                 \u001b[0m\n"
      ]
     },
     "metadata": {},
     "output_type": "display_data"
    },
    {
     "data": {
      "text/html": [
       "<pre style=\"white-space:pre;overflow-x:auto;line-height:normal;font-family:Menlo,'DejaVu Sans Mono',consolas,'Courier New',monospace\"><span style=\"color: #7fbfbf; text-decoration-color: #7fbfbf\">[07/12/25 21:32:41] </span><span style=\"color: #000080; text-decoration-color: #000080\">INFO    </span> AFC is enabled with max remote calls: <span style=\"color: #008080; text-decoration-color: #008080; font-weight: bold\">10</span>.                               <a href=\"file:///opt/anaconda3/envs/sravan-yellhorn/lib/python3.11/site-packages/google/genai/models.py\" target=\"_blank\"><span style=\"color: #7f7f7f; text-decoration-color: #7f7f7f\">models.py</span></a><span style=\"color: #7f7f7f; text-decoration-color: #7f7f7f\">:</span><a href=\"file:///opt/anaconda3/envs/sravan-yellhorn/lib/python3.11/site-packages/google/genai/models.py#7118\" target=\"_blank\"><span style=\"color: #7f7f7f; text-decoration-color: #7f7f7f\">7118</span></a>\n",
       "</pre>\n"
      ],
      "text/plain": [
       "\u001b[2;36m[07/12/25 21:32:41]\u001b[0m\u001b[2;36m \u001b[0m\u001b[34mINFO    \u001b[0m AFC is enabled with max remote calls: \u001b[1;36m10\u001b[0m.                               \u001b]8;id=451361;file:///opt/anaconda3/envs/sravan-yellhorn/lib/python3.11/site-packages/google/genai/models.py\u001b\\\u001b[2mmodels.py\u001b[0m\u001b]8;;\u001b\\\u001b[2m:\u001b[0m\u001b]8;id=706388;file:///opt/anaconda3/envs/sravan-yellhorn/lib/python3.11/site-packages/google/genai/models.py#7118\u001b\\\u001b[2m7118\u001b[0m\u001b]8;;\u001b\\\n"
      ]
     },
     "metadata": {},
     "output_type": "display_data"
    },
    {
     "data": {
      "text/html": [
       "<pre style=\"white-space:pre;overflow-x:auto;line-height:normal;font-family:Menlo,'DejaVu Sans Mono',consolas,'Courier New',monospace\"><span style=\"color: #7fbfbf; text-decoration-color: #7fbfbf\">                    </span><span style=\"color: #000080; text-decoration-color: #000080\">INFO    </span> HTTP Request: <span style=\"color: #808000; text-decoration-color: #808000; font-weight: bold\">POST</span>                                                     <a href=\"file:///opt/anaconda3/envs/sravan-yellhorn/lib/python3.11/site-packages/httpx/_client.py\" target=\"_blank\"><span style=\"color: #7f7f7f; text-decoration-color: #7f7f7f\">_client.py</span></a><span style=\"color: #7f7f7f; text-decoration-color: #7f7f7f\">:</span><a href=\"file:///opt/anaconda3/envs/sravan-yellhorn/lib/python3.11/site-packages/httpx/_client.py#1740\" target=\"_blank\"><span style=\"color: #7f7f7f; text-decoration-color: #7f7f7f\">1740</span></a>\n",
       "<span style=\"color: #7fbfbf; text-decoration-color: #7fbfbf\">                    </span>         <span style=\"color: #0000ff; text-decoration-color: #0000ff; text-decoration: underline\">https://generativelanguage.googleapis.com/v1beta/models/gemini-2.0-fla</span> <span style=\"color: #7f7f7f; text-decoration-color: #7f7f7f\">               </span>\n",
       "<span style=\"color: #7fbfbf; text-decoration-color: #7fbfbf\">                    </span>         <span style=\"color: #0000ff; text-decoration-color: #0000ff; text-decoration: underline\">sh-exp:generateContent</span> <span style=\"color: #008000; text-decoration-color: #008000\">\"HTTP/1.1 429 Too Many Requests\"</span>                <span style=\"color: #7f7f7f; text-decoration-color: #7f7f7f\">               </span>\n",
       "</pre>\n"
      ],
      "text/plain": [
       "\u001b[2;36m                   \u001b[0m\u001b[2;36m \u001b[0m\u001b[34mINFO    \u001b[0m HTTP Request: \u001b[1;33mPOST\u001b[0m                                                     \u001b]8;id=165830;file:///opt/anaconda3/envs/sravan-yellhorn/lib/python3.11/site-packages/httpx/_client.py\u001b\\\u001b[2m_client.py\u001b[0m\u001b]8;;\u001b\\\u001b[2m:\u001b[0m\u001b]8;id=624551;file:///opt/anaconda3/envs/sravan-yellhorn/lib/python3.11/site-packages/httpx/_client.py#1740\u001b\\\u001b[2m1740\u001b[0m\u001b]8;;\u001b\\\n",
       "\u001b[2;36m                    \u001b[0m         \u001b[4;94mhttps://generativelanguage.googleapis.com/v1beta/models/gemini-2.0-fla\u001b[0m \u001b[2m               \u001b[0m\n",
       "\u001b[2;36m                    \u001b[0m         \u001b[4;94msh-exp:generateContent\u001b[0m \u001b[32m\"HTTP/1.1 429 Too Many Requests\"\u001b[0m                \u001b[2m               \u001b[0m\n"
      ]
     },
     "metadata": {},
     "output_type": "display_data"
    },
    {
     "data": {
      "text/html": [
       "<pre style=\"white-space:pre;overflow-x:auto;line-height:normal;font-family:Menlo,'DejaVu Sans Mono',consolas,'Courier New',monospace\"><span style=\"color: #7fbfbf; text-decoration-color: #7fbfbf\">                    </span><span style=\"color: #800000; text-decoration-color: #800000; font-weight: bold\">ERROR   </span> Gemini API call failed: <span style=\"color: #008080; text-decoration-color: #008080; font-weight: bold\">429</span> RESOURCE_EXHAUSTED. <span style=\"font-weight: bold\">{</span><span style=\"color: #008000; text-decoration-color: #008000\">'error'</span>: <span style=\"font-weight: bold\">{</span><span style=\"color: #008000; text-decoration-color: #008000\">'code'</span>:  <a href=\"file:///Users/sravanj/project_work/yellhorn-mcp/yellhorn_mcp/llm_manager.py\" target=\"_blank\"><span style=\"color: #7f7f7f; text-decoration-color: #7f7f7f\">llm_manager.py</span></a><span style=\"color: #7f7f7f; text-decoration-color: #7f7f7f\">:</span><a href=\"file:///Users/sravanj/project_work/yellhorn-mcp/yellhorn_mcp/llm_manager.py#658\" target=\"_blank\"><span style=\"color: #7f7f7f; text-decoration-color: #7f7f7f\">658</span></a>\n",
       "<span style=\"color: #7fbfbf; text-decoration-color: #7fbfbf\">                    </span>         <span style=\"color: #008080; text-decoration-color: #008080; font-weight: bold\">429</span>, <span style=\"color: #008000; text-decoration-color: #008000\">'message'</span>: <span style=\"color: #008000; text-decoration-color: #008000\">'You exceeded your current quota. Please migrate to</span> <span style=\"color: #7f7f7f; text-decoration-color: #7f7f7f\">                  </span>\n",
       "<span style=\"color: #7fbfbf; text-decoration-color: #7fbfbf\">                    </span>         <span style=\"color: #008000; text-decoration-color: #008000\">Gemini 2.0 Flash Preview (Image Generation) </span>                        <span style=\"color: #7f7f7f; text-decoration-color: #7f7f7f\">                  </span>\n",
       "<span style=\"color: #7fbfbf; text-decoration-color: #7fbfbf\">                    </span>         <span style=\"color: #008000; text-decoration-color: #008000\">(models/gemini-2.0-flash-preview-image-generation) for higher quota</span> <span style=\"color: #7f7f7f; text-decoration-color: #7f7f7f\">                  </span>\n",
       "<span style=\"color: #7fbfbf; text-decoration-color: #7fbfbf\">                    </span>         <span style=\"color: #008000; text-decoration-color: #008000\">limits. For more information on this error, head to: </span>               <span style=\"color: #7f7f7f; text-decoration-color: #7f7f7f\">                  </span>\n",
       "<span style=\"color: #7fbfbf; text-decoration-color: #7fbfbf\">                    </span>         <span style=\"color: #008000; text-decoration-color: #008000\">https://ai.google.dev/gemini-api/docs/rate-limits.'</span>, <span style=\"color: #008000; text-decoration-color: #008000\">'status'</span>:      <span style=\"color: #7f7f7f; text-decoration-color: #7f7f7f\">                  </span>\n",
       "<span style=\"color: #7fbfbf; text-decoration-color: #7fbfbf\">                    </span>         <span style=\"color: #008000; text-decoration-color: #008000\">'RESOURCE_EXHAUSTED'</span>, <span style=\"color: #008000; text-decoration-color: #008000\">'details'</span>: <span style=\"font-weight: bold\">[{</span><span style=\"color: #008000; text-decoration-color: #008000\">'@type'</span>:                         <span style=\"color: #7f7f7f; text-decoration-color: #7f7f7f\">                  </span>\n",
       "<span style=\"color: #7fbfbf; text-decoration-color: #7fbfbf\">                    </span>         <span style=\"color: #008000; text-decoration-color: #008000\">'type.googleapis.com/google.rpc.QuotaFailure'</span>, <span style=\"color: #008000; text-decoration-color: #008000\">'violations'</span>:        <span style=\"color: #7f7f7f; text-decoration-color: #7f7f7f\">                  </span>\n",
       "<span style=\"color: #7fbfbf; text-decoration-color: #7fbfbf\">                    </span>         <span style=\"font-weight: bold\">[{</span><span style=\"color: #008000; text-decoration-color: #008000\">'quotaMetric'</span>:                                                    <span style=\"color: #7f7f7f; text-decoration-color: #7f7f7f\">                  </span>\n",
       "<span style=\"color: #7fbfbf; text-decoration-color: #7fbfbf\">                    </span>         <span style=\"color: #008000; text-decoration-color: #008000\">'generativelanguage.googleapis.com/generate_requests_per_model'</span>,    <span style=\"color: #7f7f7f; text-decoration-color: #7f7f7f\">                  </span>\n",
       "<span style=\"color: #7fbfbf; text-decoration-color: #7fbfbf\">                    </span>         <span style=\"color: #008000; text-decoration-color: #008000\">'quotaId'</span>: <span style=\"color: #008000; text-decoration-color: #008000\">'GenerateRequestsPerMinutePerProjectPerModel'</span>,           <span style=\"color: #7f7f7f; text-decoration-color: #7f7f7f\">                  </span>\n",
       "<span style=\"color: #7fbfbf; text-decoration-color: #7fbfbf\">                    </span>         <span style=\"color: #008000; text-decoration-color: #008000\">'quotaDimensions'</span>: <span style=\"font-weight: bold\">{</span><span style=\"color: #008000; text-decoration-color: #008000\">'location'</span>: <span style=\"color: #008000; text-decoration-color: #008000\">'global'</span>, <span style=\"color: #008000; text-decoration-color: #008000\">'model'</span>:                  <span style=\"color: #7f7f7f; text-decoration-color: #7f7f7f\">                  </span>\n",
       "<span style=\"color: #7fbfbf; text-decoration-color: #7fbfbf\">                    </span>         <span style=\"color: #008000; text-decoration-color: #008000\">'gemini-2.0-flash-exp'</span><span style=\"font-weight: bold\">}</span>, <span style=\"color: #008000; text-decoration-color: #008000\">'quotaValue'</span>: <span style=\"color: #008000; text-decoration-color: #008000\">'10'</span><span style=\"font-weight: bold\">}]}</span>, <span style=\"font-weight: bold\">{</span><span style=\"color: #008000; text-decoration-color: #008000\">'@type'</span>:           <span style=\"color: #7f7f7f; text-decoration-color: #7f7f7f\">                  </span>\n",
       "<span style=\"color: #7fbfbf; text-decoration-color: #7fbfbf\">                    </span>         <span style=\"color: #008000; text-decoration-color: #008000\">'type.googleapis.com/google.rpc.Help'</span>, <span style=\"color: #008000; text-decoration-color: #008000\">'links'</span>: <span style=\"font-weight: bold\">[{</span><span style=\"color: #008000; text-decoration-color: #008000\">'description'</span>:    <span style=\"color: #7f7f7f; text-decoration-color: #7f7f7f\">                  </span>\n",
       "<span style=\"color: #7fbfbf; text-decoration-color: #7fbfbf\">                    </span>         <span style=\"color: #008000; text-decoration-color: #008000\">'Learn more about Gemini API quotas'</span>, <span style=\"color: #008000; text-decoration-color: #008000\">'url'</span>:                        <span style=\"color: #7f7f7f; text-decoration-color: #7f7f7f\">                  </span>\n",
       "<span style=\"color: #7fbfbf; text-decoration-color: #7fbfbf\">                    </span>         <span style=\"color: #008000; text-decoration-color: #008000\">'https://ai.google.dev/gemini-api/docs/rate-limits'</span><span style=\"font-weight: bold\">}]}</span>, <span style=\"font-weight: bold\">{</span><span style=\"color: #008000; text-decoration-color: #008000\">'@type'</span>:   <span style=\"color: #7f7f7f; text-decoration-color: #7f7f7f\">                  </span>\n",
       "<span style=\"color: #7fbfbf; text-decoration-color: #7fbfbf\">                    </span>         <span style=\"color: #008000; text-decoration-color: #008000\">'type.googleapis.com/google.rpc.RetryInfo'</span>, <span style=\"color: #008000; text-decoration-color: #008000\">'retryDelay'</span>: <span style=\"color: #008000; text-decoration-color: #008000\">'18s'</span><span style=\"font-weight: bold\">}]}}</span> <span style=\"color: #7f7f7f; text-decoration-color: #7f7f7f\">                  </span>\n",
       "</pre>\n"
      ],
      "text/plain": [
       "\u001b[2;36m                   \u001b[0m\u001b[2;36m \u001b[0m\u001b[1;31mERROR   \u001b[0m Gemini API call failed: \u001b[1;36m429\u001b[0m RESOURCE_EXHAUSTED. \u001b[1m{\u001b[0m\u001b[32m'error'\u001b[0m: \u001b[1m{\u001b[0m\u001b[32m'code'\u001b[0m:  \u001b]8;id=218842;file:///Users/sravanj/project_work/yellhorn-mcp/yellhorn_mcp/llm_manager.py\u001b\\\u001b[2mllm_manager.py\u001b[0m\u001b]8;;\u001b\\\u001b[2m:\u001b[0m\u001b]8;id=402244;file:///Users/sravanj/project_work/yellhorn-mcp/yellhorn_mcp/llm_manager.py#658\u001b\\\u001b[2m658\u001b[0m\u001b]8;;\u001b\\\n",
       "\u001b[2;36m                    \u001b[0m         \u001b[1;36m429\u001b[0m, \u001b[32m'message'\u001b[0m: \u001b[32m'You exceeded your current quota. Please migrate to\u001b[0m \u001b[2m                  \u001b[0m\n",
       "\u001b[2;36m                    \u001b[0m         \u001b[32mGemini 2.0 Flash Preview \u001b[0m\u001b[32m(\u001b[0m\u001b[32mImage Generation\u001b[0m\u001b[32m)\u001b[0m\u001b[32m \u001b[0m                        \u001b[2m                  \u001b[0m\n",
       "\u001b[2;36m                    \u001b[0m         \u001b[32m(\u001b[0m\u001b[32mmodels/gemini-2.0-flash-preview-image-generation\u001b[0m\u001b[32m)\u001b[0m\u001b[32m for higher quota\u001b[0m \u001b[2m                  \u001b[0m\n",
       "\u001b[2;36m                    \u001b[0m         \u001b[32mlimits. For more information on this error, head to: \u001b[0m               \u001b[2m                  \u001b[0m\n",
       "\u001b[2;36m                    \u001b[0m         \u001b[32mhttps://ai.google.dev/gemini-api/docs/rate-limits.'\u001b[0m, \u001b[32m'status'\u001b[0m:      \u001b[2m                  \u001b[0m\n",
       "\u001b[2;36m                    \u001b[0m         \u001b[32m'RESOURCE_EXHAUSTED'\u001b[0m, \u001b[32m'details'\u001b[0m: \u001b[1m[\u001b[0m\u001b[1m{\u001b[0m\u001b[32m'@type'\u001b[0m:                         \u001b[2m                  \u001b[0m\n",
       "\u001b[2;36m                    \u001b[0m         \u001b[32m'type.googleapis.com/google.rpc.QuotaFailure'\u001b[0m, \u001b[32m'violations'\u001b[0m:        \u001b[2m                  \u001b[0m\n",
       "\u001b[2;36m                    \u001b[0m         \u001b[1m[\u001b[0m\u001b[1m{\u001b[0m\u001b[32m'quotaMetric'\u001b[0m:                                                    \u001b[2m                  \u001b[0m\n",
       "\u001b[2;36m                    \u001b[0m         \u001b[32m'generativelanguage.googleapis.com/generate_requests_per_model'\u001b[0m,    \u001b[2m                  \u001b[0m\n",
       "\u001b[2;36m                    \u001b[0m         \u001b[32m'quotaId'\u001b[0m: \u001b[32m'GenerateRequestsPerMinutePerProjectPerModel'\u001b[0m,           \u001b[2m                  \u001b[0m\n",
       "\u001b[2;36m                    \u001b[0m         \u001b[32m'quotaDimensions'\u001b[0m: \u001b[1m{\u001b[0m\u001b[32m'location'\u001b[0m: \u001b[32m'global'\u001b[0m, \u001b[32m'model'\u001b[0m:                  \u001b[2m                  \u001b[0m\n",
       "\u001b[2;36m                    \u001b[0m         \u001b[32m'gemini-2.0-flash-exp'\u001b[0m\u001b[1m}\u001b[0m, \u001b[32m'quotaValue'\u001b[0m: \u001b[32m'10'\u001b[0m\u001b[1m}\u001b[0m\u001b[1m]\u001b[0m\u001b[1m}\u001b[0m, \u001b[1m{\u001b[0m\u001b[32m'@type'\u001b[0m:           \u001b[2m                  \u001b[0m\n",
       "\u001b[2;36m                    \u001b[0m         \u001b[32m'type.googleapis.com/google.rpc.Help'\u001b[0m, \u001b[32m'links'\u001b[0m: \u001b[1m[\u001b[0m\u001b[1m{\u001b[0m\u001b[32m'description'\u001b[0m:    \u001b[2m                  \u001b[0m\n",
       "\u001b[2;36m                    \u001b[0m         \u001b[32m'Learn more about Gemini API quotas'\u001b[0m, \u001b[32m'url'\u001b[0m:                        \u001b[2m                  \u001b[0m\n",
       "\u001b[2;36m                    \u001b[0m         \u001b[32m'https://ai.google.dev/gemini-api/docs/rate-limits'\u001b[0m\u001b[1m}\u001b[0m\u001b[1m]\u001b[0m\u001b[1m}\u001b[0m, \u001b[1m{\u001b[0m\u001b[32m'@type'\u001b[0m:   \u001b[2m                  \u001b[0m\n",
       "\u001b[2;36m                    \u001b[0m         \u001b[32m'type.googleapis.com/google.rpc.RetryInfo'\u001b[0m, \u001b[32m'retryDelay'\u001b[0m: \u001b[32m'18s'\u001b[0m\u001b[1m}\u001b[0m\u001b[1m]\u001b[0m\u001b[1m}\u001b[0m\u001b[1m}\u001b[0m \u001b[2m                  \u001b[0m\n"
      ]
     },
     "metadata": {},
     "output_type": "display_data"
    },
    {
     "data": {
      "text/html": [
       "<pre style=\"white-space:pre;overflow-x:auto;line-height:normal;font-family:Menlo,'DejaVu Sans Mono',consolas,'Courier New',monospace\"><span style=\"color: #7fbfbf; text-decoration-color: #7fbfbf\">                    </span><span style=\"color: #808000; text-decoration-color: #808000\">WARNING </span> Retrying _call_gemini after <span style=\"color: #008080; text-decoration-color: #008080; font-weight: bold\">12.6</span> seconds <span style=\"font-weight: bold\">(</span>attempt <span style=\"color: #008080; text-decoration-color: #008080; font-weight: bold\">4</span><span style=\"font-weight: bold\">)</span>: <span style=\"color: #008080; text-decoration-color: #008080; font-weight: bold\">429</span>            <a href=\"file:///Users/sravanj/project_work/yellhorn-mcp/yellhorn_mcp/llm_manager.py\" target=\"_blank\"><span style=\"color: #7f7f7f; text-decoration-color: #7f7f7f\">llm_manager.py</span></a><span style=\"color: #7f7f7f; text-decoration-color: #7f7f7f\">:</span><a href=\"file:///Users/sravanj/project_work/yellhorn-mcp/yellhorn_mcp/llm_manager.py#34\" target=\"_blank\"><span style=\"color: #7f7f7f; text-decoration-color: #7f7f7f\">34</span></a>\n",
       "<span style=\"color: #7fbfbf; text-decoration-color: #7fbfbf\">                    </span>         RESOURCE_EXHAUSTED. <span style=\"font-weight: bold\">{</span><span style=\"color: #008000; text-decoration-color: #008000\">'error'</span>: <span style=\"font-weight: bold\">{</span><span style=\"color: #008000; text-decoration-color: #008000\">'code'</span>: <span style=\"color: #008080; text-decoration-color: #008080; font-weight: bold\">429</span>, <span style=\"color: #008000; text-decoration-color: #008000\">'message'</span>: <span style=\"color: #008000; text-decoration-color: #008000\">'You exceeded</span> <span style=\"color: #7f7f7f; text-decoration-color: #7f7f7f\">                 </span>\n",
       "<span style=\"color: #7fbfbf; text-decoration-color: #7fbfbf\">                    </span>         <span style=\"color: #008000; text-decoration-color: #008000\">your current quota. Please migrate to Gemini 2.0 Flash Preview </span>      <span style=\"color: #7f7f7f; text-decoration-color: #7f7f7f\">                 </span>\n",
       "<span style=\"color: #7fbfbf; text-decoration-color: #7fbfbf\">                    </span>         <span style=\"color: #008000; text-decoration-color: #008000\">(Image Generation) </span>                                                  <span style=\"color: #7f7f7f; text-decoration-color: #7f7f7f\">                 </span>\n",
       "<span style=\"color: #7fbfbf; text-decoration-color: #7fbfbf\">                    </span>         <span style=\"color: #008000; text-decoration-color: #008000\">(models/gemini-2.0-flash-preview-image-generation) for higher quota </span> <span style=\"color: #7f7f7f; text-decoration-color: #7f7f7f\">                 </span>\n",
       "<span style=\"color: #7fbfbf; text-decoration-color: #7fbfbf\">                    </span>         <span style=\"color: #008000; text-decoration-color: #008000\">limits. For more information on this error, head to: </span>                <span style=\"color: #7f7f7f; text-decoration-color: #7f7f7f\">                 </span>\n",
       "<span style=\"color: #7fbfbf; text-decoration-color: #7fbfbf\">                    </span>         <span style=\"color: #008000; text-decoration-color: #008000\">https://ai.google.dev/gemini-api/docs/rate-limits.'</span>, <span style=\"color: #008000; text-decoration-color: #008000\">'status'</span>:       <span style=\"color: #7f7f7f; text-decoration-color: #7f7f7f\">                 </span>\n",
       "<span style=\"color: #7fbfbf; text-decoration-color: #7fbfbf\">                    </span>         <span style=\"color: #008000; text-decoration-color: #008000\">'RESOURCE_EXHAUSTED'</span>, <span style=\"color: #008000; text-decoration-color: #008000\">'details'</span>: <span style=\"font-weight: bold\">[{</span><span style=\"color: #008000; text-decoration-color: #008000\">'@type'</span>:                          <span style=\"color: #7f7f7f; text-decoration-color: #7f7f7f\">                 </span>\n",
       "<span style=\"color: #7fbfbf; text-decoration-color: #7fbfbf\">                    </span>         <span style=\"color: #008000; text-decoration-color: #008000\">'type.googleapis.com/google.rpc.QuotaFailure'</span>, <span style=\"color: #008000; text-decoration-color: #008000\">'violations'</span>:         <span style=\"color: #7f7f7f; text-decoration-color: #7f7f7f\">                 </span>\n",
       "<span style=\"color: #7fbfbf; text-decoration-color: #7fbfbf\">                    </span>         <span style=\"font-weight: bold\">[{</span><span style=\"color: #008000; text-decoration-color: #008000\">'quotaMetric'</span>:                                                     <span style=\"color: #7f7f7f; text-decoration-color: #7f7f7f\">                 </span>\n",
       "<span style=\"color: #7fbfbf; text-decoration-color: #7fbfbf\">                    </span>         <span style=\"color: #008000; text-decoration-color: #008000\">'generativelanguage.googleapis.com/generate_requests_per_model'</span>,     <span style=\"color: #7f7f7f; text-decoration-color: #7f7f7f\">                 </span>\n",
       "<span style=\"color: #7fbfbf; text-decoration-color: #7fbfbf\">                    </span>         <span style=\"color: #008000; text-decoration-color: #008000\">'quotaId'</span>: <span style=\"color: #008000; text-decoration-color: #008000\">'GenerateRequestsPerMinutePerProjectPerModel'</span>,            <span style=\"color: #7f7f7f; text-decoration-color: #7f7f7f\">                 </span>\n",
       "<span style=\"color: #7fbfbf; text-decoration-color: #7fbfbf\">                    </span>         <span style=\"color: #008000; text-decoration-color: #008000\">'quotaDimensions'</span>: <span style=\"font-weight: bold\">{</span><span style=\"color: #008000; text-decoration-color: #008000\">'location'</span>: <span style=\"color: #008000; text-decoration-color: #008000\">'global'</span>, <span style=\"color: #008000; text-decoration-color: #008000\">'model'</span>:                   <span style=\"color: #7f7f7f; text-decoration-color: #7f7f7f\">                 </span>\n",
       "<span style=\"color: #7fbfbf; text-decoration-color: #7fbfbf\">                    </span>         <span style=\"color: #008000; text-decoration-color: #008000\">'gemini-2.0-flash-exp'</span><span style=\"font-weight: bold\">}</span>, <span style=\"color: #008000; text-decoration-color: #008000\">'quotaValue'</span>: <span style=\"color: #008000; text-decoration-color: #008000\">'10'</span><span style=\"font-weight: bold\">}]}</span>, <span style=\"font-weight: bold\">{</span><span style=\"color: #008000; text-decoration-color: #008000\">'@type'</span>:            <span style=\"color: #7f7f7f; text-decoration-color: #7f7f7f\">                 </span>\n",
       "<span style=\"color: #7fbfbf; text-decoration-color: #7fbfbf\">                    </span>         <span style=\"color: #008000; text-decoration-color: #008000\">'type.googleapis.com/google.rpc.Help'</span>, <span style=\"color: #008000; text-decoration-color: #008000\">'links'</span>: <span style=\"font-weight: bold\">[{</span><span style=\"color: #008000; text-decoration-color: #008000\">'description'</span>:     <span style=\"color: #7f7f7f; text-decoration-color: #7f7f7f\">                 </span>\n",
       "<span style=\"color: #7fbfbf; text-decoration-color: #7fbfbf\">                    </span>         <span style=\"color: #008000; text-decoration-color: #008000\">'Learn more about Gemini API quotas'</span>, <span style=\"color: #008000; text-decoration-color: #008000\">'url'</span>:                         <span style=\"color: #7f7f7f; text-decoration-color: #7f7f7f\">                 </span>\n",
       "<span style=\"color: #7fbfbf; text-decoration-color: #7fbfbf\">                    </span>         <span style=\"color: #008000; text-decoration-color: #008000\">'https://ai.google.dev/gemini-api/docs/rate-limits'</span><span style=\"font-weight: bold\">}]}</span>, <span style=\"font-weight: bold\">{</span><span style=\"color: #008000; text-decoration-color: #008000\">'@type'</span>:    <span style=\"color: #7f7f7f; text-decoration-color: #7f7f7f\">                 </span>\n",
       "<span style=\"color: #7fbfbf; text-decoration-color: #7fbfbf\">                    </span>         <span style=\"color: #008000; text-decoration-color: #008000\">'type.googleapis.com/google.rpc.RetryInfo'</span>, <span style=\"color: #008000; text-decoration-color: #008000\">'retryDelay'</span>: <span style=\"color: #008000; text-decoration-color: #008000\">'18s'</span><span style=\"font-weight: bold\">}]}}</span>  <span style=\"color: #7f7f7f; text-decoration-color: #7f7f7f\">                 </span>\n",
       "</pre>\n"
      ],
      "text/plain": [
       "\u001b[2;36m                   \u001b[0m\u001b[2;36m \u001b[0m\u001b[33mWARNING \u001b[0m Retrying _call_gemini after \u001b[1;36m12.6\u001b[0m seconds \u001b[1m(\u001b[0mattempt \u001b[1;36m4\u001b[0m\u001b[1m)\u001b[0m: \u001b[1;36m429\u001b[0m            \u001b]8;id=40376;file:///Users/sravanj/project_work/yellhorn-mcp/yellhorn_mcp/llm_manager.py\u001b\\\u001b[2mllm_manager.py\u001b[0m\u001b]8;;\u001b\\\u001b[2m:\u001b[0m\u001b]8;id=492874;file:///Users/sravanj/project_work/yellhorn-mcp/yellhorn_mcp/llm_manager.py#34\u001b\\\u001b[2m34\u001b[0m\u001b]8;;\u001b\\\n",
       "\u001b[2;36m                    \u001b[0m         RESOURCE_EXHAUSTED. \u001b[1m{\u001b[0m\u001b[32m'error'\u001b[0m: \u001b[1m{\u001b[0m\u001b[32m'code'\u001b[0m: \u001b[1;36m429\u001b[0m, \u001b[32m'message'\u001b[0m: \u001b[32m'You exceeded\u001b[0m \u001b[2m                 \u001b[0m\n",
       "\u001b[2;36m                    \u001b[0m         \u001b[32myour current quota. Please migrate to Gemini 2.0 Flash Preview \u001b[0m      \u001b[2m                 \u001b[0m\n",
       "\u001b[2;36m                    \u001b[0m         \u001b[32m(\u001b[0m\u001b[32mImage Generation\u001b[0m\u001b[32m)\u001b[0m\u001b[32m \u001b[0m                                                  \u001b[2m                 \u001b[0m\n",
       "\u001b[2;36m                    \u001b[0m         \u001b[32m(\u001b[0m\u001b[32mmodels/gemini-2.0-flash-preview-image-generation\u001b[0m\u001b[32m)\u001b[0m\u001b[32m for higher quota \u001b[0m \u001b[2m                 \u001b[0m\n",
       "\u001b[2;36m                    \u001b[0m         \u001b[32mlimits. For more information on this error, head to: \u001b[0m                \u001b[2m                 \u001b[0m\n",
       "\u001b[2;36m                    \u001b[0m         \u001b[32mhttps://ai.google.dev/gemini-api/docs/rate-limits.'\u001b[0m, \u001b[32m'status'\u001b[0m:       \u001b[2m                 \u001b[0m\n",
       "\u001b[2;36m                    \u001b[0m         \u001b[32m'RESOURCE_EXHAUSTED'\u001b[0m, \u001b[32m'details'\u001b[0m: \u001b[1m[\u001b[0m\u001b[1m{\u001b[0m\u001b[32m'@type'\u001b[0m:                          \u001b[2m                 \u001b[0m\n",
       "\u001b[2;36m                    \u001b[0m         \u001b[32m'type.googleapis.com/google.rpc.QuotaFailure'\u001b[0m, \u001b[32m'violations'\u001b[0m:         \u001b[2m                 \u001b[0m\n",
       "\u001b[2;36m                    \u001b[0m         \u001b[1m[\u001b[0m\u001b[1m{\u001b[0m\u001b[32m'quotaMetric'\u001b[0m:                                                     \u001b[2m                 \u001b[0m\n",
       "\u001b[2;36m                    \u001b[0m         \u001b[32m'generativelanguage.googleapis.com/generate_requests_per_model'\u001b[0m,     \u001b[2m                 \u001b[0m\n",
       "\u001b[2;36m                    \u001b[0m         \u001b[32m'quotaId'\u001b[0m: \u001b[32m'GenerateRequestsPerMinutePerProjectPerModel'\u001b[0m,            \u001b[2m                 \u001b[0m\n",
       "\u001b[2;36m                    \u001b[0m         \u001b[32m'quotaDimensions'\u001b[0m: \u001b[1m{\u001b[0m\u001b[32m'location'\u001b[0m: \u001b[32m'global'\u001b[0m, \u001b[32m'model'\u001b[0m:                   \u001b[2m                 \u001b[0m\n",
       "\u001b[2;36m                    \u001b[0m         \u001b[32m'gemini-2.0-flash-exp'\u001b[0m\u001b[1m}\u001b[0m, \u001b[32m'quotaValue'\u001b[0m: \u001b[32m'10'\u001b[0m\u001b[1m}\u001b[0m\u001b[1m]\u001b[0m\u001b[1m}\u001b[0m, \u001b[1m{\u001b[0m\u001b[32m'@type'\u001b[0m:            \u001b[2m                 \u001b[0m\n",
       "\u001b[2;36m                    \u001b[0m         \u001b[32m'type.googleapis.com/google.rpc.Help'\u001b[0m, \u001b[32m'links'\u001b[0m: \u001b[1m[\u001b[0m\u001b[1m{\u001b[0m\u001b[32m'description'\u001b[0m:     \u001b[2m                 \u001b[0m\n",
       "\u001b[2;36m                    \u001b[0m         \u001b[32m'Learn more about Gemini API quotas'\u001b[0m, \u001b[32m'url'\u001b[0m:                         \u001b[2m                 \u001b[0m\n",
       "\u001b[2;36m                    \u001b[0m         \u001b[32m'https://ai.google.dev/gemini-api/docs/rate-limits'\u001b[0m\u001b[1m}\u001b[0m\u001b[1m]\u001b[0m\u001b[1m}\u001b[0m, \u001b[1m{\u001b[0m\u001b[32m'@type'\u001b[0m:    \u001b[2m                 \u001b[0m\n",
       "\u001b[2;36m                    \u001b[0m         \u001b[32m'type.googleapis.com/google.rpc.RetryInfo'\u001b[0m, \u001b[32m'retryDelay'\u001b[0m: \u001b[32m'18s'\u001b[0m\u001b[1m}\u001b[0m\u001b[1m]\u001b[0m\u001b[1m}\u001b[0m\u001b[1m}\u001b[0m  \u001b[2m                 \u001b[0m\n"
      ]
     },
     "metadata": {},
     "output_type": "display_data"
    },
    {
     "data": {
      "text/html": [
       "<pre style=\"white-space:pre;overflow-x:auto;line-height:normal;font-family:Menlo,'DejaVu Sans Mono',consolas,'Courier New',monospace\"><span style=\"color: #7fbfbf; text-decoration-color: #7fbfbf\">[07/12/25 21:32:49] </span><span style=\"color: #000080; text-decoration-color: #000080\">INFO    </span> AFC is enabled with max remote calls: <span style=\"color: #008080; text-decoration-color: #008080; font-weight: bold\">10</span>.                               <a href=\"file:///opt/anaconda3/envs/sravan-yellhorn/lib/python3.11/site-packages/google/genai/models.py\" target=\"_blank\"><span style=\"color: #7f7f7f; text-decoration-color: #7f7f7f\">models.py</span></a><span style=\"color: #7f7f7f; text-decoration-color: #7f7f7f\">:</span><a href=\"file:///opt/anaconda3/envs/sravan-yellhorn/lib/python3.11/site-packages/google/genai/models.py#7118\" target=\"_blank\"><span style=\"color: #7f7f7f; text-decoration-color: #7f7f7f\">7118</span></a>\n",
       "</pre>\n"
      ],
      "text/plain": [
       "\u001b[2;36m[07/12/25 21:32:49]\u001b[0m\u001b[2;36m \u001b[0m\u001b[34mINFO    \u001b[0m AFC is enabled with max remote calls: \u001b[1;36m10\u001b[0m.                               \u001b]8;id=340753;file:///opt/anaconda3/envs/sravan-yellhorn/lib/python3.11/site-packages/google/genai/models.py\u001b\\\u001b[2mmodels.py\u001b[0m\u001b]8;;\u001b\\\u001b[2m:\u001b[0m\u001b]8;id=994010;file:///opt/anaconda3/envs/sravan-yellhorn/lib/python3.11/site-packages/google/genai/models.py#7118\u001b\\\u001b[2m7118\u001b[0m\u001b]8;;\u001b\\\n"
      ]
     },
     "metadata": {},
     "output_type": "display_data"
    },
    {
     "data": {
      "text/html": [
       "<pre style=\"white-space:pre;overflow-x:auto;line-height:normal;font-family:Menlo,'DejaVu Sans Mono',consolas,'Courier New',monospace\"><span style=\"color: #7fbfbf; text-decoration-color: #7fbfbf\">[07/12/25 21:32:50] </span><span style=\"color: #000080; text-decoration-color: #000080\">INFO    </span> HTTP Request: <span style=\"color: #808000; text-decoration-color: #808000; font-weight: bold\">POST</span>                                                     <a href=\"file:///opt/anaconda3/envs/sravan-yellhorn/lib/python3.11/site-packages/httpx/_client.py\" target=\"_blank\"><span style=\"color: #7f7f7f; text-decoration-color: #7f7f7f\">_client.py</span></a><span style=\"color: #7f7f7f; text-decoration-color: #7f7f7f\">:</span><a href=\"file:///opt/anaconda3/envs/sravan-yellhorn/lib/python3.11/site-packages/httpx/_client.py#1740\" target=\"_blank\"><span style=\"color: #7f7f7f; text-decoration-color: #7f7f7f\">1740</span></a>\n",
       "<span style=\"color: #7fbfbf; text-decoration-color: #7fbfbf\">                    </span>         <span style=\"color: #0000ff; text-decoration-color: #0000ff; text-decoration: underline\">https://generativelanguage.googleapis.com/v1beta/models/gemini-2.0-fla</span> <span style=\"color: #7f7f7f; text-decoration-color: #7f7f7f\">               </span>\n",
       "<span style=\"color: #7fbfbf; text-decoration-color: #7fbfbf\">                    </span>         <span style=\"color: #0000ff; text-decoration-color: #0000ff; text-decoration: underline\">sh-exp:generateContent</span> <span style=\"color: #008000; text-decoration-color: #008000\">\"HTTP/1.1 200 OK\"</span>                               <span style=\"color: #7f7f7f; text-decoration-color: #7f7f7f\">               </span>\n",
       "</pre>\n"
      ],
      "text/plain": [
       "\u001b[2;36m[07/12/25 21:32:50]\u001b[0m\u001b[2;36m \u001b[0m\u001b[34mINFO    \u001b[0m HTTP Request: \u001b[1;33mPOST\u001b[0m                                                     \u001b]8;id=740084;file:///opt/anaconda3/envs/sravan-yellhorn/lib/python3.11/site-packages/httpx/_client.py\u001b\\\u001b[2m_client.py\u001b[0m\u001b]8;;\u001b\\\u001b[2m:\u001b[0m\u001b]8;id=951100;file:///opt/anaconda3/envs/sravan-yellhorn/lib/python3.11/site-packages/httpx/_client.py#1740\u001b\\\u001b[2m1740\u001b[0m\u001b]8;;\u001b\\\n",
       "\u001b[2;36m                    \u001b[0m         \u001b[4;94mhttps://generativelanguage.googleapis.com/v1beta/models/gemini-2.0-fla\u001b[0m \u001b[2m               \u001b[0m\n",
       "\u001b[2;36m                    \u001b[0m         \u001b[4;94msh-exp:generateContent\u001b[0m \u001b[32m\"HTTP/1.1 200 OK\"\u001b[0m                               \u001b[2m               \u001b[0m\n"
      ]
     },
     "metadata": {},
     "output_type": "display_data"
    },
    {
     "data": {
      "text/html": [
       "<pre style=\"white-space:pre;overflow-x:auto;line-height:normal;font-family:Menlo,'DejaVu Sans Mono',consolas,'Courier New',monospace\"><span style=\"color: #7fbfbf; text-decoration-color: #7fbfbf\">                    </span><span style=\"color: #000080; text-decoration-color: #000080\">INFO    </span> AFC is enabled with max remote calls: <span style=\"color: #008080; text-decoration-color: #008080; font-weight: bold\">10</span>.                               <a href=\"file:///opt/anaconda3/envs/sravan-yellhorn/lib/python3.11/site-packages/google/genai/models.py\" target=\"_blank\"><span style=\"color: #7f7f7f; text-decoration-color: #7f7f7f\">models.py</span></a><span style=\"color: #7f7f7f; text-decoration-color: #7f7f7f\">:</span><a href=\"file:///opt/anaconda3/envs/sravan-yellhorn/lib/python3.11/site-packages/google/genai/models.py#7118\" target=\"_blank\"><span style=\"color: #7f7f7f; text-decoration-color: #7f7f7f\">7118</span></a>\n",
       "</pre>\n"
      ],
      "text/plain": [
       "\u001b[2;36m                   \u001b[0m\u001b[2;36m \u001b[0m\u001b[34mINFO    \u001b[0m AFC is enabled with max remote calls: \u001b[1;36m10\u001b[0m.                               \u001b]8;id=589114;file:///opt/anaconda3/envs/sravan-yellhorn/lib/python3.11/site-packages/google/genai/models.py\u001b\\\u001b[2mmodels.py\u001b[0m\u001b]8;;\u001b\\\u001b[2m:\u001b[0m\u001b]8;id=365966;file:///opt/anaconda3/envs/sravan-yellhorn/lib/python3.11/site-packages/google/genai/models.py#7118\u001b\\\u001b[2m7118\u001b[0m\u001b]8;;\u001b\\\n"
      ]
     },
     "metadata": {},
     "output_type": "display_data"
    },
    {
     "data": {
      "text/html": [
       "<pre style=\"white-space:pre;overflow-x:auto;line-height:normal;font-family:Menlo,'DejaVu Sans Mono',consolas,'Courier New',monospace\"><span style=\"color: #7fbfbf; text-decoration-color: #7fbfbf\">                    </span><span style=\"color: #000080; text-decoration-color: #000080\">INFO    </span> HTTP Request: <span style=\"color: #808000; text-decoration-color: #808000; font-weight: bold\">POST</span>                                                     <a href=\"file:///opt/anaconda3/envs/sravan-yellhorn/lib/python3.11/site-packages/httpx/_client.py\" target=\"_blank\"><span style=\"color: #7f7f7f; text-decoration-color: #7f7f7f\">_client.py</span></a><span style=\"color: #7f7f7f; text-decoration-color: #7f7f7f\">:</span><a href=\"file:///opt/anaconda3/envs/sravan-yellhorn/lib/python3.11/site-packages/httpx/_client.py#1740\" target=\"_blank\"><span style=\"color: #7f7f7f; text-decoration-color: #7f7f7f\">1740</span></a>\n",
       "<span style=\"color: #7fbfbf; text-decoration-color: #7fbfbf\">                    </span>         <span style=\"color: #0000ff; text-decoration-color: #0000ff; text-decoration: underline\">https://generativelanguage.googleapis.com/v1beta/models/gemini-2.0-fla</span> <span style=\"color: #7f7f7f; text-decoration-color: #7f7f7f\">               </span>\n",
       "<span style=\"color: #7fbfbf; text-decoration-color: #7fbfbf\">                    </span>         <span style=\"color: #0000ff; text-decoration-color: #0000ff; text-decoration: underline\">sh-exp:generateContent</span> <span style=\"color: #008000; text-decoration-color: #008000\">\"HTTP/1.1 429 Too Many Requests\"</span>                <span style=\"color: #7f7f7f; text-decoration-color: #7f7f7f\">               </span>\n",
       "</pre>\n"
      ],
      "text/plain": [
       "\u001b[2;36m                   \u001b[0m\u001b[2;36m \u001b[0m\u001b[34mINFO    \u001b[0m HTTP Request: \u001b[1;33mPOST\u001b[0m                                                     \u001b]8;id=883134;file:///opt/anaconda3/envs/sravan-yellhorn/lib/python3.11/site-packages/httpx/_client.py\u001b\\\u001b[2m_client.py\u001b[0m\u001b]8;;\u001b\\\u001b[2m:\u001b[0m\u001b]8;id=584228;file:///opt/anaconda3/envs/sravan-yellhorn/lib/python3.11/site-packages/httpx/_client.py#1740\u001b\\\u001b[2m1740\u001b[0m\u001b]8;;\u001b\\\n",
       "\u001b[2;36m                    \u001b[0m         \u001b[4;94mhttps://generativelanguage.googleapis.com/v1beta/models/gemini-2.0-fla\u001b[0m \u001b[2m               \u001b[0m\n",
       "\u001b[2;36m                    \u001b[0m         \u001b[4;94msh-exp:generateContent\u001b[0m \u001b[32m\"HTTP/1.1 429 Too Many Requests\"\u001b[0m                \u001b[2m               \u001b[0m\n"
      ]
     },
     "metadata": {},
     "output_type": "display_data"
    },
    {
     "data": {
      "text/html": [
       "<pre style=\"white-space:pre;overflow-x:auto;line-height:normal;font-family:Menlo,'DejaVu Sans Mono',consolas,'Courier New',monospace\"><span style=\"color: #7fbfbf; text-decoration-color: #7fbfbf\">                    </span><span style=\"color: #800000; text-decoration-color: #800000; font-weight: bold\">ERROR   </span> Gemini API call failed: <span style=\"color: #008080; text-decoration-color: #008080; font-weight: bold\">429</span> RESOURCE_EXHAUSTED. <span style=\"font-weight: bold\">{</span><span style=\"color: #008000; text-decoration-color: #008000\">'error'</span>: <span style=\"font-weight: bold\">{</span><span style=\"color: #008000; text-decoration-color: #008000\">'code'</span>:  <a href=\"file:///Users/sravanj/project_work/yellhorn-mcp/yellhorn_mcp/llm_manager.py\" target=\"_blank\"><span style=\"color: #7f7f7f; text-decoration-color: #7f7f7f\">llm_manager.py</span></a><span style=\"color: #7f7f7f; text-decoration-color: #7f7f7f\">:</span><a href=\"file:///Users/sravanj/project_work/yellhorn-mcp/yellhorn_mcp/llm_manager.py#658\" target=\"_blank\"><span style=\"color: #7f7f7f; text-decoration-color: #7f7f7f\">658</span></a>\n",
       "<span style=\"color: #7fbfbf; text-decoration-color: #7fbfbf\">                    </span>         <span style=\"color: #008080; text-decoration-color: #008080; font-weight: bold\">429</span>, <span style=\"color: #008000; text-decoration-color: #008000\">'message'</span>: <span style=\"color: #008000; text-decoration-color: #008000\">'You exceeded your current quota. Please migrate to</span> <span style=\"color: #7f7f7f; text-decoration-color: #7f7f7f\">                  </span>\n",
       "<span style=\"color: #7fbfbf; text-decoration-color: #7fbfbf\">                    </span>         <span style=\"color: #008000; text-decoration-color: #008000\">Gemini 2.0 Flash Preview (Image Generation) </span>                        <span style=\"color: #7f7f7f; text-decoration-color: #7f7f7f\">                  </span>\n",
       "<span style=\"color: #7fbfbf; text-decoration-color: #7fbfbf\">                    </span>         <span style=\"color: #008000; text-decoration-color: #008000\">(models/gemini-2.0-flash-preview-image-generation) for higher quota</span> <span style=\"color: #7f7f7f; text-decoration-color: #7f7f7f\">                  </span>\n",
       "<span style=\"color: #7fbfbf; text-decoration-color: #7fbfbf\">                    </span>         <span style=\"color: #008000; text-decoration-color: #008000\">limits. For more information on this error, head to: </span>               <span style=\"color: #7f7f7f; text-decoration-color: #7f7f7f\">                  </span>\n",
       "<span style=\"color: #7fbfbf; text-decoration-color: #7fbfbf\">                    </span>         <span style=\"color: #008000; text-decoration-color: #008000\">https://ai.google.dev/gemini-api/docs/rate-limits.'</span>, <span style=\"color: #008000; text-decoration-color: #008000\">'status'</span>:      <span style=\"color: #7f7f7f; text-decoration-color: #7f7f7f\">                  </span>\n",
       "<span style=\"color: #7fbfbf; text-decoration-color: #7fbfbf\">                    </span>         <span style=\"color: #008000; text-decoration-color: #008000\">'RESOURCE_EXHAUSTED'</span>, <span style=\"color: #008000; text-decoration-color: #008000\">'details'</span>: <span style=\"font-weight: bold\">[{</span><span style=\"color: #008000; text-decoration-color: #008000\">'@type'</span>:                         <span style=\"color: #7f7f7f; text-decoration-color: #7f7f7f\">                  </span>\n",
       "<span style=\"color: #7fbfbf; text-decoration-color: #7fbfbf\">                    </span>         <span style=\"color: #008000; text-decoration-color: #008000\">'type.googleapis.com/google.rpc.QuotaFailure'</span>, <span style=\"color: #008000; text-decoration-color: #008000\">'violations'</span>:        <span style=\"color: #7f7f7f; text-decoration-color: #7f7f7f\">                  </span>\n",
       "<span style=\"color: #7fbfbf; text-decoration-color: #7fbfbf\">                    </span>         <span style=\"font-weight: bold\">[{</span><span style=\"color: #008000; text-decoration-color: #008000\">'quotaMetric'</span>:                                                    <span style=\"color: #7f7f7f; text-decoration-color: #7f7f7f\">                  </span>\n",
       "<span style=\"color: #7fbfbf; text-decoration-color: #7fbfbf\">                    </span>         <span style=\"color: #008000; text-decoration-color: #008000\">'generativelanguage.googleapis.com/generate_requests_per_model'</span>,    <span style=\"color: #7f7f7f; text-decoration-color: #7f7f7f\">                  </span>\n",
       "<span style=\"color: #7fbfbf; text-decoration-color: #7fbfbf\">                    </span>         <span style=\"color: #008000; text-decoration-color: #008000\">'quotaId'</span>: <span style=\"color: #008000; text-decoration-color: #008000\">'GenerateRequestsPerMinutePerProjectPerModel'</span>,           <span style=\"color: #7f7f7f; text-decoration-color: #7f7f7f\">                  </span>\n",
       "<span style=\"color: #7fbfbf; text-decoration-color: #7fbfbf\">                    </span>         <span style=\"color: #008000; text-decoration-color: #008000\">'quotaDimensions'</span>: <span style=\"font-weight: bold\">{</span><span style=\"color: #008000; text-decoration-color: #008000\">'location'</span>: <span style=\"color: #008000; text-decoration-color: #008000\">'global'</span>, <span style=\"color: #008000; text-decoration-color: #008000\">'model'</span>:                  <span style=\"color: #7f7f7f; text-decoration-color: #7f7f7f\">                  </span>\n",
       "<span style=\"color: #7fbfbf; text-decoration-color: #7fbfbf\">                    </span>         <span style=\"color: #008000; text-decoration-color: #008000\">'gemini-2.0-flash-exp'</span><span style=\"font-weight: bold\">}</span>, <span style=\"color: #008000; text-decoration-color: #008000\">'quotaValue'</span>: <span style=\"color: #008000; text-decoration-color: #008000\">'10'</span><span style=\"font-weight: bold\">}]}</span>, <span style=\"font-weight: bold\">{</span><span style=\"color: #008000; text-decoration-color: #008000\">'@type'</span>:           <span style=\"color: #7f7f7f; text-decoration-color: #7f7f7f\">                  </span>\n",
       "<span style=\"color: #7fbfbf; text-decoration-color: #7fbfbf\">                    </span>         <span style=\"color: #008000; text-decoration-color: #008000\">'type.googleapis.com/google.rpc.Help'</span>, <span style=\"color: #008000; text-decoration-color: #008000\">'links'</span>: <span style=\"font-weight: bold\">[{</span><span style=\"color: #008000; text-decoration-color: #008000\">'description'</span>:    <span style=\"color: #7f7f7f; text-decoration-color: #7f7f7f\">                  </span>\n",
       "<span style=\"color: #7fbfbf; text-decoration-color: #7fbfbf\">                    </span>         <span style=\"color: #008000; text-decoration-color: #008000\">'Learn more about Gemini API quotas'</span>, <span style=\"color: #008000; text-decoration-color: #008000\">'url'</span>:                        <span style=\"color: #7f7f7f; text-decoration-color: #7f7f7f\">                  </span>\n",
       "<span style=\"color: #7fbfbf; text-decoration-color: #7fbfbf\">                    </span>         <span style=\"color: #008000; text-decoration-color: #008000\">'https://ai.google.dev/gemini-api/docs/rate-limits'</span><span style=\"font-weight: bold\">}]}</span>, <span style=\"font-weight: bold\">{</span><span style=\"color: #008000; text-decoration-color: #008000\">'@type'</span>:   <span style=\"color: #7f7f7f; text-decoration-color: #7f7f7f\">                  </span>\n",
       "<span style=\"color: #7fbfbf; text-decoration-color: #7fbfbf\">                    </span>         <span style=\"color: #008000; text-decoration-color: #008000\">'type.googleapis.com/google.rpc.RetryInfo'</span>, <span style=\"color: #008000; text-decoration-color: #008000\">'retryDelay'</span>: <span style=\"color: #008000; text-decoration-color: #008000\">'9s'</span><span style=\"font-weight: bold\">}]}}</span>  <span style=\"color: #7f7f7f; text-decoration-color: #7f7f7f\">                  </span>\n",
       "</pre>\n"
      ],
      "text/plain": [
       "\u001b[2;36m                   \u001b[0m\u001b[2;36m \u001b[0m\u001b[1;31mERROR   \u001b[0m Gemini API call failed: \u001b[1;36m429\u001b[0m RESOURCE_EXHAUSTED. \u001b[1m{\u001b[0m\u001b[32m'error'\u001b[0m: \u001b[1m{\u001b[0m\u001b[32m'code'\u001b[0m:  \u001b]8;id=935349;file:///Users/sravanj/project_work/yellhorn-mcp/yellhorn_mcp/llm_manager.py\u001b\\\u001b[2mllm_manager.py\u001b[0m\u001b]8;;\u001b\\\u001b[2m:\u001b[0m\u001b]8;id=56885;file:///Users/sravanj/project_work/yellhorn-mcp/yellhorn_mcp/llm_manager.py#658\u001b\\\u001b[2m658\u001b[0m\u001b]8;;\u001b\\\n",
       "\u001b[2;36m                    \u001b[0m         \u001b[1;36m429\u001b[0m, \u001b[32m'message'\u001b[0m: \u001b[32m'You exceeded your current quota. Please migrate to\u001b[0m \u001b[2m                  \u001b[0m\n",
       "\u001b[2;36m                    \u001b[0m         \u001b[32mGemini 2.0 Flash Preview \u001b[0m\u001b[32m(\u001b[0m\u001b[32mImage Generation\u001b[0m\u001b[32m)\u001b[0m\u001b[32m \u001b[0m                        \u001b[2m                  \u001b[0m\n",
       "\u001b[2;36m                    \u001b[0m         \u001b[32m(\u001b[0m\u001b[32mmodels/gemini-2.0-flash-preview-image-generation\u001b[0m\u001b[32m)\u001b[0m\u001b[32m for higher quota\u001b[0m \u001b[2m                  \u001b[0m\n",
       "\u001b[2;36m                    \u001b[0m         \u001b[32mlimits. For more information on this error, head to: \u001b[0m               \u001b[2m                  \u001b[0m\n",
       "\u001b[2;36m                    \u001b[0m         \u001b[32mhttps://ai.google.dev/gemini-api/docs/rate-limits.'\u001b[0m, \u001b[32m'status'\u001b[0m:      \u001b[2m                  \u001b[0m\n",
       "\u001b[2;36m                    \u001b[0m         \u001b[32m'RESOURCE_EXHAUSTED'\u001b[0m, \u001b[32m'details'\u001b[0m: \u001b[1m[\u001b[0m\u001b[1m{\u001b[0m\u001b[32m'@type'\u001b[0m:                         \u001b[2m                  \u001b[0m\n",
       "\u001b[2;36m                    \u001b[0m         \u001b[32m'type.googleapis.com/google.rpc.QuotaFailure'\u001b[0m, \u001b[32m'violations'\u001b[0m:        \u001b[2m                  \u001b[0m\n",
       "\u001b[2;36m                    \u001b[0m         \u001b[1m[\u001b[0m\u001b[1m{\u001b[0m\u001b[32m'quotaMetric'\u001b[0m:                                                    \u001b[2m                  \u001b[0m\n",
       "\u001b[2;36m                    \u001b[0m         \u001b[32m'generativelanguage.googleapis.com/generate_requests_per_model'\u001b[0m,    \u001b[2m                  \u001b[0m\n",
       "\u001b[2;36m                    \u001b[0m         \u001b[32m'quotaId'\u001b[0m: \u001b[32m'GenerateRequestsPerMinutePerProjectPerModel'\u001b[0m,           \u001b[2m                  \u001b[0m\n",
       "\u001b[2;36m                    \u001b[0m         \u001b[32m'quotaDimensions'\u001b[0m: \u001b[1m{\u001b[0m\u001b[32m'location'\u001b[0m: \u001b[32m'global'\u001b[0m, \u001b[32m'model'\u001b[0m:                  \u001b[2m                  \u001b[0m\n",
       "\u001b[2;36m                    \u001b[0m         \u001b[32m'gemini-2.0-flash-exp'\u001b[0m\u001b[1m}\u001b[0m, \u001b[32m'quotaValue'\u001b[0m: \u001b[32m'10'\u001b[0m\u001b[1m}\u001b[0m\u001b[1m]\u001b[0m\u001b[1m}\u001b[0m, \u001b[1m{\u001b[0m\u001b[32m'@type'\u001b[0m:           \u001b[2m                  \u001b[0m\n",
       "\u001b[2;36m                    \u001b[0m         \u001b[32m'type.googleapis.com/google.rpc.Help'\u001b[0m, \u001b[32m'links'\u001b[0m: \u001b[1m[\u001b[0m\u001b[1m{\u001b[0m\u001b[32m'description'\u001b[0m:    \u001b[2m                  \u001b[0m\n",
       "\u001b[2;36m                    \u001b[0m         \u001b[32m'Learn more about Gemini API quotas'\u001b[0m, \u001b[32m'url'\u001b[0m:                        \u001b[2m                  \u001b[0m\n",
       "\u001b[2;36m                    \u001b[0m         \u001b[32m'https://ai.google.dev/gemini-api/docs/rate-limits'\u001b[0m\u001b[1m}\u001b[0m\u001b[1m]\u001b[0m\u001b[1m}\u001b[0m, \u001b[1m{\u001b[0m\u001b[32m'@type'\u001b[0m:   \u001b[2m                  \u001b[0m\n",
       "\u001b[2;36m                    \u001b[0m         \u001b[32m'type.googleapis.com/google.rpc.RetryInfo'\u001b[0m, \u001b[32m'retryDelay'\u001b[0m: \u001b[32m'9s'\u001b[0m\u001b[1m}\u001b[0m\u001b[1m]\u001b[0m\u001b[1m}\u001b[0m\u001b[1m}\u001b[0m  \u001b[2m                  \u001b[0m\n"
      ]
     },
     "metadata": {},
     "output_type": "display_data"
    },
    {
     "data": {
      "text/html": [
       "<pre style=\"white-space:pre;overflow-x:auto;line-height:normal;font-family:Menlo,'DejaVu Sans Mono',consolas,'Courier New',monospace\"><span style=\"color: #7fbfbf; text-decoration-color: #7fbfbf\">                    </span><span style=\"color: #808000; text-decoration-color: #808000\">WARNING </span> Retrying _call_gemini after <span style=\"color: #008080; text-decoration-color: #008080; font-weight: bold\">0.1</span> seconds <span style=\"font-weight: bold\">(</span>attempt <span style=\"color: #008080; text-decoration-color: #008080; font-weight: bold\">1</span><span style=\"font-weight: bold\">)</span>: <span style=\"color: #008080; text-decoration-color: #008080; font-weight: bold\">429</span>             <a href=\"file:///Users/sravanj/project_work/yellhorn-mcp/yellhorn_mcp/llm_manager.py\" target=\"_blank\"><span style=\"color: #7f7f7f; text-decoration-color: #7f7f7f\">llm_manager.py</span></a><span style=\"color: #7f7f7f; text-decoration-color: #7f7f7f\">:</span><a href=\"file:///Users/sravanj/project_work/yellhorn-mcp/yellhorn_mcp/llm_manager.py#34\" target=\"_blank\"><span style=\"color: #7f7f7f; text-decoration-color: #7f7f7f\">34</span></a>\n",
       "<span style=\"color: #7fbfbf; text-decoration-color: #7fbfbf\">                    </span>         RESOURCE_EXHAUSTED. <span style=\"font-weight: bold\">{</span><span style=\"color: #008000; text-decoration-color: #008000\">'error'</span>: <span style=\"font-weight: bold\">{</span><span style=\"color: #008000; text-decoration-color: #008000\">'code'</span>: <span style=\"color: #008080; text-decoration-color: #008080; font-weight: bold\">429</span>, <span style=\"color: #008000; text-decoration-color: #008000\">'message'</span>: <span style=\"color: #008000; text-decoration-color: #008000\">'You exceeded</span> <span style=\"color: #7f7f7f; text-decoration-color: #7f7f7f\">                 </span>\n",
       "<span style=\"color: #7fbfbf; text-decoration-color: #7fbfbf\">                    </span>         <span style=\"color: #008000; text-decoration-color: #008000\">your current quota. Please migrate to Gemini 2.0 Flash Preview </span>      <span style=\"color: #7f7f7f; text-decoration-color: #7f7f7f\">                 </span>\n",
       "<span style=\"color: #7fbfbf; text-decoration-color: #7fbfbf\">                    </span>         <span style=\"color: #008000; text-decoration-color: #008000\">(Image Generation) </span>                                                  <span style=\"color: #7f7f7f; text-decoration-color: #7f7f7f\">                 </span>\n",
       "<span style=\"color: #7fbfbf; text-decoration-color: #7fbfbf\">                    </span>         <span style=\"color: #008000; text-decoration-color: #008000\">(models/gemini-2.0-flash-preview-image-generation) for higher quota </span> <span style=\"color: #7f7f7f; text-decoration-color: #7f7f7f\">                 </span>\n",
       "<span style=\"color: #7fbfbf; text-decoration-color: #7fbfbf\">                    </span>         <span style=\"color: #008000; text-decoration-color: #008000\">limits. For more information on this error, head to: </span>                <span style=\"color: #7f7f7f; text-decoration-color: #7f7f7f\">                 </span>\n",
       "<span style=\"color: #7fbfbf; text-decoration-color: #7fbfbf\">                    </span>         <span style=\"color: #008000; text-decoration-color: #008000\">https://ai.google.dev/gemini-api/docs/rate-limits.'</span>, <span style=\"color: #008000; text-decoration-color: #008000\">'status'</span>:       <span style=\"color: #7f7f7f; text-decoration-color: #7f7f7f\">                 </span>\n",
       "<span style=\"color: #7fbfbf; text-decoration-color: #7fbfbf\">                    </span>         <span style=\"color: #008000; text-decoration-color: #008000\">'RESOURCE_EXHAUSTED'</span>, <span style=\"color: #008000; text-decoration-color: #008000\">'details'</span>: <span style=\"font-weight: bold\">[{</span><span style=\"color: #008000; text-decoration-color: #008000\">'@type'</span>:                          <span style=\"color: #7f7f7f; text-decoration-color: #7f7f7f\">                 </span>\n",
       "<span style=\"color: #7fbfbf; text-decoration-color: #7fbfbf\">                    </span>         <span style=\"color: #008000; text-decoration-color: #008000\">'type.googleapis.com/google.rpc.QuotaFailure'</span>, <span style=\"color: #008000; text-decoration-color: #008000\">'violations'</span>:         <span style=\"color: #7f7f7f; text-decoration-color: #7f7f7f\">                 </span>\n",
       "<span style=\"color: #7fbfbf; text-decoration-color: #7fbfbf\">                    </span>         <span style=\"font-weight: bold\">[{</span><span style=\"color: #008000; text-decoration-color: #008000\">'quotaMetric'</span>:                                                     <span style=\"color: #7f7f7f; text-decoration-color: #7f7f7f\">                 </span>\n",
       "<span style=\"color: #7fbfbf; text-decoration-color: #7fbfbf\">                    </span>         <span style=\"color: #008000; text-decoration-color: #008000\">'generativelanguage.googleapis.com/generate_requests_per_model'</span>,     <span style=\"color: #7f7f7f; text-decoration-color: #7f7f7f\">                 </span>\n",
       "<span style=\"color: #7fbfbf; text-decoration-color: #7fbfbf\">                    </span>         <span style=\"color: #008000; text-decoration-color: #008000\">'quotaId'</span>: <span style=\"color: #008000; text-decoration-color: #008000\">'GenerateRequestsPerMinutePerProjectPerModel'</span>,            <span style=\"color: #7f7f7f; text-decoration-color: #7f7f7f\">                 </span>\n",
       "<span style=\"color: #7fbfbf; text-decoration-color: #7fbfbf\">                    </span>         <span style=\"color: #008000; text-decoration-color: #008000\">'quotaDimensions'</span>: <span style=\"font-weight: bold\">{</span><span style=\"color: #008000; text-decoration-color: #008000\">'location'</span>: <span style=\"color: #008000; text-decoration-color: #008000\">'global'</span>, <span style=\"color: #008000; text-decoration-color: #008000\">'model'</span>:                   <span style=\"color: #7f7f7f; text-decoration-color: #7f7f7f\">                 </span>\n",
       "<span style=\"color: #7fbfbf; text-decoration-color: #7fbfbf\">                    </span>         <span style=\"color: #008000; text-decoration-color: #008000\">'gemini-2.0-flash-exp'</span><span style=\"font-weight: bold\">}</span>, <span style=\"color: #008000; text-decoration-color: #008000\">'quotaValue'</span>: <span style=\"color: #008000; text-decoration-color: #008000\">'10'</span><span style=\"font-weight: bold\">}]}</span>, <span style=\"font-weight: bold\">{</span><span style=\"color: #008000; text-decoration-color: #008000\">'@type'</span>:            <span style=\"color: #7f7f7f; text-decoration-color: #7f7f7f\">                 </span>\n",
       "<span style=\"color: #7fbfbf; text-decoration-color: #7fbfbf\">                    </span>         <span style=\"color: #008000; text-decoration-color: #008000\">'type.googleapis.com/google.rpc.Help'</span>, <span style=\"color: #008000; text-decoration-color: #008000\">'links'</span>: <span style=\"font-weight: bold\">[{</span><span style=\"color: #008000; text-decoration-color: #008000\">'description'</span>:     <span style=\"color: #7f7f7f; text-decoration-color: #7f7f7f\">                 </span>\n",
       "<span style=\"color: #7fbfbf; text-decoration-color: #7fbfbf\">                    </span>         <span style=\"color: #008000; text-decoration-color: #008000\">'Learn more about Gemini API quotas'</span>, <span style=\"color: #008000; text-decoration-color: #008000\">'url'</span>:                         <span style=\"color: #7f7f7f; text-decoration-color: #7f7f7f\">                 </span>\n",
       "<span style=\"color: #7fbfbf; text-decoration-color: #7fbfbf\">                    </span>         <span style=\"color: #008000; text-decoration-color: #008000\">'https://ai.google.dev/gemini-api/docs/rate-limits'</span><span style=\"font-weight: bold\">}]}</span>, <span style=\"font-weight: bold\">{</span><span style=\"color: #008000; text-decoration-color: #008000\">'@type'</span>:    <span style=\"color: #7f7f7f; text-decoration-color: #7f7f7f\">                 </span>\n",
       "<span style=\"color: #7fbfbf; text-decoration-color: #7fbfbf\">                    </span>         <span style=\"color: #008000; text-decoration-color: #008000\">'type.googleapis.com/google.rpc.RetryInfo'</span>, <span style=\"color: #008000; text-decoration-color: #008000\">'retryDelay'</span>: <span style=\"color: #008000; text-decoration-color: #008000\">'9s'</span><span style=\"font-weight: bold\">}]}}</span>   <span style=\"color: #7f7f7f; text-decoration-color: #7f7f7f\">                 </span>\n",
       "</pre>\n"
      ],
      "text/plain": [
       "\u001b[2;36m                   \u001b[0m\u001b[2;36m \u001b[0m\u001b[33mWARNING \u001b[0m Retrying _call_gemini after \u001b[1;36m0.1\u001b[0m seconds \u001b[1m(\u001b[0mattempt \u001b[1;36m1\u001b[0m\u001b[1m)\u001b[0m: \u001b[1;36m429\u001b[0m             \u001b]8;id=86492;file:///Users/sravanj/project_work/yellhorn-mcp/yellhorn_mcp/llm_manager.py\u001b\\\u001b[2mllm_manager.py\u001b[0m\u001b]8;;\u001b\\\u001b[2m:\u001b[0m\u001b]8;id=523571;file:///Users/sravanj/project_work/yellhorn-mcp/yellhorn_mcp/llm_manager.py#34\u001b\\\u001b[2m34\u001b[0m\u001b]8;;\u001b\\\n",
       "\u001b[2;36m                    \u001b[0m         RESOURCE_EXHAUSTED. \u001b[1m{\u001b[0m\u001b[32m'error'\u001b[0m: \u001b[1m{\u001b[0m\u001b[32m'code'\u001b[0m: \u001b[1;36m429\u001b[0m, \u001b[32m'message'\u001b[0m: \u001b[32m'You exceeded\u001b[0m \u001b[2m                 \u001b[0m\n",
       "\u001b[2;36m                    \u001b[0m         \u001b[32myour current quota. Please migrate to Gemini 2.0 Flash Preview \u001b[0m      \u001b[2m                 \u001b[0m\n",
       "\u001b[2;36m                    \u001b[0m         \u001b[32m(\u001b[0m\u001b[32mImage Generation\u001b[0m\u001b[32m)\u001b[0m\u001b[32m \u001b[0m                                                  \u001b[2m                 \u001b[0m\n",
       "\u001b[2;36m                    \u001b[0m         \u001b[32m(\u001b[0m\u001b[32mmodels/gemini-2.0-flash-preview-image-generation\u001b[0m\u001b[32m)\u001b[0m\u001b[32m for higher quota \u001b[0m \u001b[2m                 \u001b[0m\n",
       "\u001b[2;36m                    \u001b[0m         \u001b[32mlimits. For more information on this error, head to: \u001b[0m                \u001b[2m                 \u001b[0m\n",
       "\u001b[2;36m                    \u001b[0m         \u001b[32mhttps://ai.google.dev/gemini-api/docs/rate-limits.'\u001b[0m, \u001b[32m'status'\u001b[0m:       \u001b[2m                 \u001b[0m\n",
       "\u001b[2;36m                    \u001b[0m         \u001b[32m'RESOURCE_EXHAUSTED'\u001b[0m, \u001b[32m'details'\u001b[0m: \u001b[1m[\u001b[0m\u001b[1m{\u001b[0m\u001b[32m'@type'\u001b[0m:                          \u001b[2m                 \u001b[0m\n",
       "\u001b[2;36m                    \u001b[0m         \u001b[32m'type.googleapis.com/google.rpc.QuotaFailure'\u001b[0m, \u001b[32m'violations'\u001b[0m:         \u001b[2m                 \u001b[0m\n",
       "\u001b[2;36m                    \u001b[0m         \u001b[1m[\u001b[0m\u001b[1m{\u001b[0m\u001b[32m'quotaMetric'\u001b[0m:                                                     \u001b[2m                 \u001b[0m\n",
       "\u001b[2;36m                    \u001b[0m         \u001b[32m'generativelanguage.googleapis.com/generate_requests_per_model'\u001b[0m,     \u001b[2m                 \u001b[0m\n",
       "\u001b[2;36m                    \u001b[0m         \u001b[32m'quotaId'\u001b[0m: \u001b[32m'GenerateRequestsPerMinutePerProjectPerModel'\u001b[0m,            \u001b[2m                 \u001b[0m\n",
       "\u001b[2;36m                    \u001b[0m         \u001b[32m'quotaDimensions'\u001b[0m: \u001b[1m{\u001b[0m\u001b[32m'location'\u001b[0m: \u001b[32m'global'\u001b[0m, \u001b[32m'model'\u001b[0m:                   \u001b[2m                 \u001b[0m\n",
       "\u001b[2;36m                    \u001b[0m         \u001b[32m'gemini-2.0-flash-exp'\u001b[0m\u001b[1m}\u001b[0m, \u001b[32m'quotaValue'\u001b[0m: \u001b[32m'10'\u001b[0m\u001b[1m}\u001b[0m\u001b[1m]\u001b[0m\u001b[1m}\u001b[0m, \u001b[1m{\u001b[0m\u001b[32m'@type'\u001b[0m:            \u001b[2m                 \u001b[0m\n",
       "\u001b[2;36m                    \u001b[0m         \u001b[32m'type.googleapis.com/google.rpc.Help'\u001b[0m, \u001b[32m'links'\u001b[0m: \u001b[1m[\u001b[0m\u001b[1m{\u001b[0m\u001b[32m'description'\u001b[0m:     \u001b[2m                 \u001b[0m\n",
       "\u001b[2;36m                    \u001b[0m         \u001b[32m'Learn more about Gemini API quotas'\u001b[0m, \u001b[32m'url'\u001b[0m:                         \u001b[2m                 \u001b[0m\n",
       "\u001b[2;36m                    \u001b[0m         \u001b[32m'https://ai.google.dev/gemini-api/docs/rate-limits'\u001b[0m\u001b[1m}\u001b[0m\u001b[1m]\u001b[0m\u001b[1m}\u001b[0m, \u001b[1m{\u001b[0m\u001b[32m'@type'\u001b[0m:    \u001b[2m                 \u001b[0m\n",
       "\u001b[2;36m                    \u001b[0m         \u001b[32m'type.googleapis.com/google.rpc.RetryInfo'\u001b[0m, \u001b[32m'retryDelay'\u001b[0m: \u001b[32m'9s'\u001b[0m\u001b[1m}\u001b[0m\u001b[1m]\u001b[0m\u001b[1m}\u001b[0m\u001b[1m}\u001b[0m   \u001b[2m                 \u001b[0m\n"
      ]
     },
     "metadata": {},
     "output_type": "display_data"
    },
    {
     "data": {
      "text/html": [
       "<pre style=\"white-space:pre;overflow-x:auto;line-height:normal;font-family:Menlo,'DejaVu Sans Mono',consolas,'Courier New',monospace\"><span style=\"color: #7fbfbf; text-decoration-color: #7fbfbf\">[07/12/25 21:32:54] </span><span style=\"color: #000080; text-decoration-color: #000080\">INFO    </span> AFC is enabled with max remote calls: <span style=\"color: #008080; text-decoration-color: #008080; font-weight: bold\">10</span>.                               <a href=\"file:///opt/anaconda3/envs/sravan-yellhorn/lib/python3.11/site-packages/google/genai/models.py\" target=\"_blank\"><span style=\"color: #7f7f7f; text-decoration-color: #7f7f7f\">models.py</span></a><span style=\"color: #7f7f7f; text-decoration-color: #7f7f7f\">:</span><a href=\"file:///opt/anaconda3/envs/sravan-yellhorn/lib/python3.11/site-packages/google/genai/models.py#7118\" target=\"_blank\"><span style=\"color: #7f7f7f; text-decoration-color: #7f7f7f\">7118</span></a>\n",
       "</pre>\n"
      ],
      "text/plain": [
       "\u001b[2;36m[07/12/25 21:32:54]\u001b[0m\u001b[2;36m \u001b[0m\u001b[34mINFO    \u001b[0m AFC is enabled with max remote calls: \u001b[1;36m10\u001b[0m.                               \u001b]8;id=420439;file:///opt/anaconda3/envs/sravan-yellhorn/lib/python3.11/site-packages/google/genai/models.py\u001b\\\u001b[2mmodels.py\u001b[0m\u001b]8;;\u001b\\\u001b[2m:\u001b[0m\u001b]8;id=329372;file:///opt/anaconda3/envs/sravan-yellhorn/lib/python3.11/site-packages/google/genai/models.py#7118\u001b\\\u001b[2m7118\u001b[0m\u001b]8;;\u001b\\\n"
      ]
     },
     "metadata": {},
     "output_type": "display_data"
    },
    {
     "data": {
      "text/html": [
       "<pre style=\"white-space:pre;overflow-x:auto;line-height:normal;font-family:Menlo,'DejaVu Sans Mono',consolas,'Courier New',monospace\"><span style=\"color: #7fbfbf; text-decoration-color: #7fbfbf\">[07/12/25 21:32:55] </span><span style=\"color: #000080; text-decoration-color: #000080\">INFO    </span> HTTP Request: <span style=\"color: #808000; text-decoration-color: #808000; font-weight: bold\">POST</span>                                                     <a href=\"file:///opt/anaconda3/envs/sravan-yellhorn/lib/python3.11/site-packages/httpx/_client.py\" target=\"_blank\"><span style=\"color: #7f7f7f; text-decoration-color: #7f7f7f\">_client.py</span></a><span style=\"color: #7f7f7f; text-decoration-color: #7f7f7f\">:</span><a href=\"file:///opt/anaconda3/envs/sravan-yellhorn/lib/python3.11/site-packages/httpx/_client.py#1740\" target=\"_blank\"><span style=\"color: #7f7f7f; text-decoration-color: #7f7f7f\">1740</span></a>\n",
       "<span style=\"color: #7fbfbf; text-decoration-color: #7fbfbf\">                    </span>         <span style=\"color: #0000ff; text-decoration-color: #0000ff; text-decoration: underline\">https://generativelanguage.googleapis.com/v1beta/models/gemini-2.0-fla</span> <span style=\"color: #7f7f7f; text-decoration-color: #7f7f7f\">               </span>\n",
       "<span style=\"color: #7fbfbf; text-decoration-color: #7fbfbf\">                    </span>         <span style=\"color: #0000ff; text-decoration-color: #0000ff; text-decoration: underline\">sh-exp:generateContent</span> <span style=\"color: #008000; text-decoration-color: #008000\">\"HTTP/1.1 200 OK\"</span>                               <span style=\"color: #7f7f7f; text-decoration-color: #7f7f7f\">               </span>\n",
       "</pre>\n"
      ],
      "text/plain": [
       "\u001b[2;36m[07/12/25 21:32:55]\u001b[0m\u001b[2;36m \u001b[0m\u001b[34mINFO    \u001b[0m HTTP Request: \u001b[1;33mPOST\u001b[0m                                                     \u001b]8;id=988720;file:///opt/anaconda3/envs/sravan-yellhorn/lib/python3.11/site-packages/httpx/_client.py\u001b\\\u001b[2m_client.py\u001b[0m\u001b]8;;\u001b\\\u001b[2m:\u001b[0m\u001b]8;id=170364;file:///opt/anaconda3/envs/sravan-yellhorn/lib/python3.11/site-packages/httpx/_client.py#1740\u001b\\\u001b[2m1740\u001b[0m\u001b]8;;\u001b\\\n",
       "\u001b[2;36m                    \u001b[0m         \u001b[4;94mhttps://generativelanguage.googleapis.com/v1beta/models/gemini-2.0-fla\u001b[0m \u001b[2m               \u001b[0m\n",
       "\u001b[2;36m                    \u001b[0m         \u001b[4;94msh-exp:generateContent\u001b[0m \u001b[32m\"HTTP/1.1 200 OK\"\u001b[0m                               \u001b[2m               \u001b[0m\n"
      ]
     },
     "metadata": {},
     "output_type": "display_data"
    },
    {
     "data": {
      "text/html": [
       "<pre style=\"white-space:pre;overflow-x:auto;line-height:normal;font-family:Menlo,'DejaVu Sans Mono',consolas,'Courier New',monospace\"><span style=\"color: #7fbfbf; text-decoration-color: #7fbfbf\">                    </span><span style=\"color: #000080; text-decoration-color: #000080\">INFO    </span> AFC is enabled with max remote calls: <span style=\"color: #008080; text-decoration-color: #008080; font-weight: bold\">10</span>.                               <a href=\"file:///opt/anaconda3/envs/sravan-yellhorn/lib/python3.11/site-packages/google/genai/models.py\" target=\"_blank\"><span style=\"color: #7f7f7f; text-decoration-color: #7f7f7f\">models.py</span></a><span style=\"color: #7f7f7f; text-decoration-color: #7f7f7f\">:</span><a href=\"file:///opt/anaconda3/envs/sravan-yellhorn/lib/python3.11/site-packages/google/genai/models.py#7118\" target=\"_blank\"><span style=\"color: #7f7f7f; text-decoration-color: #7f7f7f\">7118</span></a>\n",
       "</pre>\n"
      ],
      "text/plain": [
       "\u001b[2;36m                   \u001b[0m\u001b[2;36m \u001b[0m\u001b[34mINFO    \u001b[0m AFC is enabled with max remote calls: \u001b[1;36m10\u001b[0m.                               \u001b]8;id=105820;file:///opt/anaconda3/envs/sravan-yellhorn/lib/python3.11/site-packages/google/genai/models.py\u001b\\\u001b[2mmodels.py\u001b[0m\u001b]8;;\u001b\\\u001b[2m:\u001b[0m\u001b]8;id=922063;file:///opt/anaconda3/envs/sravan-yellhorn/lib/python3.11/site-packages/google/genai/models.py#7118\u001b\\\u001b[2m7118\u001b[0m\u001b]8;;\u001b\\\n"
      ]
     },
     "metadata": {},
     "output_type": "display_data"
    },
    {
     "data": {
      "text/html": [
       "<pre style=\"white-space:pre;overflow-x:auto;line-height:normal;font-family:Menlo,'DejaVu Sans Mono',consolas,'Courier New',monospace\"><span style=\"color: #7fbfbf; text-decoration-color: #7fbfbf\">                    </span><span style=\"color: #000080; text-decoration-color: #000080\">INFO    </span> HTTP Request: <span style=\"color: #808000; text-decoration-color: #808000; font-weight: bold\">POST</span>                                                     <a href=\"file:///opt/anaconda3/envs/sravan-yellhorn/lib/python3.11/site-packages/httpx/_client.py\" target=\"_blank\"><span style=\"color: #7f7f7f; text-decoration-color: #7f7f7f\">_client.py</span></a><span style=\"color: #7f7f7f; text-decoration-color: #7f7f7f\">:</span><a href=\"file:///opt/anaconda3/envs/sravan-yellhorn/lib/python3.11/site-packages/httpx/_client.py#1740\" target=\"_blank\"><span style=\"color: #7f7f7f; text-decoration-color: #7f7f7f\">1740</span></a>\n",
       "<span style=\"color: #7fbfbf; text-decoration-color: #7fbfbf\">                    </span>         <span style=\"color: #0000ff; text-decoration-color: #0000ff; text-decoration: underline\">https://generativelanguage.googleapis.com/v1beta/models/gemini-2.0-fla</span> <span style=\"color: #7f7f7f; text-decoration-color: #7f7f7f\">               </span>\n",
       "<span style=\"color: #7fbfbf; text-decoration-color: #7fbfbf\">                    </span>         <span style=\"color: #0000ff; text-decoration-color: #0000ff; text-decoration: underline\">sh-exp:generateContent</span> <span style=\"color: #008000; text-decoration-color: #008000\">\"HTTP/1.1 429 Too Many Requests\"</span>                <span style=\"color: #7f7f7f; text-decoration-color: #7f7f7f\">               </span>\n",
       "</pre>\n"
      ],
      "text/plain": [
       "\u001b[2;36m                   \u001b[0m\u001b[2;36m \u001b[0m\u001b[34mINFO    \u001b[0m HTTP Request: \u001b[1;33mPOST\u001b[0m                                                     \u001b]8;id=828385;file:///opt/anaconda3/envs/sravan-yellhorn/lib/python3.11/site-packages/httpx/_client.py\u001b\\\u001b[2m_client.py\u001b[0m\u001b]8;;\u001b\\\u001b[2m:\u001b[0m\u001b]8;id=131799;file:///opt/anaconda3/envs/sravan-yellhorn/lib/python3.11/site-packages/httpx/_client.py#1740\u001b\\\u001b[2m1740\u001b[0m\u001b]8;;\u001b\\\n",
       "\u001b[2;36m                    \u001b[0m         \u001b[4;94mhttps://generativelanguage.googleapis.com/v1beta/models/gemini-2.0-fla\u001b[0m \u001b[2m               \u001b[0m\n",
       "\u001b[2;36m                    \u001b[0m         \u001b[4;94msh-exp:generateContent\u001b[0m \u001b[32m\"HTTP/1.1 429 Too Many Requests\"\u001b[0m                \u001b[2m               \u001b[0m\n"
      ]
     },
     "metadata": {},
     "output_type": "display_data"
    },
    {
     "data": {
      "text/html": [
       "<pre style=\"white-space:pre;overflow-x:auto;line-height:normal;font-family:Menlo,'DejaVu Sans Mono',consolas,'Courier New',monospace\"><span style=\"color: #7fbfbf; text-decoration-color: #7fbfbf\">                    </span><span style=\"color: #800000; text-decoration-color: #800000; font-weight: bold\">ERROR   </span> Gemini API call failed: <span style=\"color: #008080; text-decoration-color: #008080; font-weight: bold\">429</span> RESOURCE_EXHAUSTED. <span style=\"font-weight: bold\">{</span><span style=\"color: #008000; text-decoration-color: #008000\">'error'</span>: <span style=\"font-weight: bold\">{</span><span style=\"color: #008000; text-decoration-color: #008000\">'code'</span>:  <a href=\"file:///Users/sravanj/project_work/yellhorn-mcp/yellhorn_mcp/llm_manager.py\" target=\"_blank\"><span style=\"color: #7f7f7f; text-decoration-color: #7f7f7f\">llm_manager.py</span></a><span style=\"color: #7f7f7f; text-decoration-color: #7f7f7f\">:</span><a href=\"file:///Users/sravanj/project_work/yellhorn-mcp/yellhorn_mcp/llm_manager.py#658\" target=\"_blank\"><span style=\"color: #7f7f7f; text-decoration-color: #7f7f7f\">658</span></a>\n",
       "<span style=\"color: #7fbfbf; text-decoration-color: #7fbfbf\">                    </span>         <span style=\"color: #008080; text-decoration-color: #008080; font-weight: bold\">429</span>, <span style=\"color: #008000; text-decoration-color: #008000\">'message'</span>: <span style=\"color: #008000; text-decoration-color: #008000\">'You exceeded your current quota. Please migrate to</span> <span style=\"color: #7f7f7f; text-decoration-color: #7f7f7f\">                  </span>\n",
       "<span style=\"color: #7fbfbf; text-decoration-color: #7fbfbf\">                    </span>         <span style=\"color: #008000; text-decoration-color: #008000\">Gemini 2.0 Flash Preview (Image Generation) </span>                        <span style=\"color: #7f7f7f; text-decoration-color: #7f7f7f\">                  </span>\n",
       "<span style=\"color: #7fbfbf; text-decoration-color: #7fbfbf\">                    </span>         <span style=\"color: #008000; text-decoration-color: #008000\">(models/gemini-2.0-flash-preview-image-generation) for higher quota</span> <span style=\"color: #7f7f7f; text-decoration-color: #7f7f7f\">                  </span>\n",
       "<span style=\"color: #7fbfbf; text-decoration-color: #7fbfbf\">                    </span>         <span style=\"color: #008000; text-decoration-color: #008000\">limits. For more information on this error, head to: </span>               <span style=\"color: #7f7f7f; text-decoration-color: #7f7f7f\">                  </span>\n",
       "<span style=\"color: #7fbfbf; text-decoration-color: #7fbfbf\">                    </span>         <span style=\"color: #008000; text-decoration-color: #008000\">https://ai.google.dev/gemini-api/docs/rate-limits.'</span>, <span style=\"color: #008000; text-decoration-color: #008000\">'status'</span>:      <span style=\"color: #7f7f7f; text-decoration-color: #7f7f7f\">                  </span>\n",
       "<span style=\"color: #7fbfbf; text-decoration-color: #7fbfbf\">                    </span>         <span style=\"color: #008000; text-decoration-color: #008000\">'RESOURCE_EXHAUSTED'</span>, <span style=\"color: #008000; text-decoration-color: #008000\">'details'</span>: <span style=\"font-weight: bold\">[{</span><span style=\"color: #008000; text-decoration-color: #008000\">'@type'</span>:                         <span style=\"color: #7f7f7f; text-decoration-color: #7f7f7f\">                  </span>\n",
       "<span style=\"color: #7fbfbf; text-decoration-color: #7fbfbf\">                    </span>         <span style=\"color: #008000; text-decoration-color: #008000\">'type.googleapis.com/google.rpc.QuotaFailure'</span>, <span style=\"color: #008000; text-decoration-color: #008000\">'violations'</span>:        <span style=\"color: #7f7f7f; text-decoration-color: #7f7f7f\">                  </span>\n",
       "<span style=\"color: #7fbfbf; text-decoration-color: #7fbfbf\">                    </span>         <span style=\"font-weight: bold\">[{</span><span style=\"color: #008000; text-decoration-color: #008000\">'quotaMetric'</span>:                                                    <span style=\"color: #7f7f7f; text-decoration-color: #7f7f7f\">                  </span>\n",
       "<span style=\"color: #7fbfbf; text-decoration-color: #7fbfbf\">                    </span>         <span style=\"color: #008000; text-decoration-color: #008000\">'generativelanguage.googleapis.com/generate_requests_per_model'</span>,    <span style=\"color: #7f7f7f; text-decoration-color: #7f7f7f\">                  </span>\n",
       "<span style=\"color: #7fbfbf; text-decoration-color: #7fbfbf\">                    </span>         <span style=\"color: #008000; text-decoration-color: #008000\">'quotaId'</span>: <span style=\"color: #008000; text-decoration-color: #008000\">'GenerateRequestsPerMinutePerProjectPerModel'</span>,           <span style=\"color: #7f7f7f; text-decoration-color: #7f7f7f\">                  </span>\n",
       "<span style=\"color: #7fbfbf; text-decoration-color: #7fbfbf\">                    </span>         <span style=\"color: #008000; text-decoration-color: #008000\">'quotaDimensions'</span>: <span style=\"font-weight: bold\">{</span><span style=\"color: #008000; text-decoration-color: #008000\">'location'</span>: <span style=\"color: #008000; text-decoration-color: #008000\">'global'</span>, <span style=\"color: #008000; text-decoration-color: #008000\">'model'</span>:                  <span style=\"color: #7f7f7f; text-decoration-color: #7f7f7f\">                  </span>\n",
       "<span style=\"color: #7fbfbf; text-decoration-color: #7fbfbf\">                    </span>         <span style=\"color: #008000; text-decoration-color: #008000\">'gemini-2.0-flash-exp'</span><span style=\"font-weight: bold\">}</span>, <span style=\"color: #008000; text-decoration-color: #008000\">'quotaValue'</span>: <span style=\"color: #008000; text-decoration-color: #008000\">'10'</span><span style=\"font-weight: bold\">}]}</span>, <span style=\"font-weight: bold\">{</span><span style=\"color: #008000; text-decoration-color: #008000\">'@type'</span>:           <span style=\"color: #7f7f7f; text-decoration-color: #7f7f7f\">                  </span>\n",
       "<span style=\"color: #7fbfbf; text-decoration-color: #7fbfbf\">                    </span>         <span style=\"color: #008000; text-decoration-color: #008000\">'type.googleapis.com/google.rpc.Help'</span>, <span style=\"color: #008000; text-decoration-color: #008000\">'links'</span>: <span style=\"font-weight: bold\">[{</span><span style=\"color: #008000; text-decoration-color: #008000\">'description'</span>:    <span style=\"color: #7f7f7f; text-decoration-color: #7f7f7f\">                  </span>\n",
       "<span style=\"color: #7fbfbf; text-decoration-color: #7fbfbf\">                    </span>         <span style=\"color: #008000; text-decoration-color: #008000\">'Learn more about Gemini API quotas'</span>, <span style=\"color: #008000; text-decoration-color: #008000\">'url'</span>:                        <span style=\"color: #7f7f7f; text-decoration-color: #7f7f7f\">                  </span>\n",
       "<span style=\"color: #7fbfbf; text-decoration-color: #7fbfbf\">                    </span>         <span style=\"color: #008000; text-decoration-color: #008000\">'https://ai.google.dev/gemini-api/docs/rate-limits'</span><span style=\"font-weight: bold\">}]}</span>, <span style=\"font-weight: bold\">{</span><span style=\"color: #008000; text-decoration-color: #008000\">'@type'</span>:   <span style=\"color: #7f7f7f; text-decoration-color: #7f7f7f\">                  </span>\n",
       "<span style=\"color: #7fbfbf; text-decoration-color: #7fbfbf\">                    </span>         <span style=\"color: #008000; text-decoration-color: #008000\">'type.googleapis.com/google.rpc.RetryInfo'</span>, <span style=\"color: #008000; text-decoration-color: #008000\">'retryDelay'</span>: <span style=\"color: #008000; text-decoration-color: #008000\">'4s'</span><span style=\"font-weight: bold\">}]}}</span>  <span style=\"color: #7f7f7f; text-decoration-color: #7f7f7f\">                  </span>\n",
       "</pre>\n"
      ],
      "text/plain": [
       "\u001b[2;36m                   \u001b[0m\u001b[2;36m \u001b[0m\u001b[1;31mERROR   \u001b[0m Gemini API call failed: \u001b[1;36m429\u001b[0m RESOURCE_EXHAUSTED. \u001b[1m{\u001b[0m\u001b[32m'error'\u001b[0m: \u001b[1m{\u001b[0m\u001b[32m'code'\u001b[0m:  \u001b]8;id=261462;file:///Users/sravanj/project_work/yellhorn-mcp/yellhorn_mcp/llm_manager.py\u001b\\\u001b[2mllm_manager.py\u001b[0m\u001b]8;;\u001b\\\u001b[2m:\u001b[0m\u001b]8;id=574157;file:///Users/sravanj/project_work/yellhorn-mcp/yellhorn_mcp/llm_manager.py#658\u001b\\\u001b[2m658\u001b[0m\u001b]8;;\u001b\\\n",
       "\u001b[2;36m                    \u001b[0m         \u001b[1;36m429\u001b[0m, \u001b[32m'message'\u001b[0m: \u001b[32m'You exceeded your current quota. Please migrate to\u001b[0m \u001b[2m                  \u001b[0m\n",
       "\u001b[2;36m                    \u001b[0m         \u001b[32mGemini 2.0 Flash Preview \u001b[0m\u001b[32m(\u001b[0m\u001b[32mImage Generation\u001b[0m\u001b[32m)\u001b[0m\u001b[32m \u001b[0m                        \u001b[2m                  \u001b[0m\n",
       "\u001b[2;36m                    \u001b[0m         \u001b[32m(\u001b[0m\u001b[32mmodels/gemini-2.0-flash-preview-image-generation\u001b[0m\u001b[32m)\u001b[0m\u001b[32m for higher quota\u001b[0m \u001b[2m                  \u001b[0m\n",
       "\u001b[2;36m                    \u001b[0m         \u001b[32mlimits. For more information on this error, head to: \u001b[0m               \u001b[2m                  \u001b[0m\n",
       "\u001b[2;36m                    \u001b[0m         \u001b[32mhttps://ai.google.dev/gemini-api/docs/rate-limits.'\u001b[0m, \u001b[32m'status'\u001b[0m:      \u001b[2m                  \u001b[0m\n",
       "\u001b[2;36m                    \u001b[0m         \u001b[32m'RESOURCE_EXHAUSTED'\u001b[0m, \u001b[32m'details'\u001b[0m: \u001b[1m[\u001b[0m\u001b[1m{\u001b[0m\u001b[32m'@type'\u001b[0m:                         \u001b[2m                  \u001b[0m\n",
       "\u001b[2;36m                    \u001b[0m         \u001b[32m'type.googleapis.com/google.rpc.QuotaFailure'\u001b[0m, \u001b[32m'violations'\u001b[0m:        \u001b[2m                  \u001b[0m\n",
       "\u001b[2;36m                    \u001b[0m         \u001b[1m[\u001b[0m\u001b[1m{\u001b[0m\u001b[32m'quotaMetric'\u001b[0m:                                                    \u001b[2m                  \u001b[0m\n",
       "\u001b[2;36m                    \u001b[0m         \u001b[32m'generativelanguage.googleapis.com/generate_requests_per_model'\u001b[0m,    \u001b[2m                  \u001b[0m\n",
       "\u001b[2;36m                    \u001b[0m         \u001b[32m'quotaId'\u001b[0m: \u001b[32m'GenerateRequestsPerMinutePerProjectPerModel'\u001b[0m,           \u001b[2m                  \u001b[0m\n",
       "\u001b[2;36m                    \u001b[0m         \u001b[32m'quotaDimensions'\u001b[0m: \u001b[1m{\u001b[0m\u001b[32m'location'\u001b[0m: \u001b[32m'global'\u001b[0m, \u001b[32m'model'\u001b[0m:                  \u001b[2m                  \u001b[0m\n",
       "\u001b[2;36m                    \u001b[0m         \u001b[32m'gemini-2.0-flash-exp'\u001b[0m\u001b[1m}\u001b[0m, \u001b[32m'quotaValue'\u001b[0m: \u001b[32m'10'\u001b[0m\u001b[1m}\u001b[0m\u001b[1m]\u001b[0m\u001b[1m}\u001b[0m, \u001b[1m{\u001b[0m\u001b[32m'@type'\u001b[0m:           \u001b[2m                  \u001b[0m\n",
       "\u001b[2;36m                    \u001b[0m         \u001b[32m'type.googleapis.com/google.rpc.Help'\u001b[0m, \u001b[32m'links'\u001b[0m: \u001b[1m[\u001b[0m\u001b[1m{\u001b[0m\u001b[32m'description'\u001b[0m:    \u001b[2m                  \u001b[0m\n",
       "\u001b[2;36m                    \u001b[0m         \u001b[32m'Learn more about Gemini API quotas'\u001b[0m, \u001b[32m'url'\u001b[0m:                        \u001b[2m                  \u001b[0m\n",
       "\u001b[2;36m                    \u001b[0m         \u001b[32m'https://ai.google.dev/gemini-api/docs/rate-limits'\u001b[0m\u001b[1m}\u001b[0m\u001b[1m]\u001b[0m\u001b[1m}\u001b[0m, \u001b[1m{\u001b[0m\u001b[32m'@type'\u001b[0m:   \u001b[2m                  \u001b[0m\n",
       "\u001b[2;36m                    \u001b[0m         \u001b[32m'type.googleapis.com/google.rpc.RetryInfo'\u001b[0m, \u001b[32m'retryDelay'\u001b[0m: \u001b[32m'4s'\u001b[0m\u001b[1m}\u001b[0m\u001b[1m]\u001b[0m\u001b[1m}\u001b[0m\u001b[1m}\u001b[0m  \u001b[2m                  \u001b[0m\n"
      ]
     },
     "metadata": {},
     "output_type": "display_data"
    },
    {
     "data": {
      "text/html": [
       "<pre style=\"white-space:pre;overflow-x:auto;line-height:normal;font-family:Menlo,'DejaVu Sans Mono',consolas,'Courier New',monospace\"><span style=\"color: #7fbfbf; text-decoration-color: #7fbfbf\">                    </span><span style=\"color: #808000; text-decoration-color: #808000\">WARNING </span> Retrying _call_gemini after <span style=\"color: #008080; text-decoration-color: #008080; font-weight: bold\">0.1</span> seconds <span style=\"font-weight: bold\">(</span>attempt <span style=\"color: #008080; text-decoration-color: #008080; font-weight: bold\">1</span><span style=\"font-weight: bold\">)</span>: <span style=\"color: #008080; text-decoration-color: #008080; font-weight: bold\">429</span>             <a href=\"file:///Users/sravanj/project_work/yellhorn-mcp/yellhorn_mcp/llm_manager.py\" target=\"_blank\"><span style=\"color: #7f7f7f; text-decoration-color: #7f7f7f\">llm_manager.py</span></a><span style=\"color: #7f7f7f; text-decoration-color: #7f7f7f\">:</span><a href=\"file:///Users/sravanj/project_work/yellhorn-mcp/yellhorn_mcp/llm_manager.py#34\" target=\"_blank\"><span style=\"color: #7f7f7f; text-decoration-color: #7f7f7f\">34</span></a>\n",
       "<span style=\"color: #7fbfbf; text-decoration-color: #7fbfbf\">                    </span>         RESOURCE_EXHAUSTED. <span style=\"font-weight: bold\">{</span><span style=\"color: #008000; text-decoration-color: #008000\">'error'</span>: <span style=\"font-weight: bold\">{</span><span style=\"color: #008000; text-decoration-color: #008000\">'code'</span>: <span style=\"color: #008080; text-decoration-color: #008080; font-weight: bold\">429</span>, <span style=\"color: #008000; text-decoration-color: #008000\">'message'</span>: <span style=\"color: #008000; text-decoration-color: #008000\">'You exceeded</span> <span style=\"color: #7f7f7f; text-decoration-color: #7f7f7f\">                 </span>\n",
       "<span style=\"color: #7fbfbf; text-decoration-color: #7fbfbf\">                    </span>         <span style=\"color: #008000; text-decoration-color: #008000\">your current quota. Please migrate to Gemini 2.0 Flash Preview </span>      <span style=\"color: #7f7f7f; text-decoration-color: #7f7f7f\">                 </span>\n",
       "<span style=\"color: #7fbfbf; text-decoration-color: #7fbfbf\">                    </span>         <span style=\"color: #008000; text-decoration-color: #008000\">(Image Generation) </span>                                                  <span style=\"color: #7f7f7f; text-decoration-color: #7f7f7f\">                 </span>\n",
       "<span style=\"color: #7fbfbf; text-decoration-color: #7fbfbf\">                    </span>         <span style=\"color: #008000; text-decoration-color: #008000\">(models/gemini-2.0-flash-preview-image-generation) for higher quota </span> <span style=\"color: #7f7f7f; text-decoration-color: #7f7f7f\">                 </span>\n",
       "<span style=\"color: #7fbfbf; text-decoration-color: #7fbfbf\">                    </span>         <span style=\"color: #008000; text-decoration-color: #008000\">limits. For more information on this error, head to: </span>                <span style=\"color: #7f7f7f; text-decoration-color: #7f7f7f\">                 </span>\n",
       "<span style=\"color: #7fbfbf; text-decoration-color: #7fbfbf\">                    </span>         <span style=\"color: #008000; text-decoration-color: #008000\">https://ai.google.dev/gemini-api/docs/rate-limits.'</span>, <span style=\"color: #008000; text-decoration-color: #008000\">'status'</span>:       <span style=\"color: #7f7f7f; text-decoration-color: #7f7f7f\">                 </span>\n",
       "<span style=\"color: #7fbfbf; text-decoration-color: #7fbfbf\">                    </span>         <span style=\"color: #008000; text-decoration-color: #008000\">'RESOURCE_EXHAUSTED'</span>, <span style=\"color: #008000; text-decoration-color: #008000\">'details'</span>: <span style=\"font-weight: bold\">[{</span><span style=\"color: #008000; text-decoration-color: #008000\">'@type'</span>:                          <span style=\"color: #7f7f7f; text-decoration-color: #7f7f7f\">                 </span>\n",
       "<span style=\"color: #7fbfbf; text-decoration-color: #7fbfbf\">                    </span>         <span style=\"color: #008000; text-decoration-color: #008000\">'type.googleapis.com/google.rpc.QuotaFailure'</span>, <span style=\"color: #008000; text-decoration-color: #008000\">'violations'</span>:         <span style=\"color: #7f7f7f; text-decoration-color: #7f7f7f\">                 </span>\n",
       "<span style=\"color: #7fbfbf; text-decoration-color: #7fbfbf\">                    </span>         <span style=\"font-weight: bold\">[{</span><span style=\"color: #008000; text-decoration-color: #008000\">'quotaMetric'</span>:                                                     <span style=\"color: #7f7f7f; text-decoration-color: #7f7f7f\">                 </span>\n",
       "<span style=\"color: #7fbfbf; text-decoration-color: #7fbfbf\">                    </span>         <span style=\"color: #008000; text-decoration-color: #008000\">'generativelanguage.googleapis.com/generate_requests_per_model'</span>,     <span style=\"color: #7f7f7f; text-decoration-color: #7f7f7f\">                 </span>\n",
       "<span style=\"color: #7fbfbf; text-decoration-color: #7fbfbf\">                    </span>         <span style=\"color: #008000; text-decoration-color: #008000\">'quotaId'</span>: <span style=\"color: #008000; text-decoration-color: #008000\">'GenerateRequestsPerMinutePerProjectPerModel'</span>,            <span style=\"color: #7f7f7f; text-decoration-color: #7f7f7f\">                 </span>\n",
       "<span style=\"color: #7fbfbf; text-decoration-color: #7fbfbf\">                    </span>         <span style=\"color: #008000; text-decoration-color: #008000\">'quotaDimensions'</span>: <span style=\"font-weight: bold\">{</span><span style=\"color: #008000; text-decoration-color: #008000\">'location'</span>: <span style=\"color: #008000; text-decoration-color: #008000\">'global'</span>, <span style=\"color: #008000; text-decoration-color: #008000\">'model'</span>:                   <span style=\"color: #7f7f7f; text-decoration-color: #7f7f7f\">                 </span>\n",
       "<span style=\"color: #7fbfbf; text-decoration-color: #7fbfbf\">                    </span>         <span style=\"color: #008000; text-decoration-color: #008000\">'gemini-2.0-flash-exp'</span><span style=\"font-weight: bold\">}</span>, <span style=\"color: #008000; text-decoration-color: #008000\">'quotaValue'</span>: <span style=\"color: #008000; text-decoration-color: #008000\">'10'</span><span style=\"font-weight: bold\">}]}</span>, <span style=\"font-weight: bold\">{</span><span style=\"color: #008000; text-decoration-color: #008000\">'@type'</span>:            <span style=\"color: #7f7f7f; text-decoration-color: #7f7f7f\">                 </span>\n",
       "<span style=\"color: #7fbfbf; text-decoration-color: #7fbfbf\">                    </span>         <span style=\"color: #008000; text-decoration-color: #008000\">'type.googleapis.com/google.rpc.Help'</span>, <span style=\"color: #008000; text-decoration-color: #008000\">'links'</span>: <span style=\"font-weight: bold\">[{</span><span style=\"color: #008000; text-decoration-color: #008000\">'description'</span>:     <span style=\"color: #7f7f7f; text-decoration-color: #7f7f7f\">                 </span>\n",
       "<span style=\"color: #7fbfbf; text-decoration-color: #7fbfbf\">                    </span>         <span style=\"color: #008000; text-decoration-color: #008000\">'Learn more about Gemini API quotas'</span>, <span style=\"color: #008000; text-decoration-color: #008000\">'url'</span>:                         <span style=\"color: #7f7f7f; text-decoration-color: #7f7f7f\">                 </span>\n",
       "<span style=\"color: #7fbfbf; text-decoration-color: #7fbfbf\">                    </span>         <span style=\"color: #008000; text-decoration-color: #008000\">'https://ai.google.dev/gemini-api/docs/rate-limits'</span><span style=\"font-weight: bold\">}]}</span>, <span style=\"font-weight: bold\">{</span><span style=\"color: #008000; text-decoration-color: #008000\">'@type'</span>:    <span style=\"color: #7f7f7f; text-decoration-color: #7f7f7f\">                 </span>\n",
       "<span style=\"color: #7fbfbf; text-decoration-color: #7fbfbf\">                    </span>         <span style=\"color: #008000; text-decoration-color: #008000\">'type.googleapis.com/google.rpc.RetryInfo'</span>, <span style=\"color: #008000; text-decoration-color: #008000\">'retryDelay'</span>: <span style=\"color: #008000; text-decoration-color: #008000\">'4s'</span><span style=\"font-weight: bold\">}]}}</span>   <span style=\"color: #7f7f7f; text-decoration-color: #7f7f7f\">                 </span>\n",
       "</pre>\n"
      ],
      "text/plain": [
       "\u001b[2;36m                   \u001b[0m\u001b[2;36m \u001b[0m\u001b[33mWARNING \u001b[0m Retrying _call_gemini after \u001b[1;36m0.1\u001b[0m seconds \u001b[1m(\u001b[0mattempt \u001b[1;36m1\u001b[0m\u001b[1m)\u001b[0m: \u001b[1;36m429\u001b[0m             \u001b]8;id=35430;file:///Users/sravanj/project_work/yellhorn-mcp/yellhorn_mcp/llm_manager.py\u001b\\\u001b[2mllm_manager.py\u001b[0m\u001b]8;;\u001b\\\u001b[2m:\u001b[0m\u001b]8;id=85842;file:///Users/sravanj/project_work/yellhorn-mcp/yellhorn_mcp/llm_manager.py#34\u001b\\\u001b[2m34\u001b[0m\u001b]8;;\u001b\\\n",
       "\u001b[2;36m                    \u001b[0m         RESOURCE_EXHAUSTED. \u001b[1m{\u001b[0m\u001b[32m'error'\u001b[0m: \u001b[1m{\u001b[0m\u001b[32m'code'\u001b[0m: \u001b[1;36m429\u001b[0m, \u001b[32m'message'\u001b[0m: \u001b[32m'You exceeded\u001b[0m \u001b[2m                 \u001b[0m\n",
       "\u001b[2;36m                    \u001b[0m         \u001b[32myour current quota. Please migrate to Gemini 2.0 Flash Preview \u001b[0m      \u001b[2m                 \u001b[0m\n",
       "\u001b[2;36m                    \u001b[0m         \u001b[32m(\u001b[0m\u001b[32mImage Generation\u001b[0m\u001b[32m)\u001b[0m\u001b[32m \u001b[0m                                                  \u001b[2m                 \u001b[0m\n",
       "\u001b[2;36m                    \u001b[0m         \u001b[32m(\u001b[0m\u001b[32mmodels/gemini-2.0-flash-preview-image-generation\u001b[0m\u001b[32m)\u001b[0m\u001b[32m for higher quota \u001b[0m \u001b[2m                 \u001b[0m\n",
       "\u001b[2;36m                    \u001b[0m         \u001b[32mlimits. For more information on this error, head to: \u001b[0m                \u001b[2m                 \u001b[0m\n",
       "\u001b[2;36m                    \u001b[0m         \u001b[32mhttps://ai.google.dev/gemini-api/docs/rate-limits.'\u001b[0m, \u001b[32m'status'\u001b[0m:       \u001b[2m                 \u001b[0m\n",
       "\u001b[2;36m                    \u001b[0m         \u001b[32m'RESOURCE_EXHAUSTED'\u001b[0m, \u001b[32m'details'\u001b[0m: \u001b[1m[\u001b[0m\u001b[1m{\u001b[0m\u001b[32m'@type'\u001b[0m:                          \u001b[2m                 \u001b[0m\n",
       "\u001b[2;36m                    \u001b[0m         \u001b[32m'type.googleapis.com/google.rpc.QuotaFailure'\u001b[0m, \u001b[32m'violations'\u001b[0m:         \u001b[2m                 \u001b[0m\n",
       "\u001b[2;36m                    \u001b[0m         \u001b[1m[\u001b[0m\u001b[1m{\u001b[0m\u001b[32m'quotaMetric'\u001b[0m:                                                     \u001b[2m                 \u001b[0m\n",
       "\u001b[2;36m                    \u001b[0m         \u001b[32m'generativelanguage.googleapis.com/generate_requests_per_model'\u001b[0m,     \u001b[2m                 \u001b[0m\n",
       "\u001b[2;36m                    \u001b[0m         \u001b[32m'quotaId'\u001b[0m: \u001b[32m'GenerateRequestsPerMinutePerProjectPerModel'\u001b[0m,            \u001b[2m                 \u001b[0m\n",
       "\u001b[2;36m                    \u001b[0m         \u001b[32m'quotaDimensions'\u001b[0m: \u001b[1m{\u001b[0m\u001b[32m'location'\u001b[0m: \u001b[32m'global'\u001b[0m, \u001b[32m'model'\u001b[0m:                   \u001b[2m                 \u001b[0m\n",
       "\u001b[2;36m                    \u001b[0m         \u001b[32m'gemini-2.0-flash-exp'\u001b[0m\u001b[1m}\u001b[0m, \u001b[32m'quotaValue'\u001b[0m: \u001b[32m'10'\u001b[0m\u001b[1m}\u001b[0m\u001b[1m]\u001b[0m\u001b[1m}\u001b[0m, \u001b[1m{\u001b[0m\u001b[32m'@type'\u001b[0m:            \u001b[2m                 \u001b[0m\n",
       "\u001b[2;36m                    \u001b[0m         \u001b[32m'type.googleapis.com/google.rpc.Help'\u001b[0m, \u001b[32m'links'\u001b[0m: \u001b[1m[\u001b[0m\u001b[1m{\u001b[0m\u001b[32m'description'\u001b[0m:     \u001b[2m                 \u001b[0m\n",
       "\u001b[2;36m                    \u001b[0m         \u001b[32m'Learn more about Gemini API quotas'\u001b[0m, \u001b[32m'url'\u001b[0m:                         \u001b[2m                 \u001b[0m\n",
       "\u001b[2;36m                    \u001b[0m         \u001b[32m'https://ai.google.dev/gemini-api/docs/rate-limits'\u001b[0m\u001b[1m}\u001b[0m\u001b[1m]\u001b[0m\u001b[1m}\u001b[0m, \u001b[1m{\u001b[0m\u001b[32m'@type'\u001b[0m:    \u001b[2m                 \u001b[0m\n",
       "\u001b[2;36m                    \u001b[0m         \u001b[32m'type.googleapis.com/google.rpc.RetryInfo'\u001b[0m, \u001b[32m'retryDelay'\u001b[0m: \u001b[32m'4s'\u001b[0m\u001b[1m}\u001b[0m\u001b[1m]\u001b[0m\u001b[1m}\u001b[0m\u001b[1m}\u001b[0m   \u001b[2m                 \u001b[0m\n"
      ]
     },
     "metadata": {},
     "output_type": "display_data"
    },
    {
     "data": {
      "text/html": [
       "<pre style=\"white-space:pre;overflow-x:auto;line-height:normal;font-family:Menlo,'DejaVu Sans Mono',consolas,'Courier New',monospace\"><span style=\"color: #7fbfbf; text-decoration-color: #7fbfbf\">[07/12/25 21:32:59] </span><span style=\"color: #000080; text-decoration-color: #000080\">INFO    </span> AFC is enabled with max remote calls: <span style=\"color: #008080; text-decoration-color: #008080; font-weight: bold\">10</span>.                               <a href=\"file:///opt/anaconda3/envs/sravan-yellhorn/lib/python3.11/site-packages/google/genai/models.py\" target=\"_blank\"><span style=\"color: #7f7f7f; text-decoration-color: #7f7f7f\">models.py</span></a><span style=\"color: #7f7f7f; text-decoration-color: #7f7f7f\">:</span><a href=\"file:///opt/anaconda3/envs/sravan-yellhorn/lib/python3.11/site-packages/google/genai/models.py#7118\" target=\"_blank\"><span style=\"color: #7f7f7f; text-decoration-color: #7f7f7f\">7118</span></a>\n",
       "</pre>\n"
      ],
      "text/plain": [
       "\u001b[2;36m[07/12/25 21:32:59]\u001b[0m\u001b[2;36m \u001b[0m\u001b[34mINFO    \u001b[0m AFC is enabled with max remote calls: \u001b[1;36m10\u001b[0m.                               \u001b]8;id=135261;file:///opt/anaconda3/envs/sravan-yellhorn/lib/python3.11/site-packages/google/genai/models.py\u001b\\\u001b[2mmodels.py\u001b[0m\u001b]8;;\u001b\\\u001b[2m:\u001b[0m\u001b]8;id=305423;file:///opt/anaconda3/envs/sravan-yellhorn/lib/python3.11/site-packages/google/genai/models.py#7118\u001b\\\u001b[2m7118\u001b[0m\u001b]8;;\u001b\\\n"
      ]
     },
     "metadata": {},
     "output_type": "display_data"
    },
    {
     "data": {
      "text/html": [
       "<pre style=\"white-space:pre;overflow-x:auto;line-height:normal;font-family:Menlo,'DejaVu Sans Mono',consolas,'Courier New',monospace\"><span style=\"color: #7fbfbf; text-decoration-color: #7fbfbf\">[07/12/25 21:33:00] </span><span style=\"color: #000080; text-decoration-color: #000080\">INFO    </span> HTTP Request: <span style=\"color: #808000; text-decoration-color: #808000; font-weight: bold\">POST</span>                                                     <a href=\"file:///opt/anaconda3/envs/sravan-yellhorn/lib/python3.11/site-packages/httpx/_client.py\" target=\"_blank\"><span style=\"color: #7f7f7f; text-decoration-color: #7f7f7f\">_client.py</span></a><span style=\"color: #7f7f7f; text-decoration-color: #7f7f7f\">:</span><a href=\"file:///opt/anaconda3/envs/sravan-yellhorn/lib/python3.11/site-packages/httpx/_client.py#1740\" target=\"_blank\"><span style=\"color: #7f7f7f; text-decoration-color: #7f7f7f\">1740</span></a>\n",
       "<span style=\"color: #7fbfbf; text-decoration-color: #7fbfbf\">                    </span>         <span style=\"color: #0000ff; text-decoration-color: #0000ff; text-decoration: underline\">https://generativelanguage.googleapis.com/v1beta/models/gemini-2.0-fla</span> <span style=\"color: #7f7f7f; text-decoration-color: #7f7f7f\">               </span>\n",
       "<span style=\"color: #7fbfbf; text-decoration-color: #7fbfbf\">                    </span>         <span style=\"color: #0000ff; text-decoration-color: #0000ff; text-decoration: underline\">sh-exp:generateContent</span> <span style=\"color: #008000; text-decoration-color: #008000\">\"HTTP/1.1 429 Too Many Requests\"</span>                <span style=\"color: #7f7f7f; text-decoration-color: #7f7f7f\">               </span>\n",
       "</pre>\n"
      ],
      "text/plain": [
       "\u001b[2;36m[07/12/25 21:33:00]\u001b[0m\u001b[2;36m \u001b[0m\u001b[34mINFO    \u001b[0m HTTP Request: \u001b[1;33mPOST\u001b[0m                                                     \u001b]8;id=875382;file:///opt/anaconda3/envs/sravan-yellhorn/lib/python3.11/site-packages/httpx/_client.py\u001b\\\u001b[2m_client.py\u001b[0m\u001b]8;;\u001b\\\u001b[2m:\u001b[0m\u001b]8;id=146508;file:///opt/anaconda3/envs/sravan-yellhorn/lib/python3.11/site-packages/httpx/_client.py#1740\u001b\\\u001b[2m1740\u001b[0m\u001b]8;;\u001b\\\n",
       "\u001b[2;36m                    \u001b[0m         \u001b[4;94mhttps://generativelanguage.googleapis.com/v1beta/models/gemini-2.0-fla\u001b[0m \u001b[2m               \u001b[0m\n",
       "\u001b[2;36m                    \u001b[0m         \u001b[4;94msh-exp:generateContent\u001b[0m \u001b[32m\"HTTP/1.1 429 Too Many Requests\"\u001b[0m                \u001b[2m               \u001b[0m\n"
      ]
     },
     "metadata": {},
     "output_type": "display_data"
    },
    {
     "data": {
      "text/html": [
       "<pre style=\"white-space:pre;overflow-x:auto;line-height:normal;font-family:Menlo,'DejaVu Sans Mono',consolas,'Courier New',monospace\"><span style=\"color: #7fbfbf; text-decoration-color: #7fbfbf\">                    </span><span style=\"color: #800000; text-decoration-color: #800000; font-weight: bold\">ERROR   </span> Gemini API call failed: <span style=\"color: #008080; text-decoration-color: #008080; font-weight: bold\">429</span> RESOURCE_EXHAUSTED. <span style=\"font-weight: bold\">{</span><span style=\"color: #008000; text-decoration-color: #008000\">'error'</span>: <span style=\"font-weight: bold\">{</span><span style=\"color: #008000; text-decoration-color: #008000\">'code'</span>:  <a href=\"file:///Users/sravanj/project_work/yellhorn-mcp/yellhorn_mcp/llm_manager.py\" target=\"_blank\"><span style=\"color: #7f7f7f; text-decoration-color: #7f7f7f\">llm_manager.py</span></a><span style=\"color: #7f7f7f; text-decoration-color: #7f7f7f\">:</span><a href=\"file:///Users/sravanj/project_work/yellhorn-mcp/yellhorn_mcp/llm_manager.py#658\" target=\"_blank\"><span style=\"color: #7f7f7f; text-decoration-color: #7f7f7f\">658</span></a>\n",
       "<span style=\"color: #7fbfbf; text-decoration-color: #7fbfbf\">                    </span>         <span style=\"color: #008080; text-decoration-color: #008080; font-weight: bold\">429</span>, <span style=\"color: #008000; text-decoration-color: #008000\">'message'</span>: <span style=\"color: #008000; text-decoration-color: #008000\">'You exceeded your current quota. Please migrate to</span> <span style=\"color: #7f7f7f; text-decoration-color: #7f7f7f\">                  </span>\n",
       "<span style=\"color: #7fbfbf; text-decoration-color: #7fbfbf\">                    </span>         <span style=\"color: #008000; text-decoration-color: #008000\">Gemini 2.0 Flash Preview (Image Generation) </span>                        <span style=\"color: #7f7f7f; text-decoration-color: #7f7f7f\">                  </span>\n",
       "<span style=\"color: #7fbfbf; text-decoration-color: #7fbfbf\">                    </span>         <span style=\"color: #008000; text-decoration-color: #008000\">(models/gemini-2.0-flash-preview-image-generation) for higher quota</span> <span style=\"color: #7f7f7f; text-decoration-color: #7f7f7f\">                  </span>\n",
       "<span style=\"color: #7fbfbf; text-decoration-color: #7fbfbf\">                    </span>         <span style=\"color: #008000; text-decoration-color: #008000\">limits. For more information on this error, head to: </span>               <span style=\"color: #7f7f7f; text-decoration-color: #7f7f7f\">                  </span>\n",
       "<span style=\"color: #7fbfbf; text-decoration-color: #7fbfbf\">                    </span>         <span style=\"color: #008000; text-decoration-color: #008000\">https://ai.google.dev/gemini-api/docs/rate-limits.'</span>, <span style=\"color: #008000; text-decoration-color: #008000\">'status'</span>:      <span style=\"color: #7f7f7f; text-decoration-color: #7f7f7f\">                  </span>\n",
       "<span style=\"color: #7fbfbf; text-decoration-color: #7fbfbf\">                    </span>         <span style=\"color: #008000; text-decoration-color: #008000\">'RESOURCE_EXHAUSTED'</span>, <span style=\"color: #008000; text-decoration-color: #008000\">'details'</span>: <span style=\"font-weight: bold\">[{</span><span style=\"color: #008000; text-decoration-color: #008000\">'@type'</span>:                         <span style=\"color: #7f7f7f; text-decoration-color: #7f7f7f\">                  </span>\n",
       "<span style=\"color: #7fbfbf; text-decoration-color: #7fbfbf\">                    </span>         <span style=\"color: #008000; text-decoration-color: #008000\">'type.googleapis.com/google.rpc.QuotaFailure'</span>, <span style=\"color: #008000; text-decoration-color: #008000\">'violations'</span>:        <span style=\"color: #7f7f7f; text-decoration-color: #7f7f7f\">                  </span>\n",
       "<span style=\"color: #7fbfbf; text-decoration-color: #7fbfbf\">                    </span>         <span style=\"font-weight: bold\">[{</span><span style=\"color: #008000; text-decoration-color: #008000\">'quotaMetric'</span>:                                                    <span style=\"color: #7f7f7f; text-decoration-color: #7f7f7f\">                  </span>\n",
       "<span style=\"color: #7fbfbf; text-decoration-color: #7fbfbf\">                    </span>         <span style=\"color: #008000; text-decoration-color: #008000\">'generativelanguage.googleapis.com/generate_requests_per_model'</span>,    <span style=\"color: #7f7f7f; text-decoration-color: #7f7f7f\">                  </span>\n",
       "<span style=\"color: #7fbfbf; text-decoration-color: #7fbfbf\">                    </span>         <span style=\"color: #008000; text-decoration-color: #008000\">'quotaId'</span>: <span style=\"color: #008000; text-decoration-color: #008000\">'GenerateRequestsPerMinutePerProjectPerModel'</span>,           <span style=\"color: #7f7f7f; text-decoration-color: #7f7f7f\">                  </span>\n",
       "<span style=\"color: #7fbfbf; text-decoration-color: #7fbfbf\">                    </span>         <span style=\"color: #008000; text-decoration-color: #008000\">'quotaDimensions'</span>: <span style=\"font-weight: bold\">{</span><span style=\"color: #008000; text-decoration-color: #008000\">'model'</span>: <span style=\"color: #008000; text-decoration-color: #008000\">'gemini-2.0-flash-exp'</span>, <span style=\"color: #008000; text-decoration-color: #008000\">'location'</span>:    <span style=\"color: #7f7f7f; text-decoration-color: #7f7f7f\">                  </span>\n",
       "<span style=\"color: #7fbfbf; text-decoration-color: #7fbfbf\">                    </span>         <span style=\"color: #008000; text-decoration-color: #008000\">'global'</span><span style=\"font-weight: bold\">}</span>, <span style=\"color: #008000; text-decoration-color: #008000\">'quotaValue'</span>: <span style=\"color: #008000; text-decoration-color: #008000\">'10'</span><span style=\"font-weight: bold\">}]}</span>, <span style=\"font-weight: bold\">{</span><span style=\"color: #008000; text-decoration-color: #008000\">'@type'</span>:                         <span style=\"color: #7f7f7f; text-decoration-color: #7f7f7f\">                  </span>\n",
       "<span style=\"color: #7fbfbf; text-decoration-color: #7fbfbf\">                    </span>         <span style=\"color: #008000; text-decoration-color: #008000\">'type.googleapis.com/google.rpc.Help'</span>, <span style=\"color: #008000; text-decoration-color: #008000\">'links'</span>: <span style=\"font-weight: bold\">[{</span><span style=\"color: #008000; text-decoration-color: #008000\">'description'</span>:    <span style=\"color: #7f7f7f; text-decoration-color: #7f7f7f\">                  </span>\n",
       "<span style=\"color: #7fbfbf; text-decoration-color: #7fbfbf\">                    </span>         <span style=\"color: #008000; text-decoration-color: #008000\">'Learn more about Gemini API quotas'</span>, <span style=\"color: #008000; text-decoration-color: #008000\">'url'</span>:                        <span style=\"color: #7f7f7f; text-decoration-color: #7f7f7f\">                  </span>\n",
       "<span style=\"color: #7fbfbf; text-decoration-color: #7fbfbf\">                    </span>         <span style=\"color: #008000; text-decoration-color: #008000\">'https://ai.google.dev/gemini-api/docs/rate-limits'</span><span style=\"font-weight: bold\">}]}</span>, <span style=\"font-weight: bold\">{</span><span style=\"color: #008000; text-decoration-color: #008000\">'@type'</span>:   <span style=\"color: #7f7f7f; text-decoration-color: #7f7f7f\">                  </span>\n",
       "<span style=\"color: #7fbfbf; text-decoration-color: #7fbfbf\">                    </span>         <span style=\"color: #008000; text-decoration-color: #008000\">'type.googleapis.com/google.rpc.RetryInfo'</span>, <span style=\"color: #008000; text-decoration-color: #008000\">'retryDelay'</span>: <span style=\"color: #008000; text-decoration-color: #008000\">'0s'</span><span style=\"font-weight: bold\">}]}}</span>  <span style=\"color: #7f7f7f; text-decoration-color: #7f7f7f\">                  </span>\n",
       "</pre>\n"
      ],
      "text/plain": [
       "\u001b[2;36m                   \u001b[0m\u001b[2;36m \u001b[0m\u001b[1;31mERROR   \u001b[0m Gemini API call failed: \u001b[1;36m429\u001b[0m RESOURCE_EXHAUSTED. \u001b[1m{\u001b[0m\u001b[32m'error'\u001b[0m: \u001b[1m{\u001b[0m\u001b[32m'code'\u001b[0m:  \u001b]8;id=750261;file:///Users/sravanj/project_work/yellhorn-mcp/yellhorn_mcp/llm_manager.py\u001b\\\u001b[2mllm_manager.py\u001b[0m\u001b]8;;\u001b\\\u001b[2m:\u001b[0m\u001b]8;id=237197;file:///Users/sravanj/project_work/yellhorn-mcp/yellhorn_mcp/llm_manager.py#658\u001b\\\u001b[2m658\u001b[0m\u001b]8;;\u001b\\\n",
       "\u001b[2;36m                    \u001b[0m         \u001b[1;36m429\u001b[0m, \u001b[32m'message'\u001b[0m: \u001b[32m'You exceeded your current quota. Please migrate to\u001b[0m \u001b[2m                  \u001b[0m\n",
       "\u001b[2;36m                    \u001b[0m         \u001b[32mGemini 2.0 Flash Preview \u001b[0m\u001b[32m(\u001b[0m\u001b[32mImage Generation\u001b[0m\u001b[32m)\u001b[0m\u001b[32m \u001b[0m                        \u001b[2m                  \u001b[0m\n",
       "\u001b[2;36m                    \u001b[0m         \u001b[32m(\u001b[0m\u001b[32mmodels/gemini-2.0-flash-preview-image-generation\u001b[0m\u001b[32m)\u001b[0m\u001b[32m for higher quota\u001b[0m \u001b[2m                  \u001b[0m\n",
       "\u001b[2;36m                    \u001b[0m         \u001b[32mlimits. For more information on this error, head to: \u001b[0m               \u001b[2m                  \u001b[0m\n",
       "\u001b[2;36m                    \u001b[0m         \u001b[32mhttps://ai.google.dev/gemini-api/docs/rate-limits.'\u001b[0m, \u001b[32m'status'\u001b[0m:      \u001b[2m                  \u001b[0m\n",
       "\u001b[2;36m                    \u001b[0m         \u001b[32m'RESOURCE_EXHAUSTED'\u001b[0m, \u001b[32m'details'\u001b[0m: \u001b[1m[\u001b[0m\u001b[1m{\u001b[0m\u001b[32m'@type'\u001b[0m:                         \u001b[2m                  \u001b[0m\n",
       "\u001b[2;36m                    \u001b[0m         \u001b[32m'type.googleapis.com/google.rpc.QuotaFailure'\u001b[0m, \u001b[32m'violations'\u001b[0m:        \u001b[2m                  \u001b[0m\n",
       "\u001b[2;36m                    \u001b[0m         \u001b[1m[\u001b[0m\u001b[1m{\u001b[0m\u001b[32m'quotaMetric'\u001b[0m:                                                    \u001b[2m                  \u001b[0m\n",
       "\u001b[2;36m                    \u001b[0m         \u001b[32m'generativelanguage.googleapis.com/generate_requests_per_model'\u001b[0m,    \u001b[2m                  \u001b[0m\n",
       "\u001b[2;36m                    \u001b[0m         \u001b[32m'quotaId'\u001b[0m: \u001b[32m'GenerateRequestsPerMinutePerProjectPerModel'\u001b[0m,           \u001b[2m                  \u001b[0m\n",
       "\u001b[2;36m                    \u001b[0m         \u001b[32m'quotaDimensions'\u001b[0m: \u001b[1m{\u001b[0m\u001b[32m'model'\u001b[0m: \u001b[32m'gemini-2.0-flash-exp'\u001b[0m, \u001b[32m'location'\u001b[0m:    \u001b[2m                  \u001b[0m\n",
       "\u001b[2;36m                    \u001b[0m         \u001b[32m'global'\u001b[0m\u001b[1m}\u001b[0m, \u001b[32m'quotaValue'\u001b[0m: \u001b[32m'10'\u001b[0m\u001b[1m}\u001b[0m\u001b[1m]\u001b[0m\u001b[1m}\u001b[0m, \u001b[1m{\u001b[0m\u001b[32m'@type'\u001b[0m:                         \u001b[2m                  \u001b[0m\n",
       "\u001b[2;36m                    \u001b[0m         \u001b[32m'type.googleapis.com/google.rpc.Help'\u001b[0m, \u001b[32m'links'\u001b[0m: \u001b[1m[\u001b[0m\u001b[1m{\u001b[0m\u001b[32m'description'\u001b[0m:    \u001b[2m                  \u001b[0m\n",
       "\u001b[2;36m                    \u001b[0m         \u001b[32m'Learn more about Gemini API quotas'\u001b[0m, \u001b[32m'url'\u001b[0m:                        \u001b[2m                  \u001b[0m\n",
       "\u001b[2;36m                    \u001b[0m         \u001b[32m'https://ai.google.dev/gemini-api/docs/rate-limits'\u001b[0m\u001b[1m}\u001b[0m\u001b[1m]\u001b[0m\u001b[1m}\u001b[0m, \u001b[1m{\u001b[0m\u001b[32m'@type'\u001b[0m:   \u001b[2m                  \u001b[0m\n",
       "\u001b[2;36m                    \u001b[0m         \u001b[32m'type.googleapis.com/google.rpc.RetryInfo'\u001b[0m, \u001b[32m'retryDelay'\u001b[0m: \u001b[32m'0s'\u001b[0m\u001b[1m}\u001b[0m\u001b[1m]\u001b[0m\u001b[1m}\u001b[0m\u001b[1m}\u001b[0m  \u001b[2m                  \u001b[0m\n"
      ]
     },
     "metadata": {},
     "output_type": "display_data"
    },
    {
     "data": {
      "text/html": [
       "<pre style=\"white-space:pre;overflow-x:auto;line-height:normal;font-family:Menlo,'DejaVu Sans Mono',consolas,'Courier New',monospace\"><span style=\"color: #7fbfbf; text-decoration-color: #7fbfbf\">                    </span><span style=\"color: #808000; text-decoration-color: #808000\">WARNING </span> Retrying _call_gemini after <span style=\"color: #008080; text-decoration-color: #008080; font-weight: bold\">4.2</span> seconds <span style=\"font-weight: bold\">(</span>attempt <span style=\"color: #008080; text-decoration-color: #008080; font-weight: bold\">2</span><span style=\"font-weight: bold\">)</span>: <span style=\"color: #008080; text-decoration-color: #008080; font-weight: bold\">429</span>             <a href=\"file:///Users/sravanj/project_work/yellhorn-mcp/yellhorn_mcp/llm_manager.py\" target=\"_blank\"><span style=\"color: #7f7f7f; text-decoration-color: #7f7f7f\">llm_manager.py</span></a><span style=\"color: #7f7f7f; text-decoration-color: #7f7f7f\">:</span><a href=\"file:///Users/sravanj/project_work/yellhorn-mcp/yellhorn_mcp/llm_manager.py#34\" target=\"_blank\"><span style=\"color: #7f7f7f; text-decoration-color: #7f7f7f\">34</span></a>\n",
       "<span style=\"color: #7fbfbf; text-decoration-color: #7fbfbf\">                    </span>         RESOURCE_EXHAUSTED. <span style=\"font-weight: bold\">{</span><span style=\"color: #008000; text-decoration-color: #008000\">'error'</span>: <span style=\"font-weight: bold\">{</span><span style=\"color: #008000; text-decoration-color: #008000\">'code'</span>: <span style=\"color: #008080; text-decoration-color: #008080; font-weight: bold\">429</span>, <span style=\"color: #008000; text-decoration-color: #008000\">'message'</span>: <span style=\"color: #008000; text-decoration-color: #008000\">'You exceeded</span> <span style=\"color: #7f7f7f; text-decoration-color: #7f7f7f\">                 </span>\n",
       "<span style=\"color: #7fbfbf; text-decoration-color: #7fbfbf\">                    </span>         <span style=\"color: #008000; text-decoration-color: #008000\">your current quota. Please migrate to Gemini 2.0 Flash Preview </span>      <span style=\"color: #7f7f7f; text-decoration-color: #7f7f7f\">                 </span>\n",
       "<span style=\"color: #7fbfbf; text-decoration-color: #7fbfbf\">                    </span>         <span style=\"color: #008000; text-decoration-color: #008000\">(Image Generation) </span>                                                  <span style=\"color: #7f7f7f; text-decoration-color: #7f7f7f\">                 </span>\n",
       "<span style=\"color: #7fbfbf; text-decoration-color: #7fbfbf\">                    </span>         <span style=\"color: #008000; text-decoration-color: #008000\">(models/gemini-2.0-flash-preview-image-generation) for higher quota </span> <span style=\"color: #7f7f7f; text-decoration-color: #7f7f7f\">                 </span>\n",
       "<span style=\"color: #7fbfbf; text-decoration-color: #7fbfbf\">                    </span>         <span style=\"color: #008000; text-decoration-color: #008000\">limits. For more information on this error, head to: </span>                <span style=\"color: #7f7f7f; text-decoration-color: #7f7f7f\">                 </span>\n",
       "<span style=\"color: #7fbfbf; text-decoration-color: #7fbfbf\">                    </span>         <span style=\"color: #008000; text-decoration-color: #008000\">https://ai.google.dev/gemini-api/docs/rate-limits.'</span>, <span style=\"color: #008000; text-decoration-color: #008000\">'status'</span>:       <span style=\"color: #7f7f7f; text-decoration-color: #7f7f7f\">                 </span>\n",
       "<span style=\"color: #7fbfbf; text-decoration-color: #7fbfbf\">                    </span>         <span style=\"color: #008000; text-decoration-color: #008000\">'RESOURCE_EXHAUSTED'</span>, <span style=\"color: #008000; text-decoration-color: #008000\">'details'</span>: <span style=\"font-weight: bold\">[{</span><span style=\"color: #008000; text-decoration-color: #008000\">'@type'</span>:                          <span style=\"color: #7f7f7f; text-decoration-color: #7f7f7f\">                 </span>\n",
       "<span style=\"color: #7fbfbf; text-decoration-color: #7fbfbf\">                    </span>         <span style=\"color: #008000; text-decoration-color: #008000\">'type.googleapis.com/google.rpc.QuotaFailure'</span>, <span style=\"color: #008000; text-decoration-color: #008000\">'violations'</span>:         <span style=\"color: #7f7f7f; text-decoration-color: #7f7f7f\">                 </span>\n",
       "<span style=\"color: #7fbfbf; text-decoration-color: #7fbfbf\">                    </span>         <span style=\"font-weight: bold\">[{</span><span style=\"color: #008000; text-decoration-color: #008000\">'quotaMetric'</span>:                                                     <span style=\"color: #7f7f7f; text-decoration-color: #7f7f7f\">                 </span>\n",
       "<span style=\"color: #7fbfbf; text-decoration-color: #7fbfbf\">                    </span>         <span style=\"color: #008000; text-decoration-color: #008000\">'generativelanguage.googleapis.com/generate_requests_per_model'</span>,     <span style=\"color: #7f7f7f; text-decoration-color: #7f7f7f\">                 </span>\n",
       "<span style=\"color: #7fbfbf; text-decoration-color: #7fbfbf\">                    </span>         <span style=\"color: #008000; text-decoration-color: #008000\">'quotaId'</span>: <span style=\"color: #008000; text-decoration-color: #008000\">'GenerateRequestsPerMinutePerProjectPerModel'</span>,            <span style=\"color: #7f7f7f; text-decoration-color: #7f7f7f\">                 </span>\n",
       "<span style=\"color: #7fbfbf; text-decoration-color: #7fbfbf\">                    </span>         <span style=\"color: #008000; text-decoration-color: #008000\">'quotaDimensions'</span>: <span style=\"font-weight: bold\">{</span><span style=\"color: #008000; text-decoration-color: #008000\">'model'</span>: <span style=\"color: #008000; text-decoration-color: #008000\">'gemini-2.0-flash-exp'</span>, <span style=\"color: #008000; text-decoration-color: #008000\">'location'</span>:     <span style=\"color: #7f7f7f; text-decoration-color: #7f7f7f\">                 </span>\n",
       "<span style=\"color: #7fbfbf; text-decoration-color: #7fbfbf\">                    </span>         <span style=\"color: #008000; text-decoration-color: #008000\">'global'</span><span style=\"font-weight: bold\">}</span>, <span style=\"color: #008000; text-decoration-color: #008000\">'quotaValue'</span>: <span style=\"color: #008000; text-decoration-color: #008000\">'10'</span><span style=\"font-weight: bold\">}]}</span>, <span style=\"font-weight: bold\">{</span><span style=\"color: #008000; text-decoration-color: #008000\">'@type'</span>:                          <span style=\"color: #7f7f7f; text-decoration-color: #7f7f7f\">                 </span>\n",
       "<span style=\"color: #7fbfbf; text-decoration-color: #7fbfbf\">                    </span>         <span style=\"color: #008000; text-decoration-color: #008000\">'type.googleapis.com/google.rpc.Help'</span>, <span style=\"color: #008000; text-decoration-color: #008000\">'links'</span>: <span style=\"font-weight: bold\">[{</span><span style=\"color: #008000; text-decoration-color: #008000\">'description'</span>:     <span style=\"color: #7f7f7f; text-decoration-color: #7f7f7f\">                 </span>\n",
       "<span style=\"color: #7fbfbf; text-decoration-color: #7fbfbf\">                    </span>         <span style=\"color: #008000; text-decoration-color: #008000\">'Learn more about Gemini API quotas'</span>, <span style=\"color: #008000; text-decoration-color: #008000\">'url'</span>:                         <span style=\"color: #7f7f7f; text-decoration-color: #7f7f7f\">                 </span>\n",
       "<span style=\"color: #7fbfbf; text-decoration-color: #7fbfbf\">                    </span>         <span style=\"color: #008000; text-decoration-color: #008000\">'https://ai.google.dev/gemini-api/docs/rate-limits'</span><span style=\"font-weight: bold\">}]}</span>, <span style=\"font-weight: bold\">{</span><span style=\"color: #008000; text-decoration-color: #008000\">'@type'</span>:    <span style=\"color: #7f7f7f; text-decoration-color: #7f7f7f\">                 </span>\n",
       "<span style=\"color: #7fbfbf; text-decoration-color: #7fbfbf\">                    </span>         <span style=\"color: #008000; text-decoration-color: #008000\">'type.googleapis.com/google.rpc.RetryInfo'</span>, <span style=\"color: #008000; text-decoration-color: #008000\">'retryDelay'</span>: <span style=\"color: #008000; text-decoration-color: #008000\">'0s'</span><span style=\"font-weight: bold\">}]}}</span>   <span style=\"color: #7f7f7f; text-decoration-color: #7f7f7f\">                 </span>\n",
       "</pre>\n"
      ],
      "text/plain": [
       "\u001b[2;36m                   \u001b[0m\u001b[2;36m \u001b[0m\u001b[33mWARNING \u001b[0m Retrying _call_gemini after \u001b[1;36m4.2\u001b[0m seconds \u001b[1m(\u001b[0mattempt \u001b[1;36m2\u001b[0m\u001b[1m)\u001b[0m: \u001b[1;36m429\u001b[0m             \u001b]8;id=980497;file:///Users/sravanj/project_work/yellhorn-mcp/yellhorn_mcp/llm_manager.py\u001b\\\u001b[2mllm_manager.py\u001b[0m\u001b]8;;\u001b\\\u001b[2m:\u001b[0m\u001b]8;id=282272;file:///Users/sravanj/project_work/yellhorn-mcp/yellhorn_mcp/llm_manager.py#34\u001b\\\u001b[2m34\u001b[0m\u001b]8;;\u001b\\\n",
       "\u001b[2;36m                    \u001b[0m         RESOURCE_EXHAUSTED. \u001b[1m{\u001b[0m\u001b[32m'error'\u001b[0m: \u001b[1m{\u001b[0m\u001b[32m'code'\u001b[0m: \u001b[1;36m429\u001b[0m, \u001b[32m'message'\u001b[0m: \u001b[32m'You exceeded\u001b[0m \u001b[2m                 \u001b[0m\n",
       "\u001b[2;36m                    \u001b[0m         \u001b[32myour current quota. Please migrate to Gemini 2.0 Flash Preview \u001b[0m      \u001b[2m                 \u001b[0m\n",
       "\u001b[2;36m                    \u001b[0m         \u001b[32m(\u001b[0m\u001b[32mImage Generation\u001b[0m\u001b[32m)\u001b[0m\u001b[32m \u001b[0m                                                  \u001b[2m                 \u001b[0m\n",
       "\u001b[2;36m                    \u001b[0m         \u001b[32m(\u001b[0m\u001b[32mmodels/gemini-2.0-flash-preview-image-generation\u001b[0m\u001b[32m)\u001b[0m\u001b[32m for higher quota \u001b[0m \u001b[2m                 \u001b[0m\n",
       "\u001b[2;36m                    \u001b[0m         \u001b[32mlimits. For more information on this error, head to: \u001b[0m                \u001b[2m                 \u001b[0m\n",
       "\u001b[2;36m                    \u001b[0m         \u001b[32mhttps://ai.google.dev/gemini-api/docs/rate-limits.'\u001b[0m, \u001b[32m'status'\u001b[0m:       \u001b[2m                 \u001b[0m\n",
       "\u001b[2;36m                    \u001b[0m         \u001b[32m'RESOURCE_EXHAUSTED'\u001b[0m, \u001b[32m'details'\u001b[0m: \u001b[1m[\u001b[0m\u001b[1m{\u001b[0m\u001b[32m'@type'\u001b[0m:                          \u001b[2m                 \u001b[0m\n",
       "\u001b[2;36m                    \u001b[0m         \u001b[32m'type.googleapis.com/google.rpc.QuotaFailure'\u001b[0m, \u001b[32m'violations'\u001b[0m:         \u001b[2m                 \u001b[0m\n",
       "\u001b[2;36m                    \u001b[0m         \u001b[1m[\u001b[0m\u001b[1m{\u001b[0m\u001b[32m'quotaMetric'\u001b[0m:                                                     \u001b[2m                 \u001b[0m\n",
       "\u001b[2;36m                    \u001b[0m         \u001b[32m'generativelanguage.googleapis.com/generate_requests_per_model'\u001b[0m,     \u001b[2m                 \u001b[0m\n",
       "\u001b[2;36m                    \u001b[0m         \u001b[32m'quotaId'\u001b[0m: \u001b[32m'GenerateRequestsPerMinutePerProjectPerModel'\u001b[0m,            \u001b[2m                 \u001b[0m\n",
       "\u001b[2;36m                    \u001b[0m         \u001b[32m'quotaDimensions'\u001b[0m: \u001b[1m{\u001b[0m\u001b[32m'model'\u001b[0m: \u001b[32m'gemini-2.0-flash-exp'\u001b[0m, \u001b[32m'location'\u001b[0m:     \u001b[2m                 \u001b[0m\n",
       "\u001b[2;36m                    \u001b[0m         \u001b[32m'global'\u001b[0m\u001b[1m}\u001b[0m, \u001b[32m'quotaValue'\u001b[0m: \u001b[32m'10'\u001b[0m\u001b[1m}\u001b[0m\u001b[1m]\u001b[0m\u001b[1m}\u001b[0m, \u001b[1m{\u001b[0m\u001b[32m'@type'\u001b[0m:                          \u001b[2m                 \u001b[0m\n",
       "\u001b[2;36m                    \u001b[0m         \u001b[32m'type.googleapis.com/google.rpc.Help'\u001b[0m, \u001b[32m'links'\u001b[0m: \u001b[1m[\u001b[0m\u001b[1m{\u001b[0m\u001b[32m'description'\u001b[0m:     \u001b[2m                 \u001b[0m\n",
       "\u001b[2;36m                    \u001b[0m         \u001b[32m'Learn more about Gemini API quotas'\u001b[0m, \u001b[32m'url'\u001b[0m:                         \u001b[2m                 \u001b[0m\n",
       "\u001b[2;36m                    \u001b[0m         \u001b[32m'https://ai.google.dev/gemini-api/docs/rate-limits'\u001b[0m\u001b[1m}\u001b[0m\u001b[1m]\u001b[0m\u001b[1m}\u001b[0m, \u001b[1m{\u001b[0m\u001b[32m'@type'\u001b[0m:    \u001b[2m                 \u001b[0m\n",
       "\u001b[2;36m                    \u001b[0m         \u001b[32m'type.googleapis.com/google.rpc.RetryInfo'\u001b[0m, \u001b[32m'retryDelay'\u001b[0m: \u001b[32m'0s'\u001b[0m\u001b[1m}\u001b[0m\u001b[1m]\u001b[0m\u001b[1m}\u001b[0m\u001b[1m}\u001b[0m   \u001b[2m                 \u001b[0m\n"
      ]
     },
     "metadata": {},
     "output_type": "display_data"
    },
    {
     "data": {
      "text/html": [
       "<pre style=\"white-space:pre;overflow-x:auto;line-height:normal;font-family:Menlo,'DejaVu Sans Mono',consolas,'Courier New',monospace\"><span style=\"color: #7fbfbf; text-decoration-color: #7fbfbf\">[07/12/25 21:33:04] </span><span style=\"color: #000080; text-decoration-color: #000080\">INFO    </span> AFC is enabled with max remote calls: <span style=\"color: #008080; text-decoration-color: #008080; font-weight: bold\">10</span>.                               <a href=\"file:///opt/anaconda3/envs/sravan-yellhorn/lib/python3.11/site-packages/google/genai/models.py\" target=\"_blank\"><span style=\"color: #7f7f7f; text-decoration-color: #7f7f7f\">models.py</span></a><span style=\"color: #7f7f7f; text-decoration-color: #7f7f7f\">:</span><a href=\"file:///opt/anaconda3/envs/sravan-yellhorn/lib/python3.11/site-packages/google/genai/models.py#7118\" target=\"_blank\"><span style=\"color: #7f7f7f; text-decoration-color: #7f7f7f\">7118</span></a>\n",
       "</pre>\n"
      ],
      "text/plain": [
       "\u001b[2;36m[07/12/25 21:33:04]\u001b[0m\u001b[2;36m \u001b[0m\u001b[34mINFO    \u001b[0m AFC is enabled with max remote calls: \u001b[1;36m10\u001b[0m.                               \u001b]8;id=456319;file:///opt/anaconda3/envs/sravan-yellhorn/lib/python3.11/site-packages/google/genai/models.py\u001b\\\u001b[2mmodels.py\u001b[0m\u001b]8;;\u001b\\\u001b[2m:\u001b[0m\u001b]8;id=386457;file:///opt/anaconda3/envs/sravan-yellhorn/lib/python3.11/site-packages/google/genai/models.py#7118\u001b\\\u001b[2m7118\u001b[0m\u001b]8;;\u001b\\\n"
      ]
     },
     "metadata": {},
     "output_type": "display_data"
    },
    {
     "data": {
      "text/html": [
       "<pre style=\"white-space:pre;overflow-x:auto;line-height:normal;font-family:Menlo,'DejaVu Sans Mono',consolas,'Courier New',monospace\"><span style=\"color: #7fbfbf; text-decoration-color: #7fbfbf\">                    </span><span style=\"color: #000080; text-decoration-color: #000080\">INFO    </span> HTTP Request: <span style=\"color: #808000; text-decoration-color: #808000; font-weight: bold\">POST</span>                                                     <a href=\"file:///opt/anaconda3/envs/sravan-yellhorn/lib/python3.11/site-packages/httpx/_client.py\" target=\"_blank\"><span style=\"color: #7f7f7f; text-decoration-color: #7f7f7f\">_client.py</span></a><span style=\"color: #7f7f7f; text-decoration-color: #7f7f7f\">:</span><a href=\"file:///opt/anaconda3/envs/sravan-yellhorn/lib/python3.11/site-packages/httpx/_client.py#1740\" target=\"_blank\"><span style=\"color: #7f7f7f; text-decoration-color: #7f7f7f\">1740</span></a>\n",
       "<span style=\"color: #7fbfbf; text-decoration-color: #7fbfbf\">                    </span>         <span style=\"color: #0000ff; text-decoration-color: #0000ff; text-decoration: underline\">https://generativelanguage.googleapis.com/v1beta/models/gemini-2.0-fla</span> <span style=\"color: #7f7f7f; text-decoration-color: #7f7f7f\">               </span>\n",
       "<span style=\"color: #7fbfbf; text-decoration-color: #7fbfbf\">                    </span>         <span style=\"color: #0000ff; text-decoration-color: #0000ff; text-decoration: underline\">sh-exp:generateContent</span> <span style=\"color: #008000; text-decoration-color: #008000\">\"HTTP/1.1 429 Too Many Requests\"</span>                <span style=\"color: #7f7f7f; text-decoration-color: #7f7f7f\">               </span>\n",
       "</pre>\n"
      ],
      "text/plain": [
       "\u001b[2;36m                   \u001b[0m\u001b[2;36m \u001b[0m\u001b[34mINFO    \u001b[0m HTTP Request: \u001b[1;33mPOST\u001b[0m                                                     \u001b]8;id=230600;file:///opt/anaconda3/envs/sravan-yellhorn/lib/python3.11/site-packages/httpx/_client.py\u001b\\\u001b[2m_client.py\u001b[0m\u001b]8;;\u001b\\\u001b[2m:\u001b[0m\u001b]8;id=922172;file:///opt/anaconda3/envs/sravan-yellhorn/lib/python3.11/site-packages/httpx/_client.py#1740\u001b\\\u001b[2m1740\u001b[0m\u001b]8;;\u001b\\\n",
       "\u001b[2;36m                    \u001b[0m         \u001b[4;94mhttps://generativelanguage.googleapis.com/v1beta/models/gemini-2.0-fla\u001b[0m \u001b[2m               \u001b[0m\n",
       "\u001b[2;36m                    \u001b[0m         \u001b[4;94msh-exp:generateContent\u001b[0m \u001b[32m\"HTTP/1.1 429 Too Many Requests\"\u001b[0m                \u001b[2m               \u001b[0m\n"
      ]
     },
     "metadata": {},
     "output_type": "display_data"
    },
    {
     "data": {
      "text/html": [
       "<pre style=\"white-space:pre;overflow-x:auto;line-height:normal;font-family:Menlo,'DejaVu Sans Mono',consolas,'Courier New',monospace\"><span style=\"color: #7fbfbf; text-decoration-color: #7fbfbf\">                    </span><span style=\"color: #800000; text-decoration-color: #800000; font-weight: bold\">ERROR   </span> Gemini API call failed: <span style=\"color: #008080; text-decoration-color: #008080; font-weight: bold\">429</span> RESOURCE_EXHAUSTED. <span style=\"font-weight: bold\">{</span><span style=\"color: #008000; text-decoration-color: #008000\">'error'</span>: <span style=\"font-weight: bold\">{</span><span style=\"color: #008000; text-decoration-color: #008000\">'code'</span>:  <a href=\"file:///Users/sravanj/project_work/yellhorn-mcp/yellhorn_mcp/llm_manager.py\" target=\"_blank\"><span style=\"color: #7f7f7f; text-decoration-color: #7f7f7f\">llm_manager.py</span></a><span style=\"color: #7f7f7f; text-decoration-color: #7f7f7f\">:</span><a href=\"file:///Users/sravanj/project_work/yellhorn-mcp/yellhorn_mcp/llm_manager.py#658\" target=\"_blank\"><span style=\"color: #7f7f7f; text-decoration-color: #7f7f7f\">658</span></a>\n",
       "<span style=\"color: #7fbfbf; text-decoration-color: #7fbfbf\">                    </span>         <span style=\"color: #008080; text-decoration-color: #008080; font-weight: bold\">429</span>, <span style=\"color: #008000; text-decoration-color: #008000\">'message'</span>: <span style=\"color: #008000; text-decoration-color: #008000\">'You exceeded your current quota. Please migrate to</span> <span style=\"color: #7f7f7f; text-decoration-color: #7f7f7f\">                  </span>\n",
       "<span style=\"color: #7fbfbf; text-decoration-color: #7fbfbf\">                    </span>         <span style=\"color: #008000; text-decoration-color: #008000\">Gemini 2.0 Flash Preview (Image Generation) </span>                        <span style=\"color: #7f7f7f; text-decoration-color: #7f7f7f\">                  </span>\n",
       "<span style=\"color: #7fbfbf; text-decoration-color: #7fbfbf\">                    </span>         <span style=\"color: #008000; text-decoration-color: #008000\">(models/gemini-2.0-flash-preview-image-generation) for higher quota</span> <span style=\"color: #7f7f7f; text-decoration-color: #7f7f7f\">                  </span>\n",
       "<span style=\"color: #7fbfbf; text-decoration-color: #7fbfbf\">                    </span>         <span style=\"color: #008000; text-decoration-color: #008000\">limits. For more information on this error, head to: </span>               <span style=\"color: #7f7f7f; text-decoration-color: #7f7f7f\">                  </span>\n",
       "<span style=\"color: #7fbfbf; text-decoration-color: #7fbfbf\">                    </span>         <span style=\"color: #008000; text-decoration-color: #008000\">https://ai.google.dev/gemini-api/docs/rate-limits.'</span>, <span style=\"color: #008000; text-decoration-color: #008000\">'status'</span>:      <span style=\"color: #7f7f7f; text-decoration-color: #7f7f7f\">                  </span>\n",
       "<span style=\"color: #7fbfbf; text-decoration-color: #7fbfbf\">                    </span>         <span style=\"color: #008000; text-decoration-color: #008000\">'RESOURCE_EXHAUSTED'</span>, <span style=\"color: #008000; text-decoration-color: #008000\">'details'</span>: <span style=\"font-weight: bold\">[{</span><span style=\"color: #008000; text-decoration-color: #008000\">'@type'</span>:                         <span style=\"color: #7f7f7f; text-decoration-color: #7f7f7f\">                  </span>\n",
       "<span style=\"color: #7fbfbf; text-decoration-color: #7fbfbf\">                    </span>         <span style=\"color: #008000; text-decoration-color: #008000\">'type.googleapis.com/google.rpc.QuotaFailure'</span>, <span style=\"color: #008000; text-decoration-color: #008000\">'violations'</span>:        <span style=\"color: #7f7f7f; text-decoration-color: #7f7f7f\">                  </span>\n",
       "<span style=\"color: #7fbfbf; text-decoration-color: #7fbfbf\">                    </span>         <span style=\"font-weight: bold\">[{</span><span style=\"color: #008000; text-decoration-color: #008000\">'quotaMetric'</span>:                                                    <span style=\"color: #7f7f7f; text-decoration-color: #7f7f7f\">                  </span>\n",
       "<span style=\"color: #7fbfbf; text-decoration-color: #7fbfbf\">                    </span>         <span style=\"color: #008000; text-decoration-color: #008000\">'generativelanguage.googleapis.com/generate_requests_per_model'</span>,    <span style=\"color: #7f7f7f; text-decoration-color: #7f7f7f\">                  </span>\n",
       "<span style=\"color: #7fbfbf; text-decoration-color: #7fbfbf\">                    </span>         <span style=\"color: #008000; text-decoration-color: #008000\">'quotaId'</span>: <span style=\"color: #008000; text-decoration-color: #008000\">'GenerateRequestsPerMinutePerProjectPerModel'</span>,           <span style=\"color: #7f7f7f; text-decoration-color: #7f7f7f\">                  </span>\n",
       "<span style=\"color: #7fbfbf; text-decoration-color: #7fbfbf\">                    </span>         <span style=\"color: #008000; text-decoration-color: #008000\">'quotaDimensions'</span>: <span style=\"font-weight: bold\">{</span><span style=\"color: #008000; text-decoration-color: #008000\">'location'</span>: <span style=\"color: #008000; text-decoration-color: #008000\">'global'</span>, <span style=\"color: #008000; text-decoration-color: #008000\">'model'</span>:                  <span style=\"color: #7f7f7f; text-decoration-color: #7f7f7f\">                  </span>\n",
       "<span style=\"color: #7fbfbf; text-decoration-color: #7fbfbf\">                    </span>         <span style=\"color: #008000; text-decoration-color: #008000\">'gemini-2.0-flash-exp'</span><span style=\"font-weight: bold\">}</span>, <span style=\"color: #008000; text-decoration-color: #008000\">'quotaValue'</span>: <span style=\"color: #008000; text-decoration-color: #008000\">'10'</span><span style=\"font-weight: bold\">}]}</span>, <span style=\"font-weight: bold\">{</span><span style=\"color: #008000; text-decoration-color: #008000\">'@type'</span>:           <span style=\"color: #7f7f7f; text-decoration-color: #7f7f7f\">                  </span>\n",
       "<span style=\"color: #7fbfbf; text-decoration-color: #7fbfbf\">                    </span>         <span style=\"color: #008000; text-decoration-color: #008000\">'type.googleapis.com/google.rpc.Help'</span>, <span style=\"color: #008000; text-decoration-color: #008000\">'links'</span>: <span style=\"font-weight: bold\">[{</span><span style=\"color: #008000; text-decoration-color: #008000\">'description'</span>:    <span style=\"color: #7f7f7f; text-decoration-color: #7f7f7f\">                  </span>\n",
       "<span style=\"color: #7fbfbf; text-decoration-color: #7fbfbf\">                    </span>         <span style=\"color: #008000; text-decoration-color: #008000\">'Learn more about Gemini API quotas'</span>, <span style=\"color: #008000; text-decoration-color: #008000\">'url'</span>:                        <span style=\"color: #7f7f7f; text-decoration-color: #7f7f7f\">                  </span>\n",
       "<span style=\"color: #7fbfbf; text-decoration-color: #7fbfbf\">                    </span>         <span style=\"color: #008000; text-decoration-color: #008000\">'https://ai.google.dev/gemini-api/docs/rate-limits'</span><span style=\"font-weight: bold\">}]}</span>, <span style=\"font-weight: bold\">{</span><span style=\"color: #008000; text-decoration-color: #008000\">'@type'</span>:   <span style=\"color: #7f7f7f; text-decoration-color: #7f7f7f\">                  </span>\n",
       "<span style=\"color: #7fbfbf; text-decoration-color: #7fbfbf\">                    </span>         <span style=\"color: #008000; text-decoration-color: #008000\">'type.googleapis.com/google.rpc.RetryInfo'</span>, <span style=\"color: #008000; text-decoration-color: #008000\">'retryDelay'</span>: <span style=\"color: #008000; text-decoration-color: #008000\">'55s'</span><span style=\"font-weight: bold\">}]}}</span> <span style=\"color: #7f7f7f; text-decoration-color: #7f7f7f\">                  </span>\n",
       "</pre>\n"
      ],
      "text/plain": [
       "\u001b[2;36m                   \u001b[0m\u001b[2;36m \u001b[0m\u001b[1;31mERROR   \u001b[0m Gemini API call failed: \u001b[1;36m429\u001b[0m RESOURCE_EXHAUSTED. \u001b[1m{\u001b[0m\u001b[32m'error'\u001b[0m: \u001b[1m{\u001b[0m\u001b[32m'code'\u001b[0m:  \u001b]8;id=771442;file:///Users/sravanj/project_work/yellhorn-mcp/yellhorn_mcp/llm_manager.py\u001b\\\u001b[2mllm_manager.py\u001b[0m\u001b]8;;\u001b\\\u001b[2m:\u001b[0m\u001b]8;id=292737;file:///Users/sravanj/project_work/yellhorn-mcp/yellhorn_mcp/llm_manager.py#658\u001b\\\u001b[2m658\u001b[0m\u001b]8;;\u001b\\\n",
       "\u001b[2;36m                    \u001b[0m         \u001b[1;36m429\u001b[0m, \u001b[32m'message'\u001b[0m: \u001b[32m'You exceeded your current quota. Please migrate to\u001b[0m \u001b[2m                  \u001b[0m\n",
       "\u001b[2;36m                    \u001b[0m         \u001b[32mGemini 2.0 Flash Preview \u001b[0m\u001b[32m(\u001b[0m\u001b[32mImage Generation\u001b[0m\u001b[32m)\u001b[0m\u001b[32m \u001b[0m                        \u001b[2m                  \u001b[0m\n",
       "\u001b[2;36m                    \u001b[0m         \u001b[32m(\u001b[0m\u001b[32mmodels/gemini-2.0-flash-preview-image-generation\u001b[0m\u001b[32m)\u001b[0m\u001b[32m for higher quota\u001b[0m \u001b[2m                  \u001b[0m\n",
       "\u001b[2;36m                    \u001b[0m         \u001b[32mlimits. For more information on this error, head to: \u001b[0m               \u001b[2m                  \u001b[0m\n",
       "\u001b[2;36m                    \u001b[0m         \u001b[32mhttps://ai.google.dev/gemini-api/docs/rate-limits.'\u001b[0m, \u001b[32m'status'\u001b[0m:      \u001b[2m                  \u001b[0m\n",
       "\u001b[2;36m                    \u001b[0m         \u001b[32m'RESOURCE_EXHAUSTED'\u001b[0m, \u001b[32m'details'\u001b[0m: \u001b[1m[\u001b[0m\u001b[1m{\u001b[0m\u001b[32m'@type'\u001b[0m:                         \u001b[2m                  \u001b[0m\n",
       "\u001b[2;36m                    \u001b[0m         \u001b[32m'type.googleapis.com/google.rpc.QuotaFailure'\u001b[0m, \u001b[32m'violations'\u001b[0m:        \u001b[2m                  \u001b[0m\n",
       "\u001b[2;36m                    \u001b[0m         \u001b[1m[\u001b[0m\u001b[1m{\u001b[0m\u001b[32m'quotaMetric'\u001b[0m:                                                    \u001b[2m                  \u001b[0m\n",
       "\u001b[2;36m                    \u001b[0m         \u001b[32m'generativelanguage.googleapis.com/generate_requests_per_model'\u001b[0m,    \u001b[2m                  \u001b[0m\n",
       "\u001b[2;36m                    \u001b[0m         \u001b[32m'quotaId'\u001b[0m: \u001b[32m'GenerateRequestsPerMinutePerProjectPerModel'\u001b[0m,           \u001b[2m                  \u001b[0m\n",
       "\u001b[2;36m                    \u001b[0m         \u001b[32m'quotaDimensions'\u001b[0m: \u001b[1m{\u001b[0m\u001b[32m'location'\u001b[0m: \u001b[32m'global'\u001b[0m, \u001b[32m'model'\u001b[0m:                  \u001b[2m                  \u001b[0m\n",
       "\u001b[2;36m                    \u001b[0m         \u001b[32m'gemini-2.0-flash-exp'\u001b[0m\u001b[1m}\u001b[0m, \u001b[32m'quotaValue'\u001b[0m: \u001b[32m'10'\u001b[0m\u001b[1m}\u001b[0m\u001b[1m]\u001b[0m\u001b[1m}\u001b[0m, \u001b[1m{\u001b[0m\u001b[32m'@type'\u001b[0m:           \u001b[2m                  \u001b[0m\n",
       "\u001b[2;36m                    \u001b[0m         \u001b[32m'type.googleapis.com/google.rpc.Help'\u001b[0m, \u001b[32m'links'\u001b[0m: \u001b[1m[\u001b[0m\u001b[1m{\u001b[0m\u001b[32m'description'\u001b[0m:    \u001b[2m                  \u001b[0m\n",
       "\u001b[2;36m                    \u001b[0m         \u001b[32m'Learn more about Gemini API quotas'\u001b[0m, \u001b[32m'url'\u001b[0m:                        \u001b[2m                  \u001b[0m\n",
       "\u001b[2;36m                    \u001b[0m         \u001b[32m'https://ai.google.dev/gemini-api/docs/rate-limits'\u001b[0m\u001b[1m}\u001b[0m\u001b[1m]\u001b[0m\u001b[1m}\u001b[0m, \u001b[1m{\u001b[0m\u001b[32m'@type'\u001b[0m:   \u001b[2m                  \u001b[0m\n",
       "\u001b[2;36m                    \u001b[0m         \u001b[32m'type.googleapis.com/google.rpc.RetryInfo'\u001b[0m, \u001b[32m'retryDelay'\u001b[0m: \u001b[32m'55s'\u001b[0m\u001b[1m}\u001b[0m\u001b[1m]\u001b[0m\u001b[1m}\u001b[0m\u001b[1m}\u001b[0m \u001b[2m                  \u001b[0m\n"
      ]
     },
     "metadata": {},
     "output_type": "display_data"
    },
    {
     "data": {
      "text/html": [
       "<pre style=\"white-space:pre;overflow-x:auto;line-height:normal;font-family:Menlo,'DejaVu Sans Mono',consolas,'Courier New',monospace\"><span style=\"color: #7fbfbf; text-decoration-color: #7fbfbf\">                    </span><span style=\"color: #808000; text-decoration-color: #808000\">WARNING </span> Retrying _call_gemini after <span style=\"color: #008080; text-decoration-color: #008080; font-weight: bold\">8.4</span> seconds <span style=\"font-weight: bold\">(</span>attempt <span style=\"color: #008080; text-decoration-color: #008080; font-weight: bold\">3</span><span style=\"font-weight: bold\">)</span>: <span style=\"color: #008080; text-decoration-color: #008080; font-weight: bold\">429</span>             <a href=\"file:///Users/sravanj/project_work/yellhorn-mcp/yellhorn_mcp/llm_manager.py\" target=\"_blank\"><span style=\"color: #7f7f7f; text-decoration-color: #7f7f7f\">llm_manager.py</span></a><span style=\"color: #7f7f7f; text-decoration-color: #7f7f7f\">:</span><a href=\"file:///Users/sravanj/project_work/yellhorn-mcp/yellhorn_mcp/llm_manager.py#34\" target=\"_blank\"><span style=\"color: #7f7f7f; text-decoration-color: #7f7f7f\">34</span></a>\n",
       "<span style=\"color: #7fbfbf; text-decoration-color: #7fbfbf\">                    </span>         RESOURCE_EXHAUSTED. <span style=\"font-weight: bold\">{</span><span style=\"color: #008000; text-decoration-color: #008000\">'error'</span>: <span style=\"font-weight: bold\">{</span><span style=\"color: #008000; text-decoration-color: #008000\">'code'</span>: <span style=\"color: #008080; text-decoration-color: #008080; font-weight: bold\">429</span>, <span style=\"color: #008000; text-decoration-color: #008000\">'message'</span>: <span style=\"color: #008000; text-decoration-color: #008000\">'You exceeded</span> <span style=\"color: #7f7f7f; text-decoration-color: #7f7f7f\">                 </span>\n",
       "<span style=\"color: #7fbfbf; text-decoration-color: #7fbfbf\">                    </span>         <span style=\"color: #008000; text-decoration-color: #008000\">your current quota. Please migrate to Gemini 2.0 Flash Preview </span>      <span style=\"color: #7f7f7f; text-decoration-color: #7f7f7f\">                 </span>\n",
       "<span style=\"color: #7fbfbf; text-decoration-color: #7fbfbf\">                    </span>         <span style=\"color: #008000; text-decoration-color: #008000\">(Image Generation) </span>                                                  <span style=\"color: #7f7f7f; text-decoration-color: #7f7f7f\">                 </span>\n",
       "<span style=\"color: #7fbfbf; text-decoration-color: #7fbfbf\">                    </span>         <span style=\"color: #008000; text-decoration-color: #008000\">(models/gemini-2.0-flash-preview-image-generation) for higher quota </span> <span style=\"color: #7f7f7f; text-decoration-color: #7f7f7f\">                 </span>\n",
       "<span style=\"color: #7fbfbf; text-decoration-color: #7fbfbf\">                    </span>         <span style=\"color: #008000; text-decoration-color: #008000\">limits. For more information on this error, head to: </span>                <span style=\"color: #7f7f7f; text-decoration-color: #7f7f7f\">                 </span>\n",
       "<span style=\"color: #7fbfbf; text-decoration-color: #7fbfbf\">                    </span>         <span style=\"color: #008000; text-decoration-color: #008000\">https://ai.google.dev/gemini-api/docs/rate-limits.'</span>, <span style=\"color: #008000; text-decoration-color: #008000\">'status'</span>:       <span style=\"color: #7f7f7f; text-decoration-color: #7f7f7f\">                 </span>\n",
       "<span style=\"color: #7fbfbf; text-decoration-color: #7fbfbf\">                    </span>         <span style=\"color: #008000; text-decoration-color: #008000\">'RESOURCE_EXHAUSTED'</span>, <span style=\"color: #008000; text-decoration-color: #008000\">'details'</span>: <span style=\"font-weight: bold\">[{</span><span style=\"color: #008000; text-decoration-color: #008000\">'@type'</span>:                          <span style=\"color: #7f7f7f; text-decoration-color: #7f7f7f\">                 </span>\n",
       "<span style=\"color: #7fbfbf; text-decoration-color: #7fbfbf\">                    </span>         <span style=\"color: #008000; text-decoration-color: #008000\">'type.googleapis.com/google.rpc.QuotaFailure'</span>, <span style=\"color: #008000; text-decoration-color: #008000\">'violations'</span>:         <span style=\"color: #7f7f7f; text-decoration-color: #7f7f7f\">                 </span>\n",
       "<span style=\"color: #7fbfbf; text-decoration-color: #7fbfbf\">                    </span>         <span style=\"font-weight: bold\">[{</span><span style=\"color: #008000; text-decoration-color: #008000\">'quotaMetric'</span>:                                                     <span style=\"color: #7f7f7f; text-decoration-color: #7f7f7f\">                 </span>\n",
       "<span style=\"color: #7fbfbf; text-decoration-color: #7fbfbf\">                    </span>         <span style=\"color: #008000; text-decoration-color: #008000\">'generativelanguage.googleapis.com/generate_requests_per_model'</span>,     <span style=\"color: #7f7f7f; text-decoration-color: #7f7f7f\">                 </span>\n",
       "<span style=\"color: #7fbfbf; text-decoration-color: #7fbfbf\">                    </span>         <span style=\"color: #008000; text-decoration-color: #008000\">'quotaId'</span>: <span style=\"color: #008000; text-decoration-color: #008000\">'GenerateRequestsPerMinutePerProjectPerModel'</span>,            <span style=\"color: #7f7f7f; text-decoration-color: #7f7f7f\">                 </span>\n",
       "<span style=\"color: #7fbfbf; text-decoration-color: #7fbfbf\">                    </span>         <span style=\"color: #008000; text-decoration-color: #008000\">'quotaDimensions'</span>: <span style=\"font-weight: bold\">{</span><span style=\"color: #008000; text-decoration-color: #008000\">'location'</span>: <span style=\"color: #008000; text-decoration-color: #008000\">'global'</span>, <span style=\"color: #008000; text-decoration-color: #008000\">'model'</span>:                   <span style=\"color: #7f7f7f; text-decoration-color: #7f7f7f\">                 </span>\n",
       "<span style=\"color: #7fbfbf; text-decoration-color: #7fbfbf\">                    </span>         <span style=\"color: #008000; text-decoration-color: #008000\">'gemini-2.0-flash-exp'</span><span style=\"font-weight: bold\">}</span>, <span style=\"color: #008000; text-decoration-color: #008000\">'quotaValue'</span>: <span style=\"color: #008000; text-decoration-color: #008000\">'10'</span><span style=\"font-weight: bold\">}]}</span>, <span style=\"font-weight: bold\">{</span><span style=\"color: #008000; text-decoration-color: #008000\">'@type'</span>:            <span style=\"color: #7f7f7f; text-decoration-color: #7f7f7f\">                 </span>\n",
       "<span style=\"color: #7fbfbf; text-decoration-color: #7fbfbf\">                    </span>         <span style=\"color: #008000; text-decoration-color: #008000\">'type.googleapis.com/google.rpc.Help'</span>, <span style=\"color: #008000; text-decoration-color: #008000\">'links'</span>: <span style=\"font-weight: bold\">[{</span><span style=\"color: #008000; text-decoration-color: #008000\">'description'</span>:     <span style=\"color: #7f7f7f; text-decoration-color: #7f7f7f\">                 </span>\n",
       "<span style=\"color: #7fbfbf; text-decoration-color: #7fbfbf\">                    </span>         <span style=\"color: #008000; text-decoration-color: #008000\">'Learn more about Gemini API quotas'</span>, <span style=\"color: #008000; text-decoration-color: #008000\">'url'</span>:                         <span style=\"color: #7f7f7f; text-decoration-color: #7f7f7f\">                 </span>\n",
       "<span style=\"color: #7fbfbf; text-decoration-color: #7fbfbf\">                    </span>         <span style=\"color: #008000; text-decoration-color: #008000\">'https://ai.google.dev/gemini-api/docs/rate-limits'</span><span style=\"font-weight: bold\">}]}</span>, <span style=\"font-weight: bold\">{</span><span style=\"color: #008000; text-decoration-color: #008000\">'@type'</span>:    <span style=\"color: #7f7f7f; text-decoration-color: #7f7f7f\">                 </span>\n",
       "<span style=\"color: #7fbfbf; text-decoration-color: #7fbfbf\">                    </span>         <span style=\"color: #008000; text-decoration-color: #008000\">'type.googleapis.com/google.rpc.RetryInfo'</span>, <span style=\"color: #008000; text-decoration-color: #008000\">'retryDelay'</span>: <span style=\"color: #008000; text-decoration-color: #008000\">'55s'</span><span style=\"font-weight: bold\">}]}}</span>  <span style=\"color: #7f7f7f; text-decoration-color: #7f7f7f\">                 </span>\n",
       "</pre>\n"
      ],
      "text/plain": [
       "\u001b[2;36m                   \u001b[0m\u001b[2;36m \u001b[0m\u001b[33mWARNING \u001b[0m Retrying _call_gemini after \u001b[1;36m8.4\u001b[0m seconds \u001b[1m(\u001b[0mattempt \u001b[1;36m3\u001b[0m\u001b[1m)\u001b[0m: \u001b[1;36m429\u001b[0m             \u001b]8;id=704610;file:///Users/sravanj/project_work/yellhorn-mcp/yellhorn_mcp/llm_manager.py\u001b\\\u001b[2mllm_manager.py\u001b[0m\u001b]8;;\u001b\\\u001b[2m:\u001b[0m\u001b]8;id=661115;file:///Users/sravanj/project_work/yellhorn-mcp/yellhorn_mcp/llm_manager.py#34\u001b\\\u001b[2m34\u001b[0m\u001b]8;;\u001b\\\n",
       "\u001b[2;36m                    \u001b[0m         RESOURCE_EXHAUSTED. \u001b[1m{\u001b[0m\u001b[32m'error'\u001b[0m: \u001b[1m{\u001b[0m\u001b[32m'code'\u001b[0m: \u001b[1;36m429\u001b[0m, \u001b[32m'message'\u001b[0m: \u001b[32m'You exceeded\u001b[0m \u001b[2m                 \u001b[0m\n",
       "\u001b[2;36m                    \u001b[0m         \u001b[32myour current quota. Please migrate to Gemini 2.0 Flash Preview \u001b[0m      \u001b[2m                 \u001b[0m\n",
       "\u001b[2;36m                    \u001b[0m         \u001b[32m(\u001b[0m\u001b[32mImage Generation\u001b[0m\u001b[32m)\u001b[0m\u001b[32m \u001b[0m                                                  \u001b[2m                 \u001b[0m\n",
       "\u001b[2;36m                    \u001b[0m         \u001b[32m(\u001b[0m\u001b[32mmodels/gemini-2.0-flash-preview-image-generation\u001b[0m\u001b[32m)\u001b[0m\u001b[32m for higher quota \u001b[0m \u001b[2m                 \u001b[0m\n",
       "\u001b[2;36m                    \u001b[0m         \u001b[32mlimits. For more information on this error, head to: \u001b[0m                \u001b[2m                 \u001b[0m\n",
       "\u001b[2;36m                    \u001b[0m         \u001b[32mhttps://ai.google.dev/gemini-api/docs/rate-limits.'\u001b[0m, \u001b[32m'status'\u001b[0m:       \u001b[2m                 \u001b[0m\n",
       "\u001b[2;36m                    \u001b[0m         \u001b[32m'RESOURCE_EXHAUSTED'\u001b[0m, \u001b[32m'details'\u001b[0m: \u001b[1m[\u001b[0m\u001b[1m{\u001b[0m\u001b[32m'@type'\u001b[0m:                          \u001b[2m                 \u001b[0m\n",
       "\u001b[2;36m                    \u001b[0m         \u001b[32m'type.googleapis.com/google.rpc.QuotaFailure'\u001b[0m, \u001b[32m'violations'\u001b[0m:         \u001b[2m                 \u001b[0m\n",
       "\u001b[2;36m                    \u001b[0m         \u001b[1m[\u001b[0m\u001b[1m{\u001b[0m\u001b[32m'quotaMetric'\u001b[0m:                                                     \u001b[2m                 \u001b[0m\n",
       "\u001b[2;36m                    \u001b[0m         \u001b[32m'generativelanguage.googleapis.com/generate_requests_per_model'\u001b[0m,     \u001b[2m                 \u001b[0m\n",
       "\u001b[2;36m                    \u001b[0m         \u001b[32m'quotaId'\u001b[0m: \u001b[32m'GenerateRequestsPerMinutePerProjectPerModel'\u001b[0m,            \u001b[2m                 \u001b[0m\n",
       "\u001b[2;36m                    \u001b[0m         \u001b[32m'quotaDimensions'\u001b[0m: \u001b[1m{\u001b[0m\u001b[32m'location'\u001b[0m: \u001b[32m'global'\u001b[0m, \u001b[32m'model'\u001b[0m:                   \u001b[2m                 \u001b[0m\n",
       "\u001b[2;36m                    \u001b[0m         \u001b[32m'gemini-2.0-flash-exp'\u001b[0m\u001b[1m}\u001b[0m, \u001b[32m'quotaValue'\u001b[0m: \u001b[32m'10'\u001b[0m\u001b[1m}\u001b[0m\u001b[1m]\u001b[0m\u001b[1m}\u001b[0m, \u001b[1m{\u001b[0m\u001b[32m'@type'\u001b[0m:            \u001b[2m                 \u001b[0m\n",
       "\u001b[2;36m                    \u001b[0m         \u001b[32m'type.googleapis.com/google.rpc.Help'\u001b[0m, \u001b[32m'links'\u001b[0m: \u001b[1m[\u001b[0m\u001b[1m{\u001b[0m\u001b[32m'description'\u001b[0m:     \u001b[2m                 \u001b[0m\n",
       "\u001b[2;36m                    \u001b[0m         \u001b[32m'Learn more about Gemini API quotas'\u001b[0m, \u001b[32m'url'\u001b[0m:                         \u001b[2m                 \u001b[0m\n",
       "\u001b[2;36m                    \u001b[0m         \u001b[32m'https://ai.google.dev/gemini-api/docs/rate-limits'\u001b[0m\u001b[1m}\u001b[0m\u001b[1m]\u001b[0m\u001b[1m}\u001b[0m, \u001b[1m{\u001b[0m\u001b[32m'@type'\u001b[0m:    \u001b[2m                 \u001b[0m\n",
       "\u001b[2;36m                    \u001b[0m         \u001b[32m'type.googleapis.com/google.rpc.RetryInfo'\u001b[0m, \u001b[32m'retryDelay'\u001b[0m: \u001b[32m'55s'\u001b[0m\u001b[1m}\u001b[0m\u001b[1m]\u001b[0m\u001b[1m}\u001b[0m\u001b[1m}\u001b[0m  \u001b[2m                 \u001b[0m\n"
      ]
     },
     "metadata": {},
     "output_type": "display_data"
    },
    {
     "data": {
      "text/html": [
       "<pre style=\"white-space:pre;overflow-x:auto;line-height:normal;font-family:Menlo,'DejaVu Sans Mono',consolas,'Courier New',monospace\"><span style=\"color: #7fbfbf; text-decoration-color: #7fbfbf\">[07/12/25 21:33:08] </span><span style=\"color: #000080; text-decoration-color: #000080\">INFO    </span> AFC is enabled with max remote calls: <span style=\"color: #008080; text-decoration-color: #008080; font-weight: bold\">10</span>.                               <a href=\"file:///opt/anaconda3/envs/sravan-yellhorn/lib/python3.11/site-packages/google/genai/models.py\" target=\"_blank\"><span style=\"color: #7f7f7f; text-decoration-color: #7f7f7f\">models.py</span></a><span style=\"color: #7f7f7f; text-decoration-color: #7f7f7f\">:</span><a href=\"file:///opt/anaconda3/envs/sravan-yellhorn/lib/python3.11/site-packages/google/genai/models.py#7118\" target=\"_blank\"><span style=\"color: #7f7f7f; text-decoration-color: #7f7f7f\">7118</span></a>\n",
       "</pre>\n"
      ],
      "text/plain": [
       "\u001b[2;36m[07/12/25 21:33:08]\u001b[0m\u001b[2;36m \u001b[0m\u001b[34mINFO    \u001b[0m AFC is enabled with max remote calls: \u001b[1;36m10\u001b[0m.                               \u001b]8;id=547551;file:///opt/anaconda3/envs/sravan-yellhorn/lib/python3.11/site-packages/google/genai/models.py\u001b\\\u001b[2mmodels.py\u001b[0m\u001b]8;;\u001b\\\u001b[2m:\u001b[0m\u001b]8;id=370892;file:///opt/anaconda3/envs/sravan-yellhorn/lib/python3.11/site-packages/google/genai/models.py#7118\u001b\\\u001b[2m7118\u001b[0m\u001b]8;;\u001b\\\n"
      ]
     },
     "metadata": {},
     "output_type": "display_data"
    },
    {
     "data": {
      "text/html": [
       "<pre style=\"white-space:pre;overflow-x:auto;line-height:normal;font-family:Menlo,'DejaVu Sans Mono',consolas,'Courier New',monospace\"><span style=\"color: #7fbfbf; text-decoration-color: #7fbfbf\">                    </span><span style=\"color: #000080; text-decoration-color: #000080\">INFO    </span> HTTP Request: <span style=\"color: #808000; text-decoration-color: #808000; font-weight: bold\">POST</span>                                                     <a href=\"file:///opt/anaconda3/envs/sravan-yellhorn/lib/python3.11/site-packages/httpx/_client.py\" target=\"_blank\"><span style=\"color: #7f7f7f; text-decoration-color: #7f7f7f\">_client.py</span></a><span style=\"color: #7f7f7f; text-decoration-color: #7f7f7f\">:</span><a href=\"file:///opt/anaconda3/envs/sravan-yellhorn/lib/python3.11/site-packages/httpx/_client.py#1740\" target=\"_blank\"><span style=\"color: #7f7f7f; text-decoration-color: #7f7f7f\">1740</span></a>\n",
       "<span style=\"color: #7fbfbf; text-decoration-color: #7fbfbf\">                    </span>         <span style=\"color: #0000ff; text-decoration-color: #0000ff; text-decoration: underline\">https://generativelanguage.googleapis.com/v1beta/models/gemini-2.0-fla</span> <span style=\"color: #7f7f7f; text-decoration-color: #7f7f7f\">               </span>\n",
       "<span style=\"color: #7fbfbf; text-decoration-color: #7fbfbf\">                    </span>         <span style=\"color: #0000ff; text-decoration-color: #0000ff; text-decoration: underline\">sh-exp:generateContent</span> <span style=\"color: #008000; text-decoration-color: #008000\">\"HTTP/1.1 429 Too Many Requests\"</span>                <span style=\"color: #7f7f7f; text-decoration-color: #7f7f7f\">               </span>\n",
       "</pre>\n"
      ],
      "text/plain": [
       "\u001b[2;36m                   \u001b[0m\u001b[2;36m \u001b[0m\u001b[34mINFO    \u001b[0m HTTP Request: \u001b[1;33mPOST\u001b[0m                                                     \u001b]8;id=665038;file:///opt/anaconda3/envs/sravan-yellhorn/lib/python3.11/site-packages/httpx/_client.py\u001b\\\u001b[2m_client.py\u001b[0m\u001b]8;;\u001b\\\u001b[2m:\u001b[0m\u001b]8;id=465010;file:///opt/anaconda3/envs/sravan-yellhorn/lib/python3.11/site-packages/httpx/_client.py#1740\u001b\\\u001b[2m1740\u001b[0m\u001b]8;;\u001b\\\n",
       "\u001b[2;36m                    \u001b[0m         \u001b[4;94mhttps://generativelanguage.googleapis.com/v1beta/models/gemini-2.0-fla\u001b[0m \u001b[2m               \u001b[0m\n",
       "\u001b[2;36m                    \u001b[0m         \u001b[4;94msh-exp:generateContent\u001b[0m \u001b[32m\"HTTP/1.1 429 Too Many Requests\"\u001b[0m                \u001b[2m               \u001b[0m\n"
      ]
     },
     "metadata": {},
     "output_type": "display_data"
    },
    {
     "data": {
      "text/html": [
       "<pre style=\"white-space:pre;overflow-x:auto;line-height:normal;font-family:Menlo,'DejaVu Sans Mono',consolas,'Courier New',monospace\"><span style=\"color: #7fbfbf; text-decoration-color: #7fbfbf\">                    </span><span style=\"color: #800000; text-decoration-color: #800000; font-weight: bold\">ERROR   </span> Gemini API call failed: <span style=\"color: #008080; text-decoration-color: #008080; font-weight: bold\">429</span> RESOURCE_EXHAUSTED. <span style=\"font-weight: bold\">{</span><span style=\"color: #008000; text-decoration-color: #008000\">'error'</span>: <span style=\"font-weight: bold\">{</span><span style=\"color: #008000; text-decoration-color: #008000\">'code'</span>:  <a href=\"file:///Users/sravanj/project_work/yellhorn-mcp/yellhorn_mcp/llm_manager.py\" target=\"_blank\"><span style=\"color: #7f7f7f; text-decoration-color: #7f7f7f\">llm_manager.py</span></a><span style=\"color: #7f7f7f; text-decoration-color: #7f7f7f\">:</span><a href=\"file:///Users/sravanj/project_work/yellhorn-mcp/yellhorn_mcp/llm_manager.py#658\" target=\"_blank\"><span style=\"color: #7f7f7f; text-decoration-color: #7f7f7f\">658</span></a>\n",
       "<span style=\"color: #7fbfbf; text-decoration-color: #7fbfbf\">                    </span>         <span style=\"color: #008080; text-decoration-color: #008080; font-weight: bold\">429</span>, <span style=\"color: #008000; text-decoration-color: #008000\">'message'</span>: <span style=\"color: #008000; text-decoration-color: #008000\">'You exceeded your current quota. Please migrate to</span> <span style=\"color: #7f7f7f; text-decoration-color: #7f7f7f\">                  </span>\n",
       "<span style=\"color: #7fbfbf; text-decoration-color: #7fbfbf\">                    </span>         <span style=\"color: #008000; text-decoration-color: #008000\">Gemini 2.0 Flash Preview (Image Generation) </span>                        <span style=\"color: #7f7f7f; text-decoration-color: #7f7f7f\">                  </span>\n",
       "<span style=\"color: #7fbfbf; text-decoration-color: #7fbfbf\">                    </span>         <span style=\"color: #008000; text-decoration-color: #008000\">(models/gemini-2.0-flash-preview-image-generation) for higher quota</span> <span style=\"color: #7f7f7f; text-decoration-color: #7f7f7f\">                  </span>\n",
       "<span style=\"color: #7fbfbf; text-decoration-color: #7fbfbf\">                    </span>         <span style=\"color: #008000; text-decoration-color: #008000\">limits. For more information on this error, head to: </span>               <span style=\"color: #7f7f7f; text-decoration-color: #7f7f7f\">                  </span>\n",
       "<span style=\"color: #7fbfbf; text-decoration-color: #7fbfbf\">                    </span>         <span style=\"color: #008000; text-decoration-color: #008000\">https://ai.google.dev/gemini-api/docs/rate-limits.'</span>, <span style=\"color: #008000; text-decoration-color: #008000\">'status'</span>:      <span style=\"color: #7f7f7f; text-decoration-color: #7f7f7f\">                  </span>\n",
       "<span style=\"color: #7fbfbf; text-decoration-color: #7fbfbf\">                    </span>         <span style=\"color: #008000; text-decoration-color: #008000\">'RESOURCE_EXHAUSTED'</span>, <span style=\"color: #008000; text-decoration-color: #008000\">'details'</span>: <span style=\"font-weight: bold\">[{</span><span style=\"color: #008000; text-decoration-color: #008000\">'@type'</span>:                         <span style=\"color: #7f7f7f; text-decoration-color: #7f7f7f\">                  </span>\n",
       "<span style=\"color: #7fbfbf; text-decoration-color: #7fbfbf\">                    </span>         <span style=\"color: #008000; text-decoration-color: #008000\">'type.googleapis.com/google.rpc.QuotaFailure'</span>, <span style=\"color: #008000; text-decoration-color: #008000\">'violations'</span>:        <span style=\"color: #7f7f7f; text-decoration-color: #7f7f7f\">                  </span>\n",
       "<span style=\"color: #7fbfbf; text-decoration-color: #7fbfbf\">                    </span>         <span style=\"font-weight: bold\">[{</span><span style=\"color: #008000; text-decoration-color: #008000\">'quotaMetric'</span>:                                                    <span style=\"color: #7f7f7f; text-decoration-color: #7f7f7f\">                  </span>\n",
       "<span style=\"color: #7fbfbf; text-decoration-color: #7fbfbf\">                    </span>         <span style=\"color: #008000; text-decoration-color: #008000\">'generativelanguage.googleapis.com/generate_requests_per_model'</span>,    <span style=\"color: #7f7f7f; text-decoration-color: #7f7f7f\">                  </span>\n",
       "<span style=\"color: #7fbfbf; text-decoration-color: #7fbfbf\">                    </span>         <span style=\"color: #008000; text-decoration-color: #008000\">'quotaId'</span>: <span style=\"color: #008000; text-decoration-color: #008000\">'GenerateRequestsPerMinutePerProjectPerModel'</span>,           <span style=\"color: #7f7f7f; text-decoration-color: #7f7f7f\">                  </span>\n",
       "<span style=\"color: #7fbfbf; text-decoration-color: #7fbfbf\">                    </span>         <span style=\"color: #008000; text-decoration-color: #008000\">'quotaDimensions'</span>: <span style=\"font-weight: bold\">{</span><span style=\"color: #008000; text-decoration-color: #008000\">'model'</span>: <span style=\"color: #008000; text-decoration-color: #008000\">'gemini-2.0-flash-exp'</span>, <span style=\"color: #008000; text-decoration-color: #008000\">'location'</span>:    <span style=\"color: #7f7f7f; text-decoration-color: #7f7f7f\">                  </span>\n",
       "<span style=\"color: #7fbfbf; text-decoration-color: #7fbfbf\">                    </span>         <span style=\"color: #008000; text-decoration-color: #008000\">'global'</span><span style=\"font-weight: bold\">}</span>, <span style=\"color: #008000; text-decoration-color: #008000\">'quotaValue'</span>: <span style=\"color: #008000; text-decoration-color: #008000\">'10'</span><span style=\"font-weight: bold\">}]}</span>, <span style=\"font-weight: bold\">{</span><span style=\"color: #008000; text-decoration-color: #008000\">'@type'</span>:                         <span style=\"color: #7f7f7f; text-decoration-color: #7f7f7f\">                  </span>\n",
       "<span style=\"color: #7fbfbf; text-decoration-color: #7fbfbf\">                    </span>         <span style=\"color: #008000; text-decoration-color: #008000\">'type.googleapis.com/google.rpc.Help'</span>, <span style=\"color: #008000; text-decoration-color: #008000\">'links'</span>: <span style=\"font-weight: bold\">[{</span><span style=\"color: #008000; text-decoration-color: #008000\">'description'</span>:    <span style=\"color: #7f7f7f; text-decoration-color: #7f7f7f\">                  </span>\n",
       "<span style=\"color: #7fbfbf; text-decoration-color: #7fbfbf\">                    </span>         <span style=\"color: #008000; text-decoration-color: #008000\">'Learn more about Gemini API quotas'</span>, <span style=\"color: #008000; text-decoration-color: #008000\">'url'</span>:                        <span style=\"color: #7f7f7f; text-decoration-color: #7f7f7f\">                  </span>\n",
       "<span style=\"color: #7fbfbf; text-decoration-color: #7fbfbf\">                    </span>         <span style=\"color: #008000; text-decoration-color: #008000\">'https://ai.google.dev/gemini-api/docs/rate-limits'</span><span style=\"font-weight: bold\">}]}</span>, <span style=\"font-weight: bold\">{</span><span style=\"color: #008000; text-decoration-color: #008000\">'@type'</span>:   <span style=\"color: #7f7f7f; text-decoration-color: #7f7f7f\">                  </span>\n",
       "<span style=\"color: #7fbfbf; text-decoration-color: #7fbfbf\">                    </span>         <span style=\"color: #008000; text-decoration-color: #008000\">'type.googleapis.com/google.rpc.RetryInfo'</span>, <span style=\"color: #008000; text-decoration-color: #008000\">'retryDelay'</span>: <span style=\"color: #008000; text-decoration-color: #008000\">'51s'</span><span style=\"font-weight: bold\">}]}}</span> <span style=\"color: #7f7f7f; text-decoration-color: #7f7f7f\">                  </span>\n",
       "</pre>\n"
      ],
      "text/plain": [
       "\u001b[2;36m                   \u001b[0m\u001b[2;36m \u001b[0m\u001b[1;31mERROR   \u001b[0m Gemini API call failed: \u001b[1;36m429\u001b[0m RESOURCE_EXHAUSTED. \u001b[1m{\u001b[0m\u001b[32m'error'\u001b[0m: \u001b[1m{\u001b[0m\u001b[32m'code'\u001b[0m:  \u001b]8;id=717500;file:///Users/sravanj/project_work/yellhorn-mcp/yellhorn_mcp/llm_manager.py\u001b\\\u001b[2mllm_manager.py\u001b[0m\u001b]8;;\u001b\\\u001b[2m:\u001b[0m\u001b]8;id=301184;file:///Users/sravanj/project_work/yellhorn-mcp/yellhorn_mcp/llm_manager.py#658\u001b\\\u001b[2m658\u001b[0m\u001b]8;;\u001b\\\n",
       "\u001b[2;36m                    \u001b[0m         \u001b[1;36m429\u001b[0m, \u001b[32m'message'\u001b[0m: \u001b[32m'You exceeded your current quota. Please migrate to\u001b[0m \u001b[2m                  \u001b[0m\n",
       "\u001b[2;36m                    \u001b[0m         \u001b[32mGemini 2.0 Flash Preview \u001b[0m\u001b[32m(\u001b[0m\u001b[32mImage Generation\u001b[0m\u001b[32m)\u001b[0m\u001b[32m \u001b[0m                        \u001b[2m                  \u001b[0m\n",
       "\u001b[2;36m                    \u001b[0m         \u001b[32m(\u001b[0m\u001b[32mmodels/gemini-2.0-flash-preview-image-generation\u001b[0m\u001b[32m)\u001b[0m\u001b[32m for higher quota\u001b[0m \u001b[2m                  \u001b[0m\n",
       "\u001b[2;36m                    \u001b[0m         \u001b[32mlimits. For more information on this error, head to: \u001b[0m               \u001b[2m                  \u001b[0m\n",
       "\u001b[2;36m                    \u001b[0m         \u001b[32mhttps://ai.google.dev/gemini-api/docs/rate-limits.'\u001b[0m, \u001b[32m'status'\u001b[0m:      \u001b[2m                  \u001b[0m\n",
       "\u001b[2;36m                    \u001b[0m         \u001b[32m'RESOURCE_EXHAUSTED'\u001b[0m, \u001b[32m'details'\u001b[0m: \u001b[1m[\u001b[0m\u001b[1m{\u001b[0m\u001b[32m'@type'\u001b[0m:                         \u001b[2m                  \u001b[0m\n",
       "\u001b[2;36m                    \u001b[0m         \u001b[32m'type.googleapis.com/google.rpc.QuotaFailure'\u001b[0m, \u001b[32m'violations'\u001b[0m:        \u001b[2m                  \u001b[0m\n",
       "\u001b[2;36m                    \u001b[0m         \u001b[1m[\u001b[0m\u001b[1m{\u001b[0m\u001b[32m'quotaMetric'\u001b[0m:                                                    \u001b[2m                  \u001b[0m\n",
       "\u001b[2;36m                    \u001b[0m         \u001b[32m'generativelanguage.googleapis.com/generate_requests_per_model'\u001b[0m,    \u001b[2m                  \u001b[0m\n",
       "\u001b[2;36m                    \u001b[0m         \u001b[32m'quotaId'\u001b[0m: \u001b[32m'GenerateRequestsPerMinutePerProjectPerModel'\u001b[0m,           \u001b[2m                  \u001b[0m\n",
       "\u001b[2;36m                    \u001b[0m         \u001b[32m'quotaDimensions'\u001b[0m: \u001b[1m{\u001b[0m\u001b[32m'model'\u001b[0m: \u001b[32m'gemini-2.0-flash-exp'\u001b[0m, \u001b[32m'location'\u001b[0m:    \u001b[2m                  \u001b[0m\n",
       "\u001b[2;36m                    \u001b[0m         \u001b[32m'global'\u001b[0m\u001b[1m}\u001b[0m, \u001b[32m'quotaValue'\u001b[0m: \u001b[32m'10'\u001b[0m\u001b[1m}\u001b[0m\u001b[1m]\u001b[0m\u001b[1m}\u001b[0m, \u001b[1m{\u001b[0m\u001b[32m'@type'\u001b[0m:                         \u001b[2m                  \u001b[0m\n",
       "\u001b[2;36m                    \u001b[0m         \u001b[32m'type.googleapis.com/google.rpc.Help'\u001b[0m, \u001b[32m'links'\u001b[0m: \u001b[1m[\u001b[0m\u001b[1m{\u001b[0m\u001b[32m'description'\u001b[0m:    \u001b[2m                  \u001b[0m\n",
       "\u001b[2;36m                    \u001b[0m         \u001b[32m'Learn more about Gemini API quotas'\u001b[0m, \u001b[32m'url'\u001b[0m:                        \u001b[2m                  \u001b[0m\n",
       "\u001b[2;36m                    \u001b[0m         \u001b[32m'https://ai.google.dev/gemini-api/docs/rate-limits'\u001b[0m\u001b[1m}\u001b[0m\u001b[1m]\u001b[0m\u001b[1m}\u001b[0m, \u001b[1m{\u001b[0m\u001b[32m'@type'\u001b[0m:   \u001b[2m                  \u001b[0m\n",
       "\u001b[2;36m                    \u001b[0m         \u001b[32m'type.googleapis.com/google.rpc.RetryInfo'\u001b[0m, \u001b[32m'retryDelay'\u001b[0m: \u001b[32m'51s'\u001b[0m\u001b[1m}\u001b[0m\u001b[1m]\u001b[0m\u001b[1m}\u001b[0m\u001b[1m}\u001b[0m \u001b[2m                  \u001b[0m\n"
      ]
     },
     "metadata": {},
     "output_type": "display_data"
    },
    {
     "data": {
      "text/html": [
       "<pre style=\"white-space:pre;overflow-x:auto;line-height:normal;font-family:Menlo,'DejaVu Sans Mono',consolas,'Courier New',monospace\"><span style=\"color: #7fbfbf; text-decoration-color: #7fbfbf\">                    </span><span style=\"color: #808000; text-decoration-color: #808000\">WARNING </span> Retrying _call_gemini after <span style=\"color: #008080; text-decoration-color: #008080; font-weight: bold\">12.4</span> seconds <span style=\"font-weight: bold\">(</span>attempt <span style=\"color: #008080; text-decoration-color: #008080; font-weight: bold\">4</span><span style=\"font-weight: bold\">)</span>: <span style=\"color: #008080; text-decoration-color: #008080; font-weight: bold\">429</span>            <a href=\"file:///Users/sravanj/project_work/yellhorn-mcp/yellhorn_mcp/llm_manager.py\" target=\"_blank\"><span style=\"color: #7f7f7f; text-decoration-color: #7f7f7f\">llm_manager.py</span></a><span style=\"color: #7f7f7f; text-decoration-color: #7f7f7f\">:</span><a href=\"file:///Users/sravanj/project_work/yellhorn-mcp/yellhorn_mcp/llm_manager.py#34\" target=\"_blank\"><span style=\"color: #7f7f7f; text-decoration-color: #7f7f7f\">34</span></a>\n",
       "<span style=\"color: #7fbfbf; text-decoration-color: #7fbfbf\">                    </span>         RESOURCE_EXHAUSTED. <span style=\"font-weight: bold\">{</span><span style=\"color: #008000; text-decoration-color: #008000\">'error'</span>: <span style=\"font-weight: bold\">{</span><span style=\"color: #008000; text-decoration-color: #008000\">'code'</span>: <span style=\"color: #008080; text-decoration-color: #008080; font-weight: bold\">429</span>, <span style=\"color: #008000; text-decoration-color: #008000\">'message'</span>: <span style=\"color: #008000; text-decoration-color: #008000\">'You exceeded</span> <span style=\"color: #7f7f7f; text-decoration-color: #7f7f7f\">                 </span>\n",
       "<span style=\"color: #7fbfbf; text-decoration-color: #7fbfbf\">                    </span>         <span style=\"color: #008000; text-decoration-color: #008000\">your current quota. Please migrate to Gemini 2.0 Flash Preview </span>      <span style=\"color: #7f7f7f; text-decoration-color: #7f7f7f\">                 </span>\n",
       "<span style=\"color: #7fbfbf; text-decoration-color: #7fbfbf\">                    </span>         <span style=\"color: #008000; text-decoration-color: #008000\">(Image Generation) </span>                                                  <span style=\"color: #7f7f7f; text-decoration-color: #7f7f7f\">                 </span>\n",
       "<span style=\"color: #7fbfbf; text-decoration-color: #7fbfbf\">                    </span>         <span style=\"color: #008000; text-decoration-color: #008000\">(models/gemini-2.0-flash-preview-image-generation) for higher quota </span> <span style=\"color: #7f7f7f; text-decoration-color: #7f7f7f\">                 </span>\n",
       "<span style=\"color: #7fbfbf; text-decoration-color: #7fbfbf\">                    </span>         <span style=\"color: #008000; text-decoration-color: #008000\">limits. For more information on this error, head to: </span>                <span style=\"color: #7f7f7f; text-decoration-color: #7f7f7f\">                 </span>\n",
       "<span style=\"color: #7fbfbf; text-decoration-color: #7fbfbf\">                    </span>         <span style=\"color: #008000; text-decoration-color: #008000\">https://ai.google.dev/gemini-api/docs/rate-limits.'</span>, <span style=\"color: #008000; text-decoration-color: #008000\">'status'</span>:       <span style=\"color: #7f7f7f; text-decoration-color: #7f7f7f\">                 </span>\n",
       "<span style=\"color: #7fbfbf; text-decoration-color: #7fbfbf\">                    </span>         <span style=\"color: #008000; text-decoration-color: #008000\">'RESOURCE_EXHAUSTED'</span>, <span style=\"color: #008000; text-decoration-color: #008000\">'details'</span>: <span style=\"font-weight: bold\">[{</span><span style=\"color: #008000; text-decoration-color: #008000\">'@type'</span>:                          <span style=\"color: #7f7f7f; text-decoration-color: #7f7f7f\">                 </span>\n",
       "<span style=\"color: #7fbfbf; text-decoration-color: #7fbfbf\">                    </span>         <span style=\"color: #008000; text-decoration-color: #008000\">'type.googleapis.com/google.rpc.QuotaFailure'</span>, <span style=\"color: #008000; text-decoration-color: #008000\">'violations'</span>:         <span style=\"color: #7f7f7f; text-decoration-color: #7f7f7f\">                 </span>\n",
       "<span style=\"color: #7fbfbf; text-decoration-color: #7fbfbf\">                    </span>         <span style=\"font-weight: bold\">[{</span><span style=\"color: #008000; text-decoration-color: #008000\">'quotaMetric'</span>:                                                     <span style=\"color: #7f7f7f; text-decoration-color: #7f7f7f\">                 </span>\n",
       "<span style=\"color: #7fbfbf; text-decoration-color: #7fbfbf\">                    </span>         <span style=\"color: #008000; text-decoration-color: #008000\">'generativelanguage.googleapis.com/generate_requests_per_model'</span>,     <span style=\"color: #7f7f7f; text-decoration-color: #7f7f7f\">                 </span>\n",
       "<span style=\"color: #7fbfbf; text-decoration-color: #7fbfbf\">                    </span>         <span style=\"color: #008000; text-decoration-color: #008000\">'quotaId'</span>: <span style=\"color: #008000; text-decoration-color: #008000\">'GenerateRequestsPerMinutePerProjectPerModel'</span>,            <span style=\"color: #7f7f7f; text-decoration-color: #7f7f7f\">                 </span>\n",
       "<span style=\"color: #7fbfbf; text-decoration-color: #7fbfbf\">                    </span>         <span style=\"color: #008000; text-decoration-color: #008000\">'quotaDimensions'</span>: <span style=\"font-weight: bold\">{</span><span style=\"color: #008000; text-decoration-color: #008000\">'model'</span>: <span style=\"color: #008000; text-decoration-color: #008000\">'gemini-2.0-flash-exp'</span>, <span style=\"color: #008000; text-decoration-color: #008000\">'location'</span>:     <span style=\"color: #7f7f7f; text-decoration-color: #7f7f7f\">                 </span>\n",
       "<span style=\"color: #7fbfbf; text-decoration-color: #7fbfbf\">                    </span>         <span style=\"color: #008000; text-decoration-color: #008000\">'global'</span><span style=\"font-weight: bold\">}</span>, <span style=\"color: #008000; text-decoration-color: #008000\">'quotaValue'</span>: <span style=\"color: #008000; text-decoration-color: #008000\">'10'</span><span style=\"font-weight: bold\">}]}</span>, <span style=\"font-weight: bold\">{</span><span style=\"color: #008000; text-decoration-color: #008000\">'@type'</span>:                          <span style=\"color: #7f7f7f; text-decoration-color: #7f7f7f\">                 </span>\n",
       "<span style=\"color: #7fbfbf; text-decoration-color: #7fbfbf\">                    </span>         <span style=\"color: #008000; text-decoration-color: #008000\">'type.googleapis.com/google.rpc.Help'</span>, <span style=\"color: #008000; text-decoration-color: #008000\">'links'</span>: <span style=\"font-weight: bold\">[{</span><span style=\"color: #008000; text-decoration-color: #008000\">'description'</span>:     <span style=\"color: #7f7f7f; text-decoration-color: #7f7f7f\">                 </span>\n",
       "<span style=\"color: #7fbfbf; text-decoration-color: #7fbfbf\">                    </span>         <span style=\"color: #008000; text-decoration-color: #008000\">'Learn more about Gemini API quotas'</span>, <span style=\"color: #008000; text-decoration-color: #008000\">'url'</span>:                         <span style=\"color: #7f7f7f; text-decoration-color: #7f7f7f\">                 </span>\n",
       "<span style=\"color: #7fbfbf; text-decoration-color: #7fbfbf\">                    </span>         <span style=\"color: #008000; text-decoration-color: #008000\">'https://ai.google.dev/gemini-api/docs/rate-limits'</span><span style=\"font-weight: bold\">}]}</span>, <span style=\"font-weight: bold\">{</span><span style=\"color: #008000; text-decoration-color: #008000\">'@type'</span>:    <span style=\"color: #7f7f7f; text-decoration-color: #7f7f7f\">                 </span>\n",
       "<span style=\"color: #7fbfbf; text-decoration-color: #7fbfbf\">                    </span>         <span style=\"color: #008000; text-decoration-color: #008000\">'type.googleapis.com/google.rpc.RetryInfo'</span>, <span style=\"color: #008000; text-decoration-color: #008000\">'retryDelay'</span>: <span style=\"color: #008000; text-decoration-color: #008000\">'51s'</span><span style=\"font-weight: bold\">}]}}</span>  <span style=\"color: #7f7f7f; text-decoration-color: #7f7f7f\">                 </span>\n",
       "</pre>\n"
      ],
      "text/plain": [
       "\u001b[2;36m                   \u001b[0m\u001b[2;36m \u001b[0m\u001b[33mWARNING \u001b[0m Retrying _call_gemini after \u001b[1;36m12.4\u001b[0m seconds \u001b[1m(\u001b[0mattempt \u001b[1;36m4\u001b[0m\u001b[1m)\u001b[0m: \u001b[1;36m429\u001b[0m            \u001b]8;id=872546;file:///Users/sravanj/project_work/yellhorn-mcp/yellhorn_mcp/llm_manager.py\u001b\\\u001b[2mllm_manager.py\u001b[0m\u001b]8;;\u001b\\\u001b[2m:\u001b[0m\u001b]8;id=144859;file:///Users/sravanj/project_work/yellhorn-mcp/yellhorn_mcp/llm_manager.py#34\u001b\\\u001b[2m34\u001b[0m\u001b]8;;\u001b\\\n",
       "\u001b[2;36m                    \u001b[0m         RESOURCE_EXHAUSTED. \u001b[1m{\u001b[0m\u001b[32m'error'\u001b[0m: \u001b[1m{\u001b[0m\u001b[32m'code'\u001b[0m: \u001b[1;36m429\u001b[0m, \u001b[32m'message'\u001b[0m: \u001b[32m'You exceeded\u001b[0m \u001b[2m                 \u001b[0m\n",
       "\u001b[2;36m                    \u001b[0m         \u001b[32myour current quota. Please migrate to Gemini 2.0 Flash Preview \u001b[0m      \u001b[2m                 \u001b[0m\n",
       "\u001b[2;36m                    \u001b[0m         \u001b[32m(\u001b[0m\u001b[32mImage Generation\u001b[0m\u001b[32m)\u001b[0m\u001b[32m \u001b[0m                                                  \u001b[2m                 \u001b[0m\n",
       "\u001b[2;36m                    \u001b[0m         \u001b[32m(\u001b[0m\u001b[32mmodels/gemini-2.0-flash-preview-image-generation\u001b[0m\u001b[32m)\u001b[0m\u001b[32m for higher quota \u001b[0m \u001b[2m                 \u001b[0m\n",
       "\u001b[2;36m                    \u001b[0m         \u001b[32mlimits. For more information on this error, head to: \u001b[0m                \u001b[2m                 \u001b[0m\n",
       "\u001b[2;36m                    \u001b[0m         \u001b[32mhttps://ai.google.dev/gemini-api/docs/rate-limits.'\u001b[0m, \u001b[32m'status'\u001b[0m:       \u001b[2m                 \u001b[0m\n",
       "\u001b[2;36m                    \u001b[0m         \u001b[32m'RESOURCE_EXHAUSTED'\u001b[0m, \u001b[32m'details'\u001b[0m: \u001b[1m[\u001b[0m\u001b[1m{\u001b[0m\u001b[32m'@type'\u001b[0m:                          \u001b[2m                 \u001b[0m\n",
       "\u001b[2;36m                    \u001b[0m         \u001b[32m'type.googleapis.com/google.rpc.QuotaFailure'\u001b[0m, \u001b[32m'violations'\u001b[0m:         \u001b[2m                 \u001b[0m\n",
       "\u001b[2;36m                    \u001b[0m         \u001b[1m[\u001b[0m\u001b[1m{\u001b[0m\u001b[32m'quotaMetric'\u001b[0m:                                                     \u001b[2m                 \u001b[0m\n",
       "\u001b[2;36m                    \u001b[0m         \u001b[32m'generativelanguage.googleapis.com/generate_requests_per_model'\u001b[0m,     \u001b[2m                 \u001b[0m\n",
       "\u001b[2;36m                    \u001b[0m         \u001b[32m'quotaId'\u001b[0m: \u001b[32m'GenerateRequestsPerMinutePerProjectPerModel'\u001b[0m,            \u001b[2m                 \u001b[0m\n",
       "\u001b[2;36m                    \u001b[0m         \u001b[32m'quotaDimensions'\u001b[0m: \u001b[1m{\u001b[0m\u001b[32m'model'\u001b[0m: \u001b[32m'gemini-2.0-flash-exp'\u001b[0m, \u001b[32m'location'\u001b[0m:     \u001b[2m                 \u001b[0m\n",
       "\u001b[2;36m                    \u001b[0m         \u001b[32m'global'\u001b[0m\u001b[1m}\u001b[0m, \u001b[32m'quotaValue'\u001b[0m: \u001b[32m'10'\u001b[0m\u001b[1m}\u001b[0m\u001b[1m]\u001b[0m\u001b[1m}\u001b[0m, \u001b[1m{\u001b[0m\u001b[32m'@type'\u001b[0m:                          \u001b[2m                 \u001b[0m\n",
       "\u001b[2;36m                    \u001b[0m         \u001b[32m'type.googleapis.com/google.rpc.Help'\u001b[0m, \u001b[32m'links'\u001b[0m: \u001b[1m[\u001b[0m\u001b[1m{\u001b[0m\u001b[32m'description'\u001b[0m:     \u001b[2m                 \u001b[0m\n",
       "\u001b[2;36m                    \u001b[0m         \u001b[32m'Learn more about Gemini API quotas'\u001b[0m, \u001b[32m'url'\u001b[0m:                         \u001b[2m                 \u001b[0m\n",
       "\u001b[2;36m                    \u001b[0m         \u001b[32m'https://ai.google.dev/gemini-api/docs/rate-limits'\u001b[0m\u001b[1m}\u001b[0m\u001b[1m]\u001b[0m\u001b[1m}\u001b[0m, \u001b[1m{\u001b[0m\u001b[32m'@type'\u001b[0m:    \u001b[2m                 \u001b[0m\n",
       "\u001b[2;36m                    \u001b[0m         \u001b[32m'type.googleapis.com/google.rpc.RetryInfo'\u001b[0m, \u001b[32m'retryDelay'\u001b[0m: \u001b[32m'51s'\u001b[0m\u001b[1m}\u001b[0m\u001b[1m]\u001b[0m\u001b[1m}\u001b[0m\u001b[1m}\u001b[0m  \u001b[2m                 \u001b[0m\n"
      ]
     },
     "metadata": {},
     "output_type": "display_data"
    },
    {
     "data": {
      "text/html": [
       "<pre style=\"white-space:pre;overflow-x:auto;line-height:normal;font-family:Menlo,'DejaVu Sans Mono',consolas,'Courier New',monospace\"><span style=\"color: #7fbfbf; text-decoration-color: #7fbfbf\">[07/12/25 21:33:16] </span><span style=\"color: #000080; text-decoration-color: #000080\">INFO    </span> AFC is enabled with max remote calls: <span style=\"color: #008080; text-decoration-color: #008080; font-weight: bold\">10</span>.                               <a href=\"file:///opt/anaconda3/envs/sravan-yellhorn/lib/python3.11/site-packages/google/genai/models.py\" target=\"_blank\"><span style=\"color: #7f7f7f; text-decoration-color: #7f7f7f\">models.py</span></a><span style=\"color: #7f7f7f; text-decoration-color: #7f7f7f\">:</span><a href=\"file:///opt/anaconda3/envs/sravan-yellhorn/lib/python3.11/site-packages/google/genai/models.py#7118\" target=\"_blank\"><span style=\"color: #7f7f7f; text-decoration-color: #7f7f7f\">7118</span></a>\n",
       "</pre>\n"
      ],
      "text/plain": [
       "\u001b[2;36m[07/12/25 21:33:16]\u001b[0m\u001b[2;36m \u001b[0m\u001b[34mINFO    \u001b[0m AFC is enabled with max remote calls: \u001b[1;36m10\u001b[0m.                               \u001b]8;id=47026;file:///opt/anaconda3/envs/sravan-yellhorn/lib/python3.11/site-packages/google/genai/models.py\u001b\\\u001b[2mmodels.py\u001b[0m\u001b]8;;\u001b\\\u001b[2m:\u001b[0m\u001b]8;id=528713;file:///opt/anaconda3/envs/sravan-yellhorn/lib/python3.11/site-packages/google/genai/models.py#7118\u001b\\\u001b[2m7118\u001b[0m\u001b]8;;\u001b\\\n"
      ]
     },
     "metadata": {},
     "output_type": "display_data"
    },
    {
     "data": {
      "text/html": [
       "<pre style=\"white-space:pre;overflow-x:auto;line-height:normal;font-family:Menlo,'DejaVu Sans Mono',consolas,'Courier New',monospace\"><span style=\"color: #7fbfbf; text-decoration-color: #7fbfbf\">                    </span><span style=\"color: #000080; text-decoration-color: #000080\">INFO    </span> HTTP Request: <span style=\"color: #808000; text-decoration-color: #808000; font-weight: bold\">POST</span>                                                     <a href=\"file:///opt/anaconda3/envs/sravan-yellhorn/lib/python3.11/site-packages/httpx/_client.py\" target=\"_blank\"><span style=\"color: #7f7f7f; text-decoration-color: #7f7f7f\">_client.py</span></a><span style=\"color: #7f7f7f; text-decoration-color: #7f7f7f\">:</span><a href=\"file:///opt/anaconda3/envs/sravan-yellhorn/lib/python3.11/site-packages/httpx/_client.py#1740\" target=\"_blank\"><span style=\"color: #7f7f7f; text-decoration-color: #7f7f7f\">1740</span></a>\n",
       "<span style=\"color: #7fbfbf; text-decoration-color: #7fbfbf\">                    </span>         <span style=\"color: #0000ff; text-decoration-color: #0000ff; text-decoration: underline\">https://generativelanguage.googleapis.com/v1beta/models/gemini-2.0-fla</span> <span style=\"color: #7f7f7f; text-decoration-color: #7f7f7f\">               </span>\n",
       "<span style=\"color: #7fbfbf; text-decoration-color: #7fbfbf\">                    </span>         <span style=\"color: #0000ff; text-decoration-color: #0000ff; text-decoration: underline\">sh-exp:generateContent</span> <span style=\"color: #008000; text-decoration-color: #008000\">\"HTTP/1.1 200 OK\"</span>                               <span style=\"color: #7f7f7f; text-decoration-color: #7f7f7f\">               </span>\n",
       "</pre>\n"
      ],
      "text/plain": [
       "\u001b[2;36m                   \u001b[0m\u001b[2;36m \u001b[0m\u001b[34mINFO    \u001b[0m HTTP Request: \u001b[1;33mPOST\u001b[0m                                                     \u001b]8;id=569024;file:///opt/anaconda3/envs/sravan-yellhorn/lib/python3.11/site-packages/httpx/_client.py\u001b\\\u001b[2m_client.py\u001b[0m\u001b]8;;\u001b\\\u001b[2m:\u001b[0m\u001b]8;id=320999;file:///opt/anaconda3/envs/sravan-yellhorn/lib/python3.11/site-packages/httpx/_client.py#1740\u001b\\\u001b[2m1740\u001b[0m\u001b]8;;\u001b\\\n",
       "\u001b[2;36m                    \u001b[0m         \u001b[4;94mhttps://generativelanguage.googleapis.com/v1beta/models/gemini-2.0-fla\u001b[0m \u001b[2m               \u001b[0m\n",
       "\u001b[2;36m                    \u001b[0m         \u001b[4;94msh-exp:generateContent\u001b[0m \u001b[32m\"HTTP/1.1 200 OK\"\u001b[0m                               \u001b[2m               \u001b[0m\n"
      ]
     },
     "metadata": {},
     "output_type": "display_data"
    },
    {
     "data": {
      "text/html": [
       "<pre style=\"white-space:pre;overflow-x:auto;line-height:normal;font-family:Menlo,'DejaVu Sans Mono',consolas,'Courier New',monospace\"><span style=\"color: #7fbfbf; text-decoration-color: #7fbfbf\">                    </span><span style=\"color: #000080; text-decoration-color: #000080\">INFO    </span> AFC is enabled with max remote calls: <span style=\"color: #008080; text-decoration-color: #008080; font-weight: bold\">10</span>.                               <a href=\"file:///opt/anaconda3/envs/sravan-yellhorn/lib/python3.11/site-packages/google/genai/models.py\" target=\"_blank\"><span style=\"color: #7f7f7f; text-decoration-color: #7f7f7f\">models.py</span></a><span style=\"color: #7f7f7f; text-decoration-color: #7f7f7f\">:</span><a href=\"file:///opt/anaconda3/envs/sravan-yellhorn/lib/python3.11/site-packages/google/genai/models.py#7118\" target=\"_blank\"><span style=\"color: #7f7f7f; text-decoration-color: #7f7f7f\">7118</span></a>\n",
       "</pre>\n"
      ],
      "text/plain": [
       "\u001b[2;36m                   \u001b[0m\u001b[2;36m \u001b[0m\u001b[34mINFO    \u001b[0m AFC is enabled with max remote calls: \u001b[1;36m10\u001b[0m.                               \u001b]8;id=189200;file:///opt/anaconda3/envs/sravan-yellhorn/lib/python3.11/site-packages/google/genai/models.py\u001b\\\u001b[2mmodels.py\u001b[0m\u001b]8;;\u001b\\\u001b[2m:\u001b[0m\u001b]8;id=923460;file:///opt/anaconda3/envs/sravan-yellhorn/lib/python3.11/site-packages/google/genai/models.py#7118\u001b\\\u001b[2m7118\u001b[0m\u001b]8;;\u001b\\\n"
      ]
     },
     "metadata": {},
     "output_type": "display_data"
    },
    {
     "data": {
      "text/html": [
       "<pre style=\"white-space:pre;overflow-x:auto;line-height:normal;font-family:Menlo,'DejaVu Sans Mono',consolas,'Courier New',monospace\"><span style=\"color: #7fbfbf; text-decoration-color: #7fbfbf\">[07/12/25 21:33:17] </span><span style=\"color: #000080; text-decoration-color: #000080\">INFO    </span> HTTP Request: <span style=\"color: #808000; text-decoration-color: #808000; font-weight: bold\">POST</span>                                                     <a href=\"file:///opt/anaconda3/envs/sravan-yellhorn/lib/python3.11/site-packages/httpx/_client.py\" target=\"_blank\"><span style=\"color: #7f7f7f; text-decoration-color: #7f7f7f\">_client.py</span></a><span style=\"color: #7f7f7f; text-decoration-color: #7f7f7f\">:</span><a href=\"file:///opt/anaconda3/envs/sravan-yellhorn/lib/python3.11/site-packages/httpx/_client.py#1740\" target=\"_blank\"><span style=\"color: #7f7f7f; text-decoration-color: #7f7f7f\">1740</span></a>\n",
       "<span style=\"color: #7fbfbf; text-decoration-color: #7fbfbf\">                    </span>         <span style=\"color: #0000ff; text-decoration-color: #0000ff; text-decoration: underline\">https://generativelanguage.googleapis.com/v1beta/models/gemini-2.0-fla</span> <span style=\"color: #7f7f7f; text-decoration-color: #7f7f7f\">               </span>\n",
       "<span style=\"color: #7fbfbf; text-decoration-color: #7fbfbf\">                    </span>         <span style=\"color: #0000ff; text-decoration-color: #0000ff; text-decoration: underline\">sh-exp:generateContent</span> <span style=\"color: #008000; text-decoration-color: #008000\">\"HTTP/1.1 200 OK\"</span>                               <span style=\"color: #7f7f7f; text-decoration-color: #7f7f7f\">               </span>\n",
       "</pre>\n"
      ],
      "text/plain": [
       "\u001b[2;36m[07/12/25 21:33:17]\u001b[0m\u001b[2;36m \u001b[0m\u001b[34mINFO    \u001b[0m HTTP Request: \u001b[1;33mPOST\u001b[0m                                                     \u001b]8;id=642319;file:///opt/anaconda3/envs/sravan-yellhorn/lib/python3.11/site-packages/httpx/_client.py\u001b\\\u001b[2m_client.py\u001b[0m\u001b]8;;\u001b\\\u001b[2m:\u001b[0m\u001b]8;id=521785;file:///opt/anaconda3/envs/sravan-yellhorn/lib/python3.11/site-packages/httpx/_client.py#1740\u001b\\\u001b[2m1740\u001b[0m\u001b]8;;\u001b\\\n",
       "\u001b[2;36m                    \u001b[0m         \u001b[4;94mhttps://generativelanguage.googleapis.com/v1beta/models/gemini-2.0-fla\u001b[0m \u001b[2m               \u001b[0m\n",
       "\u001b[2;36m                    \u001b[0m         \u001b[4;94msh-exp:generateContent\u001b[0m \u001b[32m\"HTTP/1.1 200 OK\"\u001b[0m                               \u001b[2m               \u001b[0m\n"
      ]
     },
     "metadata": {},
     "output_type": "display_data"
    },
    {
     "data": {
      "text/html": [
       "<pre style=\"white-space:pre;overflow-x:auto;line-height:normal;font-family:Menlo,'DejaVu Sans Mono',consolas,'Courier New',monospace\"><span style=\"color: #7fbfbf; text-decoration-color: #7fbfbf\">                    </span><span style=\"color: #000080; text-decoration-color: #000080\">INFO    </span> AFC is enabled with max remote calls: <span style=\"color: #008080; text-decoration-color: #008080; font-weight: bold\">10</span>.                               <a href=\"file:///opt/anaconda3/envs/sravan-yellhorn/lib/python3.11/site-packages/google/genai/models.py\" target=\"_blank\"><span style=\"color: #7f7f7f; text-decoration-color: #7f7f7f\">models.py</span></a><span style=\"color: #7f7f7f; text-decoration-color: #7f7f7f\">:</span><a href=\"file:///opt/anaconda3/envs/sravan-yellhorn/lib/python3.11/site-packages/google/genai/models.py#7118\" target=\"_blank\"><span style=\"color: #7f7f7f; text-decoration-color: #7f7f7f\">7118</span></a>\n",
       "</pre>\n"
      ],
      "text/plain": [
       "\u001b[2;36m                   \u001b[0m\u001b[2;36m \u001b[0m\u001b[34mINFO    \u001b[0m AFC is enabled with max remote calls: \u001b[1;36m10\u001b[0m.                               \u001b]8;id=364450;file:///opt/anaconda3/envs/sravan-yellhorn/lib/python3.11/site-packages/google/genai/models.py\u001b\\\u001b[2mmodels.py\u001b[0m\u001b]8;;\u001b\\\u001b[2m:\u001b[0m\u001b]8;id=508955;file:///opt/anaconda3/envs/sravan-yellhorn/lib/python3.11/site-packages/google/genai/models.py#7118\u001b\\\u001b[2m7118\u001b[0m\u001b]8;;\u001b\\\n"
      ]
     },
     "metadata": {},
     "output_type": "display_data"
    },
    {
     "data": {
      "text/html": [
       "<pre style=\"white-space:pre;overflow-x:auto;line-height:normal;font-family:Menlo,'DejaVu Sans Mono',consolas,'Courier New',monospace\"><span style=\"color: #7fbfbf; text-decoration-color: #7fbfbf\">[07/12/25 21:33:18] </span><span style=\"color: #000080; text-decoration-color: #000080\">INFO    </span> HTTP Request: <span style=\"color: #808000; text-decoration-color: #808000; font-weight: bold\">POST</span>                                                     <a href=\"file:///opt/anaconda3/envs/sravan-yellhorn/lib/python3.11/site-packages/httpx/_client.py\" target=\"_blank\"><span style=\"color: #7f7f7f; text-decoration-color: #7f7f7f\">_client.py</span></a><span style=\"color: #7f7f7f; text-decoration-color: #7f7f7f\">:</span><a href=\"file:///opt/anaconda3/envs/sravan-yellhorn/lib/python3.11/site-packages/httpx/_client.py#1740\" target=\"_blank\"><span style=\"color: #7f7f7f; text-decoration-color: #7f7f7f\">1740</span></a>\n",
       "<span style=\"color: #7fbfbf; text-decoration-color: #7fbfbf\">                    </span>         <span style=\"color: #0000ff; text-decoration-color: #0000ff; text-decoration: underline\">https://generativelanguage.googleapis.com/v1beta/models/gemini-2.0-fla</span> <span style=\"color: #7f7f7f; text-decoration-color: #7f7f7f\">               </span>\n",
       "<span style=\"color: #7fbfbf; text-decoration-color: #7fbfbf\">                    </span>         <span style=\"color: #0000ff; text-decoration-color: #0000ff; text-decoration: underline\">sh-exp:generateContent</span> <span style=\"color: #008000; text-decoration-color: #008000\">\"HTTP/1.1 200 OK\"</span>                               <span style=\"color: #7f7f7f; text-decoration-color: #7f7f7f\">               </span>\n",
       "</pre>\n"
      ],
      "text/plain": [
       "\u001b[2;36m[07/12/25 21:33:18]\u001b[0m\u001b[2;36m \u001b[0m\u001b[34mINFO    \u001b[0m HTTP Request: \u001b[1;33mPOST\u001b[0m                                                     \u001b]8;id=442956;file:///opt/anaconda3/envs/sravan-yellhorn/lib/python3.11/site-packages/httpx/_client.py\u001b\\\u001b[2m_client.py\u001b[0m\u001b]8;;\u001b\\\u001b[2m:\u001b[0m\u001b]8;id=488655;file:///opt/anaconda3/envs/sravan-yellhorn/lib/python3.11/site-packages/httpx/_client.py#1740\u001b\\\u001b[2m1740\u001b[0m\u001b]8;;\u001b\\\n",
       "\u001b[2;36m                    \u001b[0m         \u001b[4;94mhttps://generativelanguage.googleapis.com/v1beta/models/gemini-2.0-fla\u001b[0m \u001b[2m               \u001b[0m\n",
       "\u001b[2;36m                    \u001b[0m         \u001b[4;94msh-exp:generateContent\u001b[0m \u001b[32m\"HTTP/1.1 200 OK\"\u001b[0m                               \u001b[2m               \u001b[0m\n"
      ]
     },
     "metadata": {},
     "output_type": "display_data"
    },
    {
     "data": {
      "text/html": [
       "<pre style=\"white-space:pre;overflow-x:auto;line-height:normal;font-family:Menlo,'DejaVu Sans Mono',consolas,'Courier New',monospace\"><span style=\"color: #7fbfbf; text-decoration-color: #7fbfbf\">                    </span><span style=\"color: #000080; text-decoration-color: #000080\">INFO    </span> AFC is enabled with max remote calls: <span style=\"color: #008080; text-decoration-color: #008080; font-weight: bold\">10</span>.                               <a href=\"file:///opt/anaconda3/envs/sravan-yellhorn/lib/python3.11/site-packages/google/genai/models.py\" target=\"_blank\"><span style=\"color: #7f7f7f; text-decoration-color: #7f7f7f\">models.py</span></a><span style=\"color: #7f7f7f; text-decoration-color: #7f7f7f\">:</span><a href=\"file:///opt/anaconda3/envs/sravan-yellhorn/lib/python3.11/site-packages/google/genai/models.py#7118\" target=\"_blank\"><span style=\"color: #7f7f7f; text-decoration-color: #7f7f7f\">7118</span></a>\n",
       "</pre>\n"
      ],
      "text/plain": [
       "\u001b[2;36m                   \u001b[0m\u001b[2;36m \u001b[0m\u001b[34mINFO    \u001b[0m AFC is enabled with max remote calls: \u001b[1;36m10\u001b[0m.                               \u001b]8;id=378193;file:///opt/anaconda3/envs/sravan-yellhorn/lib/python3.11/site-packages/google/genai/models.py\u001b\\\u001b[2mmodels.py\u001b[0m\u001b]8;;\u001b\\\u001b[2m:\u001b[0m\u001b]8;id=140924;file:///opt/anaconda3/envs/sravan-yellhorn/lib/python3.11/site-packages/google/genai/models.py#7118\u001b\\\u001b[2m7118\u001b[0m\u001b]8;;\u001b\\\n"
      ]
     },
     "metadata": {},
     "output_type": "display_data"
    },
    {
     "data": {
      "text/html": [
       "<pre style=\"white-space:pre;overflow-x:auto;line-height:normal;font-family:Menlo,'DejaVu Sans Mono',consolas,'Courier New',monospace\"><span style=\"color: #7fbfbf; text-decoration-color: #7fbfbf\">                    </span><span style=\"color: #000080; text-decoration-color: #000080\">INFO    </span> HTTP Request: <span style=\"color: #808000; text-decoration-color: #808000; font-weight: bold\">POST</span>                                                     <a href=\"file:///opt/anaconda3/envs/sravan-yellhorn/lib/python3.11/site-packages/httpx/_client.py\" target=\"_blank\"><span style=\"color: #7f7f7f; text-decoration-color: #7f7f7f\">_client.py</span></a><span style=\"color: #7f7f7f; text-decoration-color: #7f7f7f\">:</span><a href=\"file:///opt/anaconda3/envs/sravan-yellhorn/lib/python3.11/site-packages/httpx/_client.py#1740\" target=\"_blank\"><span style=\"color: #7f7f7f; text-decoration-color: #7f7f7f\">1740</span></a>\n",
       "<span style=\"color: #7fbfbf; text-decoration-color: #7fbfbf\">                    </span>         <span style=\"color: #0000ff; text-decoration-color: #0000ff; text-decoration: underline\">https://generativelanguage.googleapis.com/v1beta/models/gemini-2.0-fla</span> <span style=\"color: #7f7f7f; text-decoration-color: #7f7f7f\">               </span>\n",
       "<span style=\"color: #7fbfbf; text-decoration-color: #7fbfbf\">                    </span>         <span style=\"color: #0000ff; text-decoration-color: #0000ff; text-decoration: underline\">sh-exp:generateContent</span> <span style=\"color: #008000; text-decoration-color: #008000\">\"HTTP/1.1 200 OK\"</span>                               <span style=\"color: #7f7f7f; text-decoration-color: #7f7f7f\">               </span>\n",
       "</pre>\n"
      ],
      "text/plain": [
       "\u001b[2;36m                   \u001b[0m\u001b[2;36m \u001b[0m\u001b[34mINFO    \u001b[0m HTTP Request: \u001b[1;33mPOST\u001b[0m                                                     \u001b]8;id=953211;file:///opt/anaconda3/envs/sravan-yellhorn/lib/python3.11/site-packages/httpx/_client.py\u001b\\\u001b[2m_client.py\u001b[0m\u001b]8;;\u001b\\\u001b[2m:\u001b[0m\u001b]8;id=351421;file:///opt/anaconda3/envs/sravan-yellhorn/lib/python3.11/site-packages/httpx/_client.py#1740\u001b\\\u001b[2m1740\u001b[0m\u001b]8;;\u001b\\\n",
       "\u001b[2;36m                    \u001b[0m         \u001b[4;94mhttps://generativelanguage.googleapis.com/v1beta/models/gemini-2.0-fla\u001b[0m \u001b[2m               \u001b[0m\n",
       "\u001b[2;36m                    \u001b[0m         \u001b[4;94msh-exp:generateContent\u001b[0m \u001b[32m\"HTTP/1.1 200 OK\"\u001b[0m                               \u001b[2m               \u001b[0m\n"
      ]
     },
     "metadata": {},
     "output_type": "display_data"
    },
    {
     "data": {
      "text/html": [
       "<pre style=\"white-space:pre;overflow-x:auto;line-height:normal;font-family:Menlo,'DejaVu Sans Mono',consolas,'Courier New',monospace\"><span style=\"color: #7fbfbf; text-decoration-color: #7fbfbf\">                    </span><span style=\"color: #000080; text-decoration-color: #000080\">INFO    </span> AFC is enabled with max remote calls: <span style=\"color: #008080; text-decoration-color: #008080; font-weight: bold\">10</span>.                               <a href=\"file:///opt/anaconda3/envs/sravan-yellhorn/lib/python3.11/site-packages/google/genai/models.py\" target=\"_blank\"><span style=\"color: #7f7f7f; text-decoration-color: #7f7f7f\">models.py</span></a><span style=\"color: #7f7f7f; text-decoration-color: #7f7f7f\">:</span><a href=\"file:///opt/anaconda3/envs/sravan-yellhorn/lib/python3.11/site-packages/google/genai/models.py#7118\" target=\"_blank\"><span style=\"color: #7f7f7f; text-decoration-color: #7f7f7f\">7118</span></a>\n",
       "</pre>\n"
      ],
      "text/plain": [
       "\u001b[2;36m                   \u001b[0m\u001b[2;36m \u001b[0m\u001b[34mINFO    \u001b[0m AFC is enabled with max remote calls: \u001b[1;36m10\u001b[0m.                               \u001b]8;id=214060;file:///opt/anaconda3/envs/sravan-yellhorn/lib/python3.11/site-packages/google/genai/models.py\u001b\\\u001b[2mmodels.py\u001b[0m\u001b]8;;\u001b\\\u001b[2m:\u001b[0m\u001b]8;id=4599;file:///opt/anaconda3/envs/sravan-yellhorn/lib/python3.11/site-packages/google/genai/models.py#7118\u001b\\\u001b[2m7118\u001b[0m\u001b]8;;\u001b\\\n"
      ]
     },
     "metadata": {},
     "output_type": "display_data"
    },
    {
     "data": {
      "text/html": [
       "<pre style=\"white-space:pre;overflow-x:auto;line-height:normal;font-family:Menlo,'DejaVu Sans Mono',consolas,'Courier New',monospace\"><span style=\"color: #7fbfbf; text-decoration-color: #7fbfbf\">[07/12/25 21:33:19] </span><span style=\"color: #000080; text-decoration-color: #000080\">INFO    </span> HTTP Request: <span style=\"color: #808000; text-decoration-color: #808000; font-weight: bold\">POST</span>                                                     <a href=\"file:///opt/anaconda3/envs/sravan-yellhorn/lib/python3.11/site-packages/httpx/_client.py\" target=\"_blank\"><span style=\"color: #7f7f7f; text-decoration-color: #7f7f7f\">_client.py</span></a><span style=\"color: #7f7f7f; text-decoration-color: #7f7f7f\">:</span><a href=\"file:///opt/anaconda3/envs/sravan-yellhorn/lib/python3.11/site-packages/httpx/_client.py#1740\" target=\"_blank\"><span style=\"color: #7f7f7f; text-decoration-color: #7f7f7f\">1740</span></a>\n",
       "<span style=\"color: #7fbfbf; text-decoration-color: #7fbfbf\">                    </span>         <span style=\"color: #0000ff; text-decoration-color: #0000ff; text-decoration: underline\">https://generativelanguage.googleapis.com/v1beta/models/gemini-2.0-fla</span> <span style=\"color: #7f7f7f; text-decoration-color: #7f7f7f\">               </span>\n",
       "<span style=\"color: #7fbfbf; text-decoration-color: #7fbfbf\">                    </span>         <span style=\"color: #0000ff; text-decoration-color: #0000ff; text-decoration: underline\">sh-exp:generateContent</span> <span style=\"color: #008000; text-decoration-color: #008000\">\"HTTP/1.1 200 OK\"</span>                               <span style=\"color: #7f7f7f; text-decoration-color: #7f7f7f\">               </span>\n",
       "</pre>\n"
      ],
      "text/plain": [
       "\u001b[2;36m[07/12/25 21:33:19]\u001b[0m\u001b[2;36m \u001b[0m\u001b[34mINFO    \u001b[0m HTTP Request: \u001b[1;33mPOST\u001b[0m                                                     \u001b]8;id=160476;file:///opt/anaconda3/envs/sravan-yellhorn/lib/python3.11/site-packages/httpx/_client.py\u001b\\\u001b[2m_client.py\u001b[0m\u001b]8;;\u001b\\\u001b[2m:\u001b[0m\u001b]8;id=87875;file:///opt/anaconda3/envs/sravan-yellhorn/lib/python3.11/site-packages/httpx/_client.py#1740\u001b\\\u001b[2m1740\u001b[0m\u001b]8;;\u001b\\\n",
       "\u001b[2;36m                    \u001b[0m         \u001b[4;94mhttps://generativelanguage.googleapis.com/v1beta/models/gemini-2.0-fla\u001b[0m \u001b[2m               \u001b[0m\n",
       "\u001b[2;36m                    \u001b[0m         \u001b[4;94msh-exp:generateContent\u001b[0m \u001b[32m\"HTTP/1.1 200 OK\"\u001b[0m                               \u001b[2m               \u001b[0m\n"
      ]
     },
     "metadata": {},
     "output_type": "display_data"
    },
    {
     "data": {
      "text/html": [
       "<pre style=\"white-space:pre;overflow-x:auto;line-height:normal;font-family:Menlo,'DejaVu Sans Mono',consolas,'Courier New',monospace\"><span style=\"color: #7fbfbf; text-decoration-color: #7fbfbf\">                    </span><span style=\"color: #000080; text-decoration-color: #000080\">INFO    </span> AFC is enabled with max remote calls: <span style=\"color: #008080; text-decoration-color: #008080; font-weight: bold\">10</span>.                               <a href=\"file:///opt/anaconda3/envs/sravan-yellhorn/lib/python3.11/site-packages/google/genai/models.py\" target=\"_blank\"><span style=\"color: #7f7f7f; text-decoration-color: #7f7f7f\">models.py</span></a><span style=\"color: #7f7f7f; text-decoration-color: #7f7f7f\">:</span><a href=\"file:///opt/anaconda3/envs/sravan-yellhorn/lib/python3.11/site-packages/google/genai/models.py#7118\" target=\"_blank\"><span style=\"color: #7f7f7f; text-decoration-color: #7f7f7f\">7118</span></a>\n",
       "</pre>\n"
      ],
      "text/plain": [
       "\u001b[2;36m                   \u001b[0m\u001b[2;36m \u001b[0m\u001b[34mINFO    \u001b[0m AFC is enabled with max remote calls: \u001b[1;36m10\u001b[0m.                               \u001b]8;id=716700;file:///opt/anaconda3/envs/sravan-yellhorn/lib/python3.11/site-packages/google/genai/models.py\u001b\\\u001b[2mmodels.py\u001b[0m\u001b]8;;\u001b\\\u001b[2m:\u001b[0m\u001b]8;id=339487;file:///opt/anaconda3/envs/sravan-yellhorn/lib/python3.11/site-packages/google/genai/models.py#7118\u001b\\\u001b[2m7118\u001b[0m\u001b]8;;\u001b\\\n"
      ]
     },
     "metadata": {},
     "output_type": "display_data"
    },
    {
     "data": {
      "text/html": [
       "<pre style=\"white-space:pre;overflow-x:auto;line-height:normal;font-family:Menlo,'DejaVu Sans Mono',consolas,'Courier New',monospace\"><span style=\"color: #7fbfbf; text-decoration-color: #7fbfbf\">[07/12/25 21:33:20] </span><span style=\"color: #000080; text-decoration-color: #000080\">INFO    </span> HTTP Request: <span style=\"color: #808000; text-decoration-color: #808000; font-weight: bold\">POST</span>                                                     <a href=\"file:///opt/anaconda3/envs/sravan-yellhorn/lib/python3.11/site-packages/httpx/_client.py\" target=\"_blank\"><span style=\"color: #7f7f7f; text-decoration-color: #7f7f7f\">_client.py</span></a><span style=\"color: #7f7f7f; text-decoration-color: #7f7f7f\">:</span><a href=\"file:///opt/anaconda3/envs/sravan-yellhorn/lib/python3.11/site-packages/httpx/_client.py#1740\" target=\"_blank\"><span style=\"color: #7f7f7f; text-decoration-color: #7f7f7f\">1740</span></a>\n",
       "<span style=\"color: #7fbfbf; text-decoration-color: #7fbfbf\">                    </span>         <span style=\"color: #0000ff; text-decoration-color: #0000ff; text-decoration: underline\">https://generativelanguage.googleapis.com/v1beta/models/gemini-2.0-fla</span> <span style=\"color: #7f7f7f; text-decoration-color: #7f7f7f\">               </span>\n",
       "<span style=\"color: #7fbfbf; text-decoration-color: #7fbfbf\">                    </span>         <span style=\"color: #0000ff; text-decoration-color: #0000ff; text-decoration: underline\">sh-exp:generateContent</span> <span style=\"color: #008000; text-decoration-color: #008000\">\"HTTP/1.1 200 OK\"</span>                               <span style=\"color: #7f7f7f; text-decoration-color: #7f7f7f\">               </span>\n",
       "</pre>\n"
      ],
      "text/plain": [
       "\u001b[2;36m[07/12/25 21:33:20]\u001b[0m\u001b[2;36m \u001b[0m\u001b[34mINFO    \u001b[0m HTTP Request: \u001b[1;33mPOST\u001b[0m                                                     \u001b]8;id=762206;file:///opt/anaconda3/envs/sravan-yellhorn/lib/python3.11/site-packages/httpx/_client.py\u001b\\\u001b[2m_client.py\u001b[0m\u001b]8;;\u001b\\\u001b[2m:\u001b[0m\u001b]8;id=430387;file:///opt/anaconda3/envs/sravan-yellhorn/lib/python3.11/site-packages/httpx/_client.py#1740\u001b\\\u001b[2m1740\u001b[0m\u001b]8;;\u001b\\\n",
       "\u001b[2;36m                    \u001b[0m         \u001b[4;94mhttps://generativelanguage.googleapis.com/v1beta/models/gemini-2.0-fla\u001b[0m \u001b[2m               \u001b[0m\n",
       "\u001b[2;36m                    \u001b[0m         \u001b[4;94msh-exp:generateContent\u001b[0m \u001b[32m\"HTTP/1.1 200 OK\"\u001b[0m                               \u001b[2m               \u001b[0m\n"
      ]
     },
     "metadata": {},
     "output_type": "display_data"
    },
    {
     "name": "stdout",
     "output_type": "stream",
     "text": [
      "[INFO] Analysis complete, found 1 important directories: yellhorn_mcp\n",
      "[INFO] Processing complete, identified 1 important directories\n",
      "[INFO] Added .gitignore patterns to .yellhorncontext\n",
      "[INFO] Added .yellhornignore patterns to .yellhorncontext\n",
      "[INFO] Successfully wrote .yellhorncontext file to /Users/sravanj/project_work/yellhorn-mcp/.yellhorncontext\n",
      "[INFO] Generated .yellhorncontext file at /Users/sravanj/project_work/yellhorn-mcp/.yellhorncontext with 1 important directories, blacklist and whitelist patterns\n",
      "[INFO] Waiting for 0 background tasks...\n",
      "[INFO] All background tasks completed\n",
      "Path to yellhorn context\n",
      "Successfully created .yellhorncontext file at /Users/sravanj/project_work/yellhorn-mcp/.yellhorncontext with 1 important directories and existing ignore patterns from .yellhornignore.\n"
     ]
    }
   ],
   "source": [
    "# Call create_workplan with our mock context\n",
    "context_result = await (run_curate_context(\n",
    "        curate_context_func=curate_context,\n",
    "        user_task=user_task,\n",
    "        repo_path=REPO_PATH,\n",
    "        gemini_client=gemini_client,\n",
    "        openai_client=openai_client,\n",
    "        llm_manager=llm_manager,\n",
    "        model=MODEL,\n",
    "        codebase_reasoning=\"full\",  # Use \"none\" for faster processing\n",
    "        log_callback=log_callback\n",
    "    )\n",
    ")\n",
    "\n",
    "print(\"Path to yellhorn context\")\n",
    "print(context_result)"
   ]
  },
  {
   "cell_type": "markdown",
   "metadata": {},
   "source": [
    "#### Load .yellhorncontext"
   ]
  },
  {
   "cell_type": "code",
   "execution_count": 9,
   "metadata": {},
   "outputs": [
    {
     "name": "stdout",
     "output_type": "stream",
     "text": [
      "Extracted path: /Users/sravanj/project_work/yellhorn-mcp/.yellhorncontext\n",
      "Yellhorn context:\n",
      "# Yellhorn Context File - AI context optimization\n",
      "# Generated by yellhorn-mcp curate_context tool\n",
      "# Based on task: Title: Replace existing model with unified Model Calling Service (OpenRouter or \n",
      "\n",
      "# Patterns from .gitignore file\n",
      "# Byte-compiled / optimized / DLL files\n",
      "__pycache__/\n",
      "*.py[cod]\n",
      "*$py.class\n",
      "\n",
      "# C extensions\n",
      "*.so\n",
      "\n",
      "# Distribution / packaging\n",
      ".Python\n",
      "build/\n",
      "develop-eggs/\n",
      "dist/\n",
      "downloads/\n",
      "eggs/\n",
      ".eggs/\n",
      "lib/\n",
      "lib64/\n",
      "parts/\n",
      "sdist/\n",
      "var/\n",
      "wheels/\n",
      "share/python-wheels/\n",
      "*.egg-info/\n",
      ".installed.cfg\n",
      "*.egg\n",
      "MANIFEST\n",
      "\n",
      "# PyInstaller\n",
      "#  Usually these files are written by a python script from a template\n",
      "#  before PyInstaller builds the exe, so as to inject date/other infos into it.\n",
      "*.manifest\n",
      "*.spec\n",
      "\n",
      "# Installer logs\n",
      "pip-log.txt\n",
      "pip-delete-this-directory.txt\n",
      "\n",
      "# Unit test / coverage reports\n",
      "htmlcov/\n",
      ".tox/\n",
      ".nox/\n",
      ".coverage\n",
      ".coverage.*\n",
      ".cache\n",
      "nosetests.xml\n",
      "coverage.xml\n",
      "*.cover\n",
      "*.py,cover\n",
      ".hypothesis/\n",
      ".pytest_cache/\n",
      "cover/\n",
      "\n",
      "# Translations\n",
      "*.mo\n",
      "*.pot\n",
      "\n",
      "# Django stuff:\n",
      "*.log\n",
      "local_settings.py\n",
      "db.sqlite3\n",
      "db.sqlite3-journal\n",
      "\n",
      "# Flask stuff:\n",
      "instance/\n",
      ".webassets-cache\n",
      "\n",
      "# Scrapy stuff:\n",
      ".scrapy\n",
      "\n",
      "# Sphinx documentation\n",
      "docs/_build/\n",
      "\n",
      "# PyBuilder\n",
      ".pybuilder/\n",
      "target/\n",
      "\n",
      "# Jupyter Notebook\n",
      ".ipynb_checkpoints\n",
      "\n",
      "# IPython\n",
      "profile_default/\n",
      "ipython_config.py\n",
      "\n",
      "# pyenv\n",
      "#   For a library or package, you might want to ignore these files since the code is\n",
      "#   intended to run in multiple environments; otherwise, check them in:\n",
      "# .python-version\n",
      "\n",
      "# pipenv\n",
      "#   According to pypa/pipenv#598, it is recommended to include Pipfile.lock in version control.\n",
      "#   However, in case of collaboration, if having platform-specific dependencies or dependencies\n",
      "#   having no cross-platform support, pipenv may install dependencies that don't work, or not\n",
      "#   install all needed dependencies.\n",
      "#Pipfile.lock\n",
      "\n",
      "# UV\n",
      "#   Similar to Pipfile.lock, it is generally recommended to include uv.lock in version control.\n",
      "#   This is especially recommended for binary packages to ensure reproducibility, and is more\n",
      "#   commonly ignored for libraries.\n",
      "#uv.lock\n",
      "\n",
      "# poetry\n",
      "#   Similar to Pipfile.lock, it is generally recommended to include poetry.lock in version control.\n",
      "#   This is especially recommended for binary packages to ensure reproducibility, and is more\n",
      "#   commonly ignored for libraries.\n",
      "#   https://python-poetry.org/docs/basic-usage/#commit-your-poetrylock-file-to-version-control\n",
      "#poetry.lock\n",
      "\n",
      "# pdm\n",
      "#   Similar to Pipfile.lock, it is generally recommended to include pdm.lock in version control.\n",
      "#pdm.lock\n",
      "#   pdm stores project-wide configurations in .pdm.toml, but it is recommended to not include it\n",
      "#   in version control.\n",
      "#   https://pdm.fming.dev/latest/usage/project/#working-with-version-control\n",
      ".pdm.toml\n",
      ".pdm-python\n",
      ".pdm-build/\n",
      "\n",
      "# PEP 582; used by e.g. github.com/David-OConnor/pyflow and github.com/pdm-project/pdm\n",
      "__pypackages__/\n",
      "\n",
      "# Celery stuff\n",
      "celerybeat-schedule\n",
      "celerybeat.pid\n",
      "\n",
      "# SageMath parsed files\n",
      "*.sage.py\n",
      "\n",
      "# Environments\n",
      ".env\n",
      ".venv\n",
      "env/\n",
      "venv/\n",
      "ENV/\n",
      "env.bak/\n",
      "venv.bak/\n",
      "\n",
      "# Spyder project settings\n",
      ".spyderproject\n",
      ".spyproject\n",
      "\n",
      "# Rope project settings\n",
      ".ropeproject\n",
      "\n",
      "# mkdocs documentation\n",
      "/site\n",
      "\n",
      "# mypy\n",
      ".mypy_cache/\n",
      ".dmypy.json\n",
      "dmypy.json\n",
      "\n",
      "# Pyre type checker\n",
      ".pyre/\n",
      "\n",
      "# pytype static type analyzer\n",
      ".pytype/\n",
      "\n",
      "# Cython debug symbols\n",
      "cython_debug/\n",
      "\n",
      "# PyCharm\n",
      "#  JetBrains specific template is maintained in a separate JetBrains.gitignore that can\n",
      "#  be found at https://github.com/github/gitignore/blob/main/Global/JetBrains.gitignore\n",
      "#  and can be added to the global gitignore or merged into this file.  For a more nuclear\n",
      "#  option (not recommended) you can uncomment the following to ignore the entire idea folder.\n",
      "#.idea/\n",
      "\n",
      "# Ruff stuff:\n",
      ".ruff_cache/\n",
      "\n",
      "# PyPI configuration file\n",
      ".pypirc\n",
      "\n",
      "# Jupyter notebooks\n",
      "notebooks/\n",
      "\n",
      "# Patterns from .yellhornignore file\n",
      "# Yellhorn Ignore File - AI-optimized patterns\n",
      "# Generated by yellhorn-mcp curate_ignore_file tool\n",
      "\n",
      "# Files and directories to exclude from AI context\n",
      "\n",
      "# Important files to explicitly include despite matching blacklist patterns\n",
      "\n",
      "\n",
      "# Parsed patterns from .yellhornignore file\n",
      "# Files and directories to exclude (blacklist)\n",
      ".github/\n",
      ".gitignore\n",
      ".mcp.json\n",
      ".python-version\n",
      ".vscode/\n",
      "CHANGELOG.md\n",
      "CLAUDE.md\n",
      "README.md\n",
      "assets/\n",
      "coverage_stats.txt\n",
      "docs/\n",
      "examples/\n",
      "tests/\n",
      "tmp_repo/\n",
      "\n",
      "# Explicitly included patterns (whitelist)\n",
      "!pyproject.toml\n",
      "\n",
      "# Task-specific directories for AI context\n",
      "# Important directories to specifically include\n",
      "!yellhorn_mcp/\n",
      "\n",
      "# Recommended: blacklist everything else (comment to disable)\n",
      "**/*\n"
     ]
    }
   ],
   "source": [
    "# Parse the path from the context_result string\n",
    "import re\n",
    "\n",
    "# Extract the file path using regex\n",
    "match = re.search(r'at\\s+(.+?)\\s+with', context_result)\n",
    "if match:\n",
    "    context_file_path = match.group(1)\n",
    "    print(f\"Extracted path: {context_file_path}\")\n",
    "else:\n",
    "    # Fallback: try to find any path-like string\n",
    "    match = re.search(r'(/[^\\s]+\\.yellhorncontext)', context_result)\n",
    "    if match:\n",
    "        context_file_path = match.group(1)\n",
    "        print(f\"Extracted path: {context_file_path}\")\n",
    "    else:\n",
    "        print(\"Could not extract path from result string\")\n",
    "        context_file_path = None\n",
    "\n",
    "# Now you can use context_file_path to read the file\n",
    "if context_file_path:\n",
    "    with open(context_file_path, 'r') as f:\n",
    "        context = f.read()\n",
    "    print(\"Yellhorn context:\")\n",
    "    print(context)"
   ]
  },
  {
   "cell_type": "markdown",
   "metadata": {},
   "source": [
    "## 4. Using Create Workplan\n",
    "\n",
    "Now let's demonstrate how to use the create_workplan MCP tool to generate implementation plans."
   ]
  },
  {
   "cell_type": "code",
   "execution_count": 6,
   "metadata": {},
   "outputs": [],
   "source": [
    "from examples.mock_context import run_create_workplan, mock_github_command\n",
    "from yellhorn_mcp.server import process_workplan_async"
   ]
  },
  {
   "cell_type": "code",
   "execution_count": 14,
   "metadata": {},
   "outputs": [
    {
     "name": "stdout",
     "output_type": "stream",
     "text": [
      "[INFO] Using full mode with content retrieval for workplan generation\n",
      "[INFO] Found .yellhorncontext file, using it for filtering\n",
      "[INFO] Filtering codebase with 96 blacklist and 2 whitelist patterns from .yellhorncontext\n",
      "[INFO] Filtered from 55 to 15 files\n",
      "[INFO] Filled prompt for workplan generation:\n",
      "You are an expert software developer tasked with creating a detailed workplan that will be published as a GitHub issue.\n",
      "        \n",
      "<codebase_tree>\n",
      "top_directory\n",
      "\t.DS_Store\n",
      "\t.yellhorncontext\n",
      "\t\t```text\n",
      "\t\t# Yellhorn Context File - AI context optimization\n",
      "\t\t# Generated by yellhorn-mcp curate_context tool\n",
      "\t\t# Based on task: Title: Replace existing model with unified Model Calling Service (OpenRouter or \n",
      "\t\t\n",
      "\t\t# Patterns from .gitignore file\n",
      "\t\t# Byte-compiled / optimized / DLL files\n",
      "\t\t__pycache__/\n",
      "\t\t*.py...\n",
      "[INFO] Generating workplan with LLMManager for title: Replace existing model with unified Model Calling Service (OpenRouter or Litellm) with model gemini-2.0-flash-exp\n",
      "[INFO] Attempting to enable search grounding for model gemini-2.0-flash-exp\n",
      "[INFO] Search tools configured for model gemini-2.0-flash-exp: [Tool(function_declarations=None, retrieval=None, google_search=GoogleSearch(time_range_filter=None), google_search_retrieval=None, enterprise_web_search=None, google_maps=None, url_context=None, code_execution=None)]\n"
     ]
    },
    {
     "data": {
      "text/html": [
       "<pre style=\"white-space:pre;overflow-x:auto;line-height:normal;font-family:Menlo,'DejaVu Sans Mono',consolas,'Courier New',monospace\"><span style=\"color: #7fbfbf; text-decoration-color: #7fbfbf\">[07/12/25 21:49:52] </span><span style=\"color: #000080; text-decoration-color: #000080\">INFO    </span> AFC is enabled with max remote calls: <span style=\"color: #008080; text-decoration-color: #008080; font-weight: bold\">10</span>.                               <a href=\"file:///opt/anaconda3/envs/sravan-yellhorn/lib/python3.11/site-packages/google/genai/models.py\" target=\"_blank\"><span style=\"color: #7f7f7f; text-decoration-color: #7f7f7f\">models.py</span></a><span style=\"color: #7f7f7f; text-decoration-color: #7f7f7f\">:</span><a href=\"file:///opt/anaconda3/envs/sravan-yellhorn/lib/python3.11/site-packages/google/genai/models.py#7118\" target=\"_blank\"><span style=\"color: #7f7f7f; text-decoration-color: #7f7f7f\">7118</span></a>\n",
       "</pre>\n"
      ],
      "text/plain": [
       "\u001b[2;36m[07/12/25 21:49:52]\u001b[0m\u001b[2;36m \u001b[0m\u001b[34mINFO    \u001b[0m AFC is enabled with max remote calls: \u001b[1;36m10\u001b[0m.                               \u001b]8;id=196882;file:///opt/anaconda3/envs/sravan-yellhorn/lib/python3.11/site-packages/google/genai/models.py\u001b\\\u001b[2mmodels.py\u001b[0m\u001b]8;;\u001b\\\u001b[2m:\u001b[0m\u001b]8;id=750750;file:///opt/anaconda3/envs/sravan-yellhorn/lib/python3.11/site-packages/google/genai/models.py#7118\u001b\\\u001b[2m7118\u001b[0m\u001b]8;;\u001b\\\n"
      ]
     },
     "metadata": {},
     "output_type": "display_data"
    },
    {
     "data": {
      "text/html": [
       "<pre style=\"white-space:pre;overflow-x:auto;line-height:normal;font-family:Menlo,'DejaVu Sans Mono',consolas,'Courier New',monospace\"><span style=\"color: #7fbfbf; text-decoration-color: #7fbfbf\">[07/12/25 21:49:59] </span><span style=\"color: #000080; text-decoration-color: #000080\">INFO    </span> HTTP Request: <span style=\"color: #808000; text-decoration-color: #808000; font-weight: bold\">POST</span>                                                     <a href=\"file:///opt/anaconda3/envs/sravan-yellhorn/lib/python3.11/site-packages/httpx/_client.py\" target=\"_blank\"><span style=\"color: #7f7f7f; text-decoration-color: #7f7f7f\">_client.py</span></a><span style=\"color: #7f7f7f; text-decoration-color: #7f7f7f\">:</span><a href=\"file:///opt/anaconda3/envs/sravan-yellhorn/lib/python3.11/site-packages/httpx/_client.py#1740\" target=\"_blank\"><span style=\"color: #7f7f7f; text-decoration-color: #7f7f7f\">1740</span></a>\n",
       "<span style=\"color: #7fbfbf; text-decoration-color: #7fbfbf\">                    </span>         <span style=\"color: #0000ff; text-decoration-color: #0000ff; text-decoration: underline\">https://generativelanguage.googleapis.com/v1beta/models/gemini-2.0-fla</span> <span style=\"color: #7f7f7f; text-decoration-color: #7f7f7f\">               </span>\n",
       "<span style=\"color: #7fbfbf; text-decoration-color: #7fbfbf\">                    </span>         <span style=\"color: #0000ff; text-decoration-color: #0000ff; text-decoration: underline\">sh-exp:generateContent</span> <span style=\"color: #008000; text-decoration-color: #008000\">\"HTTP/1.1 200 OK\"</span>                               <span style=\"color: #7f7f7f; text-decoration-color: #7f7f7f\">               </span>\n",
       "</pre>\n"
      ],
      "text/plain": [
       "\u001b[2;36m[07/12/25 21:49:59]\u001b[0m\u001b[2;36m \u001b[0m\u001b[34mINFO    \u001b[0m HTTP Request: \u001b[1;33mPOST\u001b[0m                                                     \u001b]8;id=708635;file:///opt/anaconda3/envs/sravan-yellhorn/lib/python3.11/site-packages/httpx/_client.py\u001b\\\u001b[2m_client.py\u001b[0m\u001b]8;;\u001b\\\u001b[2m:\u001b[0m\u001b]8;id=611801;file:///opt/anaconda3/envs/sravan-yellhorn/lib/python3.11/site-packages/httpx/_client.py#1740\u001b\\\u001b[2m1740\u001b[0m\u001b]8;;\u001b\\\n",
       "\u001b[2;36m                    \u001b[0m         \u001b[4;94mhttps://generativelanguage.googleapis.com/v1beta/models/gemini-2.0-fla\u001b[0m \u001b[2m               \u001b[0m\n",
       "\u001b[2;36m                    \u001b[0m         \u001b[4;94msh-exp:generateContent\u001b[0m \u001b[32m\"HTTP/1.1 200 OK\"\u001b[0m                               \u001b[2m               \u001b[0m\n"
      ]
     },
     "metadata": {},
     "output_type": "display_data"
    },
    {
     "data": {
      "text/html": [
       "<pre style=\"white-space:pre;overflow-x:auto;line-height:normal;font-family:Menlo,'DejaVu Sans Mono',consolas,'Courier New',monospace\"><span style=\"color: #7fbfbf; text-decoration-color: #7fbfbf\">                    </span><span style=\"color: #000080; text-decoration-color: #000080\">INFO    </span> AFC is enabled with max remote calls: <span style=\"color: #008080; text-decoration-color: #008080; font-weight: bold\">10</span>.                               <a href=\"file:///opt/anaconda3/envs/sravan-yellhorn/lib/python3.11/site-packages/google/genai/models.py\" target=\"_blank\"><span style=\"color: #7f7f7f; text-decoration-color: #7f7f7f\">models.py</span></a><span style=\"color: #7f7f7f; text-decoration-color: #7f7f7f\">:</span><a href=\"file:///opt/anaconda3/envs/sravan-yellhorn/lib/python3.11/site-packages/google/genai/models.py#7118\" target=\"_blank\"><span style=\"color: #7f7f7f; text-decoration-color: #7f7f7f\">7118</span></a>\n",
       "</pre>\n"
      ],
      "text/plain": [
       "\u001b[2;36m                   \u001b[0m\u001b[2;36m \u001b[0m\u001b[34mINFO    \u001b[0m AFC is enabled with max remote calls: \u001b[1;36m10\u001b[0m.                               \u001b]8;id=582073;file:///opt/anaconda3/envs/sravan-yellhorn/lib/python3.11/site-packages/google/genai/models.py\u001b\\\u001b[2mmodels.py\u001b[0m\u001b]8;;\u001b\\\u001b[2m:\u001b[0m\u001b]8;id=807920;file:///opt/anaconda3/envs/sravan-yellhorn/lib/python3.11/site-packages/google/genai/models.py#7118\u001b\\\u001b[2m7118\u001b[0m\u001b]8;;\u001b\\\n"
      ]
     },
     "metadata": {},
     "output_type": "display_data"
    },
    {
     "data": {
      "text/html": [
       "<pre style=\"white-space:pre;overflow-x:auto;line-height:normal;font-family:Menlo,'DejaVu Sans Mono',consolas,'Courier New',monospace\"><span style=\"color: #7fbfbf; text-decoration-color: #7fbfbf\">[07/12/25 21:50:02] </span><span style=\"color: #000080; text-decoration-color: #000080\">INFO    </span> HTTP Request: <span style=\"color: #808000; text-decoration-color: #808000; font-weight: bold\">POST</span>                                                     <a href=\"file:///opt/anaconda3/envs/sravan-yellhorn/lib/python3.11/site-packages/httpx/_client.py\" target=\"_blank\"><span style=\"color: #7f7f7f; text-decoration-color: #7f7f7f\">_client.py</span></a><span style=\"color: #7f7f7f; text-decoration-color: #7f7f7f\">:</span><a href=\"file:///opt/anaconda3/envs/sravan-yellhorn/lib/python3.11/site-packages/httpx/_client.py#1740\" target=\"_blank\"><span style=\"color: #7f7f7f; text-decoration-color: #7f7f7f\">1740</span></a>\n",
       "<span style=\"color: #7fbfbf; text-decoration-color: #7fbfbf\">                    </span>         <span style=\"color: #0000ff; text-decoration-color: #0000ff; text-decoration: underline\">https://generativelanguage.googleapis.com/v1beta/models/gemini-2.0-fla</span> <span style=\"color: #7f7f7f; text-decoration-color: #7f7f7f\">               </span>\n",
       "<span style=\"color: #7fbfbf; text-decoration-color: #7fbfbf\">                    </span>         <span style=\"color: #0000ff; text-decoration-color: #0000ff; text-decoration: underline\">sh-exp:generateContent</span> <span style=\"color: #008000; text-decoration-color: #008000\">\"HTTP/1.1 200 OK\"</span>                               <span style=\"color: #7f7f7f; text-decoration-color: #7f7f7f\">               </span>\n",
       "</pre>\n"
      ],
      "text/plain": [
       "\u001b[2;36m[07/12/25 21:50:02]\u001b[0m\u001b[2;36m \u001b[0m\u001b[34mINFO    \u001b[0m HTTP Request: \u001b[1;33mPOST\u001b[0m                                                     \u001b]8;id=927367;file:///opt/anaconda3/envs/sravan-yellhorn/lib/python3.11/site-packages/httpx/_client.py\u001b\\\u001b[2m_client.py\u001b[0m\u001b]8;;\u001b\\\u001b[2m:\u001b[0m\u001b]8;id=740475;file:///opt/anaconda3/envs/sravan-yellhorn/lib/python3.11/site-packages/httpx/_client.py#1740\u001b\\\u001b[2m1740\u001b[0m\u001b]8;;\u001b\\\n",
       "\u001b[2;36m                    \u001b[0m         \u001b[4;94mhttps://generativelanguage.googleapis.com/v1beta/models/gemini-2.0-fla\u001b[0m \u001b[2m               \u001b[0m\n",
       "\u001b[2;36m                    \u001b[0m         \u001b[4;94msh-exp:generateContent\u001b[0m \u001b[32m\"HTTP/1.1 200 OK\"\u001b[0m                               \u001b[2m               \u001b[0m\n"
      ]
     },
     "metadata": {},
     "output_type": "display_data"
    },
    {
     "data": {
      "text/html": [
       "<pre style=\"white-space:pre;overflow-x:auto;line-height:normal;font-family:Menlo,'DejaVu Sans Mono',consolas,'Courier New',monospace\"><span style=\"color: #7fbfbf; text-decoration-color: #7fbfbf\">                    </span><span style=\"color: #000080; text-decoration-color: #000080\">INFO    </span> AFC is enabled with max remote calls: <span style=\"color: #008080; text-decoration-color: #008080; font-weight: bold\">10</span>.                               <a href=\"file:///opt/anaconda3/envs/sravan-yellhorn/lib/python3.11/site-packages/google/genai/models.py\" target=\"_blank\"><span style=\"color: #7f7f7f; text-decoration-color: #7f7f7f\">models.py</span></a><span style=\"color: #7f7f7f; text-decoration-color: #7f7f7f\">:</span><a href=\"file:///opt/anaconda3/envs/sravan-yellhorn/lib/python3.11/site-packages/google/genai/models.py#7118\" target=\"_blank\"><span style=\"color: #7f7f7f; text-decoration-color: #7f7f7f\">7118</span></a>\n",
       "</pre>\n"
      ],
      "text/plain": [
       "\u001b[2;36m                   \u001b[0m\u001b[2;36m \u001b[0m\u001b[34mINFO    \u001b[0m AFC is enabled with max remote calls: \u001b[1;36m10\u001b[0m.                               \u001b]8;id=560835;file:///opt/anaconda3/envs/sravan-yellhorn/lib/python3.11/site-packages/google/genai/models.py\u001b\\\u001b[2mmodels.py\u001b[0m\u001b]8;;\u001b\\\u001b[2m:\u001b[0m\u001b]8;id=691195;file:///opt/anaconda3/envs/sravan-yellhorn/lib/python3.11/site-packages/google/genai/models.py#7118\u001b\\\u001b[2m7118\u001b[0m\u001b]8;;\u001b\\\n"
      ]
     },
     "metadata": {},
     "output_type": "display_data"
    },
    {
     "data": {
      "text/html": [
       "<pre style=\"white-space:pre;overflow-x:auto;line-height:normal;font-family:Menlo,'DejaVu Sans Mono',consolas,'Courier New',monospace\"><span style=\"color: #7fbfbf; text-decoration-color: #7fbfbf\">[07/12/25 21:50:07] </span><span style=\"color: #000080; text-decoration-color: #000080\">INFO    </span> HTTP Request: <span style=\"color: #808000; text-decoration-color: #808000; font-weight: bold\">POST</span>                                                     <a href=\"file:///opt/anaconda3/envs/sravan-yellhorn/lib/python3.11/site-packages/httpx/_client.py\" target=\"_blank\"><span style=\"color: #7f7f7f; text-decoration-color: #7f7f7f\">_client.py</span></a><span style=\"color: #7f7f7f; text-decoration-color: #7f7f7f\">:</span><a href=\"file:///opt/anaconda3/envs/sravan-yellhorn/lib/python3.11/site-packages/httpx/_client.py#1740\" target=\"_blank\"><span style=\"color: #7f7f7f; text-decoration-color: #7f7f7f\">1740</span></a>\n",
       "<span style=\"color: #7fbfbf; text-decoration-color: #7fbfbf\">                    </span>         <span style=\"color: #0000ff; text-decoration-color: #0000ff; text-decoration: underline\">https://generativelanguage.googleapis.com/v1beta/models/gemini-2.0-fla</span> <span style=\"color: #7f7f7f; text-decoration-color: #7f7f7f\">               </span>\n",
       "<span style=\"color: #7fbfbf; text-decoration-color: #7fbfbf\">                    </span>         <span style=\"color: #0000ff; text-decoration-color: #0000ff; text-decoration: underline\">sh-exp:generateContent</span> <span style=\"color: #008000; text-decoration-color: #008000\">\"HTTP/1.1 200 OK\"</span>                               <span style=\"color: #7f7f7f; text-decoration-color: #7f7f7f\">               </span>\n",
       "</pre>\n"
      ],
      "text/plain": [
       "\u001b[2;36m[07/12/25 21:50:07]\u001b[0m\u001b[2;36m \u001b[0m\u001b[34mINFO    \u001b[0m HTTP Request: \u001b[1;33mPOST\u001b[0m                                                     \u001b]8;id=401541;file:///opt/anaconda3/envs/sravan-yellhorn/lib/python3.11/site-packages/httpx/_client.py\u001b\\\u001b[2m_client.py\u001b[0m\u001b]8;;\u001b\\\u001b[2m:\u001b[0m\u001b]8;id=651323;file:///opt/anaconda3/envs/sravan-yellhorn/lib/python3.11/site-packages/httpx/_client.py#1740\u001b\\\u001b[2m1740\u001b[0m\u001b]8;;\u001b\\\n",
       "\u001b[2;36m                    \u001b[0m         \u001b[4;94mhttps://generativelanguage.googleapis.com/v1beta/models/gemini-2.0-fla\u001b[0m \u001b[2m               \u001b[0m\n",
       "\u001b[2;36m                    \u001b[0m         \u001b[4;94msh-exp:generateContent\u001b[0m \u001b[32m\"HTTP/1.1 200 OK\"\u001b[0m                               \u001b[2m               \u001b[0m\n"
      ]
     },
     "metadata": {},
     "output_type": "display_data"
    },
    {
     "data": {
      "text/html": [
       "<pre style=\"white-space:pre;overflow-x:auto;line-height:normal;font-family:Menlo,'DejaVu Sans Mono',consolas,'Courier New',monospace\"><span style=\"color: #7fbfbf; text-decoration-color: #7fbfbf\">                    </span><span style=\"color: #000080; text-decoration-color: #000080\">INFO    </span> AFC is enabled with max remote calls: <span style=\"color: #008080; text-decoration-color: #008080; font-weight: bold\">10</span>.                               <a href=\"file:///opt/anaconda3/envs/sravan-yellhorn/lib/python3.11/site-packages/google/genai/models.py\" target=\"_blank\"><span style=\"color: #7f7f7f; text-decoration-color: #7f7f7f\">models.py</span></a><span style=\"color: #7f7f7f; text-decoration-color: #7f7f7f\">:</span><a href=\"file:///opt/anaconda3/envs/sravan-yellhorn/lib/python3.11/site-packages/google/genai/models.py#7118\" target=\"_blank\"><span style=\"color: #7f7f7f; text-decoration-color: #7f7f7f\">7118</span></a>\n",
       "</pre>\n"
      ],
      "text/plain": [
       "\u001b[2;36m                   \u001b[0m\u001b[2;36m \u001b[0m\u001b[34mINFO    \u001b[0m AFC is enabled with max remote calls: \u001b[1;36m10\u001b[0m.                               \u001b]8;id=600523;file:///opt/anaconda3/envs/sravan-yellhorn/lib/python3.11/site-packages/google/genai/models.py\u001b\\\u001b[2mmodels.py\u001b[0m\u001b]8;;\u001b\\\u001b[2m:\u001b[0m\u001b]8;id=487469;file:///opt/anaconda3/envs/sravan-yellhorn/lib/python3.11/site-packages/google/genai/models.py#7118\u001b\\\u001b[2m7118\u001b[0m\u001b]8;;\u001b\\\n"
      ]
     },
     "metadata": {},
     "output_type": "display_data"
    },
    {
     "data": {
      "text/html": [
       "<pre style=\"white-space:pre;overflow-x:auto;line-height:normal;font-family:Menlo,'DejaVu Sans Mono',consolas,'Courier New',monospace\"><span style=\"color: #7fbfbf; text-decoration-color: #7fbfbf\">[07/12/25 21:50:12] </span><span style=\"color: #000080; text-decoration-color: #000080\">INFO    </span> HTTP Request: <span style=\"color: #808000; text-decoration-color: #808000; font-weight: bold\">POST</span>                                                     <a href=\"file:///opt/anaconda3/envs/sravan-yellhorn/lib/python3.11/site-packages/httpx/_client.py\" target=\"_blank\"><span style=\"color: #7f7f7f; text-decoration-color: #7f7f7f\">_client.py</span></a><span style=\"color: #7f7f7f; text-decoration-color: #7f7f7f\">:</span><a href=\"file:///opt/anaconda3/envs/sravan-yellhorn/lib/python3.11/site-packages/httpx/_client.py#1740\" target=\"_blank\"><span style=\"color: #7f7f7f; text-decoration-color: #7f7f7f\">1740</span></a>\n",
       "<span style=\"color: #7fbfbf; text-decoration-color: #7fbfbf\">                    </span>         <span style=\"color: #0000ff; text-decoration-color: #0000ff; text-decoration: underline\">https://generativelanguage.googleapis.com/v1beta/models/gemini-2.0-fla</span> <span style=\"color: #7f7f7f; text-decoration-color: #7f7f7f\">               </span>\n",
       "<span style=\"color: #7fbfbf; text-decoration-color: #7fbfbf\">                    </span>         <span style=\"color: #0000ff; text-decoration-color: #0000ff; text-decoration: underline\">sh-exp:generateContent</span> <span style=\"color: #008000; text-decoration-color: #008000\">\"HTTP/1.1 200 OK\"</span>                               <span style=\"color: #7f7f7f; text-decoration-color: #7f7f7f\">               </span>\n",
       "</pre>\n"
      ],
      "text/plain": [
       "\u001b[2;36m[07/12/25 21:50:12]\u001b[0m\u001b[2;36m \u001b[0m\u001b[34mINFO    \u001b[0m HTTP Request: \u001b[1;33mPOST\u001b[0m                                                     \u001b]8;id=239618;file:///opt/anaconda3/envs/sravan-yellhorn/lib/python3.11/site-packages/httpx/_client.py\u001b\\\u001b[2m_client.py\u001b[0m\u001b]8;;\u001b\\\u001b[2m:\u001b[0m\u001b]8;id=522845;file:///opt/anaconda3/envs/sravan-yellhorn/lib/python3.11/site-packages/httpx/_client.py#1740\u001b\\\u001b[2m1740\u001b[0m\u001b]8;;\u001b\\\n",
       "\u001b[2;36m                    \u001b[0m         \u001b[4;94mhttps://generativelanguage.googleapis.com/v1beta/models/gemini-2.0-fla\u001b[0m \u001b[2m               \u001b[0m\n",
       "\u001b[2;36m                    \u001b[0m         \u001b[4;94msh-exp:generateContent\u001b[0m \u001b[32m\"HTTP/1.1 200 OK\"\u001b[0m                               \u001b[2m               \u001b[0m\n"
      ]
     },
     "metadata": {},
     "output_type": "display_data"
    },
    {
     "data": {
      "text/html": [
       "<pre style=\"white-space:pre;overflow-x:auto;line-height:normal;font-family:Menlo,'DejaVu Sans Mono',consolas,'Courier New',monospace\"><span style=\"color: #7fbfbf; text-decoration-color: #7fbfbf\">                    </span><span style=\"color: #000080; text-decoration-color: #000080\">INFO    </span> AFC is enabled with max remote calls: <span style=\"color: #008080; text-decoration-color: #008080; font-weight: bold\">10</span>.                               <a href=\"file:///opt/anaconda3/envs/sravan-yellhorn/lib/python3.11/site-packages/google/genai/models.py\" target=\"_blank\"><span style=\"color: #7f7f7f; text-decoration-color: #7f7f7f\">models.py</span></a><span style=\"color: #7f7f7f; text-decoration-color: #7f7f7f\">:</span><a href=\"file:///opt/anaconda3/envs/sravan-yellhorn/lib/python3.11/site-packages/google/genai/models.py#7118\" target=\"_blank\"><span style=\"color: #7f7f7f; text-decoration-color: #7f7f7f\">7118</span></a>\n",
       "</pre>\n"
      ],
      "text/plain": [
       "\u001b[2;36m                   \u001b[0m\u001b[2;36m \u001b[0m\u001b[34mINFO    \u001b[0m AFC is enabled with max remote calls: \u001b[1;36m10\u001b[0m.                               \u001b]8;id=677634;file:///opt/anaconda3/envs/sravan-yellhorn/lib/python3.11/site-packages/google/genai/models.py\u001b\\\u001b[2mmodels.py\u001b[0m\u001b]8;;\u001b\\\u001b[2m:\u001b[0m\u001b]8;id=805410;file:///opt/anaconda3/envs/sravan-yellhorn/lib/python3.11/site-packages/google/genai/models.py#7118\u001b\\\u001b[2m7118\u001b[0m\u001b]8;;\u001b\\\n"
      ]
     },
     "metadata": {},
     "output_type": "display_data"
    },
    {
     "data": {
      "text/html": [
       "<pre style=\"white-space:pre;overflow-x:auto;line-height:normal;font-family:Menlo,'DejaVu Sans Mono',consolas,'Courier New',monospace\"><span style=\"color: #7fbfbf; text-decoration-color: #7fbfbf\">[07/12/25 21:50:15] </span><span style=\"color: #000080; text-decoration-color: #000080\">INFO    </span> HTTP Request: <span style=\"color: #808000; text-decoration-color: #808000; font-weight: bold\">POST</span>                                                     <a href=\"file:///opt/anaconda3/envs/sravan-yellhorn/lib/python3.11/site-packages/httpx/_client.py\" target=\"_blank\"><span style=\"color: #7f7f7f; text-decoration-color: #7f7f7f\">_client.py</span></a><span style=\"color: #7f7f7f; text-decoration-color: #7f7f7f\">:</span><a href=\"file:///opt/anaconda3/envs/sravan-yellhorn/lib/python3.11/site-packages/httpx/_client.py#1740\" target=\"_blank\"><span style=\"color: #7f7f7f; text-decoration-color: #7f7f7f\">1740</span></a>\n",
       "<span style=\"color: #7fbfbf; text-decoration-color: #7fbfbf\">                    </span>         <span style=\"color: #0000ff; text-decoration-color: #0000ff; text-decoration: underline\">https://generativelanguage.googleapis.com/v1beta/models/gemini-2.0-fla</span> <span style=\"color: #7f7f7f; text-decoration-color: #7f7f7f\">               </span>\n",
       "<span style=\"color: #7fbfbf; text-decoration-color: #7fbfbf\">                    </span>         <span style=\"color: #0000ff; text-decoration-color: #0000ff; text-decoration: underline\">sh-exp:generateContent</span> <span style=\"color: #008000; text-decoration-color: #008000\">\"HTTP/1.1 200 OK\"</span>                               <span style=\"color: #7f7f7f; text-decoration-color: #7f7f7f\">               </span>\n",
       "</pre>\n"
      ],
      "text/plain": [
       "\u001b[2;36m[07/12/25 21:50:15]\u001b[0m\u001b[2;36m \u001b[0m\u001b[34mINFO    \u001b[0m HTTP Request: \u001b[1;33mPOST\u001b[0m                                                     \u001b]8;id=750357;file:///opt/anaconda3/envs/sravan-yellhorn/lib/python3.11/site-packages/httpx/_client.py\u001b\\\u001b[2m_client.py\u001b[0m\u001b]8;;\u001b\\\u001b[2m:\u001b[0m\u001b]8;id=317659;file:///opt/anaconda3/envs/sravan-yellhorn/lib/python3.11/site-packages/httpx/_client.py#1740\u001b\\\u001b[2m1740\u001b[0m\u001b]8;;\u001b\\\n",
       "\u001b[2;36m                    \u001b[0m         \u001b[4;94mhttps://generativelanguage.googleapis.com/v1beta/models/gemini-2.0-fla\u001b[0m \u001b[2m               \u001b[0m\n",
       "\u001b[2;36m                    \u001b[0m         \u001b[4;94msh-exp:generateContent\u001b[0m \u001b[32m\"HTTP/1.1 200 OK\"\u001b[0m                               \u001b[2m               \u001b[0m\n"
      ]
     },
     "metadata": {},
     "output_type": "display_data"
    },
    {
     "data": {
      "text/html": [
       "<pre style=\"white-space:pre;overflow-x:auto;line-height:normal;font-family:Menlo,'DejaVu Sans Mono',consolas,'Courier New',monospace\"><span style=\"color: #7fbfbf; text-decoration-color: #7fbfbf\">                    </span><span style=\"color: #000080; text-decoration-color: #000080\">INFO    </span> AFC is enabled with max remote calls: <span style=\"color: #008080; text-decoration-color: #008080; font-weight: bold\">10</span>.                               <a href=\"file:///opt/anaconda3/envs/sravan-yellhorn/lib/python3.11/site-packages/google/genai/models.py\" target=\"_blank\"><span style=\"color: #7f7f7f; text-decoration-color: #7f7f7f\">models.py</span></a><span style=\"color: #7f7f7f; text-decoration-color: #7f7f7f\">:</span><a href=\"file:///opt/anaconda3/envs/sravan-yellhorn/lib/python3.11/site-packages/google/genai/models.py#7118\" target=\"_blank\"><span style=\"color: #7f7f7f; text-decoration-color: #7f7f7f\">7118</span></a>\n",
       "</pre>\n"
      ],
      "text/plain": [
       "\u001b[2;36m                   \u001b[0m\u001b[2;36m \u001b[0m\u001b[34mINFO    \u001b[0m AFC is enabled with max remote calls: \u001b[1;36m10\u001b[0m.                               \u001b]8;id=970216;file:///opt/anaconda3/envs/sravan-yellhorn/lib/python3.11/site-packages/google/genai/models.py\u001b\\\u001b[2mmodels.py\u001b[0m\u001b]8;;\u001b\\\u001b[2m:\u001b[0m\u001b]8;id=179585;file:///opt/anaconda3/envs/sravan-yellhorn/lib/python3.11/site-packages/google/genai/models.py#7118\u001b\\\u001b[2m7118\u001b[0m\u001b]8;;\u001b\\\n"
      ]
     },
     "metadata": {},
     "output_type": "display_data"
    },
    {
     "data": {
      "text/html": [
       "<pre style=\"white-space:pre;overflow-x:auto;line-height:normal;font-family:Menlo,'DejaVu Sans Mono',consolas,'Courier New',monospace\"><span style=\"color: #7fbfbf; text-decoration-color: #7fbfbf\">[07/12/25 21:50:32] </span><span style=\"color: #000080; text-decoration-color: #000080\">INFO    </span> HTTP Request: <span style=\"color: #808000; text-decoration-color: #808000; font-weight: bold\">POST</span>                                                     <a href=\"file:///opt/anaconda3/envs/sravan-yellhorn/lib/python3.11/site-packages/httpx/_client.py\" target=\"_blank\"><span style=\"color: #7f7f7f; text-decoration-color: #7f7f7f\">_client.py</span></a><span style=\"color: #7f7f7f; text-decoration-color: #7f7f7f\">:</span><a href=\"file:///opt/anaconda3/envs/sravan-yellhorn/lib/python3.11/site-packages/httpx/_client.py#1740\" target=\"_blank\"><span style=\"color: #7f7f7f; text-decoration-color: #7f7f7f\">1740</span></a>\n",
       "<span style=\"color: #7fbfbf; text-decoration-color: #7fbfbf\">                    </span>         <span style=\"color: #0000ff; text-decoration-color: #0000ff; text-decoration: underline\">https://generativelanguage.googleapis.com/v1beta/models/gemini-2.0-fla</span> <span style=\"color: #7f7f7f; text-decoration-color: #7f7f7f\">               </span>\n",
       "<span style=\"color: #7fbfbf; text-decoration-color: #7fbfbf\">                    </span>         <span style=\"color: #0000ff; text-decoration-color: #0000ff; text-decoration: underline\">sh-exp:generateContent</span> <span style=\"color: #008000; text-decoration-color: #008000\">\"HTTP/1.1 200 OK\"</span>                               <span style=\"color: #7f7f7f; text-decoration-color: #7f7f7f\">               </span>\n",
       "</pre>\n"
      ],
      "text/plain": [
       "\u001b[2;36m[07/12/25 21:50:32]\u001b[0m\u001b[2;36m \u001b[0m\u001b[34mINFO    \u001b[0m HTTP Request: \u001b[1;33mPOST\u001b[0m                                                     \u001b]8;id=433965;file:///opt/anaconda3/envs/sravan-yellhorn/lib/python3.11/site-packages/httpx/_client.py\u001b\\\u001b[2m_client.py\u001b[0m\u001b]8;;\u001b\\\u001b[2m:\u001b[0m\u001b]8;id=25193;file:///opt/anaconda3/envs/sravan-yellhorn/lib/python3.11/site-packages/httpx/_client.py#1740\u001b\\\u001b[2m1740\u001b[0m\u001b]8;;\u001b\\\n",
       "\u001b[2;36m                    \u001b[0m         \u001b[4;94mhttps://generativelanguage.googleapis.com/v1beta/models/gemini-2.0-fla\u001b[0m \u001b[2m               \u001b[0m\n",
       "\u001b[2;36m                    \u001b[0m         \u001b[4;94msh-exp:generateContent\u001b[0m \u001b[32m\"HTTP/1.1 200 OK\"\u001b[0m                               \u001b[2m               \u001b[0m\n"
      ]
     },
     "metadata": {},
     "output_type": "display_data"
    },
    {
     "name": "stdout",
     "output_type": "stream",
     "text": [
      "[MOCK GitHub CLI] Running: gh issue edit 3026 --body-file /var/folders/3h/5k3yk1s13yn9cql9x6fl9g9h0000gn/T/tmpl__4v6b_.md\n",
      "[MOCK GitHub CLI] In directory: /Users/sravanj/project_work/yellhorn-mcp\n",
      "[MOCK GitHub CLI] File contents: # Replace existing model with unified Model Calling Service (OpenRouter or Litellm)\n",
      "\n",
      "Okay, I wi[1](https://vertexaisearch.cloud.google.com/grounding-api-redirect/AUZIYQGEsJKYkM6W5UfQVHbpXdztp5-_MRScG3t_GSmjWuZVU4Fdg7eeqwtNW7L27Mq5dE0I8TtxK2Uqe1Zp_Ks6Vn6ITfknLtTKMFOuLGJN-0E6mKZK14wSsMbCIuQla71l7dzJEmYoiJrq), [2](https://vertexaisearch.cloud.google.com/grounding-api-redirect/AUZIYQE8T88k70ZJ6p3DaIB_3sBrDQyeOuJubTnAi8jnW6YEAbDORSng_gm_0eL4dmfh85o_lnHo1yWBDZcZXESmnUuGfksg8IHQ5o-R0KSOwrqlyAtM2XkPlGOE_P9QUwMPYKk4J8M9wxZJILf4IJWFsIXObGRiD9FjKiY7E0TcTwNuDvmED9qLn2jLiSuHSx5uRWWO6WjWdurAdQfqTKOYbboGuBB3pArp-3u5pW61VfHsEs2iaajRPbb9UtQ=), [3](https://vertexaisearch.cloud.google.com/grounding-api-redirect/AUZIYQEPEtYxBsoYFACEkWgso-WQv2NIOAuAbC8s_SVyzl3WQcdhbg_4N1aSPSO6V1Hyvqf4kK-OuUD6qEvGT6ZS-0OHmrqMXxP8jSJUc3NvMSmdiFrMdDqq1MoSHqCaSPxe1Oy_u_5oyDmssTng0pdQx8alDUt8xQtaosedXL0vGDVvtqzO4nTY)ll create a detailed workplan as a GitHub issue for replacing the existing model with a unified Model Calling Service (OpenRouter or similar). Here's the plan:\n",
      "\n",
      "## GitHub Issue: Unified Model Calling Service Implementation\n",
      "\n",
      "**Goal:** Replace the existing model with a unified Model Calling Service, leveraging OpenRouter (or a similar service) to provide flexibility, cost management, and access to a wider range of models.\n",
      "\n",
      "**Context:** The current model implementation is tightly coupled and lacks the ability to easily switch between different models or manage costs effectively. Usi[4](https://vertexaisearch.cloud.google.com/grounding-api-redirect/AUZIYQHNXXhwtJtEoiq6xL332MYnUf4txTQsmjsgtMN4DLO5lwkP8RDRWg5UXbVaGRcgNGnAtAh6Y1hL0dM0G4VaB_Wlb9cOCMbjEes38dKmo2Fa7E5dnRtyjYFnCz8DCwLq9mJLsjtdJZIaSacvsfyPYGZYwCXtWA==), [3](https://vertexaisearch.cloud.google.com/grounding-api-redirect/AUZIYQEPEtYxBsoYFACEkWgso-WQv2NIOAuAbC8s_SVyzl3WQcdhbg_4N1aSPSO6V1Hyvqf4kK-OuUD6qEvGT6ZS-0OHmrqMXxP8jSJUc3NvMSmdiFrMdDqq1MoSHqCaSPxe1Oy_u_5oyDmssTng0pdQx8alDUt8xQtaosedXL0vGDVvtqzO4nTY)ng a unified Model Calling Service will address these limitations.\n",
      "\n",
      "**Workplan:**\n",
      "\n",
      "**Phase 1: Research and Selection (Estimated Time: 3 days)**\n",
      "\n",
      "*   **Task 1: Evaluate Model Calling Services:** Research[2](https://vertexaisearch.cloud.google.com/grounding-api-redirect/AUZIYQE8T88k70ZJ6p3DaIB_3sBrDQyeOuJubTnAi8jnW6YEAbDORSng_gm_0eL4dmfh85o_lnHo1yWBDZcZXESmnUuGfksg8IHQ5o-R0KSOwrqlyAtM2XkPlGOE_P9QUwMPYKk4J8M9wxZJILf4IJWFsIXObGRiD9FjKiY7E0TcTwNuDvmED9qLn2jLiSuHSx5uRWWO6WjWdurAdQfqTKOYbboGuBB3pArp-3u5pW61VfHsEs2iaajRPbb9UtQ=) and compare different Model Calling Services like OpenRouter, Together AI, or Azure AI Model Hosting.\n",
      "    *   **Criteria:** Cost, model availability, ease of integration, reliability, security,[2](https://vertexaisearch.cloud.google.com/grounding-api-redirect/AUZIYQE8T88k70ZJ6p3DaIB_3sBrDQyeOuJubTnAi8jnW6YEAbDORSng_gm_0eL4dmfh85o_lnHo1yWBDZcZXESmnUuGfksg8IHQ5o-R0KSOwrqlyAtM2XkPlGOE_P9QUwMPYKk4J8M9wxZJILf4IJWFsIXObGRiD9FjKiY7E0TcTwNuDvmED9qLn2jLiSuHSx5uRWWO6WjWdurAdQfqTKOYbboGuBB3pArp-3u5pW61VfHsEs2iaajRPbb9UtQ=) and features like rate limiting and monitoring.\n",
      "    *   **Deliverable:** A comparison matrix with the evaluation results and a recommendation for the preferred service.\n",
      "*   **Task 2: Investigate OpenRouter (Focus):** Deep dive into OpenRouter's capabilities, pricing, and API.\n",
      "    *   **Deliverable:** Documentation outlining OpenRouter's features, limitations, and how it addresses our requirements.\n",
      "\n",
      "**Phase 2: Proof of Concept (POC) Implementation (Estimated Time: 5 days)**\n",
      "\n",
      "*   **Task 3: Set up OpenRouter Account and API Key:** Create an account on OpenRouter and generate an API key.\n",
      "    *   **Deliverable:** Working OpenRouter account with a valid[4](https://vertexaisearch.cloud.google.com/grounding-api-redirect/AUZIYQHNXXhwtJtEoiq6xL332MYnUf4txTQsmjsgtMN4DLO5lwkP8RDRWg5UXbVaGRcgNGnAtAh6Y1hL0dM0G4VaB_Wlb9cOCMbjEes38dKmo2Fa7E5dnRtyjYFnCz8DCwLq9mJLsjtdJZIaSacvsfyPYGZYwCXtWA==), [5](https://vertexaisearch.cloud.google.com/grounding-api-redirect/AUZIYQEVPR2e281HcR_G2B0Zghp7MMW6Xbl2NuvNjzvkk9pUycPIG39J0Gq-VR6ZvM7nmSoiEDm3eplENizv81zK-EuguAs1abzvQ_nc29LM4hR4qJ92MlcO2HgRg_m_hLtJi11fhi1quXXa4-O6ZqQEBanXwc5LdCSHxEPVrRL4J5qxeTNAnjpZI46z), [6](https://vertexaisearch.cloud.google.com/grounding-api-redirect/AUZIYQFKnzHlLhW0-FYiEQ2nwthnWMe7s4W50j72xCZX9ZsyJWSAWbhLXOlwx0BanQVGXIlbL-ul8L3ZZa1sba2_DvuQJnUoKzZX4DQH86KuRGnKy8UzwC5zykMvb9sCk-vx1qj7dHUFg1nr7hogggwohZ-6z7c6yKWiaGcaCQ==), [7](https://vertexaisearch.cloud.google.com/grounding-api-redirect/AUZIYQGmhryv8CM36adtMkWTZ6EYLnWiQIi9NKALKdMuR699Q34EeZTn0WWDDNxtd0IG_mVDHilx_f5oYyb3AZmH0YrBbls4UkBzLo0ANJ7_eK_SxHvrLuzf0mQH4OqVqwz7te3G9PSfeOTyVTMEgx7eDBuMMhTe_Ro4OBp2hC31-Q==) API key.\n",
      "*   **Task 4: Develop a Minimal POC:** [4](https://vertexaisearch.cloud.google.com/grounding-api-redirect/AUZIYQHNXXhwtJtEoiq6xL332MYnUf4txTQsmjsgtMN4DLO5lwkP8RDRWg5UXbVaGRcgNGnAtAh6Y1hL0dM0G4VaB_Wlb9cOCMbjEes38dKmo2Fa7E5dnRtyjYFnCz8DCwLq9mJLsjtdJZIaSacvsfyPYGZYwCXtWA==), [6](https://vertexaisearch.cloud.google.com/grounding-api-redirect/AUZIYQFKnzHlLhW0-FYiEQ2nwthnWMe7s4W50j72xCZX9ZsyJWSAWbhLXOlwx0BanQVGXIlbL-ul8L3ZZa1sba2_DvuQJnUoKzZX4DQH86KuRGnKy8UzwC5zykMvb9sCk-vx1qj7dHUFg1nr7hogggwohZ-6z7c6yKWiaGcaCQ==), [3](https://vertexaisearch.cloud.google.com/grounding-api-redirect/AUZIYQEPEtYxBsoYFACEkWgso-WQv2NIOAuAbC8s_SVyzl3WQcdhbg_4N1aSPSO6V1Hyvqf4kK-OuUD6qEvGT6ZS-0OHmrqMXxP8jSJUc3NvMSmdiFrMdDqq1MoSHqCaSPxe1Oy_u_5oyDmssTng0pdQx8alDUt8xQtaosedXL0vGDVvtqzO4nTY), [8](https://vertexaisearch.cloud.google.com/grounding-api-redirect/AUZIYQHRU1TQpBRILwR8zpcXUnHG6UM2x4CAulBdMOpwm_zn-XqoGkrkt9LidNFpmYXBWZ1wmeF55vRoNJ2qnXL7II3e8YNc85Y5E_LzaAGECxqTo9ET28xF2Dai6rH23Tg2vEf0CmCk5j0QAP-Xgabgov9tVxN_lhwvBwMZw_yTTnYkz7WW1T6TaLvLIg==)Implement a simple proof-of-concept to call a basic model (e.g., GPT-3.5-turbo) through O[9](https://vertexaisearch.cloud.google.com/grounding-api-redirect/AUZIYQHjqIBT5cwOtQvucY00iD6g7xq6ohRdE-WLVciJTUerLHwkTdavKlcLThvGR2CuatYBZHLi2QrO-PA7THuZQf7a5wDf3D2N_pJ3IqZ8YBv8aZXaBO6zc3mME1pSp7vUUq-FRQSBOOYi6A==)penRouter.\n",
      "    *   **Deliverable:** Code demonstrating successful API calls to OpenRouter and receiving responses.\n",
      "*   **Task 5: Test and Validate POC:** Test the POC with various prompts and validate the responses.\n",
      "    *   **Deliverable:** Documentation with test results, including response times, accuracy, and any issues encountered.\n",
      "\n",
      "**Phase 3: Integration and Testing (Estimated Time: 7 days)**\n",
      "\n",
      "*   **Task 6: Integrate OpenRouter into the Existing Codebase:** Replace the existing model call with the OpenRouter API call.\n",
      "    *   **Deliverable:** Code changes to integrate OpenRouter into the appropriate modules.\n",
      "*   **Task 7: Implement Error Handling and Fallback Mechanisms:** Implement robust error handling to manage API failures or rate limits. Implement fallback mechanisms to switch to a backup model or service if OpenRouter is unavailable.\n",
      "    *   **Deliverable:** Code implementing error handling and fallback strategies.\n",
      "*   **Task 8: Thorough Testing:** Conduct thorough testing of the integrated service, including unit tests, integration tests, and end-to-end tests.\n",
      "    *   **Deliverable:** Test reports documenting the test coverage and results.\n",
      "\n",
      "**Phase 4: Monitoring, Cost Management, and Optimization (Estimated Time: 5 days)**\n",
      "\n",
      "*   **Task 9: Implement Monitoring and Logging:** Add monitoring and logging to track API usage, response times, and errors.\n",
      "    *   **Deliverable:** Implementation of logging and monitoring tools.\n",
      "*   **Task 10: Implement Cost Management Strategies:** Implement strategies to manage costs, such as setting spending limits or using cheaper models for certain tasks.\n",
      "    *   **Deliverable:** Configuration of cost management features in OpenRouter and code implementing dynamic model selection based on cost.\n",
      "*   **Task 11: Optimize Performance:** Optimize the API calls and data processing to improve performance.\n",
      "    *   **Deliverable:** Code changes and documentation outlining the performance optimizations.\n",
      "\n",
      "**Phase 5: Documentation and Deployment (Estimated Time: 3 days)**\n",
      "\n",
      "*   **Task 12: Create Documentation:** Create detailed documentation for the new Model Calling Service, including API usage, configuration, and troubleshooting.\n",
      "    *   **Deliverable:** Comprehensive documentation for the new service.\n",
      "*   **Task 13: Deploy to Production:** Deploy the updated codebase to the production environment.\n",
      "    *   **Deliverable:** Successful deployment of the new Model Calling Service to production.\n",
      "\n",
      "**Timeline:** Approximately 23 working days.\n",
      "\n",
      "**Resources:**\n",
      "\n",
      "*   OpenRouter API documentation\n",
      "*   Access to the existing codebase\n",
      "*   Testing tools and infrastructure\n",
      "\n",
      "**Success Criteria:**\n",
      "\n",
      "*   Successful integration of OpenRouter (or similar service) into the codebase.\n",
      "*   Ability to easily switch between different models.\n",
      "*   Effective cost management.\n",
      "*   Improved reliability and scalability.\n",
      "*   Comprehensive documentation.\n",
      "\n",
      "**Open Questions/Risks:**\n",
      "\n",
      "*   Potential latency issues with using an external API.\n",
      "*   Dependency on the availability and reliability of the Model Calling Service.\n",
      "*   Security considerations for API keys and data transmission.\n",
      "\n",
      "**Next Steps:**\n",
      "\n",
      "*   Start with Phase 1: Research and Selection.\n",
      "*   Create a dedicated branch for this work.\n",
      "*   Schedule regular check-in meetings to discuss progress and address any issues.\n",
      "\n",
      "\n",
      "---\n",
      "\n",
      "Okay, I've processed the provided data. It contains information about various Python packages, their versions, descriptions, dependencies, files, and other metadata. This data appears to be in a format similar to what you might find in a `pyproject.toml` file or a similar package management configuration.\n",
      "\n",
      "Here's a breakdown of what's included:\n",
      "\n",
      "*   **Package Information:** For each package, the data includes the name, version, a brief description, Python versions it's compatible with, and the \"groups\" it belongs to (typically \"main\").\n",
      "*   **File Information:**  Each package lists the `.whl` (wheel) files and `.tar.gz` (source archive) files that make up the package, along with their SHA256 hashes for integrity verification. The wheel files are specific to certain Python versions and platforms (e.g., `cp311` means CPython 3.11, `macosx` refers to macOS, `linux`, and `win` to Windows).\n",
      "*   **Dependencies:**  The `dependencies` section lists other packages that a given package relies on, along with version constraints (e.g., `>=2.14.1,<3.0.0` means version 2.14.1 or higher, but less than 3.0.0).\n",
      "*   **Extras:** The `extras` section defines optional dependencies that can be installed to enable extra functionality. These are installed using the `[tool.poetry.dependencies]` section, or using `pip install packagename[extra]`\n",
      "*   **Frozenlist:** A backport of typing.List for older Python versions\n",
      "*   **google-api-core:** Google API client core library\n",
      "*   **google-auth:** Google authentication library\n",
      "*   **google-genai:** GenAI Python SDK\n",
      "*   **googleapis-common-protos:** Common protobufs used in Google APIs\n",
      "*   **h11:** A pure-Python, bring-your-own-I/O implementation of HTTP/1.1\n",
      "*   **httpcore:** A minimal low-level HTTP client\n",
      "*   **httpx:** The next generation HTTP client\n",
      "*   **httpx-sse:** Consume Server-Sent Event (SSE) messages with HTTPX\n",
      "*   **idna:** Internationalized Domain Names in Applications (IDNA)\n",
      "*   **iniconfig:** Brain-dead simple config-ini parsing\n",
      "*   **isort:** A Python utility / library to sort Python imports\n",
      "*   **jedi:** An autocompletion tool for Python that can be used for text editors\n",
      "*   **jiter:** Fast iterable JSON parser\n",
      "*   **jsonschema:** An implemen[4](https://vertexaisearch.cloud.google.com/grounding-api-redirect/AUZIYQHNXXhwtJtEoiq6xL332MYnUf4txTQsmjsgtMN4DLO5lwkP8RDRWg5UXbVaGRcgNGnAtAh6Y1hL0dM0G4VaB_Wlb9cOCMbjEes38dKmo2Fa7E5dnRtyjYFnCz8DCwLq9mJLsjtdJZIaSacvsfyPYGZYwCXtWA==)tation of JSON Schema validation for Python\n",
      "*   **jsonschema-specifications:** The JSON Schema meta-schemas and vocabularies, exposed as a Registry\n",
      "*   **markdown-it-py:** Python port of markdown-it. Markdown parsing, done right!\n",
      "*   **mccabe:** McCabe checker, plugin for flake8\n",
      "*   **mcp:** Model Context Protocol SDK\n",
      "*   **mdurl:** Markdown URL utilities\n",
      "*   **multidict:** multidict implementation\n",
      "*   **mypy-extensions:** Type system extensions for programs checked with the mypy type checker\n",
      "*   **openai:** The official Python library for the openai API\n",
      "*   **packaging:** Core utilities for Python packages\n",
      "*   **parso:** A Python Parser\n",
      "*   **pathspec:** Utility library for gitignore style pattern matching of file paths\n",
      "*   **platformdirs:** A small Python package for determining appropriate platform-specific dirs, e.g. a `user data dir`\n",
      "*   **pluggy:** plugin and hook calling mechanisms for python\n",
      "*   **propcache:** Accelerated property cache\n",
      "\n",
      "I am ready for your questions about this data. Do you want to know about specific packages, their dependencies, or anything else related to this information?\n",
      "\n",
      "\n",
      "---\n",
      "\n",
      "Okay, I will now summarize the information about the Python packages from the provided data. This data includes the name, version, description, optional status, supported Python versions, groups, files (with hashes), dependencies, and extras for various Python packages.\n",
      "\n",
      "Here's a breakdown of the packages:\n",
      "\n",
      "*   **propcache**: Version 0.3.2. This package has multiple files for different platforms and Python versions (3.9, 3.10, 3.11, 3.12, 3.13).\n",
      "\n",
      "*   **proto-plus**: Version 1.26.1. It's described as \"Beautiful, Pythonic protocol buffers\" and requires Python 3.7 or higher. It depends on protobuf and has an extra dependency \"google-api-core\" for testing.\n",
      "\n",
      "*   **protobuf**: Version 6.31.1. Requires Python 3.9 or higher.\n",
      "\n",
      "*   **pyasn1**: Version 0.6.1. It's a \"Pure-Python implementation of ASN.1 types and DER/BER/CER codecs (X.208)\" and requires Python 3.8+.\n",
      "\n",
      "*   **pyasn1-modules**: Version 0.4.2. It's \"A collection of ASN.1-based protocols modules,\" requires Python 3.8+, and depends on pyasn1.\n",
      "\n",
      "*   **pycodestyle**: Version 2.14.0. It's a \"Python style guide checker,\" optional, requ[5](https://vertexaisearch.cloud.google.com/grounding-api-redirect/AUZIYQEVPR2e281HcR_G2B0Zghp7MMW6Xbl2NuvNjzvkk9pUycPIG39J0Gq-VR6ZvM7nmSoiEDm3eplENizv81zK-EuguAs1abzvQ_nc29LM4hR4qJ92MlcO2HgRg_m_hLtJi11fhi1quXXa4-O6ZqQEBanXwc5LdCSHxEPVrRL4J5qxeTNAnjpZI46z), [3](https://vertexaisearch.cloud.google.com/grounding-api-redirect/AUZIYQEPEtYxBsoYFACEkWgso-WQv2NIOAuAbC8s_SVyzl3WQcdhbg_4N1aSPSO6V1Hyvqf4kK-OuUD6qEvGT6ZS-0OHmrqMXxP8jSJUc3NvMSmdiFrMdDqq1MoSHqCaSPxe1Oy_u_5oyDmssTng0pdQx8alDUt8xQtaosedXL0vGDVvtqzO4nTY)ires Python 3.9+, and is part of the \"dev\" extra.\n",
      "\n",
      "*   **pydantic**: Version 2.11.7. Described as \"Data validation using Python type hints,\" requires Python 3.9+, and depends on annotated-types, pydantic-core, typing-extensions, and typing-inspection. It also has extras for email and timezone validation.\n",
      "\n",
      "*   **pydantic-core**: Version 2.33.2. \"Core functionality for Pydantic validation and serialization,\" requires Python 3.9+, and depends on typing-extensions.\n",
      "\n",
      "*   **pydantic-settings**: Version 2.10.1. \"Settings management using Pydantic,\" requires Python 3.9+, and depends on pydantic, python-dotenv, and typing-inspection. It has extras for AWS Secrets Manager, Azure Key Vault, GCP Secret Manager, TOML, and YAML support.\n",
      "\n",
      "*   **pyflakes**: Version 3.4.0. It's a \"passive checker of Python programs,\" optional, requires Python 3.9+, and is part of the \"dev\" extra.\n",
      "\n",
      "*   **pygments**: Version 2.19.2. \"Pygments is a syntax highlighting package written in Python.\" Requires Python 3.8+. Has an extra for Windows Terminal support\n",
      "\n",
      "*   **pytest**: Version 8.4.1. \"pytest: simple powerful testing with Python,\" optional, requires Python 3.9+, and depends on several packages like colorama, exceptiongroup, iniconfig, packaging, pluggy, pygments, and toml. It has a \"dev\" extra with more dependencies.\n",
      "\n",
      "*   **pytest-asyncio**: Version 1.0.0. \"Pytest support for asyncio,\" optional, requires Python 3.9+, and depends on pytest. It has extras for documentation and testing.\n",
      "\n",
      "*   **pytest-cov**: Version 6.2.1. \"Pytest plugin for measuring coverage,\" optional, requires Python 3.9+, and depends on coverage, pluggy, and pytest. It has a \"testing\" extra with more dependencies.\n",
      "\n",
      "*   **python-dotenv**: Version 1.1.1. \"Read key-value pairs from a .env file and set them as environment variables.\" It has a \"cli\" extra.\n",
      "\n",
      "*   **python-multipart**: Version 0.0.20. \"A streaming multipart parser for Python.\" Requires Python 3.8+.\n",
      "\n",
      "*   **referencing**: Version 0.36.2. \"JSON Referencing + Python,\" requires Python 3.9+, and depends on attrs, rpds-py, and typing-extensions.\n",
      "\n",
      "*   **regex**: Version 2024.11.6. \"Alternative regular expression module, to replace re.\" Requires Python 3.8+.\n",
      "\n",
      "*   **requests**: Version 2.32.4. \"Python HTTP for Humans.\" Requires Python 3.8+ and depends on certifi, charset-normalizer, idna, and urllib3. It has extras for socks and chardet.\n",
      "\n",
      "*   **rich**: Version 14.0.0. \"Render rich text, tables, progress bars, syntax highlighting, markdown and more to the terminal\" Requires Python 3.8.0+ and depends on markdown-it-py, pygments, and typing-extensions. It has an extra for Jupyter support.\n",
      "\n",
      "*   **rpds-py**: Version 0.26.0. \"Python bindings to Rust's persistent data structures (rpds).\" Requires Python 3.9+.\n",
      "\n",
      "\n",
      "---\n",
      "\n",
      "This is a comprehensive list of Python packages and their associated metadata. Here's a breakdown of what you can find in this data:\n",
      "\n",
      "**General Structure**\n",
      "\n",
      "*   The data is structured as a list of \"package\" entries. Each entry describes a single Python package.\n",
      "*   Each package entry contains information like:\n",
      "    *   `name`: The name of the package (e.g., \"rpds-py\", \"rsa\", \"starlette\").\n",
      "    *   `version`: The version number of the package (e.g., \"0.26.0\", \"4.2\", \"0.47.1\").\n",
      "    *   `description`: A brief description of the package's purpose.\n",
      "    *   `optional`: A boolean indicating whether the package is optional.\n",
      "    *   `python-versions`: Specifies the Python versions supported by the package.\n",
      "    *   `groups`: Indicates the group the package belongs to (typically \"main\").\n",
      "    *   `files`: A list of files associated with the package, including:\n",
      "        *   `file`: The filename (e.g., \"rpds\\_py-0.26.0-cp312-cp312-macosx\\_10\\_12\\_x86\\_64.whl\", \"rsa-4.2.tar.gz\"). These are usually wheel (`.whl`) or source archive (`.tar.gz`) files.\n",
      "        *   `hash`: The SHA256 hash of the file, used for verifying the file's integrity.\n",
      "    *   `dependencies`: A list of other packages that this package depends on.  Each dependency includes a name and version specification (e.g., `pyasn1 = \">=0.1.3\"`).\n",
      "    *   `extras`: Defines optional features or components of the package that require additional dependencies. These are specified as a dictionary where the key is the name of the extra (e.g., \"daphne\", \"examples\") and the value is a list of the dependencies required for that extra.\n",
      "\n",
      "**Key Packages and Their Details**\n",
      "\n",
      "Here are a few notable packages and some of their specific features described in the data:\n",
      "\n",
      "*   **rpds-py:** This seems to be a package providing some kind of data structures, as suggested by \"rpds\" (likely related to \"recursive persistent data structures\").  The multiple `.whl` files indicate it's built for various Python versions (cp39, cp310, cp311, cp312, cp313, cp314) and platforms (macOS, Linux, Windows) with different architectures (x86\\_64, arm64, aarch64, etc.).\n",
      "*   **rsa:** A pure-Python RSA implementation, version 4.2.  It depends on `pyasn1`.\n",
      "*   **shellingham:** A tool to detect the surrounding shell.\n",
      "*   **sniffio:**  A library to identify the underlying asynchronous library being used.\n",
      "*   **sse-starlette:** A Server-Sent Events plugin for the Starlette framework with dependencies on `anyio`.\n",
      "*   **starlette:** A lightweight ASGI framework/toolkit.\n",
      "*   **tenacity:** A library for adding retry behavior to code.\n",
      "*   **tiktoken:** A fast BPE (Byte Pair Encoding) tokenizer, particularly for use with OpenAI models. It depends on `regex` and `requests`.\n",
      "*   **tomli:** A TOML parser with `dev` extra.\n",
      "*   **tqdm:** A progress bar library with extras like `discord`, `notebook`, `slack`, and `telegram`.\n",
      "*   **typer:**  A library for building command-line interfaces with Python type hints, depending on `click`, `rich`, `shellingham`, and `typing-extensions`.\n",
      "*   **typing-extensions:** Provides backported and experimental type hints for older Python versions.\n",
      "*   **typing-inspection:** Provides runtime typing introspection tools.\n",
      "*   **urllib3:** A popular HTTP library.\n",
      "*   **uvicorn:** An ASGI server.\n",
      "*   **websockets:**  An implementation of the WebSocket protocol.\n",
      "*   **yarl:** Yet another URL library.\n",
      "\n",
      "**Platform and Python Version Specificity**\n",
      "\n",
      "*   The `.whl` filenames reveal a lot about the package's compatibility.  For example:\n",
      "    *   `cp312`:  Indicates a build for CPython 3.12.\n",
      "    *   `macosx_10_12_x86_64`: Indicates a build for macOS 10.12 or later, 64-bit Intel architecture.\n",
      "    *   `manylinux_2_17_x86_64`:  Indicates a build compatible with many Linux distributions (using the `manylinux` standard), requiring at least glibc 2.17, for 64-bit Intel architecture.\n",
      "    *   `win_amd64`:  Indicates a build for Windows on 64-bit Intel/AMD architecture.\n",
      "    *   `musllinux`: Indicates a build for Linux with musl libc.\n",
      "*   The `python-versions` field gives a broader compatibility range, while the `.whl` files show specific builds.\n",
      "\n",
      "**Dependencies and Extras**\n",
      "\n",
      "*   The `dependencies` sections list the other packages required for a given package to function.  This is crucial for dependency management.\n",
      "*   The `extras` sections define optional features and their associated dependencies.  This allows users to install only the dependencies they need for the features they intend to use.\n",
      "\n",
      "In summary, this data provides a detailed description of a collection of Python packages, including their versions, dependencies, supported platforms, and optional features. This kind of information is commonly found in package management files (e.g., `pyproject.toml`, `requirements.txt`, or lock files) used by tools like `pip`, `poetry`, or `conda` to manage Python environments.\n",
      "\n",
      "\n",
      "---\n",
      "\n",
      "Yellhorn MCP is a Model Context Protocol (MCP) server that enhances software development by integrating Gemini 2.5 Pro and OpenAI capabilities with Claude Code. It leverages the entire codebase in prompts to create detailed workplans and review code changes, ensuring they align with the original requirements.\n",
      "\n",
      "Key features of Yellhorn MCP include:\n",
      "\n",
      "*   **Workplan Generation:** Creates detailed implementation plans based on the codebase context and posts them as GitHub issues.\n",
      "*   **Code Review:** Evaluates code diffs against workplans, providing feedback and suggesting improvements.\n",
      "*   **GitHub Integration:** Automates issue creation and updates with seamless integration.\n",
      "*   **Context Control:** Allows developers to exclude files/directories from AI consideration using `.yellhornignore` files.\n",
      "*   **MCP Resources:** Exposes workplans as standard MCP resources for easy access and management.\n",
      "*   **Google Search Grounding:** Enabled by default for Gemini models, providing search capabilities with automatically formatted citations in Markdown.\n",
      "\n",
      "---\n",
      "\n",
      "## Summary\n",
      "\n",
      "This workplan outlines the steps to replace the existing LLM model calls in yellhorn with a unified Model Calling Service using either OpenRouter or LiteLLM. This will allow yellhorn to easily support multiple LLMs (Gemini, OpenAI, etc.) through a single, consistent interface. The key components affected are the files responsible for LLM interactions, such as `llm_manager.py`, and any files that directly call OpenAI or Gemini APIs. We will create a new module for handling OpenRouter or LiteLLM integration and modify existing code to use this new module.\n",
      "\n",
      "## Implementation Steps\n",
      "\n",
      "1.  **Choose between OpenRouter and LiteLLM:**\n",
      "    *   **Decision:** Based on the descriptions, OpenRouter is a hosted API that gives access to many LLMs with a single API key and a unified interface. LiteLLM is a local routing tool that allows connecting to multiple model providers through one interface, adding features like request logging, fallback, cost tracking, rate limiting, and more. For this workplan, we'll proceed with **LiteLLM** due to its greater flexibility, self-hosting option, and control over routing logic.\n",
      "    *   \\[ ] Document the decision and reasoning in a `docs/llm_service_choice.md` file.\n",
      "2.  **Install LiteLLM:**\n",
      "    *   \\[ ] Add `litellm` as a dependency to the `requirements.txt` or `pyproject.toml` file.\n",
      "    *   ```bash\n",
      "        pip install litellm\n",
      "        ```\n",
      "3.  **Create a new module for LiteLLM integration:**\n",
      "    *   \\[ ] Create a new file `llm_services/litellm_service.py`.\n",
      "    *   \\[ ] Implement functions for:\n",
      "        *   Initializing the LiteLLM client.\n",
      "        *   Calling the LLM with a unified interface.\n",
      "        *   Handling different model parameters.\n",
      "        *   Processing the response.\n",
      "        *   Error handling and fallback mechanisms.\n",
      "\n",
      "    ```python\n",
      "    # llm_services/litellm_service.py\n",
      "    import litellm\n",
      "\n",
      "    class LiteLLMService:\n",
      "        def __init__(self, config: dict):\n",
      "            \"\"\"Initialize with configuration.\"\"\"\n",
      "            self.config = config\n",
      "            litellm.api_key = config.get(\"api_key\")  # or other auth method\n",
      "            # Configure other LiteLLM settings here, e.g., fallbacks, retries\n",
      "\n",
      "        async def call_llm(self, prompt: str, model: str, temperature: float = 0.0, **kwargs):\n",
      "            \"\"\"Call the LLM using LiteLLM.\"\"\"\n",
      "            try:\n",
      "                response = await litellm.acompletion(\n",
      "                    model=model,\n",
      "                    messages=[{\"role\": \"user\", \"content\": prompt}],\n",
      "                    temperature=temperature,\n",
      "                    **kwargs # Allows passing through other parameters\n",
      "                )\n",
      "                return response\n",
      "            except Exception as e:\n",
      "                # Handle errors, fallbacks, logging\n",
      "                print(f\"LiteLLM call failed: {e}\")\n",
      "                raise\n",
      "\n",
      "        def count_tokens(self, text: str, model: str) -> int:\n",
      "            \"\"\"\n",
      "            Count tokens using LiteLLM's token counter\n",
      "            \"\"\"\n",
      "            try:\n",
      "                num_tokens = litellm.token_counter(model=model, text=text)\n",
      "                return num_tokens\n",
      "            except Exception as e:\n",
      "                print(f\"Token counting failed: {e}\")\n",
      "                raise\n",
      "    ```\n",
      "4.  **Modify `llm_manager.py`:**\n",
      "    *   \\[ ] Update `llm_manager.py` to use the `LiteLLMService` class.\n",
      "    *   \\[ ]  Remove any direct OpenAI or Gemini API calls from `llm_manager.py`.\n",
      "    *   \\[ ] Adapt the `call_llm` and `call_llm_with_citations` functions to use the `LiteLLMService`.\n",
      "    *   \\[ ] Implement a mapping between yellhorn's model names and LiteLLM's model names.\n",
      "\n",
      "    ```python\n",
      "    # llm_manager.py\n",
      "    from llm_services.litellm_service import LiteLLMService\n",
      "\n",
      "    class LLMManager:\n",
      "        def __init__(self, config: dict):\n",
      "            self.config = config\n",
      "            self.litellm_service = LiteLLMService(config.get(\"litellm\", {}))\n",
      "            self.model_mapping = {\n",
      "                \"gpt-4\": \"openai/gpt-4\",\n",
      "                \"gemini-1.5-pro\": \"google/gemini-1.5-pro\",\n",
      "                # Add more model mappings here\n",
      "            }\n",
      "\n",
      "        async def call_llm(self, prompt: str, model: str, temperature: float = 0.0, **kwargs):\n",
      "            \"\"\"Unified LLM call using LiteLLM.\"\"\"\n",
      "            litellm_model = self.model_mapping.get(model, model) # Fallback to the model name if mapping doesn't exist\n",
      "            return await self.litellm_service.call_llm(prompt, litellm_model, temperature, **kwargs)\n",
      "\n",
      "        async def call_llm_with_citations(self, prompt: str, model: str, temperature: float = 0.0, **kwargs):\n",
      "            # Adapt this function based on how LiteLLM handles citations\n",
      "            # For example, LiteLLM might support tools/functions for this\n",
      "            litellm_model = self.model_mapping.get(model, model)\n",
      "            return await self.litellm_service.call_llm(prompt, litellm_model, temperature, **kwargs)\n",
      "\n",
      "        def count_tokens(self, text: str, model: str) -> int:\n",
      "            \"\"\"\n",
      "            Count tokens using LiteLLM's token counter\n",
      "            \"\"\"\n",
      "            litellm_model = self.model_mapping.get(model, model)\n",
      "            return self.litellm_service.count_tokens(text=text, model=litellm_model)\n",
      "    ```\n",
      "5.  **Update other files:**\n",
      "    *   \\[ ] Identify all files that directly use OpenAI or Gemini clients.\n",
      "    *   \\[ ] Modify these files to use the `LLMManager` for LLM calls.\n",
      "    *   \\[ ] Remove any OpenAI or Gemini-specific code from these files.\n",
      "\n",
      "    ```python\n",
      "    # Example:  In process_workplan_async()\n",
      "    # Old code (example):\n",
      "    # response = openai_client.chat.completions.create(...)\n",
      "\n",
      "    # New code:\n",
      "    response_data = await llm_manager.call_llm(prompt=prompt, model=model, temperature=0.0)\n",
      "    workplan_content = response_data[\"content\"]\n",
      "    ```\n",
      "\n",
      "6.  **Configuration:**\n",
      "    *   \\[ ] Update the configuration files (e.g., `config.yaml`) to include LiteLLM settings, such as API keys, model mappings, and other relevant parameters.\n",
      "\n",
      "    ```yaml\n",
      "    # config.yaml\n",
      "    litellm:\n",
      "      api_key: \"YOUR_LITELLM_API_KEY\"\n",
      "      # other settings like fallbacks, retries, etc.\n",
      "    model_mapping:\n",
      "      \"gpt-4\": \"openai/gpt-4\"\n",
      "      \"gemini-1.5-pro\": \"google/gemini-1.5-pro\"\n",
      "    ```\n",
      "\n",
      "7.  **Token Counting:**\n",
      "    *   \\[ ] Implement token counting using LiteLLM's token counting utilities.\n",
      "    *   \\[ ] Update the `TokenCounter` class in `token_counter.py` to use `litellm.token_counter`.\n",
      "    *   \\[ ] Ensure the `MODEL_TO_ENCODING` and `MODEL_LIMITS` dictionaries are updated with models supported by LiteLLM.\n",
      "\n",
      "    ```python\n",
      "    # token_counter.py\n",
      "    import litellm\n",
      "\n",
      "    class TokenCounter:\n",
      "        def count_tokens(self, text: str, model: str) -> int:\n",
      "            \"\"\"Count tokens using LiteLLM.\"\"\"\n",
      "            return litellm.token_counter(model=model, text=text)\n",
      "\n",
      "        def get_model_limit(self, model: str) -> int:\n",
      "            # Define model limits based on LiteLLM supported models\n",
      "            # You might need to fetch these limits dynamically from LiteLLM if available\n",
      "            model_limits = {\n",
      "                \"openai/gpt-4\": 8192,\n",
      "                \"google/gemini-1.5-pro\": 1048576,\n",
      "                # Add more models and their limits\n",
      "            }\n",
      "            return model_limits.get(model, 8192) # Default limit\n",
      "    ```\n",
      "8.  **Testing:**\n",
      "    *   \\[ ] Write unit tests for the `LiteLLMService` class.\n",
      "    *   \\[ ]  Test the integration with different LLMs (OpenAI, Gemini, etc.).\n",
      "    *   \\[ ]  Ensure that the fallback mechanisms work correctly.\n",
      "    *   \\[ ]  Verify that token counting is accurate.\n",
      "    *   \\[ ]  Run end-to-end tests to ensure that the entire system works as expected.\n",
      "\n",
      "9.  **Documentation:**\n",
      "    *   \\[ ] Update the documentation to reflect the changes.\n",
      "    *   \\[ ]  Explain how to configure LiteLLM.\n",
      "    *   \\[ ]  Describe the supported LLMs.\n",
      "    *   \\[ ]  Provide examples of how to use the new system.\n",
      "\n",
      "## Technical Details\n",
      "\n",
      "*   **LiteLLM Configuration:**  The `LiteLLMService` class should be configurable through a dictionary. This dictionary should include the API key, model mappings, and any other relevant parameters.\n",
      "*   **Model Mapping:** The `model_mapping` dictionary in `llm_manager.py` is crucial for mapping yellhorn's model names to LiteLLM's model names.  This allows yellhorn to use a consistent naming scheme while still supporting different LLMs.\n",
      "*   **Error Handling:**  The `LiteLLMService` class should include robust error handling.  This should include logging errors, implementing fallback mechanisms, and raising exceptions when necessary.\n",
      "*   **Asynchronous Calls:** All LLM calls should be asynchronous to avoid blocking the main thread.\n",
      "*   **Token Counting:** Accurate token counting is essential for managing costs and ensuring that prompts fit within the model's context window.  The `TokenCounter` class should be updated to use LiteLLM's token counting utilities.\n",
      "\n",
      "## Files to Modify\n",
      "\n",
      "*   `llm_manager.py`:  Modify this file to use the `LiteLLMService` class and remove any direct OpenAI or Gemini API calls.\n",
      "*   `token_counter.py`: Update this file to use LiteLLM's token counting utilities.\n",
      "*   `requirements.txt` or `pyproject.toml`: Add `litellm` as a dependency.\n",
      "*   `config.yaml`:  Add LiteLLM settings to the configuration file.\n",
      "*   All files that currently use OpenAI or Gemini clients: Modify these files to use the `LLMManager` for LLM calls.\n",
      "\n",
      "## New Files to Create\n",
      "\n",
      "*   `llm_services/litellm_service.py`: This file will contain the `LiteLLMService` class, which will handle the integration with LiteLLM.\n",
      "*   `docs/llm_service_choice.md`: This file will document the reasoning behind choosing LiteLLM over OpenRouter.\n",
      "\n",
      "## References\n",
      "\n",
      "*   [LiteLLM Documentation](https://litellm.readthedocs.io/en/latest/)\n",
      "*   [OpenRouter Documentation](https://openrouter.ai/docs)\n",
      "\n",
      "\n",
      "---\n",
      "## Completion Metrics\n",
      "*   **Model Used**: `gemini-2.0-flash-exp`\n",
      "*   **Input Tokens**: 225314\n",
      "*   **Output Tokens**: 7104\n",
      "*   **Total Tokens**: 232418\n",
      "*   **Estimated Cost**: N/A...\n",
      "[MOCK GitHub CLI] Updated issue 3026\n",
      "[INFO] Successfully updated GitHub issue #3026 with generated workplan and metrics\n",
      "[MOCK GitHub CLI] Running: gh issue comment 3026 --body ## ✅ Workplan generated successfully\n",
      "\n",
      "### Generation Details\n",
      "**Time**: 40.6 seconds  \n",
      "**Completed**: 2025-07-13 04:50:32 UTC  \n",
      "\n",
      "### Token Usage\n",
      "**Input Tokens**: 225,314  \n",
      "**Output Tokens**: 7,104  \n",
      "**Total Tokens**: 232,418  \n",
      "**Context Size**: 473,268 characters  \n",
      "[MOCK GitHub CLI] In directory: /Users/sravanj/project_work/yellhorn-mcp\n",
      "[MOCK GitHub CLI] Added comment to issue 3026\n",
      "[INFO] Posted completion metadata comment to issue #3026\n",
      "[INFO] Waiting for 0 background tasks...\n",
      "[INFO] All background tasks completed\n",
      "Workplan Created:\n",
      "--------------------------------------------------\n",
      "Issue URL: https://github.com/mock/repo/issues/3026\n",
      "Issue Number: 3026\n"
     ]
    }
   ],
   "source": [
    "# Call process_workplan_async with our mock context\n",
    "workplan_result = await (run_create_workplan(\n",
    "        create_workplan_func=process_workplan_async,\n",
    "        title=title,\n",
    "        detailed_description=description,\n",
    "        repo_path=REPO_PATH,\n",
    "        gemini_client=gemini_client,\n",
    "        openai_client=openai_client,\n",
    "        llm_manager=llm_manager,\n",
    "        model=MODEL,\n",
    "        codebase_reasoning=\"full\",\n",
    "        log_callback=log_callback,\n",
    "        github_command_func=mock_github_command,\n",
    "        background_task_timeout=180\n",
    "    )\n",
    ")\n",
    "\n",
    "print(\"Workplan Created:\")\n",
    "print(\"-\" * 50)\n",
    "print(f\"Issue URL: {workplan_result['issue_url']}\")\n",
    "print(f\"Issue Number: {workplan_result['issue_number']}\")"
   ]
  },
  {
   "cell_type": "markdown",
   "metadata": {},
   "source": [
    "## 5. Using Judge Workplan"
   ]
  },
  {
   "cell_type": "code",
   "execution_count": 22,
   "metadata": {},
   "outputs": [],
   "source": [
    "from examples.mock_context import run_judge_workplan, mock_github_command\n",
    "from yellhorn_mcp.server import process_judgement_async"
   ]
  },
  {
   "cell_type": "code",
   "execution_count": 23,
   "metadata": {},
   "outputs": [],
   "source": [
    "# Example workplan content (you would typically get this from a GitHub issue)\n",
    "WORKPLAN_CONTENT = \"\"\"\n",
    "# Example Workplan: Add Token Counter Feature\n",
    "\n",
    "## Summary\n",
    "Implement a token counting system using tiktoken to prevent token overflow in LLM calls.\n",
    "\n",
    "## Implementation Steps\n",
    "1. Create TokenCounter class with tiktoken integration\n",
    "2. Add token counting to LLMManager\n",
    "3. Implement automatic prompt chunking when limits are exceeded\n",
    "4. Update all LLM call sites to use the new system\n",
    "\n",
    "## Files to Modify\n",
    "- `yellhorn_mcp/llm_manager.py`: Add token counting integration\n",
    "- `yellhorn_mcp/server.py`: Update LLM call sites\n",
    "\n",
    "## New Files to Create\n",
    "- `yellhorn_mcp/token_counter.py`: Core token counting functionality\n",
    "\"\"\"\n",
    "\n",
    "# Example diff content (you would typically get this from git diff)\n",
    "DIFF_CONTENT = \"\"\"\n",
    "diff --git a/yellhorn_mcp/token_counter.py b/yellhorn_mcp/token_counter.py\n",
    "new file mode 100644\n",
    "index 0000000..1234567\n",
    "--- /dev/null\n",
    "+++ b/yellhorn_mcp/token_counter.py\n",
    "@@ -0,0 +1,50 @@\n",
    "+# Token counting utilities using tiktoken.\n",
    "+\n",
    "+import tiktoken\n",
    "+from typing import Optional\n",
    "+\n",
    "+class TokenCounter:\n",
    "+    \\\"\\\"\\\"Token counter using tiktoken for accurate token counting.\\\"\\\"\\\"\n",
    "+    \n",
    "+    def __init__(self, model: str):\n",
    "+        self.model = model\n",
    "+        self.encoding = tiktoken.encoding_for_model(model)\n",
    "+    \n",
    "+    def count_tokens(self, text: str) -> int:\n",
    "+        \\\"\\\"\\\"Count tokens in the given text.\\\"\\\"\\\"\n",
    "+        return len(self.encoding.encode(text))\n",
    "\n",
    "diff --git a/yellhorn_mcp/llm_manager.py b/yellhorn_mcp/llm_manager.py\n",
    "index abcd123..efgh456 100644\n",
    "--- a/yellhorn_mcp/llm_manager.py\n",
    "+++ b/yellhorn_mcp/llm_manager.py\n",
    "@@ -10,6 +10,7 @@ from typing import Dict, List, Optional, Any, Union\n",
    " from openai import AsyncOpenAI\n",
    " import google.genai as genai\n",
    " from .usage_metadata import UsageMetadata\n",
    "+from .token_counter import TokenCounter\n",
    " \n",
    " class LLMManager:\n",
    "     \\\"\\\"\\\"Unified LLM manager with token counting and chunking support.\\\"\\\"\\\"\n",
    "\"\"\"\n",
    "\n",
    "# Judge workplan parameters\n",
    "base_ref = \"main\"\n",
    "head_ref = \"feature/token-counter\"\n",
    "subissue_to_update = \"456\"  # GitHub issue number for the sub-issue to update\n",
    "parent_workplan_issue_number = \"123\"  # Original workplan issue number"
   ]
  },
  {
   "cell_type": "code",
   "execution_count": 24,
   "metadata": {},
   "outputs": [
    {
     "name": "stdout",
     "output_type": "stream",
     "text": [
      "[INFO] Using full mode with content retrieval for judgement\n",
      "[INFO] Found .yellhorncontext file, using it for filtering\n",
      "[INFO] Filtering codebase with 96 blacklist and 2 whitelist patterns from .yellhorncontext\n",
      "[INFO] Filtered from 55 to 15 files\n",
      "[INFO] Filled prompt for judgement generation:\n",
      "You are an expert code evaluator judging if a code diff correctly implements a workplan.\n",
      "\n",
      "<codebase_tree>\n",
      "top_directory\n",
      "\t.DS_Store\n",
      "\t.yellhorncontext\n",
      "\t\t```text\n",
      "\t\t# Yellhorn Context File - AI context optimization\n",
      "\t\t# Generated by yellhorn-mcp curate_context tool\n",
      "\t\t# Based on task: Title: Replace existing model with unified Model Calling Service (OpenRouter or \n",
      "\t\t\n",
      "\t\t# Patterns from .gitignore file\n",
      "\t\t# Byte-compiled / optimized / DLL files\n",
      "\t\t__pycache__/\n",
      "\t\t*.py[cod]\n",
      "\t\t*$py.class\n",
      "\t\t\n",
      "\t\t# C extensions\n",
      "...\n",
      "[INFO] Generating judgement with LLMManager for model gemini-2.0-flash-exp\n",
      "[INFO] Attempting to enable search grounding for model gemini-2.0-flash-exp\n",
      "[INFO] Search tools configured for model gemini-2.0-flash-exp\n"
     ]
    },
    {
     "data": {
      "text/html": [
       "<pre style=\"white-space:pre;overflow-x:auto;line-height:normal;font-family:Menlo,'DejaVu Sans Mono',consolas,'Courier New',monospace\"><span style=\"color: #7fbfbf; text-decoration-color: #7fbfbf\">[07/12/25 21:58:08] </span><span style=\"color: #000080; text-decoration-color: #000080\">INFO    </span> AFC is enabled with max remote calls: <span style=\"color: #008080; text-decoration-color: #008080; font-weight: bold\">10</span>.                               <a href=\"file:///opt/anaconda3/envs/sravan-yellhorn/lib/python3.11/site-packages/google/genai/models.py\" target=\"_blank\"><span style=\"color: #7f7f7f; text-decoration-color: #7f7f7f\">models.py</span></a><span style=\"color: #7f7f7f; text-decoration-color: #7f7f7f\">:</span><a href=\"file:///opt/anaconda3/envs/sravan-yellhorn/lib/python3.11/site-packages/google/genai/models.py#7118\" target=\"_blank\"><span style=\"color: #7f7f7f; text-decoration-color: #7f7f7f\">7118</span></a>\n",
       "</pre>\n"
      ],
      "text/plain": [
       "\u001b[2;36m[07/12/25 21:58:08]\u001b[0m\u001b[2;36m \u001b[0m\u001b[34mINFO    \u001b[0m AFC is enabled with max remote calls: \u001b[1;36m10\u001b[0m.                               \u001b]8;id=785561;file:///opt/anaconda3/envs/sravan-yellhorn/lib/python3.11/site-packages/google/genai/models.py\u001b\\\u001b[2mmodels.py\u001b[0m\u001b]8;;\u001b\\\u001b[2m:\u001b[0m\u001b]8;id=394559;file:///opt/anaconda3/envs/sravan-yellhorn/lib/python3.11/site-packages/google/genai/models.py#7118\u001b\\\u001b[2m7118\u001b[0m\u001b]8;;\u001b\\\n"
      ]
     },
     "metadata": {},
     "output_type": "display_data"
    },
    {
     "data": {
      "text/html": [
       "<pre style=\"white-space:pre;overflow-x:auto;line-height:normal;font-family:Menlo,'DejaVu Sans Mono',consolas,'Courier New',monospace\"><span style=\"color: #7fbfbf; text-decoration-color: #7fbfbf\">[07/12/25 21:58:15] </span><span style=\"color: #000080; text-decoration-color: #000080\">INFO    </span> HTTP Request: <span style=\"color: #808000; text-decoration-color: #808000; font-weight: bold\">POST</span>                                                     <a href=\"file:///opt/anaconda3/envs/sravan-yellhorn/lib/python3.11/site-packages/httpx/_client.py\" target=\"_blank\"><span style=\"color: #7f7f7f; text-decoration-color: #7f7f7f\">_client.py</span></a><span style=\"color: #7f7f7f; text-decoration-color: #7f7f7f\">:</span><a href=\"file:///opt/anaconda3/envs/sravan-yellhorn/lib/python3.11/site-packages/httpx/_client.py#1740\" target=\"_blank\"><span style=\"color: #7f7f7f; text-decoration-color: #7f7f7f\">1740</span></a>\n",
       "<span style=\"color: #7fbfbf; text-decoration-color: #7fbfbf\">                    </span>         <span style=\"color: #0000ff; text-decoration-color: #0000ff; text-decoration: underline\">https://generativelanguage.googleapis.com/v1beta/models/gemini-2.0-fla</span> <span style=\"color: #7f7f7f; text-decoration-color: #7f7f7f\">               </span>\n",
       "<span style=\"color: #7fbfbf; text-decoration-color: #7fbfbf\">                    </span>         <span style=\"color: #0000ff; text-decoration-color: #0000ff; text-decoration: underline\">sh-exp:generateContent</span> <span style=\"color: #008000; text-decoration-color: #008000\">\"HTTP/1.1 200 OK\"</span>                               <span style=\"color: #7f7f7f; text-decoration-color: #7f7f7f\">               </span>\n",
       "</pre>\n"
      ],
      "text/plain": [
       "\u001b[2;36m[07/12/25 21:58:15]\u001b[0m\u001b[2;36m \u001b[0m\u001b[34mINFO    \u001b[0m HTTP Request: \u001b[1;33mPOST\u001b[0m                                                     \u001b]8;id=140590;file:///opt/anaconda3/envs/sravan-yellhorn/lib/python3.11/site-packages/httpx/_client.py\u001b\\\u001b[2m_client.py\u001b[0m\u001b]8;;\u001b\\\u001b[2m:\u001b[0m\u001b]8;id=743385;file:///opt/anaconda3/envs/sravan-yellhorn/lib/python3.11/site-packages/httpx/_client.py#1740\u001b\\\u001b[2m1740\u001b[0m\u001b]8;;\u001b\\\n",
       "\u001b[2;36m                    \u001b[0m         \u001b[4;94mhttps://generativelanguage.googleapis.com/v1beta/models/gemini-2.0-fla\u001b[0m \u001b[2m               \u001b[0m\n",
       "\u001b[2;36m                    \u001b[0m         \u001b[4;94msh-exp:generateContent\u001b[0m \u001b[32m\"HTTP/1.1 200 OK\"\u001b[0m                               \u001b[2m               \u001b[0m\n"
      ]
     },
     "metadata": {},
     "output_type": "display_data"
    },
    {
     "data": {
      "text/html": [
       "<pre style=\"white-space:pre;overflow-x:auto;line-height:normal;font-family:Menlo,'DejaVu Sans Mono',consolas,'Courier New',monospace\"><span style=\"color: #7fbfbf; text-decoration-color: #7fbfbf\">                    </span><span style=\"color: #000080; text-decoration-color: #000080\">INFO    </span> AFC is enabled with max remote calls: <span style=\"color: #008080; text-decoration-color: #008080; font-weight: bold\">10</span>.                               <a href=\"file:///opt/anaconda3/envs/sravan-yellhorn/lib/python3.11/site-packages/google/genai/models.py\" target=\"_blank\"><span style=\"color: #7f7f7f; text-decoration-color: #7f7f7f\">models.py</span></a><span style=\"color: #7f7f7f; text-decoration-color: #7f7f7f\">:</span><a href=\"file:///opt/anaconda3/envs/sravan-yellhorn/lib/python3.11/site-packages/google/genai/models.py#7118\" target=\"_blank\"><span style=\"color: #7f7f7f; text-decoration-color: #7f7f7f\">7118</span></a>\n",
       "</pre>\n"
      ],
      "text/plain": [
       "\u001b[2;36m                   \u001b[0m\u001b[2;36m \u001b[0m\u001b[34mINFO    \u001b[0m AFC is enabled with max remote calls: \u001b[1;36m10\u001b[0m.                               \u001b]8;id=17411;file:///opt/anaconda3/envs/sravan-yellhorn/lib/python3.11/site-packages/google/genai/models.py\u001b\\\u001b[2mmodels.py\u001b[0m\u001b]8;;\u001b\\\u001b[2m:\u001b[0m\u001b]8;id=712847;file:///opt/anaconda3/envs/sravan-yellhorn/lib/python3.11/site-packages/google/genai/models.py#7118\u001b\\\u001b[2m7118\u001b[0m\u001b]8;;\u001b\\\n"
      ]
     },
     "metadata": {},
     "output_type": "display_data"
    },
    {
     "data": {
      "text/html": [
       "<pre style=\"white-space:pre;overflow-x:auto;line-height:normal;font-family:Menlo,'DejaVu Sans Mono',consolas,'Courier New',monospace\"><span style=\"color: #7fbfbf; text-decoration-color: #7fbfbf\">[07/12/25 21:58:21] </span><span style=\"color: #000080; text-decoration-color: #000080\">INFO    </span> HTTP Request: <span style=\"color: #808000; text-decoration-color: #808000; font-weight: bold\">POST</span>                                                     <a href=\"file:///opt/anaconda3/envs/sravan-yellhorn/lib/python3.11/site-packages/httpx/_client.py\" target=\"_blank\"><span style=\"color: #7f7f7f; text-decoration-color: #7f7f7f\">_client.py</span></a><span style=\"color: #7f7f7f; text-decoration-color: #7f7f7f\">:</span><a href=\"file:///opt/anaconda3/envs/sravan-yellhorn/lib/python3.11/site-packages/httpx/_client.py#1740\" target=\"_blank\"><span style=\"color: #7f7f7f; text-decoration-color: #7f7f7f\">1740</span></a>\n",
       "<span style=\"color: #7fbfbf; text-decoration-color: #7fbfbf\">                    </span>         <span style=\"color: #0000ff; text-decoration-color: #0000ff; text-decoration: underline\">https://generativelanguage.googleapis.com/v1beta/models/gemini-2.0-fla</span> <span style=\"color: #7f7f7f; text-decoration-color: #7f7f7f\">               </span>\n",
       "<span style=\"color: #7fbfbf; text-decoration-color: #7fbfbf\">                    </span>         <span style=\"color: #0000ff; text-decoration-color: #0000ff; text-decoration: underline\">sh-exp:generateContent</span> <span style=\"color: #008000; text-decoration-color: #008000\">\"HTTP/1.1 200 OK\"</span>                               <span style=\"color: #7f7f7f; text-decoration-color: #7f7f7f\">               </span>\n",
       "</pre>\n"
      ],
      "text/plain": [
       "\u001b[2;36m[07/12/25 21:58:21]\u001b[0m\u001b[2;36m \u001b[0m\u001b[34mINFO    \u001b[0m HTTP Request: \u001b[1;33mPOST\u001b[0m                                                     \u001b]8;id=209031;file:///opt/anaconda3/envs/sravan-yellhorn/lib/python3.11/site-packages/httpx/_client.py\u001b\\\u001b[2m_client.py\u001b[0m\u001b]8;;\u001b\\\u001b[2m:\u001b[0m\u001b]8;id=237605;file:///opt/anaconda3/envs/sravan-yellhorn/lib/python3.11/site-packages/httpx/_client.py#1740\u001b\\\u001b[2m1740\u001b[0m\u001b]8;;\u001b\\\n",
       "\u001b[2;36m                    \u001b[0m         \u001b[4;94mhttps://generativelanguage.googleapis.com/v1beta/models/gemini-2.0-fla\u001b[0m \u001b[2m               \u001b[0m\n",
       "\u001b[2;36m                    \u001b[0m         \u001b[4;94msh-exp:generateContent\u001b[0m \u001b[32m\"HTTP/1.1 200 OK\"\u001b[0m                               \u001b[2m               \u001b[0m\n"
      ]
     },
     "metadata": {},
     "output_type": "display_data"
    },
    {
     "data": {
      "text/html": [
       "<pre style=\"white-space:pre;overflow-x:auto;line-height:normal;font-family:Menlo,'DejaVu Sans Mono',consolas,'Courier New',monospace\"><span style=\"color: #7fbfbf; text-decoration-color: #7fbfbf\">                    </span><span style=\"color: #000080; text-decoration-color: #000080\">INFO    </span> AFC is enabled with max remote calls: <span style=\"color: #008080; text-decoration-color: #008080; font-weight: bold\">10</span>.                               <a href=\"file:///opt/anaconda3/envs/sravan-yellhorn/lib/python3.11/site-packages/google/genai/models.py\" target=\"_blank\"><span style=\"color: #7f7f7f; text-decoration-color: #7f7f7f\">models.py</span></a><span style=\"color: #7f7f7f; text-decoration-color: #7f7f7f\">:</span><a href=\"file:///opt/anaconda3/envs/sravan-yellhorn/lib/python3.11/site-packages/google/genai/models.py#7118\" target=\"_blank\"><span style=\"color: #7f7f7f; text-decoration-color: #7f7f7f\">7118</span></a>\n",
       "</pre>\n"
      ],
      "text/plain": [
       "\u001b[2;36m                   \u001b[0m\u001b[2;36m \u001b[0m\u001b[34mINFO    \u001b[0m AFC is enabled with max remote calls: \u001b[1;36m10\u001b[0m.                               \u001b]8;id=673063;file:///opt/anaconda3/envs/sravan-yellhorn/lib/python3.11/site-packages/google/genai/models.py\u001b\\\u001b[2mmodels.py\u001b[0m\u001b]8;;\u001b\\\u001b[2m:\u001b[0m\u001b]8;id=102849;file:///opt/anaconda3/envs/sravan-yellhorn/lib/python3.11/site-packages/google/genai/models.py#7118\u001b\\\u001b[2m7118\u001b[0m\u001b]8;;\u001b\\\n"
      ]
     },
     "metadata": {},
     "output_type": "display_data"
    },
    {
     "data": {
      "text/html": [
       "<pre style=\"white-space:pre;overflow-x:auto;line-height:normal;font-family:Menlo,'DejaVu Sans Mono',consolas,'Courier New',monospace\"><span style=\"color: #7fbfbf; text-decoration-color: #7fbfbf\">[07/12/25 21:58:28] </span><span style=\"color: #000080; text-decoration-color: #000080\">INFO    </span> HTTP Request: <span style=\"color: #808000; text-decoration-color: #808000; font-weight: bold\">POST</span>                                                     <a href=\"file:///opt/anaconda3/envs/sravan-yellhorn/lib/python3.11/site-packages/httpx/_client.py\" target=\"_blank\"><span style=\"color: #7f7f7f; text-decoration-color: #7f7f7f\">_client.py</span></a><span style=\"color: #7f7f7f; text-decoration-color: #7f7f7f\">:</span><a href=\"file:///opt/anaconda3/envs/sravan-yellhorn/lib/python3.11/site-packages/httpx/_client.py#1740\" target=\"_blank\"><span style=\"color: #7f7f7f; text-decoration-color: #7f7f7f\">1740</span></a>\n",
       "<span style=\"color: #7fbfbf; text-decoration-color: #7fbfbf\">                    </span>         <span style=\"color: #0000ff; text-decoration-color: #0000ff; text-decoration: underline\">https://generativelanguage.googleapis.com/v1beta/models/gemini-2.0-fla</span> <span style=\"color: #7f7f7f; text-decoration-color: #7f7f7f\">               </span>\n",
       "<span style=\"color: #7fbfbf; text-decoration-color: #7fbfbf\">                    </span>         <span style=\"color: #0000ff; text-decoration-color: #0000ff; text-decoration: underline\">sh-exp:generateContent</span> <span style=\"color: #008000; text-decoration-color: #008000\">\"HTTP/1.1 200 OK\"</span>                               <span style=\"color: #7f7f7f; text-decoration-color: #7f7f7f\">               </span>\n",
       "</pre>\n"
      ],
      "text/plain": [
       "\u001b[2;36m[07/12/25 21:58:28]\u001b[0m\u001b[2;36m \u001b[0m\u001b[34mINFO    \u001b[0m HTTP Request: \u001b[1;33mPOST\u001b[0m                                                     \u001b]8;id=705662;file:///opt/anaconda3/envs/sravan-yellhorn/lib/python3.11/site-packages/httpx/_client.py\u001b\\\u001b[2m_client.py\u001b[0m\u001b]8;;\u001b\\\u001b[2m:\u001b[0m\u001b]8;id=458742;file:///opt/anaconda3/envs/sravan-yellhorn/lib/python3.11/site-packages/httpx/_client.py#1740\u001b\\\u001b[2m1740\u001b[0m\u001b]8;;\u001b\\\n",
       "\u001b[2;36m                    \u001b[0m         \u001b[4;94mhttps://generativelanguage.googleapis.com/v1beta/models/gemini-2.0-fla\u001b[0m \u001b[2m               \u001b[0m\n",
       "\u001b[2;36m                    \u001b[0m         \u001b[4;94msh-exp:generateContent\u001b[0m \u001b[32m\"HTTP/1.1 200 OK\"\u001b[0m                               \u001b[2m               \u001b[0m\n"
      ]
     },
     "metadata": {},
     "output_type": "display_data"
    },
    {
     "data": {
      "text/html": [
       "<pre style=\"white-space:pre;overflow-x:auto;line-height:normal;font-family:Menlo,'DejaVu Sans Mono',consolas,'Courier New',monospace\"><span style=\"color: #7fbfbf; text-decoration-color: #7fbfbf\">                    </span><span style=\"color: #000080; text-decoration-color: #000080\">INFO    </span> AFC is enabled with max remote calls: <span style=\"color: #008080; text-decoration-color: #008080; font-weight: bold\">10</span>.                               <a href=\"file:///opt/anaconda3/envs/sravan-yellhorn/lib/python3.11/site-packages/google/genai/models.py\" target=\"_blank\"><span style=\"color: #7f7f7f; text-decoration-color: #7f7f7f\">models.py</span></a><span style=\"color: #7f7f7f; text-decoration-color: #7f7f7f\">:</span><a href=\"file:///opt/anaconda3/envs/sravan-yellhorn/lib/python3.11/site-packages/google/genai/models.py#7118\" target=\"_blank\"><span style=\"color: #7f7f7f; text-decoration-color: #7f7f7f\">7118</span></a>\n",
       "</pre>\n"
      ],
      "text/plain": [
       "\u001b[2;36m                   \u001b[0m\u001b[2;36m \u001b[0m\u001b[34mINFO    \u001b[0m AFC is enabled with max remote calls: \u001b[1;36m10\u001b[0m.                               \u001b]8;id=869291;file:///opt/anaconda3/envs/sravan-yellhorn/lib/python3.11/site-packages/google/genai/models.py\u001b\\\u001b[2mmodels.py\u001b[0m\u001b]8;;\u001b\\\u001b[2m:\u001b[0m\u001b]8;id=910562;file:///opt/anaconda3/envs/sravan-yellhorn/lib/python3.11/site-packages/google/genai/models.py#7118\u001b\\\u001b[2m7118\u001b[0m\u001b]8;;\u001b\\\n"
      ]
     },
     "metadata": {},
     "output_type": "display_data"
    },
    {
     "data": {
      "text/html": [
       "<pre style=\"white-space:pre;overflow-x:auto;line-height:normal;font-family:Menlo,'DejaVu Sans Mono',consolas,'Courier New',monospace\"><span style=\"color: #7fbfbf; text-decoration-color: #7fbfbf\">[07/12/25 21:58:32] </span><span style=\"color: #000080; text-decoration-color: #000080\">INFO    </span> HTTP Request: <span style=\"color: #808000; text-decoration-color: #808000; font-weight: bold\">POST</span>                                                     <a href=\"file:///opt/anaconda3/envs/sravan-yellhorn/lib/python3.11/site-packages/httpx/_client.py\" target=\"_blank\"><span style=\"color: #7f7f7f; text-decoration-color: #7f7f7f\">_client.py</span></a><span style=\"color: #7f7f7f; text-decoration-color: #7f7f7f\">:</span><a href=\"file:///opt/anaconda3/envs/sravan-yellhorn/lib/python3.11/site-packages/httpx/_client.py#1740\" target=\"_blank\"><span style=\"color: #7f7f7f; text-decoration-color: #7f7f7f\">1740</span></a>\n",
       "<span style=\"color: #7fbfbf; text-decoration-color: #7fbfbf\">                    </span>         <span style=\"color: #0000ff; text-decoration-color: #0000ff; text-decoration: underline\">https://generativelanguage.googleapis.com/v1beta/models/gemini-2.0-fla</span> <span style=\"color: #7f7f7f; text-decoration-color: #7f7f7f\">               </span>\n",
       "<span style=\"color: #7fbfbf; text-decoration-color: #7fbfbf\">                    </span>         <span style=\"color: #0000ff; text-decoration-color: #0000ff; text-decoration: underline\">sh-exp:generateContent</span> <span style=\"color: #008000; text-decoration-color: #008000\">\"HTTP/1.1 200 OK\"</span>                               <span style=\"color: #7f7f7f; text-decoration-color: #7f7f7f\">               </span>\n",
       "</pre>\n"
      ],
      "text/plain": [
       "\u001b[2;36m[07/12/25 21:58:32]\u001b[0m\u001b[2;36m \u001b[0m\u001b[34mINFO    \u001b[0m HTTP Request: \u001b[1;33mPOST\u001b[0m                                                     \u001b]8;id=322143;file:///opt/anaconda3/envs/sravan-yellhorn/lib/python3.11/site-packages/httpx/_client.py\u001b\\\u001b[2m_client.py\u001b[0m\u001b]8;;\u001b\\\u001b[2m:\u001b[0m\u001b]8;id=96320;file:///opt/anaconda3/envs/sravan-yellhorn/lib/python3.11/site-packages/httpx/_client.py#1740\u001b\\\u001b[2m1740\u001b[0m\u001b]8;;\u001b\\\n",
       "\u001b[2;36m                    \u001b[0m         \u001b[4;94mhttps://generativelanguage.googleapis.com/v1beta/models/gemini-2.0-fla\u001b[0m \u001b[2m               \u001b[0m\n",
       "\u001b[2;36m                    \u001b[0m         \u001b[4;94msh-exp:generateContent\u001b[0m \u001b[32m\"HTTP/1.1 200 OK\"\u001b[0m                               \u001b[2m               \u001b[0m\n"
      ]
     },
     "metadata": {},
     "output_type": "display_data"
    },
    {
     "data": {
      "text/html": [
       "<pre style=\"white-space:pre;overflow-x:auto;line-height:normal;font-family:Menlo,'DejaVu Sans Mono',consolas,'Courier New',monospace\"><span style=\"color: #7fbfbf; text-decoration-color: #7fbfbf\">                    </span><span style=\"color: #000080; text-decoration-color: #000080\">INFO    </span> AFC is enabled with max remote calls: <span style=\"color: #008080; text-decoration-color: #008080; font-weight: bold\">10</span>.                               <a href=\"file:///opt/anaconda3/envs/sravan-yellhorn/lib/python3.11/site-packages/google/genai/models.py\" target=\"_blank\"><span style=\"color: #7f7f7f; text-decoration-color: #7f7f7f\">models.py</span></a><span style=\"color: #7f7f7f; text-decoration-color: #7f7f7f\">:</span><a href=\"file:///opt/anaconda3/envs/sravan-yellhorn/lib/python3.11/site-packages/google/genai/models.py#7118\" target=\"_blank\"><span style=\"color: #7f7f7f; text-decoration-color: #7f7f7f\">7118</span></a>\n",
       "</pre>\n"
      ],
      "text/plain": [
       "\u001b[2;36m                   \u001b[0m\u001b[2;36m \u001b[0m\u001b[34mINFO    \u001b[0m AFC is enabled with max remote calls: \u001b[1;36m10\u001b[0m.                               \u001b]8;id=135801;file:///opt/anaconda3/envs/sravan-yellhorn/lib/python3.11/site-packages/google/genai/models.py\u001b\\\u001b[2mmodels.py\u001b[0m\u001b]8;;\u001b\\\u001b[2m:\u001b[0m\u001b]8;id=204709;file:///opt/anaconda3/envs/sravan-yellhorn/lib/python3.11/site-packages/google/genai/models.py#7118\u001b\\\u001b[2m7118\u001b[0m\u001b]8;;\u001b\\\n"
      ]
     },
     "metadata": {},
     "output_type": "display_data"
    },
    {
     "data": {
      "text/html": [
       "<pre style=\"white-space:pre;overflow-x:auto;line-height:normal;font-family:Menlo,'DejaVu Sans Mono',consolas,'Courier New',monospace\"><span style=\"color: #7fbfbf; text-decoration-color: #7fbfbf\">[07/12/25 21:58:37] </span><span style=\"color: #000080; text-decoration-color: #000080\">INFO    </span> HTTP Request: <span style=\"color: #808000; text-decoration-color: #808000; font-weight: bold\">POST</span>                                                     <a href=\"file:///opt/anaconda3/envs/sravan-yellhorn/lib/python3.11/site-packages/httpx/_client.py\" target=\"_blank\"><span style=\"color: #7f7f7f; text-decoration-color: #7f7f7f\">_client.py</span></a><span style=\"color: #7f7f7f; text-decoration-color: #7f7f7f\">:</span><a href=\"file:///opt/anaconda3/envs/sravan-yellhorn/lib/python3.11/site-packages/httpx/_client.py#1740\" target=\"_blank\"><span style=\"color: #7f7f7f; text-decoration-color: #7f7f7f\">1740</span></a>\n",
       "<span style=\"color: #7fbfbf; text-decoration-color: #7fbfbf\">                    </span>         <span style=\"color: #0000ff; text-decoration-color: #0000ff; text-decoration: underline\">https://generativelanguage.googleapis.com/v1beta/models/gemini-2.0-fla</span> <span style=\"color: #7f7f7f; text-decoration-color: #7f7f7f\">               </span>\n",
       "<span style=\"color: #7fbfbf; text-decoration-color: #7fbfbf\">                    </span>         <span style=\"color: #0000ff; text-decoration-color: #0000ff; text-decoration: underline\">sh-exp:generateContent</span> <span style=\"color: #008000; text-decoration-color: #008000\">\"HTTP/1.1 200 OK\"</span>                               <span style=\"color: #7f7f7f; text-decoration-color: #7f7f7f\">               </span>\n",
       "</pre>\n"
      ],
      "text/plain": [
       "\u001b[2;36m[07/12/25 21:58:37]\u001b[0m\u001b[2;36m \u001b[0m\u001b[34mINFO    \u001b[0m HTTP Request: \u001b[1;33mPOST\u001b[0m                                                     \u001b]8;id=46872;file:///opt/anaconda3/envs/sravan-yellhorn/lib/python3.11/site-packages/httpx/_client.py\u001b\\\u001b[2m_client.py\u001b[0m\u001b]8;;\u001b\\\u001b[2m:\u001b[0m\u001b]8;id=607822;file:///opt/anaconda3/envs/sravan-yellhorn/lib/python3.11/site-packages/httpx/_client.py#1740\u001b\\\u001b[2m1740\u001b[0m\u001b]8;;\u001b\\\n",
       "\u001b[2;36m                    \u001b[0m         \u001b[4;94mhttps://generativelanguage.googleapis.com/v1beta/models/gemini-2.0-fla\u001b[0m \u001b[2m               \u001b[0m\n",
       "\u001b[2;36m                    \u001b[0m         \u001b[4;94msh-exp:generateContent\u001b[0m \u001b[32m\"HTTP/1.1 200 OK\"\u001b[0m                               \u001b[2m               \u001b[0m\n"
      ]
     },
     "metadata": {},
     "output_type": "display_data"
    },
    {
     "data": {
      "text/html": [
       "<pre style=\"white-space:pre;overflow-x:auto;line-height:normal;font-family:Menlo,'DejaVu Sans Mono',consolas,'Courier New',monospace\"><span style=\"color: #7fbfbf; text-decoration-color: #7fbfbf\">                    </span><span style=\"color: #000080; text-decoration-color: #000080\">INFO    </span> AFC is enabled with max remote calls: <span style=\"color: #008080; text-decoration-color: #008080; font-weight: bold\">10</span>.                               <a href=\"file:///opt/anaconda3/envs/sravan-yellhorn/lib/python3.11/site-packages/google/genai/models.py\" target=\"_blank\"><span style=\"color: #7f7f7f; text-decoration-color: #7f7f7f\">models.py</span></a><span style=\"color: #7f7f7f; text-decoration-color: #7f7f7f\">:</span><a href=\"file:///opt/anaconda3/envs/sravan-yellhorn/lib/python3.11/site-packages/google/genai/models.py#7118\" target=\"_blank\"><span style=\"color: #7f7f7f; text-decoration-color: #7f7f7f\">7118</span></a>\n",
       "</pre>\n"
      ],
      "text/plain": [
       "\u001b[2;36m                   \u001b[0m\u001b[2;36m \u001b[0m\u001b[34mINFO    \u001b[0m AFC is enabled with max remote calls: \u001b[1;36m10\u001b[0m.                               \u001b]8;id=745475;file:///opt/anaconda3/envs/sravan-yellhorn/lib/python3.11/site-packages/google/genai/models.py\u001b\\\u001b[2mmodels.py\u001b[0m\u001b]8;;\u001b\\\u001b[2m:\u001b[0m\u001b]8;id=933677;file:///opt/anaconda3/envs/sravan-yellhorn/lib/python3.11/site-packages/google/genai/models.py#7118\u001b\\\u001b[2m7118\u001b[0m\u001b]8;;\u001b\\\n"
      ]
     },
     "metadata": {},
     "output_type": "display_data"
    },
    {
     "data": {
      "text/html": [
       "<pre style=\"white-space:pre;overflow-x:auto;line-height:normal;font-family:Menlo,'DejaVu Sans Mono',consolas,'Courier New',monospace\"><span style=\"color: #7fbfbf; text-decoration-color: #7fbfbf\">[07/12/25 21:58:42] </span><span style=\"color: #000080; text-decoration-color: #000080\">INFO    </span> HTTP Request: <span style=\"color: #808000; text-decoration-color: #808000; font-weight: bold\">POST</span>                                                     <a href=\"file:///opt/anaconda3/envs/sravan-yellhorn/lib/python3.11/site-packages/httpx/_client.py\" target=\"_blank\"><span style=\"color: #7f7f7f; text-decoration-color: #7f7f7f\">_client.py</span></a><span style=\"color: #7f7f7f; text-decoration-color: #7f7f7f\">:</span><a href=\"file:///opt/anaconda3/envs/sravan-yellhorn/lib/python3.11/site-packages/httpx/_client.py#1740\" target=\"_blank\"><span style=\"color: #7f7f7f; text-decoration-color: #7f7f7f\">1740</span></a>\n",
       "<span style=\"color: #7fbfbf; text-decoration-color: #7fbfbf\">                    </span>         <span style=\"color: #0000ff; text-decoration-color: #0000ff; text-decoration: underline\">https://generativelanguage.googleapis.com/v1beta/models/gemini-2.0-fla</span> <span style=\"color: #7f7f7f; text-decoration-color: #7f7f7f\">               </span>\n",
       "<span style=\"color: #7fbfbf; text-decoration-color: #7fbfbf\">                    </span>         <span style=\"color: #0000ff; text-decoration-color: #0000ff; text-decoration: underline\">sh-exp:generateContent</span> <span style=\"color: #008000; text-decoration-color: #008000\">\"HTTP/1.1 200 OK\"</span>                               <span style=\"color: #7f7f7f; text-decoration-color: #7f7f7f\">               </span>\n",
       "</pre>\n"
      ],
      "text/plain": [
       "\u001b[2;36m[07/12/25 21:58:42]\u001b[0m\u001b[2;36m \u001b[0m\u001b[34mINFO    \u001b[0m HTTP Request: \u001b[1;33mPOST\u001b[0m                                                     \u001b]8;id=812422;file:///opt/anaconda3/envs/sravan-yellhorn/lib/python3.11/site-packages/httpx/_client.py\u001b\\\u001b[2m_client.py\u001b[0m\u001b]8;;\u001b\\\u001b[2m:\u001b[0m\u001b]8;id=838231;file:///opt/anaconda3/envs/sravan-yellhorn/lib/python3.11/site-packages/httpx/_client.py#1740\u001b\\\u001b[2m1740\u001b[0m\u001b]8;;\u001b\\\n",
       "\u001b[2;36m                    \u001b[0m         \u001b[4;94mhttps://generativelanguage.googleapis.com/v1beta/models/gemini-2.0-fla\u001b[0m \u001b[2m               \u001b[0m\n",
       "\u001b[2;36m                    \u001b[0m         \u001b[4;94msh-exp:generateContent\u001b[0m \u001b[32m\"HTTP/1.1 200 OK\"\u001b[0m                               \u001b[2m               \u001b[0m\n"
      ]
     },
     "metadata": {},
     "output_type": "display_data"
    },
    {
     "data": {
      "text/html": [
       "<pre style=\"white-space:pre;overflow-x:auto;line-height:normal;font-family:Menlo,'DejaVu Sans Mono',consolas,'Courier New',monospace\"><span style=\"color: #7fbfbf; text-decoration-color: #7fbfbf\">                    </span><span style=\"color: #000080; text-decoration-color: #000080\">INFO    </span> AFC is enabled with max remote calls: <span style=\"color: #008080; text-decoration-color: #008080; font-weight: bold\">10</span>.                               <a href=\"file:///opt/anaconda3/envs/sravan-yellhorn/lib/python3.11/site-packages/google/genai/models.py\" target=\"_blank\"><span style=\"color: #7f7f7f; text-decoration-color: #7f7f7f\">models.py</span></a><span style=\"color: #7f7f7f; text-decoration-color: #7f7f7f\">:</span><a href=\"file:///opt/anaconda3/envs/sravan-yellhorn/lib/python3.11/site-packages/google/genai/models.py#7118\" target=\"_blank\"><span style=\"color: #7f7f7f; text-decoration-color: #7f7f7f\">7118</span></a>\n",
       "</pre>\n"
      ],
      "text/plain": [
       "\u001b[2;36m                   \u001b[0m\u001b[2;36m \u001b[0m\u001b[34mINFO    \u001b[0m AFC is enabled with max remote calls: \u001b[1;36m10\u001b[0m.                               \u001b]8;id=981276;file:///opt/anaconda3/envs/sravan-yellhorn/lib/python3.11/site-packages/google/genai/models.py\u001b\\\u001b[2mmodels.py\u001b[0m\u001b]8;;\u001b\\\u001b[2m:\u001b[0m\u001b]8;id=532039;file:///opt/anaconda3/envs/sravan-yellhorn/lib/python3.11/site-packages/google/genai/models.py#7118\u001b\\\u001b[2m7118\u001b[0m\u001b]8;;\u001b\\\n"
      ]
     },
     "metadata": {},
     "output_type": "display_data"
    },
    {
     "data": {
      "text/html": [
       "<pre style=\"white-space:pre;overflow-x:auto;line-height:normal;font-family:Menlo,'DejaVu Sans Mono',consolas,'Courier New',monospace\"><span style=\"color: #7fbfbf; text-decoration-color: #7fbfbf\">[07/12/25 21:58:45] </span><span style=\"color: #000080; text-decoration-color: #000080\">INFO    </span> HTTP Request: <span style=\"color: #808000; text-decoration-color: #808000; font-weight: bold\">POST</span>                                                     <a href=\"file:///opt/anaconda3/envs/sravan-yellhorn/lib/python3.11/site-packages/httpx/_client.py\" target=\"_blank\"><span style=\"color: #7f7f7f; text-decoration-color: #7f7f7f\">_client.py</span></a><span style=\"color: #7f7f7f; text-decoration-color: #7f7f7f\">:</span><a href=\"file:///opt/anaconda3/envs/sravan-yellhorn/lib/python3.11/site-packages/httpx/_client.py#1740\" target=\"_blank\"><span style=\"color: #7f7f7f; text-decoration-color: #7f7f7f\">1740</span></a>\n",
       "<span style=\"color: #7fbfbf; text-decoration-color: #7fbfbf\">                    </span>         <span style=\"color: #0000ff; text-decoration-color: #0000ff; text-decoration: underline\">https://generativelanguage.googleapis.com/v1beta/models/gemini-2.0-fla</span> <span style=\"color: #7f7f7f; text-decoration-color: #7f7f7f\">               </span>\n",
       "<span style=\"color: #7fbfbf; text-decoration-color: #7fbfbf\">                    </span>         <span style=\"color: #0000ff; text-decoration-color: #0000ff; text-decoration: underline\">sh-exp:generateContent</span> <span style=\"color: #008000; text-decoration-color: #008000\">\"HTTP/1.1 200 OK\"</span>                               <span style=\"color: #7f7f7f; text-decoration-color: #7f7f7f\">               </span>\n",
       "</pre>\n"
      ],
      "text/plain": [
       "\u001b[2;36m[07/12/25 21:58:45]\u001b[0m\u001b[2;36m \u001b[0m\u001b[34mINFO    \u001b[0m HTTP Request: \u001b[1;33mPOST\u001b[0m                                                     \u001b]8;id=814551;file:///opt/anaconda3/envs/sravan-yellhorn/lib/python3.11/site-packages/httpx/_client.py\u001b\\\u001b[2m_client.py\u001b[0m\u001b]8;;\u001b\\\u001b[2m:\u001b[0m\u001b]8;id=812598;file:///opt/anaconda3/envs/sravan-yellhorn/lib/python3.11/site-packages/httpx/_client.py#1740\u001b\\\u001b[2m1740\u001b[0m\u001b]8;;\u001b\\\n",
       "\u001b[2;36m                    \u001b[0m         \u001b[4;94mhttps://generativelanguage.googleapis.com/v1beta/models/gemini-2.0-fla\u001b[0m \u001b[2m               \u001b[0m\n",
       "\u001b[2;36m                    \u001b[0m         \u001b[4;94msh-exp:generateContent\u001b[0m \u001b[32m\"HTTP/1.1 200 OK\"\u001b[0m                               \u001b[2m               \u001b[0m\n"
      ]
     },
     "metadata": {},
     "output_type": "display_data"
    },
    {
     "data": {
      "text/html": [
       "<pre style=\"white-space:pre;overflow-x:auto;line-height:normal;font-family:Menlo,'DejaVu Sans Mono',consolas,'Courier New',monospace\"><span style=\"color: #7fbfbf; text-decoration-color: #7fbfbf\">                    </span><span style=\"color: #000080; text-decoration-color: #000080\">INFO    </span> AFC is enabled with max remote calls: <span style=\"color: #008080; text-decoration-color: #008080; font-weight: bold\">10</span>.                               <a href=\"file:///opt/anaconda3/envs/sravan-yellhorn/lib/python3.11/site-packages/google/genai/models.py\" target=\"_blank\"><span style=\"color: #7f7f7f; text-decoration-color: #7f7f7f\">models.py</span></a><span style=\"color: #7f7f7f; text-decoration-color: #7f7f7f\">:</span><a href=\"file:///opt/anaconda3/envs/sravan-yellhorn/lib/python3.11/site-packages/google/genai/models.py#7118\" target=\"_blank\"><span style=\"color: #7f7f7f; text-decoration-color: #7f7f7f\">7118</span></a>\n",
       "</pre>\n"
      ],
      "text/plain": [
       "\u001b[2;36m                   \u001b[0m\u001b[2;36m \u001b[0m\u001b[34mINFO    \u001b[0m AFC is enabled with max remote calls: \u001b[1;36m10\u001b[0m.                               \u001b]8;id=456182;file:///opt/anaconda3/envs/sravan-yellhorn/lib/python3.11/site-packages/google/genai/models.py\u001b\\\u001b[2mmodels.py\u001b[0m\u001b]8;;\u001b\\\u001b[2m:\u001b[0m\u001b]8;id=316992;file:///opt/anaconda3/envs/sravan-yellhorn/lib/python3.11/site-packages/google/genai/models.py#7118\u001b\\\u001b[2m7118\u001b[0m\u001b]8;;\u001b\\\n"
      ]
     },
     "metadata": {},
     "output_type": "display_data"
    },
    {
     "data": {
      "text/html": [
       "<pre style=\"white-space:pre;overflow-x:auto;line-height:normal;font-family:Menlo,'DejaVu Sans Mono',consolas,'Courier New',monospace\"><span style=\"color: #7fbfbf; text-decoration-color: #7fbfbf\">[07/12/25 21:58:48] </span><span style=\"color: #000080; text-decoration-color: #000080\">INFO    </span> HTTP Request: <span style=\"color: #808000; text-decoration-color: #808000; font-weight: bold\">POST</span>                                                     <a href=\"file:///opt/anaconda3/envs/sravan-yellhorn/lib/python3.11/site-packages/httpx/_client.py\" target=\"_blank\"><span style=\"color: #7f7f7f; text-decoration-color: #7f7f7f\">_client.py</span></a><span style=\"color: #7f7f7f; text-decoration-color: #7f7f7f\">:</span><a href=\"file:///opt/anaconda3/envs/sravan-yellhorn/lib/python3.11/site-packages/httpx/_client.py#1740\" target=\"_blank\"><span style=\"color: #7f7f7f; text-decoration-color: #7f7f7f\">1740</span></a>\n",
       "<span style=\"color: #7fbfbf; text-decoration-color: #7fbfbf\">                    </span>         <span style=\"color: #0000ff; text-decoration-color: #0000ff; text-decoration: underline\">https://generativelanguage.googleapis.com/v1beta/models/gemini-2.0-fla</span> <span style=\"color: #7f7f7f; text-decoration-color: #7f7f7f\">               </span>\n",
       "<span style=\"color: #7fbfbf; text-decoration-color: #7fbfbf\">                    </span>         <span style=\"color: #0000ff; text-decoration-color: #0000ff; text-decoration: underline\">sh-exp:generateContent</span> <span style=\"color: #008000; text-decoration-color: #008000\">\"HTTP/1.1 200 OK\"</span>                               <span style=\"color: #7f7f7f; text-decoration-color: #7f7f7f\">               </span>\n",
       "</pre>\n"
      ],
      "text/plain": [
       "\u001b[2;36m[07/12/25 21:58:48]\u001b[0m\u001b[2;36m \u001b[0m\u001b[34mINFO    \u001b[0m HTTP Request: \u001b[1;33mPOST\u001b[0m                                                     \u001b]8;id=211375;file:///opt/anaconda3/envs/sravan-yellhorn/lib/python3.11/site-packages/httpx/_client.py\u001b\\\u001b[2m_client.py\u001b[0m\u001b]8;;\u001b\\\u001b[2m:\u001b[0m\u001b]8;id=808958;file:///opt/anaconda3/envs/sravan-yellhorn/lib/python3.11/site-packages/httpx/_client.py#1740\u001b\\\u001b[2m1740\u001b[0m\u001b]8;;\u001b\\\n",
       "\u001b[2;36m                    \u001b[0m         \u001b[4;94mhttps://generativelanguage.googleapis.com/v1beta/models/gemini-2.0-fla\u001b[0m \u001b[2m               \u001b[0m\n",
       "\u001b[2;36m                    \u001b[0m         \u001b[4;94msh-exp:generateContent\u001b[0m \u001b[32m\"HTTP/1.1 200 OK\"\u001b[0m                               \u001b[2m               \u001b[0m\n"
      ]
     },
     "metadata": {},
     "output_type": "display_data"
    },
    {
     "data": {
      "text/html": [
       "<pre style=\"white-space:pre;overflow-x:auto;line-height:normal;font-family:Menlo,'DejaVu Sans Mono',consolas,'Courier New',monospace\"><span style=\"color: #7fbfbf; text-decoration-color: #7fbfbf\">                    </span><span style=\"color: #000080; text-decoration-color: #000080\">INFO    </span> AFC is enabled with max remote calls: <span style=\"color: #008080; text-decoration-color: #008080; font-weight: bold\">10</span>.                               <a href=\"file:///opt/anaconda3/envs/sravan-yellhorn/lib/python3.11/site-packages/google/genai/models.py\" target=\"_blank\"><span style=\"color: #7f7f7f; text-decoration-color: #7f7f7f\">models.py</span></a><span style=\"color: #7f7f7f; text-decoration-color: #7f7f7f\">:</span><a href=\"file:///opt/anaconda3/envs/sravan-yellhorn/lib/python3.11/site-packages/google/genai/models.py#7118\" target=\"_blank\"><span style=\"color: #7f7f7f; text-decoration-color: #7f7f7f\">7118</span></a>\n",
       "</pre>\n"
      ],
      "text/plain": [
       "\u001b[2;36m                   \u001b[0m\u001b[2;36m \u001b[0m\u001b[34mINFO    \u001b[0m AFC is enabled with max remote calls: \u001b[1;36m10\u001b[0m.                               \u001b]8;id=119631;file:///opt/anaconda3/envs/sravan-yellhorn/lib/python3.11/site-packages/google/genai/models.py\u001b\\\u001b[2mmodels.py\u001b[0m\u001b]8;;\u001b\\\u001b[2m:\u001b[0m\u001b]8;id=950921;file:///opt/anaconda3/envs/sravan-yellhorn/lib/python3.11/site-packages/google/genai/models.py#7118\u001b\\\u001b[2m7118\u001b[0m\u001b]8;;\u001b\\\n"
      ]
     },
     "metadata": {},
     "output_type": "display_data"
    },
    {
     "data": {
      "text/html": [
       "<pre style=\"white-space:pre;overflow-x:auto;line-height:normal;font-family:Menlo,'DejaVu Sans Mono',consolas,'Courier New',monospace\"><span style=\"color: #7fbfbf; text-decoration-color: #7fbfbf\">[07/12/25 21:59:00] </span><span style=\"color: #000080; text-decoration-color: #000080\">INFO    </span> HTTP Request: <span style=\"color: #808000; text-decoration-color: #808000; font-weight: bold\">POST</span>                                                     <a href=\"file:///opt/anaconda3/envs/sravan-yellhorn/lib/python3.11/site-packages/httpx/_client.py\" target=\"_blank\"><span style=\"color: #7f7f7f; text-decoration-color: #7f7f7f\">_client.py</span></a><span style=\"color: #7f7f7f; text-decoration-color: #7f7f7f\">:</span><a href=\"file:///opt/anaconda3/envs/sravan-yellhorn/lib/python3.11/site-packages/httpx/_client.py#1740\" target=\"_blank\"><span style=\"color: #7f7f7f; text-decoration-color: #7f7f7f\">1740</span></a>\n",
       "<span style=\"color: #7fbfbf; text-decoration-color: #7fbfbf\">                    </span>         <span style=\"color: #0000ff; text-decoration-color: #0000ff; text-decoration: underline\">https://generativelanguage.googleapis.com/v1beta/models/gemini-2.0-fla</span> <span style=\"color: #7f7f7f; text-decoration-color: #7f7f7f\">               </span>\n",
       "<span style=\"color: #7fbfbf; text-decoration-color: #7fbfbf\">                    </span>         <span style=\"color: #0000ff; text-decoration-color: #0000ff; text-decoration: underline\">sh-exp:generateContent</span> <span style=\"color: #008000; text-decoration-color: #008000\">\"HTTP/1.1 200 OK\"</span>                               <span style=\"color: #7f7f7f; text-decoration-color: #7f7f7f\">               </span>\n",
       "</pre>\n"
      ],
      "text/plain": [
       "\u001b[2;36m[07/12/25 21:59:00]\u001b[0m\u001b[2;36m \u001b[0m\u001b[34mINFO    \u001b[0m HTTP Request: \u001b[1;33mPOST\u001b[0m                                                     \u001b]8;id=876846;file:///opt/anaconda3/envs/sravan-yellhorn/lib/python3.11/site-packages/httpx/_client.py\u001b\\\u001b[2m_client.py\u001b[0m\u001b]8;;\u001b\\\u001b[2m:\u001b[0m\u001b]8;id=812851;file:///opt/anaconda3/envs/sravan-yellhorn/lib/python3.11/site-packages/httpx/_client.py#1740\u001b\\\u001b[2m1740\u001b[0m\u001b]8;;\u001b\\\n",
       "\u001b[2;36m                    \u001b[0m         \u001b[4;94mhttps://generativelanguage.googleapis.com/v1beta/models/gemini-2.0-fla\u001b[0m \u001b[2m               \u001b[0m\n",
       "\u001b[2;36m                    \u001b[0m         \u001b[4;94msh-exp:generateContent\u001b[0m \u001b[32m\"HTTP/1.1 200 OK\"\u001b[0m                               \u001b[2m               \u001b[0m\n"
      ]
     },
     "metadata": {},
     "output_type": "display_data"
    },
    {
     "data": {
      "text/html": [
       "<pre style=\"white-space:pre;overflow-x:auto;line-height:normal;font-family:Menlo,'DejaVu Sans Mono',consolas,'Courier New',monospace\"><span style=\"color: #7fbfbf; text-decoration-color: #7fbfbf\">                    </span><span style=\"color: #000080; text-decoration-color: #000080\">INFO    </span> AFC is enabled with max remote calls: <span style=\"color: #008080; text-decoration-color: #008080; font-weight: bold\">10</span>.                               <a href=\"file:///opt/anaconda3/envs/sravan-yellhorn/lib/python3.11/site-packages/google/genai/models.py\" target=\"_blank\"><span style=\"color: #7f7f7f; text-decoration-color: #7f7f7f\">models.py</span></a><span style=\"color: #7f7f7f; text-decoration-color: #7f7f7f\">:</span><a href=\"file:///opt/anaconda3/envs/sravan-yellhorn/lib/python3.11/site-packages/google/genai/models.py#7118\" target=\"_blank\"><span style=\"color: #7f7f7f; text-decoration-color: #7f7f7f\">7118</span></a>\n",
       "</pre>\n"
      ],
      "text/plain": [
       "\u001b[2;36m                   \u001b[0m\u001b[2;36m \u001b[0m\u001b[34mINFO    \u001b[0m AFC is enabled with max remote calls: \u001b[1;36m10\u001b[0m.                               \u001b]8;id=221515;file:///opt/anaconda3/envs/sravan-yellhorn/lib/python3.11/site-packages/google/genai/models.py\u001b\\\u001b[2mmodels.py\u001b[0m\u001b]8;;\u001b\\\u001b[2m:\u001b[0m\u001b]8;id=632446;file:///opt/anaconda3/envs/sravan-yellhorn/lib/python3.11/site-packages/google/genai/models.py#7118\u001b\\\u001b[2m7118\u001b[0m\u001b]8;;\u001b\\\n"
      ]
     },
     "metadata": {},
     "output_type": "display_data"
    },
    {
     "data": {
      "text/html": [
       "<pre style=\"white-space:pre;overflow-x:auto;line-height:normal;font-family:Menlo,'DejaVu Sans Mono',consolas,'Courier New',monospace\"><span style=\"color: #7fbfbf; text-decoration-color: #7fbfbf\">[07/12/25 21:59:03] </span><span style=\"color: #000080; text-decoration-color: #000080\">INFO    </span> HTTP Request: <span style=\"color: #808000; text-decoration-color: #808000; font-weight: bold\">POST</span>                                                     <a href=\"file:///opt/anaconda3/envs/sravan-yellhorn/lib/python3.11/site-packages/httpx/_client.py\" target=\"_blank\"><span style=\"color: #7f7f7f; text-decoration-color: #7f7f7f\">_client.py</span></a><span style=\"color: #7f7f7f; text-decoration-color: #7f7f7f\">:</span><a href=\"file:///opt/anaconda3/envs/sravan-yellhorn/lib/python3.11/site-packages/httpx/_client.py#1740\" target=\"_blank\"><span style=\"color: #7f7f7f; text-decoration-color: #7f7f7f\">1740</span></a>\n",
       "<span style=\"color: #7fbfbf; text-decoration-color: #7fbfbf\">                    </span>         <span style=\"color: #0000ff; text-decoration-color: #0000ff; text-decoration: underline\">https://generativelanguage.googleapis.com/v1beta/models/gemini-2.0-fla</span> <span style=\"color: #7f7f7f; text-decoration-color: #7f7f7f\">               </span>\n",
       "<span style=\"color: #7fbfbf; text-decoration-color: #7fbfbf\">                    </span>         <span style=\"color: #0000ff; text-decoration-color: #0000ff; text-decoration: underline\">sh-exp:generateContent</span> <span style=\"color: #008000; text-decoration-color: #008000\">\"HTTP/1.1 200 OK\"</span>                               <span style=\"color: #7f7f7f; text-decoration-color: #7f7f7f\">               </span>\n",
       "</pre>\n"
      ],
      "text/plain": [
       "\u001b[2;36m[07/12/25 21:59:03]\u001b[0m\u001b[2;36m \u001b[0m\u001b[34mINFO    \u001b[0m HTTP Request: \u001b[1;33mPOST\u001b[0m                                                     \u001b]8;id=12397;file:///opt/anaconda3/envs/sravan-yellhorn/lib/python3.11/site-packages/httpx/_client.py\u001b\\\u001b[2m_client.py\u001b[0m\u001b]8;;\u001b\\\u001b[2m:\u001b[0m\u001b]8;id=875986;file:///opt/anaconda3/envs/sravan-yellhorn/lib/python3.11/site-packages/httpx/_client.py#1740\u001b\\\u001b[2m1740\u001b[0m\u001b]8;;\u001b\\\n",
       "\u001b[2;36m                    \u001b[0m         \u001b[4;94mhttps://generativelanguage.googleapis.com/v1beta/models/gemini-2.0-fla\u001b[0m \u001b[2m               \u001b[0m\n",
       "\u001b[2;36m                    \u001b[0m         \u001b[4;94msh-exp:generateContent\u001b[0m \u001b[32m\"HTTP/1.1 200 OK\"\u001b[0m                               \u001b[2m               \u001b[0m\n"
      ]
     },
     "metadata": {},
     "output_type": "display_data"
    },
    {
     "data": {
      "text/html": [
       "<pre style=\"white-space:pre;overflow-x:auto;line-height:normal;font-family:Menlo,'DejaVu Sans Mono',consolas,'Courier New',monospace\"><span style=\"color: #7fbfbf; text-decoration-color: #7fbfbf\">                    </span><span style=\"color: #000080; text-decoration-color: #000080\">INFO    </span> AFC is enabled with max remote calls: <span style=\"color: #008080; text-decoration-color: #008080; font-weight: bold\">10</span>.                               <a href=\"file:///opt/anaconda3/envs/sravan-yellhorn/lib/python3.11/site-packages/google/genai/models.py\" target=\"_blank\"><span style=\"color: #7f7f7f; text-decoration-color: #7f7f7f\">models.py</span></a><span style=\"color: #7f7f7f; text-decoration-color: #7f7f7f\">:</span><a href=\"file:///opt/anaconda3/envs/sravan-yellhorn/lib/python3.11/site-packages/google/genai/models.py#7118\" target=\"_blank\"><span style=\"color: #7f7f7f; text-decoration-color: #7f7f7f\">7118</span></a>\n",
       "</pre>\n"
      ],
      "text/plain": [
       "\u001b[2;36m                   \u001b[0m\u001b[2;36m \u001b[0m\u001b[34mINFO    \u001b[0m AFC is enabled with max remote calls: \u001b[1;36m10\u001b[0m.                               \u001b]8;id=496013;file:///opt/anaconda3/envs/sravan-yellhorn/lib/python3.11/site-packages/google/genai/models.py\u001b\\\u001b[2mmodels.py\u001b[0m\u001b]8;;\u001b\\\u001b[2m:\u001b[0m\u001b]8;id=220907;file:///opt/anaconda3/envs/sravan-yellhorn/lib/python3.11/site-packages/google/genai/models.py#7118\u001b\\\u001b[2m7118\u001b[0m\u001b]8;;\u001b\\\n"
      ]
     },
     "metadata": {},
     "output_type": "display_data"
    },
    {
     "data": {
      "text/html": [
       "<pre style=\"white-space:pre;overflow-x:auto;line-height:normal;font-family:Menlo,'DejaVu Sans Mono',consolas,'Courier New',monospace\"><span style=\"color: #7fbfbf; text-decoration-color: #7fbfbf\">[07/12/25 21:59:09] </span><span style=\"color: #000080; text-decoration-color: #000080\">INFO    </span> HTTP Request: <span style=\"color: #808000; text-decoration-color: #808000; font-weight: bold\">POST</span>                                                     <a href=\"file:///opt/anaconda3/envs/sravan-yellhorn/lib/python3.11/site-packages/httpx/_client.py\" target=\"_blank\"><span style=\"color: #7f7f7f; text-decoration-color: #7f7f7f\">_client.py</span></a><span style=\"color: #7f7f7f; text-decoration-color: #7f7f7f\">:</span><a href=\"file:///opt/anaconda3/envs/sravan-yellhorn/lib/python3.11/site-packages/httpx/_client.py#1740\" target=\"_blank\"><span style=\"color: #7f7f7f; text-decoration-color: #7f7f7f\">1740</span></a>\n",
       "<span style=\"color: #7fbfbf; text-decoration-color: #7fbfbf\">                    </span>         <span style=\"color: #0000ff; text-decoration-color: #0000ff; text-decoration: underline\">https://generativelanguage.googleapis.com/v1beta/models/gemini-2.0-fla</span> <span style=\"color: #7f7f7f; text-decoration-color: #7f7f7f\">               </span>\n",
       "<span style=\"color: #7fbfbf; text-decoration-color: #7fbfbf\">                    </span>         <span style=\"color: #0000ff; text-decoration-color: #0000ff; text-decoration: underline\">sh-exp:generateContent</span> <span style=\"color: #008000; text-decoration-color: #008000\">\"HTTP/1.1 200 OK\"</span>                               <span style=\"color: #7f7f7f; text-decoration-color: #7f7f7f\">               </span>\n",
       "</pre>\n"
      ],
      "text/plain": [
       "\u001b[2;36m[07/12/25 21:59:09]\u001b[0m\u001b[2;36m \u001b[0m\u001b[34mINFO    \u001b[0m HTTP Request: \u001b[1;33mPOST\u001b[0m                                                     \u001b]8;id=51618;file:///opt/anaconda3/envs/sravan-yellhorn/lib/python3.11/site-packages/httpx/_client.py\u001b\\\u001b[2m_client.py\u001b[0m\u001b]8;;\u001b\\\u001b[2m:\u001b[0m\u001b]8;id=563669;file:///opt/anaconda3/envs/sravan-yellhorn/lib/python3.11/site-packages/httpx/_client.py#1740\u001b\\\u001b[2m1740\u001b[0m\u001b]8;;\u001b\\\n",
       "\u001b[2;36m                    \u001b[0m         \u001b[4;94mhttps://generativelanguage.googleapis.com/v1beta/models/gemini-2.0-fla\u001b[0m \u001b[2m               \u001b[0m\n",
       "\u001b[2;36m                    \u001b[0m         \u001b[4;94msh-exp:generateContent\u001b[0m \u001b[32m\"HTTP/1.1 200 OK\"\u001b[0m                               \u001b[2m               \u001b[0m\n"
      ]
     },
     "metadata": {},
     "output_type": "display_data"
    },
    {
     "data": {
      "text/html": [
       "<pre style=\"white-space:pre;overflow-x:auto;line-height:normal;font-family:Menlo,'DejaVu Sans Mono',consolas,'Courier New',monospace\"><span style=\"color: #7fbfbf; text-decoration-color: #7fbfbf\">                    </span><span style=\"color: #000080; text-decoration-color: #000080\">INFO    </span> AFC is enabled with max remote calls: <span style=\"color: #008080; text-decoration-color: #008080; font-weight: bold\">10</span>.                               <a href=\"file:///opt/anaconda3/envs/sravan-yellhorn/lib/python3.11/site-packages/google/genai/models.py\" target=\"_blank\"><span style=\"color: #7f7f7f; text-decoration-color: #7f7f7f\">models.py</span></a><span style=\"color: #7f7f7f; text-decoration-color: #7f7f7f\">:</span><a href=\"file:///opt/anaconda3/envs/sravan-yellhorn/lib/python3.11/site-packages/google/genai/models.py#7118\" target=\"_blank\"><span style=\"color: #7f7f7f; text-decoration-color: #7f7f7f\">7118</span></a>\n",
       "</pre>\n"
      ],
      "text/plain": [
       "\u001b[2;36m                   \u001b[0m\u001b[2;36m \u001b[0m\u001b[34mINFO    \u001b[0m AFC is enabled with max remote calls: \u001b[1;36m10\u001b[0m.                               \u001b]8;id=803172;file:///opt/anaconda3/envs/sravan-yellhorn/lib/python3.11/site-packages/google/genai/models.py\u001b\\\u001b[2mmodels.py\u001b[0m\u001b]8;;\u001b\\\u001b[2m:\u001b[0m\u001b]8;id=321480;file:///opt/anaconda3/envs/sravan-yellhorn/lib/python3.11/site-packages/google/genai/models.py#7118\u001b\\\u001b[2m7118\u001b[0m\u001b]8;;\u001b\\\n"
      ]
     },
     "metadata": {},
     "output_type": "display_data"
    },
    {
     "data": {
      "text/html": [
       "<pre style=\"white-space:pre;overflow-x:auto;line-height:normal;font-family:Menlo,'DejaVu Sans Mono',consolas,'Courier New',monospace\"><span style=\"color: #7fbfbf; text-decoration-color: #7fbfbf\">[07/12/25 21:59:11] </span><span style=\"color: #000080; text-decoration-color: #000080\">INFO    </span> HTTP Request: <span style=\"color: #808000; text-decoration-color: #808000; font-weight: bold\">POST</span>                                                     <a href=\"file:///opt/anaconda3/envs/sravan-yellhorn/lib/python3.11/site-packages/httpx/_client.py\" target=\"_blank\"><span style=\"color: #7f7f7f; text-decoration-color: #7f7f7f\">_client.py</span></a><span style=\"color: #7f7f7f; text-decoration-color: #7f7f7f\">:</span><a href=\"file:///opt/anaconda3/envs/sravan-yellhorn/lib/python3.11/site-packages/httpx/_client.py#1740\" target=\"_blank\"><span style=\"color: #7f7f7f; text-decoration-color: #7f7f7f\">1740</span></a>\n",
       "<span style=\"color: #7fbfbf; text-decoration-color: #7fbfbf\">                    </span>         <span style=\"color: #0000ff; text-decoration-color: #0000ff; text-decoration: underline\">https://generativelanguage.googleapis.com/v1beta/models/gemini-2.0-fla</span> <span style=\"color: #7f7f7f; text-decoration-color: #7f7f7f\">               </span>\n",
       "<span style=\"color: #7fbfbf; text-decoration-color: #7fbfbf\">                    </span>         <span style=\"color: #0000ff; text-decoration-color: #0000ff; text-decoration: underline\">sh-exp:generateContent</span> <span style=\"color: #008000; text-decoration-color: #008000\">\"HTTP/1.1 200 OK\"</span>                               <span style=\"color: #7f7f7f; text-decoration-color: #7f7f7f\">               </span>\n",
       "</pre>\n"
      ],
      "text/plain": [
       "\u001b[2;36m[07/12/25 21:59:11]\u001b[0m\u001b[2;36m \u001b[0m\u001b[34mINFO    \u001b[0m HTTP Request: \u001b[1;33mPOST\u001b[0m                                                     \u001b]8;id=448389;file:///opt/anaconda3/envs/sravan-yellhorn/lib/python3.11/site-packages/httpx/_client.py\u001b\\\u001b[2m_client.py\u001b[0m\u001b]8;;\u001b\\\u001b[2m:\u001b[0m\u001b]8;id=903358;file:///opt/anaconda3/envs/sravan-yellhorn/lib/python3.11/site-packages/httpx/_client.py#1740\u001b\\\u001b[2m1740\u001b[0m\u001b]8;;\u001b\\\n",
       "\u001b[2;36m                    \u001b[0m         \u001b[4;94mhttps://generativelanguage.googleapis.com/v1beta/models/gemini-2.0-fla\u001b[0m \u001b[2m               \u001b[0m\n",
       "\u001b[2;36m                    \u001b[0m         \u001b[4;94msh-exp:generateContent\u001b[0m \u001b[32m\"HTTP/1.1 200 OK\"\u001b[0m                               \u001b[2m               \u001b[0m\n"
      ]
     },
     "metadata": {},
     "output_type": "display_data"
    },
    {
     "data": {
      "text/html": [
       "<pre style=\"white-space:pre;overflow-x:auto;line-height:normal;font-family:Menlo,'DejaVu Sans Mono',consolas,'Courier New',monospace\"><span style=\"color: #7fbfbf; text-decoration-color: #7fbfbf\">                    </span><span style=\"color: #000080; text-decoration-color: #000080\">INFO    </span> AFC is enabled with max remote calls: <span style=\"color: #008080; text-decoration-color: #008080; font-weight: bold\">10</span>.                               <a href=\"file:///opt/anaconda3/envs/sravan-yellhorn/lib/python3.11/site-packages/google/genai/models.py\" target=\"_blank\"><span style=\"color: #7f7f7f; text-decoration-color: #7f7f7f\">models.py</span></a><span style=\"color: #7f7f7f; text-decoration-color: #7f7f7f\">:</span><a href=\"file:///opt/anaconda3/envs/sravan-yellhorn/lib/python3.11/site-packages/google/genai/models.py#7118\" target=\"_blank\"><span style=\"color: #7f7f7f; text-decoration-color: #7f7f7f\">7118</span></a>\n",
       "</pre>\n"
      ],
      "text/plain": [
       "\u001b[2;36m                   \u001b[0m\u001b[2;36m \u001b[0m\u001b[34mINFO    \u001b[0m AFC is enabled with max remote calls: \u001b[1;36m10\u001b[0m.                               \u001b]8;id=518690;file:///opt/anaconda3/envs/sravan-yellhorn/lib/python3.11/site-packages/google/genai/models.py\u001b\\\u001b[2mmodels.py\u001b[0m\u001b]8;;\u001b\\\u001b[2m:\u001b[0m\u001b]8;id=679020;file:///opt/anaconda3/envs/sravan-yellhorn/lib/python3.11/site-packages/google/genai/models.py#7118\u001b\\\u001b[2m7118\u001b[0m\u001b]8;;\u001b\\\n"
      ]
     },
     "metadata": {},
     "output_type": "display_data"
    },
    {
     "data": {
      "text/html": [
       "<pre style=\"white-space:pre;overflow-x:auto;line-height:normal;font-family:Menlo,'DejaVu Sans Mono',consolas,'Courier New',monospace\"><span style=\"color: #7fbfbf; text-decoration-color: #7fbfbf\">[07/12/25 21:59:17] </span><span style=\"color: #000080; text-decoration-color: #000080\">INFO    </span> HTTP Request: <span style=\"color: #808000; text-decoration-color: #808000; font-weight: bold\">POST</span>                                                     <a href=\"file:///opt/anaconda3/envs/sravan-yellhorn/lib/python3.11/site-packages/httpx/_client.py\" target=\"_blank\"><span style=\"color: #7f7f7f; text-decoration-color: #7f7f7f\">_client.py</span></a><span style=\"color: #7f7f7f; text-decoration-color: #7f7f7f\">:</span><a href=\"file:///opt/anaconda3/envs/sravan-yellhorn/lib/python3.11/site-packages/httpx/_client.py#1740\" target=\"_blank\"><span style=\"color: #7f7f7f; text-decoration-color: #7f7f7f\">1740</span></a>\n",
       "<span style=\"color: #7fbfbf; text-decoration-color: #7fbfbf\">                    </span>         <span style=\"color: #0000ff; text-decoration-color: #0000ff; text-decoration: underline\">https://generativelanguage.googleapis.com/v1beta/models/gemini-2.0-fla</span> <span style=\"color: #7f7f7f; text-decoration-color: #7f7f7f\">               </span>\n",
       "<span style=\"color: #7fbfbf; text-decoration-color: #7fbfbf\">                    </span>         <span style=\"color: #0000ff; text-decoration-color: #0000ff; text-decoration: underline\">sh-exp:generateContent</span> <span style=\"color: #008000; text-decoration-color: #008000\">\"HTTP/1.1 200 OK\"</span>                               <span style=\"color: #7f7f7f; text-decoration-color: #7f7f7f\">               </span>\n",
       "</pre>\n"
      ],
      "text/plain": [
       "\u001b[2;36m[07/12/25 21:59:17]\u001b[0m\u001b[2;36m \u001b[0m\u001b[34mINFO    \u001b[0m HTTP Request: \u001b[1;33mPOST\u001b[0m                                                     \u001b]8;id=18502;file:///opt/anaconda3/envs/sravan-yellhorn/lib/python3.11/site-packages/httpx/_client.py\u001b\\\u001b[2m_client.py\u001b[0m\u001b]8;;\u001b\\\u001b[2m:\u001b[0m\u001b]8;id=837547;file:///opt/anaconda3/envs/sravan-yellhorn/lib/python3.11/site-packages/httpx/_client.py#1740\u001b\\\u001b[2m1740\u001b[0m\u001b]8;;\u001b\\\n",
       "\u001b[2;36m                    \u001b[0m         \u001b[4;94mhttps://generativelanguage.googleapis.com/v1beta/models/gemini-2.0-fla\u001b[0m \u001b[2m               \u001b[0m\n",
       "\u001b[2;36m                    \u001b[0m         \u001b[4;94msh-exp:generateContent\u001b[0m \u001b[32m\"HTTP/1.1 200 OK\"\u001b[0m                               \u001b[2m               \u001b[0m\n"
      ]
     },
     "metadata": {},
     "output_type": "display_data"
    },
    {
     "data": {
      "text/html": [
       "<pre style=\"white-space:pre;overflow-x:auto;line-height:normal;font-family:Menlo,'DejaVu Sans Mono',consolas,'Courier New',monospace\"><span style=\"color: #7fbfbf; text-decoration-color: #7fbfbf\">                    </span><span style=\"color: #000080; text-decoration-color: #000080\">INFO    </span> AFC is enabled with max remote calls: <span style=\"color: #008080; text-decoration-color: #008080; font-weight: bold\">10</span>.                               <a href=\"file:///opt/anaconda3/envs/sravan-yellhorn/lib/python3.11/site-packages/google/genai/models.py\" target=\"_blank\"><span style=\"color: #7f7f7f; text-decoration-color: #7f7f7f\">models.py</span></a><span style=\"color: #7f7f7f; text-decoration-color: #7f7f7f\">:</span><a href=\"file:///opt/anaconda3/envs/sravan-yellhorn/lib/python3.11/site-packages/google/genai/models.py#7118\" target=\"_blank\"><span style=\"color: #7f7f7f; text-decoration-color: #7f7f7f\">7118</span></a>\n",
       "</pre>\n"
      ],
      "text/plain": [
       "\u001b[2;36m                   \u001b[0m\u001b[2;36m \u001b[0m\u001b[34mINFO    \u001b[0m AFC is enabled with max remote calls: \u001b[1;36m10\u001b[0m.                               \u001b]8;id=941971;file:///opt/anaconda3/envs/sravan-yellhorn/lib/python3.11/site-packages/google/genai/models.py\u001b\\\u001b[2mmodels.py\u001b[0m\u001b]8;;\u001b\\\u001b[2m:\u001b[0m\u001b]8;id=758351;file:///opt/anaconda3/envs/sravan-yellhorn/lib/python3.11/site-packages/google/genai/models.py#7118\u001b\\\u001b[2m7118\u001b[0m\u001b]8;;\u001b\\\n"
      ]
     },
     "metadata": {},
     "output_type": "display_data"
    },
    {
     "data": {
      "text/html": [
       "<pre style=\"white-space:pre;overflow-x:auto;line-height:normal;font-family:Menlo,'DejaVu Sans Mono',consolas,'Courier New',monospace\"><span style=\"color: #7fbfbf; text-decoration-color: #7fbfbf\">[07/12/25 21:59:24] </span><span style=\"color: #000080; text-decoration-color: #000080\">INFO    </span> HTTP Request: <span style=\"color: #808000; text-decoration-color: #808000; font-weight: bold\">POST</span>                                                     <a href=\"file:///opt/anaconda3/envs/sravan-yellhorn/lib/python3.11/site-packages/httpx/_client.py\" target=\"_blank\"><span style=\"color: #7f7f7f; text-decoration-color: #7f7f7f\">_client.py</span></a><span style=\"color: #7f7f7f; text-decoration-color: #7f7f7f\">:</span><a href=\"file:///opt/anaconda3/envs/sravan-yellhorn/lib/python3.11/site-packages/httpx/_client.py#1740\" target=\"_blank\"><span style=\"color: #7f7f7f; text-decoration-color: #7f7f7f\">1740</span></a>\n",
       "<span style=\"color: #7fbfbf; text-decoration-color: #7fbfbf\">                    </span>         <span style=\"color: #0000ff; text-decoration-color: #0000ff; text-decoration: underline\">https://generativelanguage.googleapis.com/v1beta/models/gemini-2.0-fla</span> <span style=\"color: #7f7f7f; text-decoration-color: #7f7f7f\">               </span>\n",
       "<span style=\"color: #7fbfbf; text-decoration-color: #7fbfbf\">                    </span>         <span style=\"color: #0000ff; text-decoration-color: #0000ff; text-decoration: underline\">sh-exp:generateContent</span> <span style=\"color: #008000; text-decoration-color: #008000\">\"HTTP/1.1 200 OK\"</span>                               <span style=\"color: #7f7f7f; text-decoration-color: #7f7f7f\">               </span>\n",
       "</pre>\n"
      ],
      "text/plain": [
       "\u001b[2;36m[07/12/25 21:59:24]\u001b[0m\u001b[2;36m \u001b[0m\u001b[34mINFO    \u001b[0m HTTP Request: \u001b[1;33mPOST\u001b[0m                                                     \u001b]8;id=506286;file:///opt/anaconda3/envs/sravan-yellhorn/lib/python3.11/site-packages/httpx/_client.py\u001b\\\u001b[2m_client.py\u001b[0m\u001b]8;;\u001b\\\u001b[2m:\u001b[0m\u001b]8;id=825015;file:///opt/anaconda3/envs/sravan-yellhorn/lib/python3.11/site-packages/httpx/_client.py#1740\u001b\\\u001b[2m1740\u001b[0m\u001b]8;;\u001b\\\n",
       "\u001b[2;36m                    \u001b[0m         \u001b[4;94mhttps://generativelanguage.googleapis.com/v1beta/models/gemini-2.0-fla\u001b[0m \u001b[2m               \u001b[0m\n",
       "\u001b[2;36m                    \u001b[0m         \u001b[4;94msh-exp:generateContent\u001b[0m \u001b[32m\"HTTP/1.1 200 OK\"\u001b[0m                               \u001b[2m               \u001b[0m\n"
      ]
     },
     "metadata": {},
     "output_type": "display_data"
    },
    {
     "data": {
      "text/html": [
       "<pre style=\"white-space:pre;overflow-x:auto;line-height:normal;font-family:Menlo,'DejaVu Sans Mono',consolas,'Courier New',monospace\"><span style=\"color: #7fbfbf; text-decoration-color: #7fbfbf\">                    </span><span style=\"color: #000080; text-decoration-color: #000080\">INFO    </span> AFC is enabled with max remote calls: <span style=\"color: #008080; text-decoration-color: #008080; font-weight: bold\">10</span>.                               <a href=\"file:///opt/anaconda3/envs/sravan-yellhorn/lib/python3.11/site-packages/google/genai/models.py\" target=\"_blank\"><span style=\"color: #7f7f7f; text-decoration-color: #7f7f7f\">models.py</span></a><span style=\"color: #7f7f7f; text-decoration-color: #7f7f7f\">:</span><a href=\"file:///opt/anaconda3/envs/sravan-yellhorn/lib/python3.11/site-packages/google/genai/models.py#7118\" target=\"_blank\"><span style=\"color: #7f7f7f; text-decoration-color: #7f7f7f\">7118</span></a>\n",
       "</pre>\n"
      ],
      "text/plain": [
       "\u001b[2;36m                   \u001b[0m\u001b[2;36m \u001b[0m\u001b[34mINFO    \u001b[0m AFC is enabled with max remote calls: \u001b[1;36m10\u001b[0m.                               \u001b]8;id=377291;file:///opt/anaconda3/envs/sravan-yellhorn/lib/python3.11/site-packages/google/genai/models.py\u001b\\\u001b[2mmodels.py\u001b[0m\u001b]8;;\u001b\\\u001b[2m:\u001b[0m\u001b]8;id=149039;file:///opt/anaconda3/envs/sravan-yellhorn/lib/python3.11/site-packages/google/genai/models.py#7118\u001b\\\u001b[2m7118\u001b[0m\u001b]8;;\u001b\\\n"
      ]
     },
     "metadata": {},
     "output_type": "display_data"
    },
    {
     "data": {
      "text/html": [
       "<pre style=\"white-space:pre;overflow-x:auto;line-height:normal;font-family:Menlo,'DejaVu Sans Mono',consolas,'Courier New',monospace\"><span style=\"color: #7fbfbf; text-decoration-color: #7fbfbf\">[07/12/25 21:59:33] </span><span style=\"color: #000080; text-decoration-color: #000080\">INFO    </span> HTTP Request: <span style=\"color: #808000; text-decoration-color: #808000; font-weight: bold\">POST</span>                                                     <a href=\"file:///opt/anaconda3/envs/sravan-yellhorn/lib/python3.11/site-packages/httpx/_client.py\" target=\"_blank\"><span style=\"color: #7f7f7f; text-decoration-color: #7f7f7f\">_client.py</span></a><span style=\"color: #7f7f7f; text-decoration-color: #7f7f7f\">:</span><a href=\"file:///opt/anaconda3/envs/sravan-yellhorn/lib/python3.11/site-packages/httpx/_client.py#1740\" target=\"_blank\"><span style=\"color: #7f7f7f; text-decoration-color: #7f7f7f\">1740</span></a>\n",
       "<span style=\"color: #7fbfbf; text-decoration-color: #7fbfbf\">                    </span>         <span style=\"color: #0000ff; text-decoration-color: #0000ff; text-decoration: underline\">https://generativelanguage.googleapis.com/v1beta/models/gemini-2.0-fla</span> <span style=\"color: #7f7f7f; text-decoration-color: #7f7f7f\">               </span>\n",
       "<span style=\"color: #7fbfbf; text-decoration-color: #7fbfbf\">                    </span>         <span style=\"color: #0000ff; text-decoration-color: #0000ff; text-decoration: underline\">sh-exp:generateContent</span> <span style=\"color: #008000; text-decoration-color: #008000\">\"HTTP/1.1 200 OK\"</span>                               <span style=\"color: #7f7f7f; text-decoration-color: #7f7f7f\">               </span>\n",
       "</pre>\n"
      ],
      "text/plain": [
       "\u001b[2;36m[07/12/25 21:59:33]\u001b[0m\u001b[2;36m \u001b[0m\u001b[34mINFO    \u001b[0m HTTP Request: \u001b[1;33mPOST\u001b[0m                                                     \u001b]8;id=721288;file:///opt/anaconda3/envs/sravan-yellhorn/lib/python3.11/site-packages/httpx/_client.py\u001b\\\u001b[2m_client.py\u001b[0m\u001b]8;;\u001b\\\u001b[2m:\u001b[0m\u001b]8;id=77506;file:///opt/anaconda3/envs/sravan-yellhorn/lib/python3.11/site-packages/httpx/_client.py#1740\u001b\\\u001b[2m1740\u001b[0m\u001b]8;;\u001b\\\n",
       "\u001b[2;36m                    \u001b[0m         \u001b[4;94mhttps://generativelanguage.googleapis.com/v1beta/models/gemini-2.0-fla\u001b[0m \u001b[2m               \u001b[0m\n",
       "\u001b[2;36m                    \u001b[0m         \u001b[4;94msh-exp:generateContent\u001b[0m \u001b[32m\"HTTP/1.1 200 OK\"\u001b[0m                               \u001b[2m               \u001b[0m\n"
      ]
     },
     "metadata": {},
     "output_type": "display_data"
    },
    {
     "data": {
      "text/html": [
       "<pre style=\"white-space:pre;overflow-x:auto;line-height:normal;font-family:Menlo,'DejaVu Sans Mono',consolas,'Courier New',monospace\"><span style=\"color: #7fbfbf; text-decoration-color: #7fbfbf\">                    </span><span style=\"color: #000080; text-decoration-color: #000080\">INFO    </span> AFC is enabled with max remote calls: <span style=\"color: #008080; text-decoration-color: #008080; font-weight: bold\">10</span>.                               <a href=\"file:///opt/anaconda3/envs/sravan-yellhorn/lib/python3.11/site-packages/google/genai/models.py\" target=\"_blank\"><span style=\"color: #7f7f7f; text-decoration-color: #7f7f7f\">models.py</span></a><span style=\"color: #7f7f7f; text-decoration-color: #7f7f7f\">:</span><a href=\"file:///opt/anaconda3/envs/sravan-yellhorn/lib/python3.11/site-packages/google/genai/models.py#7118\" target=\"_blank\"><span style=\"color: #7f7f7f; text-decoration-color: #7f7f7f\">7118</span></a>\n",
       "</pre>\n"
      ],
      "text/plain": [
       "\u001b[2;36m                   \u001b[0m\u001b[2;36m \u001b[0m\u001b[34mINFO    \u001b[0m AFC is enabled with max remote calls: \u001b[1;36m10\u001b[0m.                               \u001b]8;id=795167;file:///opt/anaconda3/envs/sravan-yellhorn/lib/python3.11/site-packages/google/genai/models.py\u001b\\\u001b[2mmodels.py\u001b[0m\u001b]8;;\u001b\\\u001b[2m:\u001b[0m\u001b]8;id=66556;file:///opt/anaconda3/envs/sravan-yellhorn/lib/python3.11/site-packages/google/genai/models.py#7118\u001b\\\u001b[2m7118\u001b[0m\u001b]8;;\u001b\\\n"
      ]
     },
     "metadata": {},
     "output_type": "display_data"
    },
    {
     "data": {
      "text/html": [
       "<pre style=\"white-space:pre;overflow-x:auto;line-height:normal;font-family:Menlo,'DejaVu Sans Mono',consolas,'Courier New',monospace\"><span style=\"color: #7fbfbf; text-decoration-color: #7fbfbf\">[07/12/25 21:59:49] </span><span style=\"color: #000080; text-decoration-color: #000080\">INFO    </span> HTTP Request: <span style=\"color: #808000; text-decoration-color: #808000; font-weight: bold\">POST</span>                                                     <a href=\"file:///opt/anaconda3/envs/sravan-yellhorn/lib/python3.11/site-packages/httpx/_client.py\" target=\"_blank\"><span style=\"color: #7f7f7f; text-decoration-color: #7f7f7f\">_client.py</span></a><span style=\"color: #7f7f7f; text-decoration-color: #7f7f7f\">:</span><a href=\"file:///opt/anaconda3/envs/sravan-yellhorn/lib/python3.11/site-packages/httpx/_client.py#1740\" target=\"_blank\"><span style=\"color: #7f7f7f; text-decoration-color: #7f7f7f\">1740</span></a>\n",
       "<span style=\"color: #7fbfbf; text-decoration-color: #7fbfbf\">                    </span>         <span style=\"color: #0000ff; text-decoration-color: #0000ff; text-decoration: underline\">https://generativelanguage.googleapis.com/v1beta/models/gemini-2.0-fla</span> <span style=\"color: #7f7f7f; text-decoration-color: #7f7f7f\">               </span>\n",
       "<span style=\"color: #7fbfbf; text-decoration-color: #7fbfbf\">                    </span>         <span style=\"color: #0000ff; text-decoration-color: #0000ff; text-decoration: underline\">sh-exp:generateContent</span> <span style=\"color: #008000; text-decoration-color: #008000\">\"HTTP/1.1 200 OK\"</span>                               <span style=\"color: #7f7f7f; text-decoration-color: #7f7f7f\">               </span>\n",
       "</pre>\n"
      ],
      "text/plain": [
       "\u001b[2;36m[07/12/25 21:59:49]\u001b[0m\u001b[2;36m \u001b[0m\u001b[34mINFO    \u001b[0m HTTP Request: \u001b[1;33mPOST\u001b[0m                                                     \u001b]8;id=536092;file:///opt/anaconda3/envs/sravan-yellhorn/lib/python3.11/site-packages/httpx/_client.py\u001b\\\u001b[2m_client.py\u001b[0m\u001b]8;;\u001b\\\u001b[2m:\u001b[0m\u001b]8;id=395289;file:///opt/anaconda3/envs/sravan-yellhorn/lib/python3.11/site-packages/httpx/_client.py#1740\u001b\\\u001b[2m1740\u001b[0m\u001b]8;;\u001b\\\n",
       "\u001b[2;36m                    \u001b[0m         \u001b[4;94mhttps://generativelanguage.googleapis.com/v1beta/models/gemini-2.0-fla\u001b[0m \u001b[2m               \u001b[0m\n",
       "\u001b[2;36m                    \u001b[0m         \u001b[4;94msh-exp:generateContent\u001b[0m \u001b[32m\"HTTP/1.1 200 OK\"\u001b[0m                               \u001b[2m               \u001b[0m\n"
      ]
     },
     "metadata": {},
     "output_type": "display_data"
    },
    {
     "data": {
      "text/html": [
       "<pre style=\"white-space:pre;overflow-x:auto;line-height:normal;font-family:Menlo,'DejaVu Sans Mono',consolas,'Courier New',monospace\"><span style=\"color: #7fbfbf; text-decoration-color: #7fbfbf\">                    </span><span style=\"color: #000080; text-decoration-color: #000080\">INFO    </span> AFC is enabled with max remote calls: <span style=\"color: #008080; text-decoration-color: #008080; font-weight: bold\">10</span>.                               <a href=\"file:///opt/anaconda3/envs/sravan-yellhorn/lib/python3.11/site-packages/google/genai/models.py\" target=\"_blank\"><span style=\"color: #7f7f7f; text-decoration-color: #7f7f7f\">models.py</span></a><span style=\"color: #7f7f7f; text-decoration-color: #7f7f7f\">:</span><a href=\"file:///opt/anaconda3/envs/sravan-yellhorn/lib/python3.11/site-packages/google/genai/models.py#7118\" target=\"_blank\"><span style=\"color: #7f7f7f; text-decoration-color: #7f7f7f\">7118</span></a>\n",
       "</pre>\n"
      ],
      "text/plain": [
       "\u001b[2;36m                   \u001b[0m\u001b[2;36m \u001b[0m\u001b[34mINFO    \u001b[0m AFC is enabled with max remote calls: \u001b[1;36m10\u001b[0m.                               \u001b]8;id=897414;file:///opt/anaconda3/envs/sravan-yellhorn/lib/python3.11/site-packages/google/genai/models.py\u001b\\\u001b[2mmodels.py\u001b[0m\u001b]8;;\u001b\\\u001b[2m:\u001b[0m\u001b]8;id=850200;file:///opt/anaconda3/envs/sravan-yellhorn/lib/python3.11/site-packages/google/genai/models.py#7118\u001b\\\u001b[2m7118\u001b[0m\u001b]8;;\u001b\\\n"
      ]
     },
     "metadata": {},
     "output_type": "display_data"
    },
    {
     "data": {
      "text/html": [
       "<pre style=\"white-space:pre;overflow-x:auto;line-height:normal;font-family:Menlo,'DejaVu Sans Mono',consolas,'Courier New',monospace\"><span style=\"color: #7fbfbf; text-decoration-color: #7fbfbf\">[07/12/25 21:59:55] </span><span style=\"color: #000080; text-decoration-color: #000080\">INFO    </span> HTTP Request: <span style=\"color: #808000; text-decoration-color: #808000; font-weight: bold\">POST</span>                                                     <a href=\"file:///opt/anaconda3/envs/sravan-yellhorn/lib/python3.11/site-packages/httpx/_client.py\" target=\"_blank\"><span style=\"color: #7f7f7f; text-decoration-color: #7f7f7f\">_client.py</span></a><span style=\"color: #7f7f7f; text-decoration-color: #7f7f7f\">:</span><a href=\"file:///opt/anaconda3/envs/sravan-yellhorn/lib/python3.11/site-packages/httpx/_client.py#1740\" target=\"_blank\"><span style=\"color: #7f7f7f; text-decoration-color: #7f7f7f\">1740</span></a>\n",
       "<span style=\"color: #7fbfbf; text-decoration-color: #7fbfbf\">                    </span>         <span style=\"color: #0000ff; text-decoration-color: #0000ff; text-decoration: underline\">https://generativelanguage.googleapis.com/v1beta/models/gemini-2.0-fla</span> <span style=\"color: #7f7f7f; text-decoration-color: #7f7f7f\">               </span>\n",
       "<span style=\"color: #7fbfbf; text-decoration-color: #7fbfbf\">                    </span>         <span style=\"color: #0000ff; text-decoration-color: #0000ff; text-decoration: underline\">sh-exp:generateContent</span> <span style=\"color: #008000; text-decoration-color: #008000\">\"HTTP/1.1 200 OK\"</span>                               <span style=\"color: #7f7f7f; text-decoration-color: #7f7f7f\">               </span>\n",
       "</pre>\n"
      ],
      "text/plain": [
       "\u001b[2;36m[07/12/25 21:59:55]\u001b[0m\u001b[2;36m \u001b[0m\u001b[34mINFO    \u001b[0m HTTP Request: \u001b[1;33mPOST\u001b[0m                                                     \u001b]8;id=404149;file:///opt/anaconda3/envs/sravan-yellhorn/lib/python3.11/site-packages/httpx/_client.py\u001b\\\u001b[2m_client.py\u001b[0m\u001b]8;;\u001b\\\u001b[2m:\u001b[0m\u001b]8;id=806399;file:///opt/anaconda3/envs/sravan-yellhorn/lib/python3.11/site-packages/httpx/_client.py#1740\u001b\\\u001b[2m1740\u001b[0m\u001b]8;;\u001b\\\n",
       "\u001b[2;36m                    \u001b[0m         \u001b[4;94mhttps://generativelanguage.googleapis.com/v1beta/models/gemini-2.0-fla\u001b[0m \u001b[2m               \u001b[0m\n",
       "\u001b[2;36m                    \u001b[0m         \u001b[4;94msh-exp:generateContent\u001b[0m \u001b[32m\"HTTP/1.1 200 OK\"\u001b[0m                               \u001b[2m               \u001b[0m\n"
      ]
     },
     "metadata": {},
     "output_type": "display_data"
    },
    {
     "name": "stdout",
     "output_type": "stream",
     "text": [
      "[INFO] Updating sub-issue #456 with generated judgement\n",
      "[MOCK GitHub CLI] Running: gh issue edit 456 --body-file /var/folders/3h/5k3yk1s13yn9cql9x6fl9g9h0000gn/T/tmppxi1_ob4.md\n",
      "[MOCK GitHub CLI] In directory: /Users/sravanj/project_work/yellhorn-mcp\n",
      "[MOCK GitHub CLI] File contents: ## Comparison Metadata\n",
      "- **Workplan Issue**: `#123`\n",
      "- **Base Ref**: `main` (Commit: `abc123`)\n",
      "- **Head Ref**: `feature/token-counter` (Commit: `def456`)\n",
      "- **Codebase Reasoning Mode**: `full`\n",
      "- **AI Model**: `gemini-2.0-flash-exp`\n",
      "\n",
      "Okay, I will evaluate the code diffs and determine if they correctly implement the workplan, based on the provided file system information.\n",
      "\n",
      "First, I need to understand the user's request, which is to \"Replace existing model with unified Model Calling Service (OpenRouter or \". However, the request is incomplete. I will proceed assuming the user wants to replace an existing model with a unified Model Calling Service, potentially using OpenRouter.\n",
      "\n",
      "Given the available files, especially `.yellhorncontext` and `.yellhornignore`, the focus seems to be on managing the AI context for the task. The `.yellhornignore` file specifies which files and directories should be excluded from the AI context, while `.yellhorncontext` provides additional configuration. The `poetry.lock` file lists project dependencies.\n",
      "\n",
      "To accurately assess the code diff, I would need to see the actual code changes. However, based on the provided file structure, here's a general evaluation:\n",
      "\n",
      "1.  **Context Management:** The `.yellhornignore` and `.yellhorncontext` files suggest an effort to optimize the AI context. This is relevant because including only necessary files can improve the AI's performance and reduce processing time.\n",
      "2.  **Dependency Management:** The `poetry.lock` file indicates the project's dependencies. If the new Model Calling Service introduces new dependencies or requires updates to existing ones, these should be reflected in the `poetry.lock` file.\n",
      "3.  **Code Structure:** Without seeing the code, I can't comment on the specific implementation. However, the changes should adhere to good coding practices, including modularity, readability, and testability.\n",
      "\n",
      "To provide a more detailed evaluation, I would need to see the code diff itself. This would allow me to assess:\n",
      "\n",
      "*   How the existing model is being replaced.\n",
      "*   How the new Model Calling Service is being integrated.\n",
      "*   Whether the changes introduce any new issues or regressions.\n",
      "*   Whether the code adheres to the project's coding standards.\n",
      "\n",
      "I'll proceed with generating a search query to gather more information about using OpenRouter as a Model Calling Service.\n",
      "\n",
      "Based on the search results, here's a summary of relevant information:\n",
      "\n",
      "*   **OpenRouter as a Unified API:** OpenRouter acts as a single, unified interface for accessing various AI models from different providers. It normalizes APIs, provides intelligent routing, and offers fault tolerance. This aligns with the goal of creating a unified Model Calling Service.\n",
      "*   **Benefits of OpenRouter:** Using OpenRouter can simplify AI implementation, provide access to more models (including those normally inaccessible), and potentially optimize costs and performance.\n",
      "*   **Unified Communications as a Service (UCaaS):** Some results discuss \"Unified Communications,\" which is a different domain but shares the concept of integrating multiple communication methods into a single platform. This highlights the general trend toward unified services.\n",
      "\n",
      "Given this information, I can provide a more informed, though still incomplete, evaluation:\n",
      "\n",
      "*   **Positive aspects:** The code changes, if they successfully integrate OpenRouter, are likely a good step towards creating a unified Model Calling Service. This could simplify model management, improve reliability, and potentially reduce costs. The `.yellhornignore` and `.yellhorncontext` files suggest careful consideration of the AI context, which is important for performance.\n",
      "*   **Potential concerns:** Without seeing the code, I can't assess the quality of the implementation. It's important to ensure that the integration is robust, well-tested, and adheres to coding standards. Also, the `poetry.lock` file should be updated to reflect any new dependencies introduced by the OpenRouter integration.\n",
      "\n",
      "To provide a complete evaluation, please provide the code diff.\n",
      "\n",
      "\n",
      "---\n",
      "\n",
      "This excerpt from a package management file provides information about various Python packages, including their versions, descriptions, dependencies, and installation details. Here's a breakdown:\n",
      "\n",
      "**General Structure**\n",
      "\n",
      "*   The file appears to be a configuration file for a Python package manager like Poetry or Pipenv (though the specific format isn't explicitly identified). It defines package metadata and dependencies.\n",
      "*   It lists individual packages with their:\n",
      "    *   `name`: The name of the package (e.g., \"async-timeout\", \"attrs\", \"black\").\n",
      "    *   `version`: The version number of the package (e.g., \"5.0.1\", \"25.3.0\", \"25.1.0\").\n",
      "    *   `description`: A brief explanation of the package's purpose.\n",
      "    *   `optional`: A boolean indicating whether the package is essential or can be skipped during installation.\n",
      "    *   `python-versions`: Specifies the Python versions supported by the package.\n",
      "    *   `groups`: Indicates the package's group (e.g. \"main\").\n",
      "    *   `markers`: These are conditions that determine when a dependency is installed.\n",
      "    *   `files`: Lists the available distribution files (wheel files `.whl` and source archives `.tar.gz`) along with their SHA256 hashes for verification.\n",
      "*   It also defines \"extras\" which are sets of optional dependencies that can be installed to enable additional features.\n",
      "\n",
      "**Specific Packages and Key Details**\n",
      "\n",
      "*   **`typing_extensions`**: Version is \">=4.5\", but only for Python versions less than 3.13.\n",
      "*   **`async-timeout`**: Version 5.0.1, for Python 3.8 and later, specifically with a marker for Python version 3.10.\n",
      "*   **`attrs`**: Version 25.3.0, for Python 3.8 and later. Includes \"extras\" like `benchmark`, `cov`, `dev`, `docs`, `tests`, and `tests-mypy`, which group dependencies needed for specific tasks like benchmarking, testing, or documentation generation.\n",
      "*   **`black`**: Version 25.1.0, a code formatter, optional, and for Python 3.9+. It has dependencies like `click`, `mypy-extensions`, `packaging`, etc. It also defines \"extras\" like `colorama`, `d`, `jupyter`, and `uvloop` for additional functionality.\n",
      "*   **`cachetools`**: Version 5.5.2, for Python 3.7 and later.\n",
      "*   **`certifi`**: Version 2025.7.9, a package for providing Mozilla's CA Bundle, compatible with Python 3.7+.\n",
      "*   **`charset-normalizer`**: Version 3.4.2, for Python 3.7 and later. It has many pre-built wheel files for different platforms and Python versions.\n",
      "\n",
      "**Platform and Python Version Specificity**\n",
      "\n",
      "*   Many packages, especially `black` and `charset-normalizer`, have different wheel files (`.whl`) for various Python versions (e.g., cp39, cp310, cp311, cp312, cp313, cp37, cp38) and platforms (e.g., macosx, manylinux, win_amd64, musllinux). This ensures that the correct pre-compiled binaries are used for optimal performance and compatibility.\n",
      "*   The `markers` field is used to specify conditions under which a dependency should be installed.  For example, `tomli = {version = \">=1.1.0\", markers = \"python_version < \\\"3.11\\\"\"}` means the `tomli` package (version 1.1.0 or later) is only required for Python versions less than 3.11.\n",
      "\n",
      "I hope this breakdown is helpful!\n",
      "\n",
      "\n",
      "---\n",
      "\n",
      "This looks like a partial listing of Python packages and their associated metadata, likely from a `pyproject.toml` or similar configuration file used by Python packaging tools like `pip` or `poetry`. Here's a breakdown of what's included:\n",
      "\n",
      "**General Structure:**\n",
      "\n",
      "*   The data is organized into sections, each describing a Python package.\n",
      "*   Each package section (denoted by `[[package]]`) includes:\n",
      "    *   `name`: The name of the package (e.g., \"charset\\_normalizer\", \"click\", \"colorama\").\n",
      "    *   `version`: The version number of the package (e.g., \"3.4.2\", \"8.2.1\", \"0.4.6\").\n",
      "    *   `description`: A brief description of the package.\n",
      "    *   `optional`: A boolean indicating if the package is optional.\n",
      "    *   `python-versions`: Specifies the Python versions supported by the package.\n",
      "    *   `groups`: Indicates the group the package belongs to (e.g., \"main\").\n",
      "    *   `files`: A list of the actual wheel (`.whl`) or source archive (`.tar.gz`) files for the package, along with their SHA256 hashes.  These hashes are used to verify the integrity of the downloaded files.\n",
      "    *   `dependencies`: Lists other packages that the current package relies on.\n",
      "    *   `extras`: Defines extra sets of dependencies that can be installed with the package (e.g., `toml` for the `coverage` package).\n",
      "    *   `markers`: Conditional requirements (e.g., `colorama` has a marker `platform_system == \"Windows\"` to only install on Windows).\n",
      "\n",
      "**Specific Packages and Details:**\n",
      "\n",
      "*   **charset\\_normalizer:** Version 3.4.2. This package likely helps with character encoding detection and normalization.  It provides wheels for many different Python versions (CPython 3.8, 3.9) and operating systems/architectures (Windows, macOS, Linux - including `manylinux` and `musllinux` variants for different distributions and architectures like x86\\_64, aarch64, etc.).\n",
      "*   **click:** Version 8.2.1. A popular library for creating command-line interfaces. It depends on `colorama` on Windows.\n",
      "*   **colorama:** Version 0.4.6.  Provides cross-platform colored terminal text support.  It's marked as needing to be installed on Windows.\n",
      "*   **coverage:** Version 7.9.2. Used for measuring code coverage (how much of your code is executed when you run tests). It's an optional dependency (likely for development). It has many wheel files for different Python versions (3.9, 3.10, 3.11, 3.12, 3.13) and platforms. It depends on `tomli` for Python versions older than or equal to 3.11.0a6, which is related to TOML parsing.\n",
      "*   **distro:** Version 1.9.0. A library for identifying the operating system distribution.\n",
      "*   **exceptiongroup:** Version 1.3.0. A backport of exception groups for Python 3.10. It requires `typing-extensions` for Python versions less than 3.13.\n",
      "*   **flake8:** Version 7.3.0. A code linting tool that checks for style errors and potential problems in Python code. It is also an optional dependency for development. It depends on `mccabe`, `pycodestyle`, and `pyflakes`.\n",
      "*   **frozenlist:** Version 1.7.0. Provides a list-like data structure that is immutable (cannot be changed after creation). It provides wheel files for various Python versions (3.10, 3.11) and platforms.\n",
      "\n",
      "**Wheel Files and Compatibility:**\n",
      "\n",
      "*   The `.whl` files are pre-built distribution packages.  The filenames encode information about their compatibility:\n",
      "    *   `cp38`, `cp39`, `cp310`, `cp311`, `cp312`, `cp313`:  Indicates the CPython version the wheel is compiled for.\n",
      "    *   `macosx\\_10\\_9`:  macOS version 10.9 or higher.\n",
      "    *   `manylinux`: Wheels that are compatible with many Linux distributions.\n",
      "    *   `musllinux`: Wheels that are compatible with Linux distributions using musl libc.\n",
      "    *   `win32`, `win\\_amd64`, `win\\_arm64`: Windows 32-bit, 64-bit (AMD64), and 64-bit (ARM64) architectures.\n",
      "    *   `universal2`: macOS universal binaries (Intel and Apple Silicon).\n",
      "    *   `none-any`: Pure Python packages that don't depend on any specific architecture.\n",
      "\n",
      "**In Summary:**\n",
      "\n",
      "This data represents a set of Python packages, their versions, dependencies, and pre-built binaries (wheels) for various platforms.  It's the kind of information you'd find in a `pyproject.toml` file used by modern Python packaging tools.  The hashes are critical for ensuring that when these packages are installed, the correct and uncorrupted files are used.\n",
      "\n",
      "\n",
      "---\n",
      "\n",
      "Okay, I've processed the provided data. Here's a breakdown of the packages and their associated information:\n",
      "\n",
      "**Package List**\n",
      "\n",
      "This data describes several Python packages, including their versions, descriptions, dependencies, optional extras, and available files (wheels and source archives) with their corresponding SHA256 hashes. The packages are:\n",
      "\n",
      "*   `aiohttp`: Version 3.9.6.\n",
      "*   `anyio`: Version 4.9.0.\n",
      "*   `attrs`: Version 23.2.0.\n",
      "*   `cachetools`: Version 5.3.3.\n",
      "*   `certifi`: Version 2024.6.2.\n",
      "*   `charset-normalizer`: Version 3.3.2.\n",
      "*   `cryptography`: Version 43.0.1.\n",
      "*   `frozenlist`: Version 1.7.0.\n",
      "*   `google-api-core`: Version 2.25.1.\n",
      "*   `google-auth`: Version 2.40.3.\n",
      "*   `google-genai`: Version 1.24.0.\n",
      "*   `googleapis-common-protos`: Version 1.70.0.\n",
      "*   `h11`: Version 0.16.0.\n",
      "*   `httpcore`: Version 1.0.9.\n",
      "*   `httpx`: Version 0.28.1.\n",
      "*   `httpx-sse`: Version 0.4.1.\n",
      "*   `idna`: Version 3.10.\n",
      "\n",
      "**Key Information for Each Package**\n",
      "\n",
      "For each package, the data provides:\n",
      "\n",
      "*   **name**: The name of the Python package.\n",
      "*   **version**: The version number of the package.\n",
      "*   **description**: A brief description of the package's purpose.\n",
      "*   **optional**: A boolean indicating whether the package is an optional dependency.  All appear to be `false` here, meaning they are required.\n",
      "*   **python-versions**: Specifies the compatible Python versions.\n",
      "*   **groups**: Indicates the dependency group (typically \"main\").\n",
      "*   **files**: A list of available wheel (`.whl`) and source archive (`.tar.gz`) files, along with their SHA256 hashes for integrity verification.\n",
      "*   **dependencies**: A list of other packages that this package requires to function correctly, along with version constraints.\n",
      "*   **extras**: Defines optional features that require additional dependencies. These are specified as lists of packages that will be installed when the extra feature is enabled.\n",
      "\n",
      "I hope this summary is helpful!\n",
      "\n",
      "\n",
      "---\n",
      "\n",
      "Okay, I've processed the provided data chunk. Here's a summary of the Python packages and their details:\n",
      "\n",
      "*   **idna:** Version 3.10, description: \"Internationalized Domain Names in Applications (IDNA)\". It's optional, supports Python versions \">=3.7\", and has \"main\" group association. Extras include \"icu\".\n",
      "*   **iniconfig:** Version 2.1.0, description: \"brain-dead simple config-ini parsing\". It's optional, supports Python versions \">=3.8\", and has \"main\" group association. It requires the \"dev\" extra.\n",
      "*   **isort:** Version 6.0.1, description: \"A Python utility / library to sort Python imports.\" It's optional, supports Python versions \">=3.9.0\", and has \"main\" group association. It requires the \"dev\" extra. Extras include \"colors\" (requires \"colorama\") and \"plugins\" (requires \"setuptools\").\n",
      "*   **jedi:** Version 0.19.2, description: \"An autocompletion tool for Python that can be used for text editors.\" It's not optional, supports Python versions \">=3.6\", and has \"main\" group association. It depends on \"parso (>=0.8.4,<0.9.0)\". It has several extras: \"docs\", \"qa\", and \"testing\" with their respective dependencies.\n",
      "*   **jiter:** Version 0.10.0, description: \"Fast iterable JSON parser.\" It's not optional, supports Python versions \">=3.9\", and has \"main\" group association. It comes with a large list of prebuilt wheels for various platforms and Python versions.\n",
      "*   **jsonschema:** Version 4.24.0, description: \"An implementation of JSON Schema validation for Python\". It's not optional, supports Python versions \">=3.9\", and has \"main\" group association. It depends on \"attrs (>=22.2.0)\", \"jsonschema-specifications (>=2023.03.6)\", \"referencing (>=0.28.4)\", and \"rpds-py (>=0.7.1)\". It has extras \"format\" and \"format-nongpl\" with their respective dependencies.\n",
      "*   **jsonschema-specifications:** Version 2025.4.1, description: \"The JSON Schema meta-schemas and vocabularies, exposed as a Registry\". It's not optional, supports Python versions \">=3.9\", and has \"main\" group association. It depends on \"referencing (>=0.31.0)\".\n",
      "*   **markdown-it-py:** Version 3.0.0, description: \"Python port of markdown-it. Markdown parsing, done right!\". It's not optional, supports Python versions \">=3.8\", and has \"main\" group association. It depends on \"mdurl (>=0.1,<1.0)\". It has several extras like \"benchmarking\", \"code-style\", \"compare\", \"linkify\", \"plugins\", \"profiling\", \"rtd\", and \"testing\", each with its own dependencies.\n",
      "*   **mccabe:** Version 0.7.0, description: \"McCabe checker, plugin for flake8\". It's optional, supports Python versions \">=3.6\", and has \"main\" group association. It requires the \"dev\" extra.\n",
      "*   **mcp:** Version 1.10.1, description: \"Model Context Protocol SDK\". It's not optional, supports Python versions \">=3.10\", and has \"main\" group association. It depends on several packages like \"anyio (>=4.5)\", \"httpx (>=0.27)\", \"pydantic (>=2.7.2,<3.0.0)\", etc. It has extras \"cli\", \"rich\", and \"ws\" with their respective dependencies.\n",
      "*   **mdurl:** Version 0.1.2, description: \"Markdown URL utilities\". It's not optional, supports Python versions \">=3.7\", and has \"main\" group association.\n",
      "*   **multidict:** Version 6.6.3, description: \"multidict implementation\". It's not optional, supports Python versions \">=3.9\", and has \"main\" group association. It comes with a list of prebuilt wheels for various platforms.\n",
      "\n",
      "I hope this is helpful! Let me know if you have any other questions.\n",
      "\n",
      "\n",
      "---\n",
      "\n",
      "Okay, I will analyze the provided data and answer your questions.\n",
      "\n",
      "Based on the provided data, here's a breakdown of the key information:\n",
      "\n",
      "**1. Python Package: `multidict`**\n",
      "\n",
      "*   **Version:** 6.6.3\n",
      "*   **Description:**  (Not explicitly provided in the chunk)\n",
      "*   **Compatibility:**  The data shows it's built for various Python versions (3.9, 3.10, 3.11, 3.12, 3.13) and different operating systems/architectures (macOS, Linux, Windows) with specific versions and architectures (e.g., `manylinux`, `musllinux`, `win32`, `win\\_amd64`, `win\\_arm64`, `x86\\_64`, `aarch64`, `ppc64le`, `s390x`).\n",
      "*   **Files:** The chunk lists numerous `.whl` files (pre-built distribution format) and a `.tar.gz` file (source code archive) along with their SHA256 hashes for integrity verification.\n",
      "\n",
      "**2. Python Package: `mypy-extensions`**\n",
      "\n",
      "*   **Version:** 1.1.0\n",
      "*   **Description:** \"Type system extensions for programs checked with the mypy type checker.\"\n",
      "*   **Optional:** True\n",
      "*   **Python Versions:** \">=3.8\"\n",
      "*   **Groups:** \\[\"main\"]\n",
      "*   **Markers:** `extra == \"dev\"`\n",
      "*   **Files:**  Includes a `.whl` file and a `.tar.gz` file with their SHA256 hashes.\n",
      "\n",
      "**3. Python Package: `openai`**\n",
      "\n",
      "*   **Version:** 1.93.3\n",
      "*   **Description:** \"The official Python library for the openai API\"\n",
      "*   **Optional:** False\n",
      "*   **Python Versions:** \">=3.8\"\n",
      "*   **Groups:** \\[\"main\"]\n",
      "*   **Files:** Includes a `.whl` file and a `.tar.gz` file with their SHA256 hashes.\n",
      "*   **Dependencies:** `anyio`, `distro`, `httpx`, `jiter`, `pydantic`, `sniffio`, `tqdm`, `typing-extensions`.\n",
      "*   **Extras:** Specifies optional dependencies for features like `aiohttp`, `datalib`, `realtime`, and `voice-helpers`.\n",
      "\n",
      "**4. Python Package: `packaging`**\n",
      "\n",
      "*   **Version:** 25.0\n",
      "*   **Description:** \"Core utilities for Python packages\"\n",
      "*   **Optional:** True\n",
      "*   **Python Versions:** \">=3.8\"\n",
      "*   **Groups:** \\[\"main\"]\n",
      "*   **Markers:** `extra == \"dev\"`\n",
      "*   **Files:** Includes a `.whl` file and a `.tar.gz` file with their SHA256 hashes.\n",
      "\n",
      "**5. Python Package: `parso`**\n",
      "\n",
      "*   **Version:** 0.8.4\n",
      "*   **Description:** \"A Python Parser\"\n",
      "*   **Optional:** False\n",
      "*   **Python Versions:** \">=3.6\"\n",
      "*   **Groups:** \\[\"main\"]\n",
      "*   **Files:** Includes a `.whl` file and a `.tar.gz` file with their SHA256 hashes.\n",
      "*   **Extras:** Specifies optional dependencies for `qa` and `testing`.\n",
      "\n",
      "**6. Python Package: `pathspec`**\n",
      "\n",
      "*   **Version:** 0.12.1\n",
      "*   **Description:** \"Utility library for gitignore style pattern matching of file paths.\"\n",
      "*   **Optional:** True\n",
      "*   **Python Versions:** \">=3.8\"\n",
      "*   **Groups:** \\[\"main\"]\n",
      "*   **Markers:** `extra == \"dev\"`\n",
      "*   **Files:** Includes a `.whl` file and a `.tar.gz` file with their SHA256 hashes.\n",
      "\n",
      "I hope this is helpful! Let me know if you have any more questions.\n",
      "\n",
      "\n",
      "---\n",
      "\n",
      "Based on the provided data, here's a summary of the Python packages:\n",
      "\n",
      "*   **pathspec**: Version 0.12.1\n",
      "*   **platformdirs**: Version 4.3.8. It's a package for determining platform-specific directories. It is an optional package, requires Python 3.9 or higher, and is part of the \"dev\" extra group. It includes extra features for docs, test, and type.\n",
      "*   **pluggy**: Version 1.6.0. It provides plugin and hook calling mechanisms. It is an optional package, requires Python 3.9 or higher and is part of the \"dev\" extra group. It includes extra features for dev and testing.\n",
      "*   **propcache**: Version 0.3.2. It provides accelerated property caching. It is not optional and requires Python 3.9 or higher.\n",
      "*   **proto-plus**: Version 1.26.1. It offers Pythonic protocol buffers and requires Python 3.7 or higher. It has a dependency on protobuf (>=3.19.0,<7.0.0) and an extra \"testing\" feature.\n",
      "*   **protobuf**: Version 6.31.1, requires Python 3.9 or higher.\n",
      "*   **pyasn1**: Version 0.6.1. It's a pure Python implementation of ASN.1 types and codecs and requires Python 3.8 or higher.\n",
      "*   **pyasn1-modules**: Version 0.4.2. It is a collection of ASN.1 based protocols modules and requires Python 3.8 or higher. It depends on pyasn1 (>=0.6.1,<0.7.0).\n",
      "*   **pycodestyle**: Version 2.14.0. It is a Python style guide checker, is optional, requires Python 3.9 or higher and is part of the \"dev\" extra group.\n",
      "\n",
      "\n",
      "---\n",
      "\n",
      "This section provides information about several Python packages, including their names, versions, descriptions, dependencies, optional extras, and file hashes. Here's a breakdown:\n",
      "\n",
      "*   **pycodestyle:** Version 2.14.0, a Python code style checker.\n",
      "*   **pydantic:** Version 2.11.7, a data validation library using Python type hints, requires Python 3.9 or higher, depends on `annotated-types`, `pydantic-core`, `typing-extensions`, and `typing-inspection`, and has optional extras like `email` and `timezone`.\n",
      "*   **pydantic-core:** Version 2.33.2, provides core functionality for Pydantic validation and serialization, requires Python 3.9 or higher, and offers multiple pre-compiled wheel files for different platforms and Python versions. It depends on `typing-extensions`.\n",
      "*   **pydantic-settings:** Version 2.10.1, for settings management using Pydantic, requires Python 3.9 or higher, depends on `pydantic`, `python-dotenv`, and `typing-inspection`, and has optional extras for AWS Secrets Manager, Azure Key Vault, GCP Secret Manager, TOML, and YAML.\n",
      "*   **pyflakes:** Version 3.4.0, a passive Python program checker, requires Python 3.9 or higher, and is an optional extra for the \"dev\" group.\n",
      "*   **pygments:** Version 2.19.2, a syntax highlighting package, requires Python 3.8 or higher, and has an optional extra for Windows Terminal.\n",
      "*   **pytest:** Version 8.4.1, a testing framework, requires Python 3.9 or higher, depends on several packages like `colorama`, `exceptiongroup`, `iniconfig`, `packaging`, `pluggy`, `pygments`, and `tomli`, and has a \"dev\" extra with additional dependencies.\n",
      "*   **pytest-asyncio:** Version 1.0.0, provides Pytest support for asyncio, requires Python 3.9 or higher, and is an optional extra for the \"dev\" group.\n",
      "\n",
      "I hope this is helpful!\n",
      "\n",
      "\n",
      "---\n",
      "\n",
      "Okay, I've reviewed the provided data. Here's a breakdown of the packages, their versions, descriptions, dependencies, optional extras, python versions, and file information as described in the provided chunk:\n",
      "\n",
      "**Package: pytest-asyncio**\n",
      "*   Version: 1.0.0\n",
      "*   Description: \"asynchronous fixtures for pytest\"\n",
      "*   Optional: true\n",
      "*   Python Versions: \">=3.7\"\n",
      "*   Groups: \\[\"main\"]\n",
      "*   Dependencies:\n",
      "    *   pytest: \">=8.2,<9\"\n",
      "*   Extras:\n",
      "    *   docs: \\[\"sphinx (>=5.3)\", \"sphinx-rtd-theme (>=1)\"]\n",
      "    *   testing: \\[\"coverage (>=6.2)\", \"hypothesis (>=5.7.1)\"]\n",
      "*   Files:\n",
      "    *   pytest\\_asyncio-1.0.0-py3-none-any.whl (sha256:33b234a4548e997e55e534f46845596bb83d4b90cd49118c1d242f08575f4746)\n",
      "    *   pytest\\_asyncio-1.0.0.tar.gz (sha256:d15463d13f4456e1ead2594520216b225a16f781e144f8fdf6c5bb4667c48b3f)\n",
      "\n",
      "**Package: pytest-cov**\n",
      "*   Version: 6.2.1\n",
      "*   Description: \"Pytest plugin for measuring coverage.\"\n",
      "*   Optional: true\n",
      "*   Python Versions: \">=3.9\"\n",
      "*   Groups: \\[\"main\"]\n",
      "*   Markers: extra == \"dev\"\n",
      "*   Dependencies:\n",
      "    *   coverage: {version = \">=7.5\", extras = \\[\"toml\"]}\n",
      "    *   pluggy: \">=1.2\"\n",
      "    *   pytest: \">=6.2.5\"\n",
      "*   Extras:\n",
      "    *   testing: \\[\"fields\", \"hunter\", \"process-tests\", \"pytest-xdist\", \"virtualenv\"]\n",
      "*   Files:\n",
      "    *   pytest\\_cov-6.2.1-py3-none-any.whl (sha256:f5bc4c23f42f1cdd23c70b1dab1bbaef4fc505ba950d53e0081d0730dd7e86d5)\n",
      "    *   pytest\\_cov-6.2.1.tar.gz (sha256:25cc6cc0a5358204b8108ecedc51a9b57b34cc6b8c967cc2c01a4e00d8a67da2)\n",
      "\n",
      "**Package: python-dotenv**\n",
      "*   Version: 1.1.1\n",
      "*   Description: \"Read key-value pairs from a .env file and set them as environment variables\"\n",
      "*   Optional: false\n",
      "*   Python Versions: \">=3.9\"\n",
      "*   Groups: \\[\"main\"]\n",
      "*   Extras:\n",
      "    *   cli: \\[\"click (>=5.0)\"]\n",
      "*   Files:\n",
      "    *   python\\_dotenv-1.1.1-py3-none-any.whl (sha256:31f23644fe2602f88ff55e1f5c79ba497e01224ee7737937930c448e4d0e24dc)\n",
      "    *   python\\_dotenv-1.1.1.tar.gz (sha256:a8a6399716257f45be6a007360200409fce5cda2661e3dec71d23dc15f6189ab)\n",
      "\n",
      "**Package: python-multipart**\n",
      "*   Version: 0.0.20\n",
      "*   Description: \"A streaming multipart parser for Python\"\n",
      "*   Optional: false\n",
      "*   Python Versions: \">=3.8\"\n",
      "*   Groups: \\[\"main\"]\n",
      "*   Files:\n",
      "    *   python\\_multipart-0.0.20-py3-none-any.whl (sha256:8a62d3a8335e06589fe01f2a3e178cdcc632f3fbe0d492ad9ee0ec35aab1f104)\n",
      "    *   python\\_multipart-0.0.20.tar.gz (sha256:8dd0cab45b8e23064ae09147625994d090fa46f5b0d1e13af944c331a7fa9d13)\n",
      "\n",
      "**Package: referencing**\n",
      "*   Version: 0.36.2\n",
      "*   Description: \"JSON Referencing + Python\"\n",
      "*   Optional: false\n",
      "*   Python Versions: \">=3.9\"\n",
      "*   Groups: \\[\"main\"]\n",
      "*   Dependencies:\n",
      "    *   attrs: \">=22.2.0\"\n",
      "    *   rpds-py: \">=0.7.0\"\n",
      "    *   typing-extensions: {version = \">=4.4.0\", markers = \"python\\_version < \\\"3.13\\\"\"}\n",
      "*   Files:\n",
      "    *   referencing-0.36.2-py3-none-any.whl (sha256:e8699adbbf8b5c7de96d8ffa0eb5c158b3beafce084968e2ea8bb08c6794dcd0)\n",
      "    *   referencing-0.36.2.tar.gz (sha256:df2e89862cd09deabbdba16944cc3f10feb6b3e6f18e902f7cc25609a34775aa)\n",
      "\n",
      "**Package: regex**\n",
      "*   Version: 2024.11.6\n",
      "*   Description: \"Alternative regular expression module, to replace re.\"\n",
      "*   Optional: false\n",
      "*   Python Versions: \">=3.8\"\n",
      "*   Groups: \\[\"main\"]\n",
      "*   Files: (Many platform-specific .whl files and a .tar.gz file.  Due to the large number of files, I will not list their hashes here, but they are present in the original data.)\n",
      "\n",
      "**Package: requests**\n",
      "*   Version: 2.32.4\n",
      "*   Description: \"Python HTTP for Humans.\"\n",
      "*   Optional: false\n",
      "*   Python Versions: \">=3.8\"\n",
      "*   Groups: \\[\"main\"]\n",
      "*   Dependencies:\n",
      "    *   certifi: \">=2017.4.17\"\n",
      "    *   charset\\_normalizer: \">=2,<4\"\n",
      "    *   idna: \">=2.5,<4\"\n",
      "    *   urllib3: \">=1.21.1,<3\"\n",
      "*   Extras:\n",
      "    *   socks: \\[\"PySocks (>=1.5.6,!=1.5.7)\"]\n",
      "    *   use-chardet-on-py3: \\[\"chardet (>=3.0.2,<6)\"]\n",
      "*   Files:\n",
      "    *   requests-2.32.4-py3-none-any.whl (sha256:27babd3cda2a6d50b30443204ee89830707d396671944c998b5975b031ac2b2c)\n",
      "    *   requests-2.32.4.tar.gz (sha256:27d0316682c8a29834d3264820024b62a36942083d52caf2f14c0591336d3422)\n",
      "\n",
      "**Package: rich**\n",
      "*   Version: 14.0.0\n",
      "*   Description: \"Render rich text, tables, progress bars, syntax highlighting, markdown and more to the terminal\"\n",
      "*   Optional: false\n",
      "*   Python Versions: \">=3.8.0\"\n",
      "*   Groups: \\[\"main\"]\n",
      "*   Dependencies:\n",
      "    *   markdown-it-py: \">=2.2.0\"\n",
      "    *   pygments: \">=2.13.0,<3.0.0\"\n",
      "    *   typing-extensions: {version = \">=4.0.0,<5.0\", markers = \"python\\_version < \\\"3.11\\\"\"}\n",
      "*   Extras:\n",
      "    *   jupyter: \\[\"ipywidgets (>=7.5.1,<9)\"]\n",
      "*   Files:\n",
      "    *   rich-14.0.0-py3-none-any.whl (sha256:1c9491e1951aac09caffd42f448ee3d04e58923ffe14993f6e83068dc395d7e0)\n",
      "    *   rich-14.0.0.tar.gz (sha256:82f1bc23a6a21ebca4ae0c45af9bdbc492ed20231dcb63f297d6d1021a9d5725)\n",
      "\n",
      "**Package: rpds-py**\n",
      "*   Version: 0.26.0\n",
      "*   Description: \"Python bindings to Rust's persistent data structures (rpds)\"\n",
      "*   Optional: false\n",
      "*   Python Versions: \">=3.9\"\n",
      "*   Groups: \\[\"main\"]\n",
      "*   Files: (Many platform-specific .whl files. Due to the large number of files, I will not list their hashes here, but they are present in the original data.)\n",
      "\n",
      "Let me know if you have any specific questions about these packages or need more details!\n",
      "\n",
      "\n",
      "---\n",
      "\n",
      "This manifest file provides a comprehensive list of `rpds_py` version 0.26.0 wheel files, along with their corresponding SHA256 hashes. These files are pre-built binary distributions of the `rpds_py` package, tailored for different Python interpreters, operating systems, and CPU architectures. Here's a breakdown:\n",
      "\n",
      "*   **Filenames:** Each filename follows a consistent pattern: `rpds_py-{version}-{python_tag}-{platform_tag}.whl`.\n",
      "\n",
      "    *   `version`: Specifies the version of the `rpds_py` package (0.26.0 in this case).\n",
      "    *   `python_tag`: Indicates the Python interpreter and ABI (Application Binary Interface) for which the wheel is built. Examples include:\n",
      "\n",
      "        *   `cp39`, `cp310`, `cp311`, `cp312`, `cp313`, `cp314`: CPython interpreters for versions 3.9, 3.10, 3.11, 3.12, 3.13 and 3.14.\n",
      "        *   `pp310`, `pp311`: PyPy interpreters for versions 3.10 and 3.11.\n",
      "    *   `platform_tag`: Denotes the operating system and CPU architecture. Examples include:\n",
      "\n",
      "        *   `macosx_10_12_x86_64`: macOS 10.12 or later, x86\\_64 architecture.\n",
      "        *   `macosx_11_0_arm64`: macOS 11.0 or later, ARM64 architecture.\n",
      "        *   `manylinux_2_17_x86_64`: Linux, x86\\_64 architecture, compatible with glibc 2.17.\n",
      "        *   `manylinux_2_5_i686`: Linux, i686 architecture, compatible with glibc 2.5.\n",
      "        *   `musllinux_1_2_aarch64`: Linux, AArch64 architecture, using musl libc 1.2.\n",
      "        *   `win32`: Windows, 32-bit.\n",
      "        *   `win_amd64`: Windows, 64-bit.\n",
      "        *   `win_arm64`: Windows, ARM64 architecture.\n",
      "*   **Hashes:** Each file has a SHA256 hash, which is a unique cryptographic fingerprint of the file's contents. This hash is used to verify the integrity of the downloaded file, ensuring that it hasn't been corrupted or tampered with.\n",
      "\n",
      "In summary, this data provides the necessary information to reliably distribute and install the `rpds_py` package across a wide range of Python environments and operating systems.\n",
      "\n",
      "\n",
      "---\n",
      "\n",
      "Okay, I've processed the package information you provided in the JSON-like format. Here's a summary of the packages and their key details:\n",
      "\n",
      "*   **rpds-py**: Version 0.26.0, a collection of persistent data structures. There are many prebuilt wheels for different platforms (macOS, Linux, Windows) and Python implementations (CPython, PyPy) and versions (3.9, 3.10, 3.11). Also includes a `.tar.gz` source distribution.\n",
      "*   **rsa**: Version 4.2, a pure-Python RSA implementation. It depends on `pyasn1` and provides a `.tar.gz` source distribution.\n",
      "*   **shellingham**: Version 1.5.4, a tool to detect the surrounding shell. Requires Python 3.7 or later and provides both a `.whl` and a `.tar.gz` file.\n",
      "*   **sniffio**: Version 1.3.1, used to determine the async library in use. Requires Python 3.7 or later and provides both a `.whl` and a `.tar.gz` file.\n",
      "*   **sse-starlette**: Version 2.4.1, an SSE (Server-Sent Events) plugin for Starlette, requires Python 3.9+. Depends on `anyio` (>=4.7.0). It also has extras dependencies for daphne, examples, granian and uvicorn.\n",
      "*   **starlette**: Version 0.47.1, a lightweight ASGI framework, requires Python 3.9+. Depends on `anyio` and `typing-extensions`. Also, it includes extra dependencies, such as `httpx`, `itsdangerous`, `jinja2`, `python-multipart`, and `pyyaml`.\n",
      "*   **tenacity**: Version 8.2.3, a library for adding retry behavior to code, requires Python 3.7+. It has an extra group `doc` which requires `reno`, `sphinx`, and `tornado`.\n",
      "*   **tiktoken**: Version 0.8.0, a fast BPE tokeniser for use with OpenAI's models, requires Python 3.9+. Depends on `regex` and `requests`. It also includes extra dependencies.\n",
      "*   **tomli**: Version 2.2.1, a TOML parser, is optional and only included when the \"dev\" extra is specified and the Python version is 3.11.0a6 or lower, requires Python 3.8+.\n",
      "*   **tqdm**: Version 4.67.1, a progress bar library, requires Python 3.7+. It depends on `colorama` on Windows. Also, it includes extra dependencies for dev, discord, notebook, slack, and telegram.\n",
      "*   **typer**: Version 0.16.0, a library for building CLI applications with type hints, requires Python 3.7+. Depends on `click`, `rich`, `shellingham`, and `typing-extensions`.\n",
      "*   **typing-extensions**: Version 4.14.1, backports type hints for Python 3.9 and later.\n",
      "*   **typing-inspection**: Version 0.4.1, runtime typing introspection tools, requires Python 3.9+. Depends on `typing-extensions`.\n",
      "*   **urllib3**: Version 2.5.0, an HTTP library, requires Python 3.9+. It includes extra dependencies like brotli, h2, socks and zstd.\n",
      "*   **uvicorn**: Version 0.35.0, an ASGI server, requires Python 3.9+. Depends on `click`, `h11`, and `typing-extensions`. It also includes extra dependencies.\n",
      "*   **websockets**: Version 15.0.1, an implementation of the WebSocket Protocol, requires Python 3.9+.\n",
      "\n",
      "I can provide more details on specific packages, dependencies, or file types if you have further questions.\n",
      "\n",
      "\n",
      "---\n",
      "\n",
      "Based on the provided data, here's a breakdown of the information for the `websockets` and `yarl` packages:\n",
      "\n",
      "**websockets Package:**\n",
      "\n",
      "*   **Name:** websockets\n",
      "*   **Version:** 15.0.1\n",
      "*   It lists numerous `.whl` files for different Python versions (3.9, 3.10, 3.11, 3.12, 3.13), PyPy versions (3.9, 3.10), operating systems (macOS, Linux, Windows), and architectures (x86\\_64, i686, aarch64, etc.).\n",
      "*   It also includes a source distribution file (`.tar.gz`).\n",
      "*   Each file has a corresponding SHA256 hash.\n",
      "\n",
      "**yarl Package:**\n",
      "\n",
      "*   **Name:** yarl\n",
      "*   **Version:** 1.20.1\n",
      "*   **Description:** Yet another URL library\n",
      "*   **Optional:** `false`\n",
      "*   **Python Versions:** `>=3.9` (meaning Python 3.9 and later)\n",
      "*   **Groups:** `[\"main\"]`\n",
      "*   It lists numerous `.whl` files for different Python versions (3.10, 3.11, 3.12, 3.13), operating systems (macOS, Linux, Windows), and architectures (x86\\_64, i686, aarch64, armv7l, ppc64le, s390x).\n",
      "*   Each file has a corresponding SHA256 hash.\n",
      "\n",
      "In essence, this data describes the distribution files available for the `websockets` and `yarl` Python packages, specifying the versions, supported platforms, and cryptographic hashes for verifying file integrity.\n",
      "\n",
      "\n",
      "---\n",
      "\n",
      "Based on the provided files, here's a summary of the Yellhorn MCP (a Model Control Plane) tool, including its purpose, key features, and how it integrates with Git and GitHub:\n",
      "\n",
      "**Purpose:**\n",
      "\n",
      "Yellhorn MCP is designed to help generate detailed work plans using large language models (LLMs) such as Gemini Pro 2.5 and OpenAI models. It also facilitates reviewing code changes (diffs) against these plans, leveraging the entire codebase as context. It appears to be geared toward assisting developers by providing AI-powered assistance in planning and code review workflows, especially within a Git/GitHub environment.\n",
      "\n",
      "**Key Features:**\n",
      "\n",
      "*   **Workplan Generation:** Yellhorn uses LLMs (Gemini and OpenAI) to create detailed workplans.\n",
      "*   **Codebase Context:** It uses the entire codebase or a subset of it (based on configuration) as context for AI processing, and can use function signatures only via LSP.\n",
      "*   **Diff Review:** Yellhorn can review code diffs against generated workplans.\n",
      "*   **Git/GitHub Integration:** The tool heavily integrates with Git and GitHub for repository access, issue management, and pull request reviews.\n",
      "*   **Google Search Grounding:** Yellhorn utilizes Google Search to ground the Gemini models with external information (can be disabled).\n",
      "*   **CLI Interface:** It offers a command-line interface (`yellhorn-mcp`) for running the server and specifying options.\n",
      "*   **Configuration:**  It can be configured using command-line arguments or environment variables.\n",
      "*   **Metadata Tracking:** Tracks metadata about submissions and completions, which is used when creating comments in GitHub issues.\n",
      "\n",
      "**Git and GitHub Integration Details:**\n",
      "\n",
      "The `git_utils.py` file provides functions for interacting with Git and GitHub:\n",
      "\n",
      "*   **Basic Git Operations:**\n",
      "    *   `run_git_command`: Executes arbitrary Git commands within a repository.\n",
      "    *   `get_git_diff`: Retrieves the diff between two Git references.\n",
      "\n",
      "*   **GitHub Interactions (using the GitHub CLI, i.e., `gh`):**\n",
      "    *   `run_github_command`: Executes GitHub CLI commands.\n",
      "    *   `ensure_label_exists`: Creates labels in a GitHub repository if they don't already exist.\n",
      "    *   `add_github_issue_comment`: Adds a comment to a GitHub issue.\n",
      "    *   `update_github_issue`: Updates the body of a GitHub issue.\n",
      "    *   `get_github_issue_body`: Retrieves the body of a GitHub issue.\n",
      "    *   `get_github_pr_diff`: Gets the diff of a GitHub pull request.\n",
      "    *   `create_github_subissue`: Creates a new GitHub issue (as a sub-issue) and links it to a parent issue.\n",
      "    *   `post_github_pr_review`: Posts a review comment on a GitHub pull request.\n",
      "\n",
      "**How it Works (Based on the Code):**\n",
      "\n",
      "1.  **Server Startup:** The `cli.py` script handles command-line arguments, validates API keys (for Gemini or OpenAI), sets environment variables, and starts the Yellhorn MCP server.\n",
      "2.  **Repository Access:** The server accesses the Git repository specified by the `--repo-path` argument or the `REPO_PATH` environment variable.\n",
      "3.  **Issue/PR Interaction:**  The tool uses the GitHub CLI to interact with GitHub issues and pull requests. This includes:\n",
      "    *   Fetching issue bodies.\n",
      "    *   Adding comments with submission and completion metadata (using `comment_utils.py` to format the comments).\n",
      "    *   Creating sub-issues.\n",
      "    *   Posting review comments on pull requests.\n",
      "4.  **Diff Retrieval:** The tool can retrieve Git diffs (either general Git diffs or GitHub PR diffs) for analysis.\n",
      "5.  **AI Processing:** The core logic (not fully revealed in these code snippets) likely involves using the LLMs (Gemini or OpenAI) to process the codebase context, generate workplans, and analyze diffs.\n",
      "6.  **Search Grounding:** If enabled (and using a Gemini model), the tool uses Google Search to augment the LLM's knowledge.\n",
      "\n",
      "**In summary, Yellhorn MCP aims to enhance developer productivity by integrating AI-powered planning and code review into existing Git/GitHub workflows.** It leverages LLMs, codebase context, and search grounding to provide intelligent assistance.\n",
      "\n",
      "\n",
      "---\n",
      "\n",
      "Okay, I will answer the questions based on the provided source code.\n",
      "\n",
      "Here's a summary of the provided Python code files:\n",
      "\n",
      "**1. `yellhorn.py`**\n",
      "\n",
      "This file seems to define a tool named \"Yellhorn\" that integrates with GitHub for managing workplans and judgement sub-issues. Here's a breakdown:\n",
      "\n",
      "*   **GitHub Integration:** It uses the GitHub CLI to interact with repositories, enabling the creation of pull requests and issue management.\n",
      "*   **Resource Management:** It defines functions to list and read resources (workplans and judgement sub-issues) within a GitHub repository. These resources are essentially GitHub issues with specific labels (\"yellhorn-mcp\" and \"yellhorn-judgement-subissue\").\n",
      "*   **Pull Request Reviews:**  It includes functionality to post automated pull request reviews to GitHub, using LLMs to provide feedback on code changes.\n",
      "*   **Git Repository Handling:** The code checks if a given path is a Git repository and retrieves the default branch name.\n",
      "*   **Error Handling:** It uses a custom exception class, `YellhornMCPError`, for specific errors within the Yellhorn tool.\n",
      "\n",
      "**2. `llm_manager.py`**\n",
      "\n",
      "This file provides a unified Large Language Model (LLM) manager with features like automatic text chunking and rate limit handling, designed to work with both OpenAI and Gemini models. Key aspects:\n",
      "\n",
      "*   **LLM Abstraction:** It offers a consistent interface for calling different LLMs (OpenAI, Gemini) and handles the specifics of each API.\n",
      "*   **Automatic Chunking:** It splits long prompts into smaller chunks to fit within the token limits of the LLMs.  It uses strategies to split text by sentences or paragraphs, with optional overlap between chunks.\n",
      "*   **Rate Limit Handling:** It includes retry mechanisms with exponential backoff to handle rate limiting errors from the LLM APIs.\n",
      "*   **Usage Tracking:** It provides a `UsageMetadata` class to standardize the way token usage information is tracked and reported, regardless of the LLM being used.\n",
      "*   **Response Aggregation:** It aggregates the responses from chunked calls, with options for concatenation or (potentially) summarization.\n",
      "*   **Deep Research Tools:** Includes functionality to enable deep research tools like web search and code interpreter for supported models.\n",
      "\n",
      "**3. `lsp_utils.py`**\n",
      "\n",
      "This file provides utilities for extracting information from Python code in a Language Server Protocol (LSP) style. This is designed for situations where a full-fledged LSP server might be too heavy, but you still need to understand the structure of the code. Its primary function is extracting function signatures, class signatures, class attributes, and docstrings from Python files.\n",
      "\n",
      "*   **AST Parsing:** It primarily uses the `ast` module (Abstract Syntax Trees) to parse Python code and extract information.  AST parsing is generally faster than using something like `jedi`.\n",
      "*   **Signature Extraction:** It extracts function and class signatures, including argument names, type annotations (if available), and return types.\n",
      "*   **Class Attribute Extraction:**  It extracts class attributes, including those with type annotations and Enum literals.\n",
      "*   **Docstring Extraction:** It extracts the first line of docstrings for functions and classes.\n",
      "*   **Fallback to `jedi`:** The description mentions a fallback to `jedi` if AST parsing fails, but the code in the snippet doesn't show this fallback. The code focuses on extracting API information (signatures and docstrings) from Python files.\n",
      "\n",
      "\n",
      "---\n",
      "\n",
      "Okay, I've reviewed the provided code and documentation. Here's a breakdown of the key functionalities, focusing on the `create_workplan` tool, the code's structure, and the purpose of various functions.\n",
      "\n",
      "**Core Functionality: `create_workplan` Tool**\n",
      "\n",
      "The `create_workplan` tool is designed to automate the creation of GitHub issues with detailed implementation plans.  Here's a detailed look:\n",
      "\n",
      "1.  **Purpose:**  It generates a GitHub issue with a title and description, and optionally enhances the description with an AI-generated implementation plan based on the codebase.\n",
      "\n",
      "2.  **Arguments:**\n",
      "\n",
      "    *   `ctx`: The request context, providing access to server configurations and utilities.\n",
      "    *   `title`:  The title of the GitHub issue.\n",
      "    *   `detailed_description`:  The detailed description of the task or feature request.\n",
      "    *   `codebase_reasoning`: Controls the level of codebase analysis provided to the AI:\n",
      "        *   `\"full\"`:  Full codebase analysis, including file contents.  This provides the most context to the AI but can be slower.\n",
      "        *   `\"lsp\"`: LSP (Language Server Protocol) style analysis, focusing on function and class signatures. This is faster and more focused than \"full\".\n",
      "        *   `\"file_structure\"`:  Only analyzes the directory and file structure.  This is the fastest option.\n",
      "        *   `\"none\"`: Skips AI enhancement completely.\n",
      "    *   `debug`: A boolean flag. If `True`, the full prompt used for AI generation is added as a comment to the issue.  This is helpful for debugging.\n",
      "    *   `disable_search_grounding`: A boolean flag. If `True`, it disables Google Search Grounding for this request. The default is `False` for Gemini models (search grounding enabled).\n",
      "\n",
      "3.  **Workflow:**\n",
      "\n",
      "    *   **Configuration:** Retrieves repository path and GitHub command execution function from the context.\n",
      "    *   **Search Grounding Override:** It checks if search grounding is disabled via the `disable_search_grounding` parameter and updates the context accordingly.\n",
      "    *   **Label Check:** Ensures that the `yellhorn-mcp` label exists in the repository. If it doesn't, it creates it.  This label is used to identify issues created by this tool.\n",
      "    *   **Issue Creation:**\n",
      "        *   If `codebase_reasoning` is `\"none\"`, it creates a simple issue with just the title and provided description.\n",
      "        *   Otherwise, it creates an initial issue with a placeholder message indicating that the workplan is being generated by AI.\n",
      "    *   **AI Enhancement (Asynchronous):**  *This part is not explicitly shown in the provided extract, but it would likely involve using the `llm_manager` to analyze the codebase and generate an implementation plan, then updating the GitHub issue with the plan.*\n",
      "    *   **Response:** Returns a JSON string containing the URL and number of the created GitHub issue.\n",
      "\n",
      "**Key Functions and Classes:**\n",
      "\n",
      "*   **`app_lifespan`**: This is a context manager that handles the setup and teardown of the MCP server's environment. It:\n",
      "    *   Reads configuration settings from environment variables (e.g., `REPO_PATH`, `YELLHORN_MCP_MODEL`, `GEMINI_API_KEY`, `OPENAI_API_KEY`).\n",
      "    *   Initializes the Gemini or OpenAI client based on the configured model.\n",
      "    *   Validates the repository path.\n",
      "    *   Provides the configured resources (repository path, AI clients, model, etc.) to the server.\n",
      "*   **`is_openai_model(model: str) -> bool`**: Checks if the provided model string corresponds to an OpenAI model.\n",
      "*   **`async_generate_content_with_config`**: Helper function to call the Gemini API to generate content.\n",
      "*   **`MODEL_PRICING`**: A dictionary that stores the pricing information (USD per 1M tokens) for different models (Gemini and OpenAI).\n",
      "*   **`calculate_cost`**:  Calculates the estimated cost of using a model, based on the number of input and output tokens.\n",
      "*   **`format_metrics_section`**: Formats the completion metrics (model used, tokens, cost) into a Markdown section for inclusion in the issue or response.\n",
      "*   **`list_resources`**: Lists the GitHub issues created by this tool, filtering by the `yellhorn-mcp` label.\n",
      "*   **`read_resource`**: Retrieves the content of a specific GitHub issue.\n",
      "*    **`extract_python_api`**: Extracts Python API (function, class signatures, class attributes) from a file.\n",
      "*   **`extract_go_api`**: Extracts Go API (function, type, interface signatures, struct fields) from a file.\n",
      "*   **`get_lsp_snapshot`**: Gets an LSP-style snapshot of the codebase, extracting API information.\n",
      "*   **`get_lsp_diff`**: Creates a lightweight LSP-focused diff between two git refs.\n",
      "*   **`update_snapshot_with_full_diff_files`**: Updates an LSP snapshot with full contents of files included in a diff.\n",
      "*   **`SubmissionMetadata`**: Pydantic model for metadata related to the initial submission comment (when a workplan or judgement is requested).\n",
      "*   **`CompletionMetadata`**: Pydantic model for metadata related to the completion comment (after LLM processing finishes).\n",
      "*   **`_get_gemini_search_tools`**: Determines and returns the appropriate Google Search tool configuration based on the Gemini model name/version.\n",
      "*   **`add_citations`**: Inserts citation links into the response text based on grounding metadata.\n",
      "*   **`add_citations_from_metadata`**: Inserts citation links into text based on grounding metadata.\n",
      "*   **`LLMManager`**: Manages interactions with Large Language Models (LLMs), including chunking, prompting, and response aggregation.\n",
      "\n",
      "**Code Structure and Workflow**\n",
      "\n",
      "1.  **Server Setup:** The `FastMCP` server is initialized with a lifespan (`app_lifespan`) that manages the server's configuration and resources.\n",
      "2.  **Tool Definition:** The `create_workplan` function is decorated with `@mcp.tool`, which registers it as an available tool in the MCP server.\n",
      "3.  **Request Handling:** When a request is made to execute the `create_workplan` tool:\n",
      "    *   The server extracts the arguments from the request.\n",
      "    *   The `create_workplan` function is executed.\n",
      "    *   The function interacts with GitHub (via `run_github_command`) to create and update issues.\n",
      "    *   It uses the `llm_manager` (if `codebase_reasoning` is enabled) to generate an implementation plan.\n",
      "    *   The function returns a JSON response with the issue URL and number.\n",
      "\n",
      "**In summary,** the code implements a system for automatically creating and enhancing GitHub issues with AI-generated implementation plans, leveraging both Gemini and OpenAI models, and providing various options for controlling the level of codebase analysis and search grounding.\n",
      "\n",
      "\n",
      "---\n",
      "\n",
      "This code defines a system for generating and evaluating workplans for software development tasks, integrating with GitHub issues and leveraging AI models for various aspects of the process. Here's a breakdown of the key functionalities and components:\n",
      "\n",
      "**1. Workplan Generation (`create_workplan` function):**\n",
      "\n",
      "*   **Purpose:** Creates a GitHub issue containing a detailed workplan for a given task.\n",
      "*   **Inputs:**\n",
      "    *   `ctx`: Context object providing access to server configuration and request-specific data.\n",
      "    *   `repo_path`: Path to the Git repository.\n",
      "    *   `title`: Title of the workplan/issue.\n",
      "    *   `detailed_description`: Detailed description of the task to be implemented.\n",
      "    *   `codebase_reasoning`:  Specifies the level of codebase context provided to the AI model during workplan generation (e.g., \"full\", \"file\\_structure\", \"none\").  This influences how the AI reasons about the existing codebase.\n",
      "    *   `debug`:  A boolean flag to enable/disable debug mode. If enabled, the complete prompt sent to the LLM is added as a comment to the created issue, useful for debugging and prompt engineering.\n",
      "    *   `disable_search_grounding`: A boolean flag that, when set to True, disables Google Search Grounding for the workplan generation request, regardless of the context's `use_search_grounding` setting. This can be useful for testing or when search grounding is not desired.\n",
      "*   **Process:**\n",
      "    1.  Logs the intention to create a GitHub issue.\n",
      "    2.  Creates a GitHub issue using `github_command_func` (obtained from the context).\n",
      "    3.  Extracts the issue URL and number from the command output.\n",
      "    4.  If `codebase_reasoning` is not \"none\":\n",
      "        *   Extracts URLs from the `detailed_description`.\n",
      "        *   Posts a submission comment to the issue with metadata about the workplan generation process.\n",
      "        *   Launches an asynchronous task (`process_workplan_async`) to generate the detailed workplan using an AI model.\n",
      "    5.  Returns the issue URL and number as a JSON string.\n",
      "*   **Error Handling:**  Raises `YellhornMCPError` if any step fails.\n",
      "\n",
      "**2. Workplan Retrieval (`get_workplan` function):**\n",
      "\n",
      "*   **Purpose:** Retrieves the content (body) of a GitHub issue, assumed to be a workplan.\n",
      "*   **Inputs:**\n",
      "    *   `ctx`: Context object.\n",
      "    *   `issue_number`: The GitHub issue number.\n",
      "*   **Process:**\n",
      "    *   Retrieves the issue body using `get_github_issue_body` function.\n",
      "*   **Error Handling:**  Raises `YellhornMCPError` if retrieval fails.\n",
      "\n",
      "**3. Codebase Snapshot (`get_codebase_snapshot` function):**\n",
      "\n",
      "*   **Purpose:** Creates a snapshot of the codebase, including file lists and contents, respecting `.gitignore`, `.yellhornignore`, and `.yellhorncontext` files.\n",
      "*   **Inputs:**\n",
      "    *   `repo_path`: Path to the repository.\n",
      "    *   `_mode`:  An internal parameter to control the function's behavior:\n",
      "        *   `\"full\"`: Returns file paths and full file contents.\n",
      "        *   `\"paths\"`: Returns only file paths (no content).\n",
      "    *   `use_yellhorn_context`: A boolean flag to indicate whether `.yellhorncontext` files should be respected.\n",
      "    *   `log_function`: Function for logging messages (defaults to `print`).\n",
      "*   **Process:**\n",
      "    1.  Identifies all files in the repository using `git ls-files`.\n",
      "    2.  Reads ignore patterns from `.yellhorncontext` (if it exists and `use_yellhorn_context` is True) or `.yellhornignore` (if `.yellhorncontext` doesn't exist).  `.yellhorncontext` takes precedence.\n",
      "    3.  Filters the file list based on the ignore and whitelist patterns.  Whitelist patterns (starting with `!`) take precedence over ignore patterns.\n",
      "    4.  If `_mode` is `\"paths\"`, returns the filtered file list.\n",
      "    5.  Reads the content of each file in the filtered list (skipping binary files and directories).\n",
      "    6.  Returns the file list and a dictionary mapping file paths to their contents.\n",
      "*   **Error Handling:** Logs warnings if `.yellhorncontext` or `.yellhornignore` cannot be read.\n",
      "\n",
      "**4. Codebase Formatting (`build_file_structure_context` and `format_codebase_for_prompt`):**\n",
      "\n",
      "*   **`build_file_structure_context`:**\n",
      "    *   Creates a string representation of the codebase's directory structure, suitable for AI prompts when only the file structure is needed.\n",
      "*   **`format_codebase_for_prompt`:**\n",
      "    *   Formats the codebase information (file paths and contents) for inclusion in AI prompts.  It generates a tree-like structure with file contents inlined, using syntax highlighting based on file extension.\n",
      "\n",
      "**5. Git Diff Generation (`get_git_diff` function):**\n",
      "\n",
      "*   **Purpose:** Generates a diff between two Git references (commits, branches, tags), with options to optimize the diff based on the `codebase_reasoning` mode.\n",
      "*   **Inputs:**\n",
      "    *   `repo_path`: Path to the repository.\n",
      "    *   `base_ref`: Base Git reference.\n",
      "    *   `head_ref`: Head Git reference.\n",
      "    *   `codebase_reasoning`:\n",
      "        *   `\"full\"`: Full diff content.\n",
      "        *   `\"file_structure\"` or `\"none\"`:  Only changed file names.\n",
      "        *   `\"lsp\"`:  Attempts to generate an LSP-focused diff (API changes).  If that fails, falls back to a standard diff with a unified context of 1 line.\n",
      "*   **Process:**\n",
      "    *   Executes `git diff` commands with appropriate options based on the `codebase_reasoning` mode.\n",
      "*   **Error Handling:**  Raises `YellhornMCPError` if the diff generation fails.\n",
      "\n",
      "**6. Asynchronous Workplan Processing (`process_workplan_async` function):**\n",
      "\n",
      "*   **Purpose:** Asynchronously generates a detailed workplan using an AI model and updates the corresponding GitHub issue.\n",
      "*   **Inputs:**\n",
      "    *   `repo_path`: Path to the repository.\n",
      "    *   `llm_manager`: Unified LLM manager for making chunked calls.\n",
      "    *   `model`: Name of the AI model to use.\n",
      "    *   `title`: Title of the workplan.\n",
      "    *   `issue_number`: GitHub issue number.\n",
      "    *   `ctx`: Context object.\n",
      "    *   `detailed_description`: Detailed description of the task.\n",
      "    *   `debug`: Enables debug mode (adds the prompt to the issue as a comment).\n",
      "    *   `disable_search_grounding`:  Disables Google Search Grounding for this request.\n",
      "    *   `_meta`: Optional metadata dictionary.\n",
      "*   **Process:**\n",
      "    1.  Gets a codebase snapshot based on the `codebase_reasoning` mode.\n",
      "    2.  Constructs a prompt for the AI model, including the codebase information, title, and detailed description.  The prompt instructs the AI to generate a detailed, well-structured workplan in Markdown format.\n",
      "    3.  Uses `LLMManager` to call the AI model.\n",
      "    4.  Formats the AI-generated workplan and adds a metrics section (containing token usage and cost information).\n",
      "    5.  Updates the GitHub issue with the generated workplan and metrics.\n",
      "    6.  Posts completion metadata as a comment to the issue.\n",
      "    7.  If `debug` is enabled, adds the complete prompt as a comment to the issue.\n",
      "*   **Error Handling:**  Logs errors and adds an error comment to the GitHub issue if workplan generation fails.\n",
      "\n",
      "**7. Asynchronous Judgement Processing (`process_judgement_async` function):**\n",
      "\n",
      "*   **Purpose:** Asynchronously judges how well a code diff implements a given workplan and updates a designated sub-issue with the judgement.\n",
      "*   **Inputs:**\n",
      "    *   `repo_path`: Path to the repository.\n",
      "    *   `llm_manager`: Unified LLM manager for making chunked calls.\n",
      "    *   `model`: Name of the AI model to use.\n",
      "    *   `workplan_content`: The original workplan content.\n",
      "    *   `diff_content`: The code diff to judge.\n",
      "    *   `base_ref`: Base Git reference.\n",
      "    *   `head_ref`: Head Git reference.\n",
      "    *   `subissue_to_update`: GitHub issue number of the sub-issue to update.\n",
      "    *   `parent_workplan_issue_number`: GitHub issue number of the original workplan.\n",
      "    *   `ctx`: Context object.\n",
      "    *   `base_commit_hash`: Optional base commit hash.\n",
      "    *   `head_commit_hash`: Optional head commit hash.\n",
      "    *   `debug`: Enables debug mode (adds the prompt to the issue as a comment).\n",
      "    *   `codebase_reasoning`: Specifies the level of codebase context (similar to `process_workplan_async`).\n",
      "    *    `disable_search_grounding`:  Disables Google Search Grounding for this request.\n",
      "    *   `_meta`: Optional metadata dictionary.\n",
      "*   **Process:**\n",
      "    1.  Gets a codebase snapshot based on the `codebase_reasoning` mode.\n",
      "    2.  Constructs a prompt for the AI model, including the codebase information, workplan, and code diff. The prompt instructs the AI to provide a detailed judgement of the implementation.\n",
      "    3.  Uses `LLMManager` to call the AI model.\n",
      "    4.  Formats the AI-generated judgement and adds a metrics section. Also includes a section with metadata about the comparison (refs, commit hashes, codebase reasoning mode, and AI model).\n",
      "    5.  Updates the specified sub-issue with the generated judgement and metrics.\n",
      "    6.  Posts completion metadata as a comment to the issue.\n",
      "*   **Error Handling:**  Logs errors and raises `YellhornMCPError` if judgement generation fails.\n",
      "\n",
      "**8. Utility Functions:**\n",
      "\n",
      "*   `format_submission_comment`, `format_completion_comment`, `format_metrics_section`: Functions to format comments with metadata about the AI processing steps.\n",
      "*   `add_citations_from_metadata`: Adds citations to the generated content, based on the grounding metadata.\n",
      "*   `calculate_cost`:  Calculates the estimated cost of using the AI model based on token usage.\n",
      "*   `is_openai_model`: Checks if the model is an OpenAI model.\n",
      "*   `update_github_issue`, `add_github_issue_comment`, `get_github_issue_body`, `run_git_command`:  These are assumed to be functions that interact with the GitHub API and Git command line.\n",
      "*   `get_lsp_snapshot`, `update_snapshot_with_full_diff_files`: These functions are related to handling LSP-style code information, extracting file contents and signatures.\n",
      "*   `_get_gemini_search_tools`: This function configures search tools for Gemini models.\n",
      "\n",
      "**Key Concepts:**\n",
      "\n",
      "*   **Context Object (`ctx`):**  A central object that provides access to server configuration, request-specific data, and logging functionality.\n",
      "*   **Codebase Reasoning:** The level of codebase context provided to the AI models. Different levels (\"full\", \"file\\_structure\", \"lsp\", \"none\") allow for trade-offs between accuracy, speed, and cost.\n",
      "*   **LLMManager:** A unified interface for interacting with different AI models (e.g., Gemini, OpenAI), handling chunking, aggregation, and potentially other model-specific logic.\n",
      "*   **Asynchronous Processing:**  The use of `asyncio` allows the workplan and judgement generation to happen in the background, preventing the main request from blocking.\n",
      "*   **GitHub Integration:** The system heavily relies on the GitHub API to create, update, and comment on issues.\n",
      "*   **Metadata Tracking:** The system meticulously tracks metadata about the AI processing steps (model used, token usage, cost, generation time) and includes this information in comments on the GitHub issues.\n",
      "*   **Search Grounding:** Leverages Google Search to provide the LLM with real-time information, improving the quality of the generated content. The system allows enabling or disabling this feature.\n",
      "\n",
      "In summary, this code implements a sophisticated AI-powered system for automating and enhancing software development workflows, with a strong focus on GitHub integration, detailed metadata tracking, and flexible codebase reasoning options.\n",
      "\n",
      "\n",
      "---\n",
      "\n",
      "## Judgement Summary\n",
      "\n",
      "The code diff partially implements the workplan. It creates the `TokenCounter` class and adds an import to `llm_manager.py`, but it does not fully integrate token counting into the `LLMManager`, implement prompt chunking, or update all LLM call sites.\n",
      "\n",
      "## Completed Items\n",
      "\n",
      "- Creation of `yellhorn_mcp/token_counter.py` with a basic `TokenCounter` class and `count_tokens` method.\n",
      "- Added `from .token_counter import TokenCounter` in `yellhorn_mcp/llm_manager.py`.\n",
      "\n",
      "## Missing Items\n",
      "\n",
      "- **Token Counter Initialization:** The `TokenCounter` is not initialized within the `LLMManager` using the selected model.\n",
      "- **Token Counting in LLMManager:** The diff doesn't include any logic to use the `TokenCounter` to count tokens in the `LLMManager`'s `call_llm` method, or any other LLM call.\n",
      "- **Automatic Prompt Chunking:** No implementation of automatic prompt chunking when token limits are exceeded.\n",
      "- **LLM Call Site Updates:** The workplan states that all LLM call sites should be updated to use the new token counting system, but the provided diff doesn't touch `yellhorn_mcp/server.py` or any other call sites.\n",
      "- **Model limits configuration:** The `TokenCounter` class does not use any predefined or configurable token limits for various models, or a mechanism to determine appropriate model selection for token counting.\n",
      "- **Error handling:** The code does not handle potential errors during tokenization (e.g., if a specific model encoding is unavailable).\n",
      "- **Missing Typing:** The `TokenCounter` class lacks comprehensive type annotations for parameters and return values, which reduces code clarity and maintainability.\n",
      "- **Missing Docstrings:** The `TokenCounter` class needs a docstring explaining its purpose and usage, and `count_tokens` also requires a docstring.\n",
      "\n",
      "## Incorrect Implementation\n",
      "\n",
      "- The `TokenCounter`'s `__init__` method expects a `model` argument, but doesn't validate its existence or type. It should also handle the case where the encoding for the specified model cannot be found. The use of `tiktoken.encoding_for_model(model)` will raise an exception if the specified model doesn't exist.\n",
      "- The `TokenCounter` in `token_counter.py` lacks comprehensive error handling and model selection.\n",
      "- The provided diff imports `TokenCounter` into `llm_manager.py` but doesn't initialize or utilize it within `LLMManager`, thus rendering the import ineffective.\n",
      "\n",
      "## Suggested Improvements / Issues\n",
      "\n",
      "- **Initialize and Use TokenCounter in LLMManager:** The `LLMManager` should initialize a `TokenCounter` instance when it is created. The `call_llm` method (or other LLM call methods) should then use the `TokenCounter` instance to count the tokens in the prompt *before* making the LLM call.\n",
      "- **Implement Prompt Chunking:** When the token count exceeds the model's limit, the prompt should be split into smaller chunks. This requires adding logic to split the prompt intelligently (e.g., by sentences or paragraphs) and calling the LLM multiple times with the smaller chunks.\n",
      "- **Update LLM Call Sites:** All files using LLM calls, specifically `yellhorn_mcp/server.py` as indicated in the workplan, should be updated to use the token counting system.\n",
      "- **Add Model Limits:** The `TokenCounter` should use a dictionary to store the token limits for different models. This will allow it to accurately determine whether a prompt fits within the model's context window. Consider creating a configuration system to easily update these limits.\n",
      "- **Handle Encoding Errors:** Implement error handling in the `TokenCounter`'s `__init__` method to catch exceptions when the encoding for a specific model cannot be found. Provide a fallback mechanism or raise a more informative error message.\n",
      "- **Implement Comprehensive Error Handling:** Incorporate robust error handling throughout the codebase to gracefully manage exceptions during tokenization and LLM calls. This will involve implementing try-except blocks to catch potential errors and logging relevant error messages for debugging.\n",
      "- **Add Type Annotations:** Apply type annotations to parameters, return values, and variables to enhance code readability and maintainability. This will also aid in static analysis and prevent potential type-related errors.\n",
      "- **Add Docstrings:** Provide clear and comprehensive docstrings for classes, methods, and functions to explain their purpose, usage, and parameters. This will improve code documentation and make it easier for developers to understand and maintain the code.\n",
      "\n",
      "## Intentional Divergence Notes\n",
      "\n",
      "There is no indication of intentional divergence from the workplan.\n",
      "\n",
      "## References\n",
      "\n",
      "- tiktoken library: [https://github.com/openai/tiktoken](https://github.com/openai/tiktoken)\n",
      "\n",
      "\n",
      "---\n",
      "## Completion Metrics\n",
      "*   **Model Used**: `gemini-2.0-flash-exp`\n",
      "*   **Input Tokens**: 226102\n",
      "*   **Output Tokens**: 17533\n",
      "*   **Total Tokens**: 243635\n",
      "*   **Estimated Cost**: N/A...\n",
      "[MOCK GitHub CLI] Updated issue 456\n",
      "[INFO] Successfully updated sub-issue #456 with judgement and metrics\n",
      "[MOCK GitHub CLI] Running: gh issue comment 456 --body ## ✅ Judgement generated successfully\n",
      "\n",
      "### Generation Details\n",
      "**Time**: 109.3 seconds  \n",
      "**Completed**: 2025-07-13 04:59:55 UTC  \n",
      "\n",
      "### Token Usage\n",
      "**Input Tokens**: 226,102  \n",
      "**Output Tokens**: 17,533  \n",
      "**Total Tokens**: 243,635  \n",
      "**Context Size**: 475,092 characters  \n",
      "[MOCK GitHub CLI] In directory: /Users/sravanj/project_work/yellhorn-mcp\n",
      "[MOCK GitHub CLI] Added comment to issue 456\n",
      "[INFO] Posted completion metadata comment to sub-issue #456\n",
      "[INFO] Waiting for 0 background tasks...\n",
      "[INFO] All background tasks completed\n",
      "\n",
      "Judgement completed successfully!\n",
      "Check GitHub sub-issue #456 for the detailed judgement results.\n"
     ]
    }
   ],
   "source": [
    "# Call judge_workplan with our mock context\n",
    "await run_judge_workplan(\n",
    "    process_judgement_func=process_judgement_async,\n",
    "    workplan_content=WORKPLAN_CONTENT,\n",
    "    diff_content=DIFF_CONTENT,\n",
    "    base_ref=base_ref,\n",
    "    head_ref=head_ref,\n",
    "    subissue_to_update=subissue_to_update,\n",
    "    parent_workplan_issue_number=parent_workplan_issue_number,\n",
    "    repo_path=REPO_PATH,\n",
    "    gemini_client=gemini_client,\n",
    "    openai_client=openai_client,\n",
    "    llm_manager=llm_manager,\n",
    "    model=MODEL,\n",
    "    base_commit_hash=\"abc123\",  # Optional: actual commit hash\n",
    "    head_commit_hash=\"def456\",  # Optional: actual commit hash\n",
    "    debug=False,  # Set to True to see the full prompt used\n",
    "    codebase_reasoning=\"full\",  # Options: \"full\", \"lsp\", \"file_structure\", \"none\"\n",
    "    disable_search_grounding=False,\n",
    "    github_command_func=mock_github_command,\n",
    "    log_callback=log_callback,\n",
    "    wait_for_background_tasks=True,\n",
    "    background_task_timeout=180\n",
    ")\n",
    "\n",
    "print(\"\\nJudgement completed successfully!\")\n",
    "print(f\"Check GitHub sub-issue #{subissue_to_update} for the detailed judgement results.\")"
   ]
  },
  {
   "cell_type": "code",
   "execution_count": null,
   "metadata": {},
   "outputs": [],
   "source": []
  }
 ],
 "metadata": {
  "kernelspec": {
   "display_name": "sravan-yellhorn",
   "language": "python",
   "name": "python3"
  },
  "language_info": {
   "codemirror_mode": {
    "name": "ipython",
    "version": 3
   },
   "file_extension": ".py",
   "mimetype": "text/x-python",
   "name": "python",
   "nbconvert_exporter": "python",
   "pygments_lexer": "ipython3",
   "version": "3.11.11"
  }
 },
 "nbformat": 4,
 "nbformat_minor": 4
}
